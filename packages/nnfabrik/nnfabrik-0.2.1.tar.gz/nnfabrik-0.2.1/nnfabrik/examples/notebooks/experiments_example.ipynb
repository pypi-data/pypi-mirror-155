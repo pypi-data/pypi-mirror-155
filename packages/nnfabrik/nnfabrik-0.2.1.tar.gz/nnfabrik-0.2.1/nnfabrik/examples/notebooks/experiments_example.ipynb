{
 "cells": [
  {
   "cell_type": "code",
   "execution_count": null,
   "metadata": {},
   "outputs": [],
   "source": [
    "import os\n",
    "import datajoint as dj\n",
    "import pandas as pd\n",
    "dj.config['database.host'] = \"<host>\"\n",
    "dj.config['database.user'] = \"<user name>\"\n",
    "dj.config['database.password'] = \"<password>\"\n",
    "dj.config['enable_python_native_blobs'] = True\n",
    "\n",
    "dj.config['schema_name'] = \"<schema name>\""
   ]
  },
  {
   "cell_type": "code",
   "execution_count": null,
   "metadata": {},
   "outputs": [],
   "source": [
    "from nnfabrik.main import *\n",
    "\n",
    "# import from your repository instead\n",
    "from nnsysident.tables.experiments import TrainedModel, Experiments"
   ]
  },
  {
   "cell_type": "markdown",
   "metadata": {},
   "source": [
    "# Insert entries of dataset, model and trainer that define the experiment"
   ]
  },
  {
   "cell_type": "markdown",
   "metadata": {},
   "source": [
    "### Which entries from the dataset table?"
   ]
  },
  {
   "cell_type": "code",
   "execution_count": null,
   "metadata": {},
   "outputs": [],
   "source": [
    "dataset_fn = \"nnsysident.datasets.mouse_loaders.static_loaders\"\n",
    "\n",
    "dataset_paths = [\n",
    "    \"/notebooks/data/real/static20892-9-10-preproc0.zip\",\n",
    "    \"/notebooks/data/real/static20892-9-11-preproc0.zip\",\n",
    "    \"/notebooks/data/real/static20892-9-10-preproc0.zip\",\n",
    "    \"/notebooks/data/real/static20892-9-11-preproc0.zip\",\n",
    "]\n",
    "\n",
    "dataset_config_base = {\n",
    "        \"paths\": [dataset_path],\n",
    "        \"seed\": random_seed,\n",
    "        \"batch_size\": 64,\n",
    "        \"normalize_images\": True,\n",
    "        \"normalize_neurons\": True,\n",
    "        \"return_more\": True,\n",
    "        \"device\": \"cuda\",\n",
    "        \"shuffle_train\": True,\n",
    "    }"
   ]
  },
  {
   "cell_type": "code",
   "execution_count": null,
   "metadata": {},
   "outputs": [],
   "source": [
    "neurons_ns = [[169, 169], [164, 164], [169, 169, 169, 169], [164, 164, 164, 164]]\n",
    "areas = [[\"V1\", \"PM\"], [\"V1\", \"PM\"], [\"V1\", \"PM\", \"AL\", \"RL\"], [\"V1\", \"PM\", \"AL\", \"RL\"]]\n",
    "\n",
    "dataset_fns, dataset_hashes = [], []\n",
    "for dataset_path, neurons_n, area in zip(dataset_paths, neurons_ns, areas):\n",
    "    \n",
    "    dataset_config = dataset_config_base.copy()\n",
    "    dataset_config[\"area\"] = area\n",
    "    dataset_config[\"neurons_n\"] = neurons_n\n",
    "\n",
    "    dataset_key = Dataset().add_entry(\n",
    "        dataset_fn=dataset_fn,\n",
    "        dataset_config=dataset_config,\n",
    "        dataset_comment=\"\",\n",
    "        dataset_fabrikant=\"kklurz\",\n",
    "        skip_duplicates=True,\n",
    "        return_pk_only=True,\n",
    "    )\n",
    "\n",
    "    dataset_fns.append(dataset_key[\"dataset_fn\"])\n",
    "    dataset_hashes.append(dataset_key[\"dataset_hash\"])"
   ]
  },
  {
   "cell_type": "markdown",
   "metadata": {},
   "source": [
    "### Which entries from the model table?"
   ]
  },
  {
   "cell_type": "code",
   "execution_count": null,
   "metadata": {},
   "outputs": [],
   "source": [
    "model_fn = 'nnsysident.models.models.se2d_fullgaussian2d'\n",
    "\n",
    "model_config_base = {'init_mu_range': 0.55,\n",
    "                     'init_sigma': 0.4,\n",
    "                     'input_kern': 15,\n",
    "                     'hidden_kern': 13,\n",
    "                     'gamma_input': 1.0,\n",
    "                     'grid_mean_predictor': {'type': 'cortex',\n",
    "                                              'input_dimensions': 2,\n",
    "                                              'hidden_layers': 0,\n",
    "                                              'hidden_features': 0,\n",
    "                                              'final_tanh': False},\n",
    "                     'gamma_readout': 20.074,\n",
    "                     'share_features': True,\n",
    "                     'share_transform': False}\n"
   ]
  },
  {
   "cell_type": "code",
   "execution_count": null,
   "metadata": {},
   "outputs": [],
   "source": [
    "model_fns, model_hashes = [], []\n",
    "\n",
    "#loop over different model_configs if necessary (see dataset_config as an example)\n",
    "model_config = model_config_base.copy()\n",
    "\n",
    "model_key = Model().add_entry(\n",
    "    model_fn=model_fn,\n",
    "    model_config=model_config,\n",
    "    model_comment=\"\",\n",
    "    model_fabrikant=\"kklurz\",\n",
    "    skip_duplicates=True,\n",
    "    return_pk_only=True,\n",
    ")\n",
    "\n",
    "model_fns.append(model_key[\"model_fn\"])\n",
    "model_hashes.append(model_key[\"model_hash\"])"
   ]
  },
  {
   "cell_type": "markdown",
   "metadata": {},
   "source": [
    "### Which entries from the trainer table?"
   ]
  },
  {
   "cell_type": "code",
   "execution_count": null,
   "metadata": {},
   "outputs": [],
   "source": [
    "trainer_fn = \"nnsysident.training.trainers.standard_trainer\"\n",
    "\n",
    "trainer_config_base = {'detach_core': True}"
   ]
  },
  {
   "cell_type": "code",
   "execution_count": null,
   "metadata": {},
   "outputs": [],
   "source": [
    "trainer_fns, trainer_hashes = [], []\n",
    "\n",
    "#loop over different trainer_configs if necessary (see dataset_config as an example)\n",
    "trainer_config = trainer_config_base.copy()\n",
    "\n",
    "trainer_key = Trainer().add_entry(\n",
    "    trainer_fn=trainer_fn,\n",
    "    trainer_config=trainer_config,\n",
    "    trainer_comment=\"\",\n",
    "    trainer_fabrikant=\"kklurz\",\n",
    "    skip_duplicates=True,\n",
    "    return_pk_only=True,\n",
    ")\n",
    "\n",
    "trainer_fns.append(trainer_key[\"trainer_fn\"])\n",
    "trainer_hashes.append(trainer_key[\"trainer_hash\"])"
   ]
  },
  {
   "cell_type": "markdown",
   "metadata": {},
   "source": [
    "# Get the restrictions of dataset, model and trainer which make up the experiment"
   ]
  },
  {
   "cell_type": "code",
   "execution_count": null,
   "metadata": {},
   "outputs": [],
   "source": [
    "dfs, dhs, mfs, mhs, tfs, ths = [], [], [], [], [], []\n",
    "restrictions = []\n",
    "for (df, dh), (mf, mh), (tf, th) in product(\n",
    "    zip(dataset_fns, dataset_hashes),\n",
    "    zip(model_fns, model_hashes),\n",
    "    zip(trainer_fns, trainer_hashes),\n",
    "):\n",
    "    combination = {\n",
    "        \"dataset_fn\": df,\n",
    "        \"dataset_hash\": dh,\n",
    "        \"model_fn\": mf,\n",
    "        \"model_hash\": mh,\n",
    "        \"trainer_fn\": tf,\n",
    "        \"trainer_hash\": th,\n",
    "    }\n",
    "    restrictions.append(combination)"
   ]
  },
  {
   "cell_type": "markdown",
   "metadata": {},
   "source": [
    "# Add the experiment to the table"
   ]
  },
  {
   "cell_type": "code",
   "execution_count": null,
   "metadata": {},
   "outputs": [],
   "source": [
    "fabrikant_name = \"kklurz\"\n",
    "experiment_name = \"My insightful experiment\"\n",
    "experiment_comment = \"This experiment analyzes ...\"\n",
    "\n",
    "Experiments().add_entry(\n",
    "    experiment_name=experiment_name,\n",
    "    experiment_fabrikant=fabrikant_name,\n",
    "    experiment_comment=experiment_comment,\n",
    "    restrictions=restrictions,\n",
    "    skip_duplicates=True,\n",
    ")"
   ]
  },
  {
   "cell_type": "markdown",
   "metadata": {},
   "source": [
    "# Check out the progress of your experiment"
   ]
  },
  {
   "cell_type": "code",
   "execution_count": null,
   "metadata": {},
   "outputs": [],
   "source": [
    "experiment_name = \"My insightful experiment\"\n",
    "tm_restriction = Experiments().Restrictions() & 'experiment_name=\"{}\"'.format(\n",
    "    experiment_name\n",
    ")\n",
    "\n",
    "TrainedModel.progress(tm_restriction)"
   ]
  },
  {
   "cell_type": "markdown",
   "metadata": {},
   "source": [
    "# Populate your experiment(s)"
   ]
  },
  {
   "cell_type": "code",
   "execution_count": null,
   "metadata": {},
   "outputs": [],
   "source": [
    "for experiment_name in [\"My insightful experiment\", \"My other insightful experiment\"]:\n",
    "\n",
    "    TrainedModel.populate(Experiments.Restrictions 'experiment_name=\"{}\"'.format(experiment_name),\n",
    "                          reserve_jobs=True,\n",
    "                          order=\"random\",)"
   ]
  },
  {
   "cell_type": "markdown",
   "metadata": {},
   "source": [
    "# Fetch your finished experiment"
   ]
  },
  {
   "cell_type": "code",
   "execution_count": null,
   "metadata": {},
   "outputs": [],
   "source": [
    "experiment_name = \"My insightful experiment\"\n",
    "\n",
    "data = pd.DataFrame(((TrainedModel * \n",
    "                       Experiments.Restrictions & \n",
    "                       'experiment_name=\"{}\"'.format(experiment_name)) *\n",
    "                      Dataset *\n",
    "                      Model *\n",
    "                      Trainer *\n",
    "                      Seed *\n",
    "                      OracleScore).fetch())\n",
    "\n",
    "# Plot stuff..."
   ]
  },
  {
   "cell_type": "markdown",
   "metadata": {},
   "source": [
    "---"
   ]
  },
  {
   "cell_type": "markdown",
   "metadata": {},
   "source": [
    "## Monitor experiments and table populations"
   ]
  },
  {
   "cell_type": "code",
   "execution_count": null,
   "metadata": {},
   "outputs": [],
   "source": [
    "tms_n = 0\n",
    "for experiment_name in Experiments.fetch(\"experiment_name\"):\n",
    "    print(experiment_name)\n",
    "    tm_restriction = Experiments.Restrictions & 'experiment_name=\"{}\"'.format(\n",
    "        experiment_name\n",
    "    )\n",
    "    aa = TrainedModel.progress(tm_restriction)\n",
    "    tms_n += aa[1]\n",
    "    print(\"\\n\")"
   ]
  }
 ],
 "metadata": {
  "kernelspec": {
   "display_name": "Python 3",
   "language": "python",
   "name": "python3"
  },
  "language_info": {
   "codemirror_mode": {
    "name": "ipython",
    "version": 3
   },
   "file_extension": ".py",
   "mimetype": "text/x-python",
   "name": "python",
   "nbconvert_exporter": "python",
   "pygments_lexer": "ipython3",
   "version": "3.8.0"
  }
 },
 "nbformat": 4,
 "nbformat_minor": 4
}
