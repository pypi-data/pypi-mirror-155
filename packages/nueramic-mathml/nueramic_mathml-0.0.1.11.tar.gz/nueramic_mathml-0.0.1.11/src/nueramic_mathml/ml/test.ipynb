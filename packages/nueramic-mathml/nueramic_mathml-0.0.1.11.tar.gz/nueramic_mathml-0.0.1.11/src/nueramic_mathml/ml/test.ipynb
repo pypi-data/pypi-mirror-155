{
 "cells": [
  {
   "cell_type": "code",
   "execution_count": 1,
   "outputs": [],
   "source": [
    "import torch"
   ],
   "metadata": {
    "collapsed": false,
    "pycharm": {
     "name": "#%%\n"
    }
   }
  },
  {
   "cell_type": "code",
   "execution_count": 2,
   "outputs": [],
   "source": [
    "from classification import LogisticRegression\n",
    "\n",
    "torch.random.manual_seed(7)\n",
    "x = torch.rand(100, 20)\n",
    "w = torch.tensor([[1], [-1]] * 10).float()\n",
    "\n",
    "y = torch.sigmoid(x @ w).round().int()\n",
    "\n",
    "model = LogisticRegression(20).fit(x, y, epochs=10000)"
   ],
   "metadata": {
    "collapsed": false,
    "pycharm": {
     "name": "#%%\n"
    }
   }
  },
  {
   "cell_type": "code",
   "execution_count": 13,
   "outputs": [],
   "source": [
    "from classification import LogisticRegressionRBF\n",
    "\n",
    "m = LogisticRegressionRBF(x[:100]).fit(x, y, epochs=10000)"
   ],
   "metadata": {
    "collapsed": false,
    "pycharm": {
     "name": "#%%\n"
    }
   }
  },
  {
   "cell_type": "code",
   "execution_count": 14,
   "outputs": [
    {
     "data": {
      "text/plain": "1.0"
     },
     "execution_count": 14,
     "metadata": {},
     "output_type": "execute_result"
    }
   ],
   "source": [
    "from metrics import accuracy\n",
    "\n",
    "accuracy(y.flatten(), m.predict(x).flatten())"
   ],
   "metadata": {
    "collapsed": false,
    "pycharm": {
     "name": "#%%\n"
    }
   }
  },
  {
   "cell_type": "code",
   "execution_count": 4,
   "outputs": [
    {
     "name": "stdout",
     "output_type": "stream",
     "text": [
      "Epoch:     2 | HingeLoss:  1.39612\n",
      "Epoch:     6 | HingeLoss:  1.37652\n",
      "Epoch:    12 | HingeLoss:  1.34713\n",
      "Epoch:    25 | HingeLoss:  1.28344\n",
      "Epoch:    50 | HingeLoss:  1.16097\n",
      "Epoch:    99 | HingeLoss:  0.92093\n",
      "Epoch:   192 | HingeLoss:  0.58328\n",
      "Epoch:   371 | HingeLoss:  0.56141\n",
      "Epoch:   718 | HingeLoss:  0.56000\n",
      "Epoch:  1388 | HingeLoss:  0.56000\n",
      "Epoch:  2681 | HingeLoss:  0.56000\n",
      "Epoch:  5178 | HingeLoss:  0.56000\n",
      "Epoch:  10000 | HingeLoss:  0.56000\n"
     ]
    },
    {
     "data": {
      "text/plain": "SVM(\n  (weights): Linear(in_features=20, out_features=1, bias=True)\n)"
     },
     "execution_count": 4,
     "metadata": {},
     "output_type": "execute_result"
    }
   ],
   "source": [
    "from classification import SVM\n",
    "\n",
    "SVM(20).fit(x, y, epochs=10000)"
   ],
   "metadata": {
    "collapsed": false,
    "pycharm": {
     "name": "#%%\n"
    }
   }
  },
  {
   "cell_type": "code",
   "execution_count": 5,
   "outputs": [],
   "source": [
    "m = SVM(2).fit_by_pegasos(x, y, epochs=1)"
   ],
   "metadata": {
    "collapsed": false,
    "pycharm": {
     "name": "#%%\n"
    }
   }
  },
  {
   "cell_type": "code",
   "execution_count": 6,
   "outputs": [
    {
     "name": "stdout",
     "output_type": "stream",
     "text": [
      "Epoch:     1 | HingeLoss:  0.56000\n"
     ]
    },
    {
     "data": {
      "text/plain": "SVM(\n  (weights): Linear(in_features=2, out_features=1, bias=True)\n)"
     },
     "execution_count": 6,
     "metadata": {},
     "output_type": "execute_result"
    }
   ],
   "source": [
    "m.fit(x, y, epochs=1)"
   ],
   "metadata": {
    "collapsed": false,
    "pycharm": {
     "name": "#%%\n"
    }
   }
  },
  {
   "cell_type": "code",
   "execution_count": 7,
   "outputs": [],
   "source": [
    "from sklearn.datasets import make_blobs\n",
    "\n",
    "x, y = make_blobs(100, centers=2)\n",
    "x, y = torch.tensor(x), torch.tensor(y)"
   ],
   "metadata": {
    "collapsed": false,
    "pycharm": {
     "name": "#%%\n"
    }
   }
  },
  {
   "cell_type": "code",
   "execution_count": 8,
   "outputs": [
    {
     "name": "stdout",
     "output_type": "stream",
     "text": [
      "Epoch:     1 | HingeLoss:  1.54503\n",
      "Epoch:     3 | HingeLoss:  1.53481\n",
      "Epoch:     6 | HingeLoss:  1.51947\n",
      "Epoch:    10 | HingeLoss:  1.49903\n",
      "Epoch:    18 | HingeLoss:  1.45814\n",
      "Epoch:    30 | HingeLoss:  1.39680\n",
      "Epoch:    50 | HingeLoss:  1.29457\n",
      "Epoch:    83 | HingeLoss:  1.12590\n",
      "Epoch:   138 | HingeLoss:  0.84477\n",
      "Epoch:   226 | HingeLoss:  0.53472\n",
      "Epoch:   372 | HingeLoss:  0.50404\n",
      "Epoch:   610 | HingeLoss:  0.50000\n",
      "Epoch:  1000 | HingeLoss:  0.50000\n",
      "tensor([1., 1., 1., 1., 1., 1., 1., 1., 1., 1., 1., 1., 1., 1., 1., 1., 1., 1.,\n",
      "        1., 1., 1., 1., 1., 1., 1., 1., 1., 1., 1., 1., 1., 1., 1., 1., 1., 1.,\n",
      "        1., 1., 1., 1., 1., 1., 1., 1., 1., 1., 1., 1., 1., 1., 1., 1., 1., 1.,\n",
      "        1., 1., 1., 1., 1., 1., 1., 1., 1., 1., 1., 1., 1., 1., 1., 1., 1., 1.,\n",
      "        1., 1., 1., 1., 1., 1., 1., 1., 1., 1., 1., 1., 1., 1., 1., 1., 1., 1.,\n",
      "        1., 1., 1., 1., 1., 1., 1., 1., 1., 1.])\n",
      "0.5\n"
     ]
    }
   ],
   "source": [
    "torch.random.manual_seed(7)\n",
    "x, y = make_blobs(100, centers=2)\n",
    "x, y = torch.tensor(x), torch.tensor(y)\n",
    "m = SVM(2).fit(x, y, epochs=1000)\n",
    "print(m.predict(x))\n",
    "from metrics import accuracy\n",
    "print(accuracy(y, m.predict(x)))"
   ],
   "metadata": {
    "collapsed": false,
    "pycharm": {
     "name": "#%%\n"
    }
   }
  },
  {
   "cell_type": "code",
   "execution_count": 9,
   "outputs": [
    {
     "data": {
      "text/plain": "tensor([[2.0023],\n        [2.0784],\n        [1.4227],\n        [1.9286],\n        [2.0567],\n        [2.1495],\n        [1.8379],\n        [2.0944],\n        [1.6704],\n        [1.3474],\n        [1.7572],\n        [1.8779],\n        [2.2381],\n        [1.5927],\n        [1.5126],\n        [1.9969],\n        [1.6448],\n        [2.4637],\n        [1.5459],\n        [1.5134],\n        [1.4913],\n        [1.5335],\n        [2.1321],\n        [1.3230],\n        [1.7837],\n        [2.0808],\n        [2.2218],\n        [1.8099],\n        [1.9306],\n        [2.0251],\n        [2.3380],\n        [1.0153],\n        [2.0470],\n        [1.9923],\n        [1.5465],\n        [2.2202],\n        [2.2597],\n        [1.9341],\n        [1.5863],\n        [2.1705],\n        [1.5071],\n        [1.2209],\n        [1.3813],\n        [1.8552],\n        [1.9671],\n        [1.6614],\n        [1.0808],\n        [2.1191],\n        [1.6468],\n        [1.6151],\n        [1.9682],\n        [1.6674],\n        [1.3048],\n        [1.6769],\n        [2.3668],\n        [1.9120],\n        [1.8412],\n        [2.1777],\n        [1.0586],\n        [1.7307],\n        [2.0931],\n        [1.8992],\n        [1.6819],\n        [1.6006],\n        [2.3640],\n        [2.1459],\n        [1.5762],\n        [1.2810],\n        [1.6618],\n        [1.4511],\n        [1.5894],\n        [1.5943],\n        [2.1635],\n        [1.5812],\n        [1.8609],\n        [1.3785],\n        [2.2399],\n        [2.5453],\n        [1.6857],\n        [1.4426],\n        [1.5185],\n        [2.1073],\n        [2.5384],\n        [1.5663],\n        [2.6025],\n        [1.2750],\n        [1.3549],\n        [1.5079],\n        [2.0315],\n        [1.0026],\n        [2.4801],\n        [1.4268],\n        [1.5666],\n        [2.1728],\n        [1.9366],\n        [2.0254],\n        [2.5834],\n        [1.9707],\n        [1.4414],\n        [1.3168]], grad_fn=<AddmmBackward0>)"
     },
     "execution_count": 9,
     "metadata": {},
     "output_type": "execute_result"
    }
   ],
   "source": [
    "m(x)"
   ],
   "metadata": {
    "collapsed": false,
    "pycharm": {
     "name": "#%%\n"
    }
   }
  },
  {
   "cell_type": "code",
   "execution_count": 10,
   "outputs": [],
   "source": [
    "from sklearn.svm import SVC"
   ],
   "metadata": {
    "collapsed": false,
    "pycharm": {
     "name": "#%%\n"
    }
   }
  },
  {
   "cell_type": "code",
   "execution_count": 11,
   "outputs": [],
   "source": [
    "model = SVC()"
   ],
   "metadata": {
    "collapsed": false,
    "pycharm": {
     "name": "#%%\n"
    }
   }
  },
  {
   "cell_type": "code",
   "execution_count": 12,
   "outputs": [
    {
     "data": {
      "text/plain": "SVC()",
      "text/html": "<style>#sk-container-id-1 {color: black;background-color: white;}#sk-container-id-1 pre{padding: 0;}#sk-container-id-1 div.sk-toggleable {background-color: white;}#sk-container-id-1 label.sk-toggleable__label {cursor: pointer;display: block;width: 100%;margin-bottom: 0;padding: 0.3em;box-sizing: border-box;text-align: center;}#sk-container-id-1 label.sk-toggleable__label-arrow:before {content: \"▸\";float: left;margin-right: 0.25em;color: #696969;}#sk-container-id-1 label.sk-toggleable__label-arrow:hover:before {color: black;}#sk-container-id-1 div.sk-estimator:hover label.sk-toggleable__label-arrow:before {color: black;}#sk-container-id-1 div.sk-toggleable__content {max-height: 0;max-width: 0;overflow: hidden;text-align: left;background-color: #f0f8ff;}#sk-container-id-1 div.sk-toggleable__content pre {margin: 0.2em;color: black;border-radius: 0.25em;background-color: #f0f8ff;}#sk-container-id-1 input.sk-toggleable__control:checked~div.sk-toggleable__content {max-height: 200px;max-width: 100%;overflow: auto;}#sk-container-id-1 input.sk-toggleable__control:checked~label.sk-toggleable__label-arrow:before {content: \"▾\";}#sk-container-id-1 div.sk-estimator input.sk-toggleable__control:checked~label.sk-toggleable__label {background-color: #d4ebff;}#sk-container-id-1 div.sk-label input.sk-toggleable__control:checked~label.sk-toggleable__label {background-color: #d4ebff;}#sk-container-id-1 input.sk-hidden--visually {border: 0;clip: rect(1px 1px 1px 1px);clip: rect(1px, 1px, 1px, 1px);height: 1px;margin: -1px;overflow: hidden;padding: 0;position: absolute;width: 1px;}#sk-container-id-1 div.sk-estimator {font-family: monospace;background-color: #f0f8ff;border: 1px dotted black;border-radius: 0.25em;box-sizing: border-box;margin-bottom: 0.5em;}#sk-container-id-1 div.sk-estimator:hover {background-color: #d4ebff;}#sk-container-id-1 div.sk-parallel-item::after {content: \"\";width: 100%;border-bottom: 1px solid gray;flex-grow: 1;}#sk-container-id-1 div.sk-label:hover label.sk-toggleable__label {background-color: #d4ebff;}#sk-container-id-1 div.sk-serial::before {content: \"\";position: absolute;border-left: 1px solid gray;box-sizing: border-box;top: 0;bottom: 0;left: 50%;z-index: 0;}#sk-container-id-1 div.sk-serial {display: flex;flex-direction: column;align-items: center;background-color: white;padding-right: 0.2em;padding-left: 0.2em;position: relative;}#sk-container-id-1 div.sk-item {position: relative;z-index: 1;}#sk-container-id-1 div.sk-parallel {display: flex;align-items: stretch;justify-content: center;background-color: white;position: relative;}#sk-container-id-1 div.sk-item::before, #sk-container-id-1 div.sk-parallel-item::before {content: \"\";position: absolute;border-left: 1px solid gray;box-sizing: border-box;top: 0;bottom: 0;left: 50%;z-index: -1;}#sk-container-id-1 div.sk-parallel-item {display: flex;flex-direction: column;z-index: 1;position: relative;background-color: white;}#sk-container-id-1 div.sk-parallel-item:first-child::after {align-self: flex-end;width: 50%;}#sk-container-id-1 div.sk-parallel-item:last-child::after {align-self: flex-start;width: 50%;}#sk-container-id-1 div.sk-parallel-item:only-child::after {width: 0;}#sk-container-id-1 div.sk-dashed-wrapped {border: 1px dashed gray;margin: 0 0.4em 0.5em 0.4em;box-sizing: border-box;padding-bottom: 0.4em;background-color: white;}#sk-container-id-1 div.sk-label label {font-family: monospace;font-weight: bold;display: inline-block;line-height: 1.2em;}#sk-container-id-1 div.sk-label-container {text-align: center;}#sk-container-id-1 div.sk-container {/* jupyter's `normalize.less` sets `[hidden] { display: none; }` but bootstrap.min.css set `[hidden] { display: none !important; }` so we also need the `!important` here to be able to override the default hidden behavior on the sphinx rendered scikit-learn.org. See: https://github.com/scikit-learn/scikit-learn/issues/21755 */display: inline-block !important;position: relative;}#sk-container-id-1 div.sk-text-repr-fallback {display: none;}</style><div id=\"sk-container-id-1\" class=\"sk-top-container\"><div class=\"sk-text-repr-fallback\"><pre>SVC()</pre><b>In a Jupyter environment, please rerun this cell to show the HTML representation or trust the notebook. <br />On GitHub, the HTML representation is unable to render, please try loading this page with nbviewer.org.</b></div><div class=\"sk-container\" hidden><div class=\"sk-item\"><div class=\"sk-estimator sk-toggleable\"><input class=\"sk-toggleable__control sk-hidden--visually\" id=\"sk-estimator-id-1\" type=\"checkbox\" checked><label for=\"sk-estimator-id-1\" class=\"sk-toggleable__label sk-toggleable__label-arrow\">SVC</label><div class=\"sk-toggleable__content\"><pre>SVC()</pre></div></div></div></div></div>"
     },
     "execution_count": 12,
     "metadata": {},
     "output_type": "execute_result"
    }
   ],
   "source": [
    "model.fit(x, y)"
   ],
   "metadata": {
    "collapsed": false,
    "pycharm": {
     "name": "#%%\n"
    }
   }
  },
  {
   "cell_type": "code",
   "execution_count": 13,
   "outputs": [
    {
     "data": {
      "text/plain": "array([0, 0, 1, 0, 0, 0, 0, 0, 1, 1, 0, 0, 0, 1, 1, 0, 1, 0, 1, 1, 1, 1,\n       0, 1, 0, 0, 0, 0, 0, 0, 0, 1, 0, 1, 1, 0, 0, 1, 1, 0, 1, 1, 1, 1,\n       0, 1, 1, 0, 1, 1, 1, 1, 1, 0, 0, 0, 0, 0, 1, 1, 0, 0, 1, 1, 0, 0,\n       0, 1, 1, 1, 1, 1, 0, 1, 0, 1, 0, 0, 1, 1, 1, 0, 0, 1, 0, 1, 1, 0,\n       0, 1, 0, 1, 1, 0, 0, 1, 0, 0, 1, 1])"
     },
     "execution_count": 13,
     "metadata": {},
     "output_type": "execute_result"
    }
   ],
   "source": [
    "model.predict(x)"
   ],
   "metadata": {
    "collapsed": false,
    "pycharm": {
     "name": "#%%\n"
    }
   }
  },
  {
   "cell_type": "code",
   "execution_count": 16,
   "outputs": [
    {
     "name": "stdout",
     "output_type": "stream",
     "text": [
      "1.0\n"
     ]
    }
   ],
   "source": [
    "print(accuracy(y, torch.tensor(model.predict(x))))"
   ],
   "metadata": {
    "collapsed": false,
    "pycharm": {
     "name": "#%%\n"
    }
   }
  },
  {
   "cell_type": "code",
   "execution_count": 9,
   "outputs": [
    {
     "name": "stdout",
     "output_type": "stream",
     "text": [
      "Epoch:     1 | HingeLoss:  0.50000\n",
      "Epoch:     3 | HingeLoss:  0.50000\n",
      "Epoch:     6 | HingeLoss:  0.50000\n",
      "Epoch:    10 | HingeLoss:  0.50000\n",
      "Epoch:    18 | HingeLoss:  0.50000\n",
      "Epoch:    30 | HingeLoss:  0.50000\n",
      "Epoch:    50 | HingeLoss:  0.50000\n",
      "Epoch:    83 | HingeLoss:  0.50000\n",
      "Epoch:   138 | HingeLoss:  0.50000\n",
      "Epoch:   226 | HingeLoss:  0.50000\n",
      "Epoch:   372 | HingeLoss:  0.50000\n",
      "Epoch:   610 | HingeLoss:  0.50000\n",
      "Epoch:  1000 | HingeLoss:  0.50000\n"
     ]
    }
   ],
   "source": [
    "m = SVM(2).fit(x, y, epochs=1000)"
   ],
   "metadata": {
    "collapsed": false,
    "pycharm": {
     "name": "#%%\n"
    }
   }
  },
  {
   "cell_type": "code",
   "execution_count": 10,
   "outputs": [
    {
     "name": "stderr",
     "output_type": "stream",
     "text": [
      "/Users/victorbarbarich/PycharmProjects/mathml/src/nueramic_mathml/ml/classification.py:294: UserWarning: __floordiv__ is deprecated, and its behavior will change in a future version of pytorch. It currently rounds toward 0 (like the 'trunc' function NOT 'floor'). This results in incorrect rounding for negative values. To keep the current behavior, use torch.div(a, b, rounding_mode='trunc'), or for actual floor division, use torch.div(a, b, rounding_mode='floor').\n",
      "  return (self.weights(x).sign().int().flatten() + 1) // 2\n"
     ]
    },
    {
     "data": {
      "text/plain": "tensor([0, 0, 0, 1, 1, 0, 1, 1, 0, 1, 1, 1, 1, 0, 0, 0, 0, 1, 1, 0, 1, 1, 0, 1,\n        1, 1, 1, 0, 1, 0, 0, 1, 1, 0, 1, 0, 1, 1, 0, 1, 1, 1, 0, 1, 0, 1, 0, 0,\n        1, 0, 0, 0, 0, 1, 1, 0, 1, 1, 0, 0, 0, 1, 1, 1, 0, 1, 1, 0, 0, 1, 1, 0,\n        1, 0, 1, 0, 0, 0, 0, 1, 0, 0, 0, 0, 1, 1, 1, 0, 1, 0, 1, 0, 1, 0, 1, 0,\n        0, 0, 1, 0], dtype=torch.int32)"
     },
     "execution_count": 10,
     "metadata": {},
     "output_type": "execute_result"
    }
   ],
   "source": [
    "m.predict(x)"
   ],
   "metadata": {
    "collapsed": false,
    "pycharm": {
     "name": "#%%\n"
    }
   }
  },
  {
   "cell_type": "code",
   "execution_count": 10,
   "outputs": [],
   "source": [],
   "metadata": {
    "collapsed": false,
    "pycharm": {
     "name": "#%%\n"
    }
   }
  },
  {
   "cell_type": "code",
   "execution_count": 10,
   "outputs": [],
   "source": [],
   "metadata": {
    "collapsed": false,
    "pycharm": {
     "name": "#%%\n"
    }
   }
  }
 ],
 "metadata": {
  "kernelspec": {
   "display_name": "Python 3",
   "language": "python",
   "name": "python3"
  },
  "language_info": {
   "codemirror_mode": {
    "name": "ipython",
    "version": 2
   },
   "file_extension": ".py",
   "mimetype": "text/x-python",
   "name": "python",
   "nbconvert_exporter": "python",
   "pygments_lexer": "ipython2",
   "version": "2.7.6"
  }
 },
 "nbformat": 4,
 "nbformat_minor": 0
}