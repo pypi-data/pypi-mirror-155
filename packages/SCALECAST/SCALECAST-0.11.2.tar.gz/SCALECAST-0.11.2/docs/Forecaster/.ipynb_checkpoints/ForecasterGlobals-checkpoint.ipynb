{
 "cells": [
  {
   "cell_type": "markdown",
   "id": "ffcafcca-d896-4122-8de4-d8c410f723d7",
   "metadata": {},
   "source": [
    "# Basic Terminonlogy\n",
    "\n",
    "- In scalecast, when reading documentation, it is helpful to know the following terms: `_estimators_`, `_can_be_tuned_`, `_cannot_be_tuned_`, `_sklearn_estimators_`, `_metrics_`, `_determine_best_by_`, `_normalizer_`. "
   ]
  },
  {
   "cell_type": "markdown",
   "id": "79489a25-ef5f-4b6e-ae56-01550550b547",
   "metadata": {},
   "source": [
    "## `_estimators_`\n",
    "- these are the the models that forecast and can be set by using `f.set_estimator(...)`\n",
    "- they come from popular machine learning libraries like scikit-learn, keras, statsmodels, and others\n",
    "- here is a list of all:"
   ]
  },
  {
   "cell_type": "code",
   "execution_count": 1,
   "id": "f174071b-08b6-463b-8d6f-73562c75490e",
   "metadata": {},
   "outputs": [
    {
     "name": "stdout",
     "output_type": "stream",
     "text": [
      "arima\n",
      "combo\n",
      "elasticnet\n",
      "gbt\n",
      "hwes\n",
      "knn\n",
      "lightgbm\n",
      "lstm\n",
      "mlp\n",
      "mlr\n",
      "prophet\n",
      "rf\n",
      "rnn\n",
      "sgd\n",
      "silverkite\n",
      "svr\n",
      "xgboost\n"
     ]
    }
   ],
   "source": [
    "from scalecast.Forecaster import _estimators_\n",
    "print(*_estimators_,sep='\\n')"
   ]
  },
  {
   "cell_type": "markdown",
   "id": "74643955-d8d9-4875-9ec3-f865c349c577",
   "metadata": {},
   "source": [
    "### `_can_be_tuned_`\n",
    "- the following estimators can be tuned:"
   ]
  },
  {
   "cell_type": "code",
   "execution_count": 2,
   "id": "188e4c7d-5db5-4fdc-a487-2b5a3f6068d9",
   "metadata": {},
   "outputs": [
    {
     "name": "stdout",
     "output_type": "stream",
     "text": [
      "arima\n",
      "elasticnet\n",
      "gbt\n",
      "hwes\n",
      "knn\n",
      "lightgbm\n",
      "mlp\n",
      "mlr\n",
      "prophet\n",
      "rf\n",
      "sgd\n",
      "silverkite\n",
      "svr\n",
      "xgboost\n"
     ]
    }
   ],
   "source": [
    "from scalecast.Forecaster import _can_be_tuned_\n",
    "print(*_can_be_tuned_,sep='\\n')"
   ]
  },
  {
   "cell_type": "markdown",
   "id": "65308432-b018-4e87-8564-e6b23d8af636",
   "metadata": {},
   "source": [
    "### `_cannot_be_tuned_`\n",
    "- the following cannot be tuned:"
   ]
  },
  {
   "cell_type": "code",
   "execution_count": 3,
   "id": "b7979606-b682-4ed8-8a26-8269f5080b82",
   "metadata": {},
   "outputs": [
    {
     "name": "stdout",
     "output_type": "stream",
     "text": [
      "combo\n",
      "rnn\n",
      "lstm\n"
     ]
    }
   ],
   "source": [
    "from scalecast.Forecaster import _cannot_be_tuned_\n",
    "print(*_cannot_be_tuned_,sep='\\n')"
   ]
  },
  {
   "cell_type": "markdown",
   "id": "3be1ad09-63b2-4102-b642-4e85ea0a3bf3",
   "metadata": {},
   "source": [
    "### `_sklearn_estimators_`\n",
    "- these all come from scikit-learn or use a scikit-learn API and behave similarly (including being easy-to-tune, accepting a `normalizer` argument, and accepting an `Xvars` argument):"
   ]
  },
  {
   "cell_type": "code",
   "execution_count": 4,
   "id": "fddceb66-107d-4357-a998-bd962f4905ac",
   "metadata": {},
   "outputs": [
    {
     "name": "stdout",
     "output_type": "stream",
     "text": [
      "elasticnet\n",
      "gbt\n",
      "knn\n",
      "lightgbm\n",
      "mlp\n",
      "mlr\n",
      "rf\n",
      "sgd\n",
      "svr\n",
      "xgboost\n"
     ]
    }
   ],
   "source": [
    "from scalecast.Forecaster import _sklearn_estimators_\n",
    "print(*_sklearn_estimators_,sep='\\n')"
   ]
  },
  {
   "cell_type": "markdown",
   "id": "ddf4292a-dc51-4bb8-a65b-658a5f778dd9",
   "metadata": {},
   "source": [
    "- adding sklearn estimators that are not native to scalecast is easy. see: https://scalecast.readthedocs.io/en/latest/Forecaster/Forecaster.html#src.scalecast.Forecaster.Forecaster.add_sklearn_estimator"
   ]
  },
  {
   "cell_type": "markdown",
   "id": "9c9c4392-71b8-4629-a60a-56d90e4c3688",
   "metadata": {},
   "source": [
    "## `_metrics_`\n",
    "- these are all the metrics available to use for model validation `f.set_validation_metric(...)`:"
   ]
  },
  {
   "cell_type": "code",
   "execution_count": 5,
   "id": "eb2276f4-9899-45fd-aed6-500973d4567b",
   "metadata": {},
   "outputs": [
    {
     "name": "stdout",
     "output_type": "stream",
     "text": [
      "r2\n",
      "rmse\n",
      "mape\n",
      "mae\n"
     ]
    }
   ],
   "source": [
    "from scalecast.Forecaster import _metrics_\n",
    "print(*_metrics_,sep='\\n')"
   ]
  },
  {
   "cell_type": "markdown",
   "id": "33b4e1b2-0cff-49f8-966f-e65a43068ca9",
   "metadata": {},
   "source": [
    "## `_determine_best_by_`\n",
    "- these are all the metrics available to use for model comparison and sorting models best-to-worst `f.export(determine_best_by=...)`:"
   ]
  },
  {
   "cell_type": "code",
   "execution_count": 6,
   "id": "7a5773c5-8ad9-4cd7-9eb8-8c79fd6488f9",
   "metadata": {},
   "outputs": [
    {
     "name": "stdout",
     "output_type": "stream",
     "text": [
      "TestSetRMSE\n",
      "TestSetMAPE\n",
      "TestSetMAE\n",
      "TestSetR2\n",
      "InSampleRMSE\n",
      "InSampleMAPE\n",
      "InSampleMAE\n",
      "InSampleR2\n",
      "ValidationMetricValue\n",
      "LevelTestSetRMSE\n",
      "LevelTestSetMAPE\n",
      "LevelTestSetMAE\n",
      "LevelTestSetR2\n"
     ]
    }
   ],
   "source": [
    "from scalecast.Forecaster import _determine_best_by_\n",
    "print(*_determine_best_by_,sep='\\n')"
   ]
  },
  {
   "cell_type": "markdown",
   "id": "da9dc276-da9f-493b-a4eb-8755c440f93a",
   "metadata": {},
   "source": [
    "## `_normalizer_`\n",
    "- these are all the options to scale your data when using an sklearn estimator `f.manual_forecast(normalizer=...)`:"
   ]
  },
  {
   "cell_type": "code",
   "execution_count": 7,
   "id": "218209fd-a318-4e84-8dbf-1e4d350649ee",
   "metadata": {},
   "outputs": [
    {
     "name": "stdout",
     "output_type": "stream",
     "text": [
      "minmax\n",
      "normalize\n",
      "scale\n",
      "None\n"
     ]
    }
   ],
   "source": [
    "from scalecast.Forecaster import _normalizer_\n",
    "print(*_normalizer_,sep='\\n')"
   ]
  },
  {
   "cell_type": "markdown",
   "id": "fb1399f8-24b8-4f4d-a5b7-3c539b3ccc45",
   "metadata": {},
   "source": [
    "## `_optimizer_funcs_`\n",
    "- these are the functions you can use to optimize models in `MVForecaster` only\n",
    "- this means that if you use the `\"mean\"` option, which is the object's default, when tuning models, it will choose the best one based on which metric had the best average performance on all series\n",
    "- you can add your own functions by calling `add_optimizer_func()`"
   ]
  },
  {
   "cell_type": "code",
   "execution_count": 8,
   "id": "bda547be-85d6-4275-b671-6681833535fd",
   "metadata": {},
   "outputs": [
    {
     "name": "stdout",
     "output_type": "stream",
     "text": [
      "mean\n",
      "min\n",
      "max\n"
     ]
    }
   ],
   "source": [
    "from scalecast.MVForecaster import _optimizer_funcs_\n",
    "print(*_optimizer_funcs_,sep='\\n')"
   ]
  },
  {
   "cell_type": "markdown",
   "id": "1216d561-b471-48ad-87ba-0bfe1302d336",
   "metadata": {},
   "source": [
    "adding optimizer funcs that are not native to scalecast is easy. see: https://scalecast.readthedocs.io/en/latest/Forecaster/MVForecaster.html#src.scalecast.MVForecaster.MVForecaster.add_optimizer_func"
   ]
  },
  {
   "cell_type": "code",
   "execution_count": null,
   "id": "9e13e649-048a-417e-9603-ccaf5e58fb48",
   "metadata": {},
   "outputs": [],
   "source": []
  }
 ],
 "metadata": {
  "kernelspec": {
   "display_name": "Python 3",
   "language": "python",
   "name": "python3"
  },
  "language_info": {
   "codemirror_mode": {
    "name": "ipython",
    "version": 3
   },
   "file_extension": ".py",
   "mimetype": "text/x-python",
   "name": "python",
   "nbconvert_exporter": "python",
   "pygments_lexer": "ipython3",
   "version": "3.8.8"
  },
  "widgets": {
   "application/vnd.jupyter.widget-state+json": {
    "state": {},
    "version_major": 2,
    "version_minor": 0
   }
  }
 },
 "nbformat": 4,
 "nbformat_minor": 5
}
