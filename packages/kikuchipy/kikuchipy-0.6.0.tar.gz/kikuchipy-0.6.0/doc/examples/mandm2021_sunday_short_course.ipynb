{
 "cells": [
  {
   "cell_type": "markdown",
   "id": "6f8d362f-6d83-4a28-872d-8c77e6d4f849",
   "metadata": {
    "nbsphinx": "hidden"
   },
   "source": [
    "This notebook is part of the `kikuchipy` documentation https://kikuchipy.org.\n",
    "Links to the documentation won't work from the notebook."
   ]
  },
  {
   "cell_type": "markdown",
   "id": "e00b1224-4302-41da-9598-b38fd5092ebd",
   "metadata": {},
   "source": [
    "# M&M 2021 Sunday Short Course\n",
    "\n",
    "<div class=\"alert alert-info\">\n",
    "\n",
    "Note\n",
    "\n",
    "This notebook was used to demonstrate EBSD analysis with kikuchipy as part of\n",
    "the HyperSpy workshop during the Microscopy & Microanalysis Virtual Meeting in\n",
    "2021. The offical name of the workshop is [M&M 2021 Sunday Short Course *X-15\n",
    "Data Analysis in Materials Science*](https://www.microscopy.org/MandM/2021/program/short_courses.cfm).\n",
    "\n",
    "This notebook has been updated to work with the current release of kikuchipy and\n",
    "to fit our documentation format. The original notebook, as presented during the\n",
    "workshop, is available via\n",
    "[this GitHub repository](https://github.com/usnistgov/hyperspy_tutorial/blob/2021-08-01_MandM_short_course/09%20EBSD/ebsd_analysis_nickel_completed.ipynb)\n",
    "hosted by the National Institute of Standards and Technology (NIST).\n",
    "\n",
    "</div>\n",
    "\n",
    "\n",
    "## Electron Backscatter Diffraction (EBSD) analysis of polycrystalline Nickel\n",
    "\n",
    "The goal of EBSD analysis is often to determine the crystal orientation from\n",
    "each EBSD pattern, typically called *indexing*. One approach is dictionary\n",
    "indexing, first described in <cite data-cite=\"chen2015dictionary\">Chen et al.\n",
    "(2015)</cite>. Here we'll demonstrate how to do this in\n",
    "[kikuchipy](https://kikuchipy.org). The implementation is based on the one in\n",
    "EMsoft, as described in <cite data-cite=\"jackson2019dictionary\">Jackson et al.\n",
    "(2019)</cite>.\n",
    "\n",
    "Dictionary indexing is not as tried and tested as the commonly used Hough\n",
    "indexing. To aid the evaluation of dictionary indexing results, we therefore\n",
    "first obtain several maps to get an overview of the quality of the EBSD patterns\n",
    "and the features in the region of interest before indexing, independent of any\n",
    "bias introdued in indexing. After indexing, we'll also inspect the results\n",
    "visually using dynamical and geometrical EBSD simulations.\n",
    "\n",
    "Set Matplotlib plotting backend and import packages"
   ]
  },
  {
   "cell_type": "code",
   "execution_count": null,
   "id": "69885abb-940e-4739-b778-1739cf8df9f5",
   "metadata": {},
   "outputs": [],
   "source": [
    "# Exchange inline for notebook or qt5 (from pyqt) for interactive plotting\n",
    "%matplotlib inline\n",
    "\n",
    "import hyperspy.api as hs\n",
    "import matplotlib.pyplot as plt\n",
    "\n",
    "# pyxem family of packages (except pyxem)\n",
    "from diffsims.crystallography import ReciprocalLatticeVector\n",
    "import kikuchipy as kp\n",
    "from orix import io, quaternion, sampling, vector\n",
    "\n",
    "\n",
    "plt.rcParams.update({\"figure.facecolor\": \"w\", \"font.size\": 15})"
   ]
  },
  {
   "cell_type": "markdown",
   "id": "20e6fe49",
   "metadata": {},
   "source": [
    "Load (and download) an EBSD dataset of polycrystalline, recrystallized Nickel which is part of the `kikuchipy.data` module (\"large\" = 13 MB, compared to \"small\" < 1 MB)."
   ]
  },
  {
   "cell_type": "code",
   "execution_count": null,
   "id": "096de352",
   "metadata": {},
   "outputs": [],
   "source": [
    "s = kp.data.nickel_ebsd_large(allow_download=True)\n",
    "s"
   ]
  },
  {
   "cell_type": "markdown",
   "id": "5a7d74c4-9b85-416d-9f9f-c18dfcd62c7f",
   "metadata": {},
   "source": [
    "Inspect the navigation and signal dimensions (more closely) in the `axes_manager`"
   ]
  },
  {
   "cell_type": "code",
   "execution_count": null,
   "id": "c7eb8744",
   "metadata": {},
   "outputs": [],
   "source": [
    "print(s.axes_manager)"
   ]
  },
  {
   "cell_type": "markdown",
   "id": "79441d83-2c95-4255-bd96-e05676881ea5",
   "metadata": {},
   "source": [
    "Plot the data (by navigating the patterns in a mean intensity map) with `plot()`"
   ]
  },
  {
   "cell_type": "code",
   "execution_count": null,
   "id": "26cd3add",
   "metadata": {},
   "outputs": [],
   "source": [
    "s.plot()"
   ]
  },
  {
   "cell_type": "markdown",
   "id": "e237e4f7",
   "metadata": {},
   "source": [
    "Note that `kikuchipy` has a `kikuchipy.load()` function almost identical to `hyperspy.api.load()`, which can read several commercial EBSD formats. See the [IO user guide](../user_guide/load_save_data.ipynb) for more information."
   ]
  },
  {
   "cell_type": "markdown",
   "id": "7b11e36a-3bc6-481e-a6a8-23e6fb232694",
   "metadata": {},
   "source": [
    "## Pre-pattern-processing maps\n",
    "\n",
    "### Mean intensity in each pattern\n",
    "\n",
    "Get the map of the mean intensity in each pattern with `mean()`"
   ]
  },
  {
   "cell_type": "code",
   "execution_count": null,
   "id": "cabc49c8-fb34-4e64-9fd2-5b3b2c79d88c",
   "metadata": {},
   "outputs": [],
   "source": [
    "mean_intensity = s.mean(axis=(2, 3))\n",
    "mean_intensity"
   ]
  },
  {
   "cell_type": "markdown",
   "id": "1053ef15-f259-4264-8ee1-21513a10fd7b",
   "metadata": {},
   "source": [
    "Plot the mean intensity map"
   ]
  },
  {
   "cell_type": "code",
   "execution_count": null,
   "id": "4a9376ec",
   "metadata": {},
   "outputs": [],
   "source": [
    "mean_intensity.plot()"
   ]
  },
  {
   "cell_type": "markdown",
   "id": "3f0927f2-3a06-4b51-ae07-fac43bd749b7",
   "metadata": {},
   "source": [
    "### Virtual backscatter electron (VBSE) images\n",
    "\n",
    "Inspect angle resolved backscatter electron (BSE) images, typically called VBSE/vBSE/virtual diode imaging.\n",
    "\n",
    "Create a `VirtualBSEGenerator`"
   ]
  },
  {
   "cell_type": "code",
   "execution_count": null,
   "id": "367a3fcf-f180-4872-b054-a820e669131c",
   "metadata": {},
   "outputs": [],
   "source": [
    "vbse_gen = kp.generators.VirtualBSEGenerator(s)\n",
    "vbse_gen"
   ]
  },
  {
   "cell_type": "markdown",
   "id": "acde005d-6dce-417c-9948-b6c9f130de4b",
   "metadata": {},
   "source": [
    "#### One image per VBSE grid tile"
   ]
  },
  {
   "cell_type": "markdown",
   "id": "727b6e6c",
   "metadata": {},
   "source": [
    "Separate the EBSD detector (signal dimensions) into a (3 x 3) grid by setting `grid_shape`"
   ]
  },
  {
   "cell_type": "code",
   "execution_count": null,
   "id": "2bfbaf06-d150-41c3-8a19-5dce95cb0ede",
   "metadata": {},
   "outputs": [],
   "source": [
    "vbse_gen.grid_shape = (3, 3)"
   ]
  },
  {
   "cell_type": "markdown",
   "id": "6a1b028b",
   "metadata": {},
   "source": [
    "Plot the grid with `plot_grid()`"
   ]
  },
  {
   "cell_type": "code",
   "execution_count": null,
   "id": "71ff4960",
   "metadata": {},
   "outputs": [],
   "source": [
    "vbse_gen.plot_grid();"
   ]
  },
  {
   "cell_type": "markdown",
   "id": "81545ae3",
   "metadata": {},
   "source": [
    "Get one VBSE image from the intensity within each grid tile with `get_images_from_grid()`"
   ]
  },
  {
   "cell_type": "code",
   "execution_count": null,
   "id": "90157091-257f-4732-b9ed-e66b3f56f122",
   "metadata": {},
   "outputs": [],
   "source": [
    "vbse_imgs = vbse_gen.get_images_from_grid()\n",
    "vbse_imgs"
   ]
  },
  {
   "cell_type": "markdown",
   "id": "00e68f5e",
   "metadata": {},
   "source": [
    "Plot the images (one by one)"
   ]
  },
  {
   "cell_type": "code",
   "execution_count": null,
   "id": "cf7ca51d",
   "metadata": {},
   "outputs": [],
   "source": [
    "vbse_imgs.plot()"
   ]
  },
  {
   "cell_type": "markdown",
   "id": "5dc4f0f4",
   "metadata": {},
   "source": [
    "Strech the image contrast in each VBSE image by setting the darkest intensities to 0 and the highest intensities to 255 within the 0.5% percentiles, using `rescale_intensity()`"
   ]
  },
  {
   "cell_type": "code",
   "execution_count": null,
   "id": "19d684a3",
   "metadata": {},
   "outputs": [],
   "source": [
    "vbse_imgs.rescale_intensity(percentiles=(0.5, 99.5))"
   ]
  },
  {
   "cell_type": "markdown",
   "id": "f868634f",
   "metadata": {},
   "source": [
    "Replot the images after intensity rescaling in a nice image grid using HyperSpy's `plot_images()`"
   ]
  },
  {
   "cell_type": "code",
   "execution_count": null,
   "id": "ef6da9e5",
   "metadata": {},
   "outputs": [],
   "source": [
    "fig = plt.figure(figsize=(10, 10))\n",
    "hs.plot.plot_images(vbse_imgs, fig=fig);"
   ]
  },
  {
   "cell_type": "markdown",
   "id": "2bbab314-0ec1-4f0c-9e3e-8564f75ba957",
   "metadata": {},
   "source": [
    "#### RGB image"
   ]
  },
  {
   "cell_type": "markdown",
   "id": "ced65a79",
   "metadata": {},
   "source": [
    "Separate the EBSD detector into a (5 x 5) grid"
   ]
  },
  {
   "cell_type": "code",
   "execution_count": null,
   "id": "930b87c9",
   "metadata": {},
   "outputs": [],
   "source": [
    "vbse_gen.grid_shape = (5, 5)"
   ]
  },
  {
   "cell_type": "markdown",
   "id": "b84bcdd1",
   "metadata": {},
   "source": [
    "Set some (can be more than one) of the grid tiles to be coloured red, green, or blue, and plot the color key"
   ]
  },
  {
   "cell_type": "code",
   "execution_count": null,
   "id": "b4804951",
   "metadata": {},
   "outputs": [],
   "source": [
    "rgb = [(2, 1), (2, 2), (2, 3)]\n",
    "vbse_gen.plot_grid(rgb_channels=rgb)"
   ]
  },
  {
   "cell_type": "markdown",
   "id": "b1c588f1",
   "metadata": {},
   "source": [
    "Create an RGB image from the specified grid tiles with `get_rgb_image()`"
   ]
  },
  {
   "cell_type": "code",
   "execution_count": null,
   "id": "8ab028fd-8400-4fba-afc2-f94883839d25",
   "metadata": {},
   "outputs": [],
   "source": [
    "vbse_rgb_img = vbse_gen.get_rgb_image(*rgb)\n",
    "vbse_rgb_img"
   ]
  },
  {
   "cell_type": "markdown",
   "id": "c05bc6cc",
   "metadata": {},
   "source": [
    "Plot the resulting image"
   ]
  },
  {
   "cell_type": "code",
   "execution_count": null,
   "id": "176a7524",
   "metadata": {
    "tags": [
     "nbsphinx-thumbnail"
    ]
   },
   "outputs": [],
   "source": [
    "vbse_rgb_img.plot()"
   ]
  },
  {
   "cell_type": "markdown",
   "id": "e63c3bcb-a5ba-434d-abda-7333b4b67671",
   "metadata": {},
   "source": [
    "## Process pattern intensities\n",
    "\n",
    "The raw EBSD signal can be empirically evaluated as a superposition of a Kikuchi diffraction pattern and a smooth background intensity. For pattern indexing, the latter intensity is usually undesirable, while for VBSE imaging, as we saw above, this intensity can reveal topographical, compositional or diffraction contrast.\n",
    "\n",
    "### Remove the static background\n",
    "\n",
    "Effects which are constant, like hot pixels or dirt on the detector, can be removed by either subtracting or dividing by a static background. Ideally, this background pattern has no signal of interest.\n",
    "\n",
    "A static background pattern was acquired with the Nickel EBSD data set, which was loaded with the data set into the signal metadata.\n",
    "\n",
    "Retrieve this background from the `metadata` and plot it"
   ]
  },
  {
   "cell_type": "code",
   "execution_count": null,
   "id": "77f55501",
   "metadata": {},
   "outputs": [],
   "source": [
    "bg = s.static_background\n",
    "\n",
    "fig, ax = plt.subplots()\n",
    "ax.imshow(bg, cmap=\"gray\");"
   ]
  },
  {
   "cell_type": "markdown",
   "id": "b41f5b66",
   "metadata": {},
   "source": [
    "If one is not available, we can try to generate a suitable static background by averaging all patterns (and reverting the data type to 8-bit unsigned integers)"
   ]
  },
  {
   "cell_type": "code",
   "execution_count": null,
   "id": "e41d1dc3",
   "metadata": {},
   "outputs": [],
   "source": [
    "bg2 = s.mean(axis=(0, 1))\n",
    "bg2.change_dtype(s.data.dtype)"
   ]
  },
  {
   "cell_type": "markdown",
   "id": "e0253a8c",
   "metadata": {},
   "source": [
    "Compare it to the background from the metadata by plotting it"
   ]
  },
  {
   "cell_type": "code",
   "execution_count": null,
   "id": "076ef482",
   "metadata": {},
   "outputs": [],
   "source": [
    "bg2.plot()"
   ]
  },
  {
   "cell_type": "markdown",
   "id": "2da01f66",
   "metadata": {},
   "source": [
    "Remove the static background with `remove_static_background()`"
   ]
  },
  {
   "cell_type": "code",
   "execution_count": null,
   "id": "97dae9df-1090-42aa-995d-e2eb96d0a4e6",
   "metadata": {},
   "outputs": [],
   "source": [
    "s.remove_static_background()"
   ]
  },
  {
   "cell_type": "markdown",
   "id": "2d239e33",
   "metadata": {},
   "source": [
    "### Remove the dynamic background\n",
    "\n",
    "Uneven intensity in a static background subtracted pattern can be corrected by subtracting or dividing by a dynamic background obtained by Gaussian blurring. A Gaussian window with a standard deviation set by `std` is used to blur each pattern individually (dynamic) either in the spatial or frequency domain. Blurring in the frequency domain is effectively accomplished by a low-pass Fast Fourier Transform (FFT) filter. The individual Gaussian blurred dynamic backgrounds are then subtracted or divided from the respective patterns.\n",
    "\n",
    "Remove the dynamic background with `remove_dynamic_background()`"
   ]
  },
  {
   "cell_type": "code",
   "execution_count": null,
   "id": "f2002bec-36a4-4ab3-b2f6-9f3f074ad7c3",
   "metadata": {},
   "outputs": [],
   "source": [
    "s.remove_dynamic_background()"
   ]
  },
  {
   "cell_type": "markdown",
   "id": "e835aba9",
   "metadata": {},
   "source": [
    "### Average neighbour patterns\n",
    "\n",
    "The signal-to-noise ratio in patterns can be improved by averaging patterns with their closest neighbours within a window/kernel/mask.\n",
    "\n",
    "Let's average with all eight nearest neighbours, but use Gaussian weights with a standard deviation of 1. Create the Gaussian `filters.Window` and plot it"
   ]
  },
  {
   "cell_type": "code",
   "execution_count": null,
   "id": "c3a6ebb6",
   "metadata": {},
   "outputs": [],
   "source": [
    "w = kp.filters.Window(window=\"gaussian\", std=1)\n",
    "w.plot()"
   ]
  },
  {
   "cell_type": "markdown",
   "id": "0d7e4ae0",
   "metadata": {},
   "source": [
    "Average all patterns with their neighbour patterns using the Gaussian window with `average_neighbour_patterns()`"
   ]
  },
  {
   "cell_type": "code",
   "execution_count": null,
   "id": "8696b773",
   "metadata": {},
   "outputs": [],
   "source": [
    "s.average_neighbour_patterns(window=w)"
   ]
  },
  {
   "cell_type": "markdown",
   "id": "84719e22",
   "metadata": {},
   "source": [
    "We can subsequently save these patterns to `kikuchipy`'s own h5ebsd specification <cite data-cite=\"jackson2014h5ebsd\">Jackson et al. (2014)</cite> for the general format). This format can be read back into kikuchipy, or as a file in the `EMEBSD` format in the powerful suite of [EMsoft](http://vbff.materials.cmu.edu/EMsoft/) command line programs."
   ]
  },
  {
   "cell_type": "code",
   "execution_count": null,
   "id": "359db6c5-f13b-4f6f-8491-c66fbb419c0f",
   "metadata": {},
   "outputs": [],
   "source": [
    "# s.save(\"pattern_static_dynamic_averaged.h5\")"
   ]
  },
  {
   "cell_type": "markdown",
   "id": "cb155960",
   "metadata": {},
   "source": [
    "Note that neighbour pattern averaging increases the virtual interaction volume of the electron beam with the sample, leading to a potential loss in spatial resolution. Averaging may in some cases, like on grain boundaries, mix two or more different diffraction patterns, which might be unwanted. See <cite data-cite=\"wright2015introduction\">Wright et al. (2015)</cite> for a discussion of this concern."
   ]
  },
  {
   "cell_type": "markdown",
   "id": "2f68fb74-ca38-43db-b1a8-a66901e1a0f8",
   "metadata": {},
   "source": [
    "## Pre-indexing maps\n",
    "\n",
    "The image quality metric *Q* presented by <cite data-cite=\"lassen1994automated\">Krieger Lassen (1994)</cite> relies on the assumption that the sharper the Kikuchi bands, the greater the high frequency content of the FFT power spectrum, and thus the closer *Q* will be to unity. It can from this be expected that grain interiors will show a high *Q*, while grain boundaries will show a lower *Q*.\n",
    "\n",
    "Get the image quality map with `get_image_quality()`"
   ]
  },
  {
   "cell_type": "code",
   "execution_count": null,
   "id": "2b6d302d-505a-4c8d-a0eb-e817a1f64d64",
   "metadata": {},
   "outputs": [],
   "source": [
    "iq = s.get_image_quality()"
   ]
  },
  {
   "cell_type": "markdown",
   "id": "d1946515",
   "metadata": {},
   "source": [
    "We can also produce a map showing how similar each pattern is to their four nearest neighbour (or any other number of neighbours specified by a binary mask). Get the average neighbour dot product map with `get_average_neighbour_dot_product_map()`"
   ]
  },
  {
   "cell_type": "code",
   "execution_count": null,
   "id": "22ed4662-0935-4d9c-b399-c4c1171077e9",
   "metadata": {},
   "outputs": [],
   "source": [
    "adp = s.get_average_neighbour_dot_product_map()"
   ]
  },
  {
   "cell_type": "markdown",
   "id": "be28d320",
   "metadata": {},
   "source": [
    "Let's plot them side by side with colorbars using `Matplotlib`"
   ]
  },
  {
   "cell_type": "code",
   "execution_count": null,
   "id": "c1455990",
   "metadata": {},
   "outputs": [],
   "source": [
    "fig, ax = plt.subplots(ncols=2, figsize=(9, 3))\n",
    "\n",
    "im0 = ax[0].imshow(iq)\n",
    "ax[0].axis(\"off\")\n",
    "fig.colorbar(im0, ax=ax[0], label=\"Image quality\")\n",
    "\n",
    "im1 = ax[1].imshow(adp)\n",
    "ax[1].axis(\"off\")\n",
    "fig.colorbar(im1, ax=ax[1], label=\"Ave. neighbour dot product\")\n",
    "\n",
    "fig.tight_layout();"
   ]
  },
  {
   "cell_type": "markdown",
   "id": "4a19c77d",
   "metadata": {},
   "source": [
    "## Dictionary indexing\n",
    "\n",
    "Now we're ready to set up and run dictionary indexing of the background corrected and averaged patterns.\n",
    "\n",
    "### Load master pattern\n",
    "\n",
    "Before we can generate a dictionary of simulated patterns, we need a dynamically simulated master pattern containing all possible scattering vectors for a candidate phase. This can be simulated using `EMsoft` (<cite data-cite=\"callahan2013dynamical\">Callahan and De Graef [2013]</cite>) and subsequently imported into kikuchipy using `kikuchipy.load()`.\n",
    "\n",
    "For demonstration purposes, we've included small (401 x 401) master patterns of Nickel in the stereographic and Lambert (square) projections as part of the `kikuchipy.data` module. Load the 20 keV master pattern from the northern hemisphere in the Lambert projection"
   ]
  },
  {
   "cell_type": "code",
   "execution_count": null,
   "id": "bb04ea26",
   "metadata": {},
   "outputs": [],
   "source": [
    "mp = kp.data.nickel_ebsd_master_pattern_small(projection=\"lambert\", energy=20)\n",
    "mp"
   ]
  },
  {
   "cell_type": "markdown",
   "id": "aaf73c45",
   "metadata": {},
   "source": [
    "Plot the master pattern"
   ]
  },
  {
   "cell_type": "code",
   "execution_count": null,
   "id": "bfe245f9",
   "metadata": {},
   "outputs": [],
   "source": [
    "mp.plot()"
   ]
  },
  {
   "cell_type": "markdown",
   "id": "860c660c",
   "metadata": {},
   "source": [
    "Extract `phase` information loaded with the master pattern"
   ]
  },
  {
   "cell_type": "code",
   "execution_count": null,
   "id": "f534bf20",
   "metadata": {},
   "outputs": [],
   "source": [
    "phase = mp.phase\n",
    "phase"
   ]
  },
  {
   "cell_type": "markdown",
   "id": "00c0a2a4",
   "metadata": {},
   "source": [
    "Inspect it's crystal `structure` (list of asymmetric atom positions and a `structure.lattice`)"
   ]
  },
  {
   "cell_type": "code",
   "execution_count": null,
   "id": "c56a559a",
   "metadata": {},
   "outputs": [],
   "source": [
    "phase.structure"
   ]
  },
  {
   "cell_type": "code",
   "execution_count": null,
   "id": "525ec54e",
   "metadata": {},
   "outputs": [],
   "source": [
    "phase.structure.lattice"
   ]
  },
  {
   "cell_type": "markdown",
   "id": "17cbaa33",
   "metadata": {},
   "source": [
    "### Sample orientation space\n",
    "\n",
    "Here we produce a sampling of the Rodriguez Fundamental Zone (RFZ) of point group $m\\bar{3}m$ using a \"characteristic distance\" or \"resolution\" of 4$^{\\circ}$, as implemented in [orix](https://orix.readthedocs.io). This resolution is quite coarse, and used here because of time and memory constraints. We, and EMsoft (see the aforementioned tutorial article by Jackson et al.), suggest using a smaller resolution of about 1.5$^{\\circ}$ for experimental work.\n",
    "\n",
    "Sample the RFZ for the Ni phase space group with a resolution of 4$^{\\circ}$ using `orix.sampling.get_sample_fundamental()` and inspect the results"
   ]
  },
  {
   "cell_type": "code",
   "execution_count": null,
   "id": "cda85375",
   "metadata": {},
   "outputs": [],
   "source": [
    "rot = sampling.get_sample_fundamental(\n",
    "    method=\"cubochoric\", resolution=4, point_group=phase.point_group\n",
    ")\n",
    "rot"
   ]
  },
  {
   "cell_type": "markdown",
   "id": "cdc44937",
   "metadata": {},
   "source": [
    "### Define the sample-detector geometry\n",
    "\n",
    "Now that we have our master pattern and crystal orientations, we need to describe the EBSD detector’s position with respect to the sample. This ensures that projecting parts of the master pattern onto our detector yields dynamically simulated patterns presumably resembling our experimental ones. The average projection/pattern center (PC) for this experiment was determined by indexing five calibration patterns using the EDAX TSL Data Collection v7 software, and is ($x^*$, $y^*$, $z^*$) = (0.4210, 0.7794, 0.5049).\n",
    "\n",
    "Create the `detector.EBSDDetector` and inspect it"
   ]
  },
  {
   "cell_type": "code",
   "execution_count": null,
   "id": "89e5f7c3",
   "metadata": {},
   "outputs": [],
   "source": [
    "detector = kp.detectors.EBSDDetector(\n",
    "    shape=s.axes_manager.signal_shape[::-1],\n",
    "    sample_tilt=70,\n",
    "    pc=(0.421, 0.7794, 0.5049),\n",
    "    convention=\"tsl\",\n",
    ")\n",
    "detector"
   ]
  },
  {
   "cell_type": "markdown",
   "id": "48f939ea",
   "metadata": {},
   "source": [
    "Let's double check the projection/pattern center (PC) position on the detector by plotting it in gnomonic coordinates and showing the gnomonic circles at 10$^{\\circ}$ steps"
   ]
  },
  {
   "cell_type": "code",
   "execution_count": null,
   "id": "bb003466",
   "metadata": {},
   "outputs": [],
   "source": [
    "detector.plot(\n",
    "    coordinates=\"gnomonic\", pattern=s.inav[0, 0].data, draw_gnomonic_circles=True\n",
    ")"
   ]
  },
  {
   "cell_type": "markdown",
   "id": "40506d71",
   "metadata": {},
   "source": [
    "### Generate dictionary of simulated patterns\n",
    "\n",
    "Now we’re ready to generate our dictionary of simulated patterns by projecting parts of the master pattern onto our detector for all sampled orientations. The method assumes the crystal orientations are represented with respect to the EDAX TSL sample reference frame RD-TD-ND. For more details, see the [reference frame user guide](../user_guide/reference_frames.ipynb).\n",
    "\n",
    "So, generate a dictionary of simulated patterns using `MasterPattern.get_patterns()`"
   ]
  },
  {
   "cell_type": "code",
   "execution_count": null,
   "id": "c1429039",
   "metadata": {},
   "outputs": [],
   "source": [
    "dynsim = mp.get_patterns(\n",
    "    rotations=rot, detector=detector, energy=20, dtype_out=s.data.dtype, compute=True\n",
    ")\n",
    "dynsim"
   ]
  },
  {
   "cell_type": "markdown",
   "id": "f3a7351b",
   "metadata": {},
   "source": [
    "We've now generated the dictionary and read it into memory. We could instead have passed `compute=False`, which would have returned a `LazyEBSD` to be computed during the indexing run. This can sometimes be desirable.\n",
    "\n",
    "Let's inspect a few of the simulated patterns to ensure they look alright by plotting them"
   ]
  },
  {
   "cell_type": "code",
   "execution_count": null,
   "id": "ed08fb09",
   "metadata": {
    "tags": []
   },
   "outputs": [],
   "source": [
    "dynsim.plot()"
   ]
  },
  {
   "cell_type": "markdown",
   "id": "36a83e65",
   "metadata": {},
   "source": [
    "### Perform dictionary indexing\n",
    "\n",
    "Finally, let's match the simulated patterns to our experimental patterns, using the zero-mean normalized cross correlation (NCC) coefficient, which is the default similarity metric. We'll keep the 10 best matching orientations. A number of about 4125 * 12000 comparisons is quite small, which we can do in memory all at once. However, in cases where the number of comparisons are too big for our memory to handle, we can iterate over the dictionary to match only parts at a time. We'll use at least 20 iterations here.\n",
    "\n",
    "Let's perform `dictionary_indexing()`"
   ]
  },
  {
   "cell_type": "code",
   "execution_count": null,
   "id": "e6d66897",
   "metadata": {},
   "outputs": [],
   "source": [
    "xmap = s.dictionary_indexing(\n",
    "    dictionary=dynsim,\n",
    "    metric=\"ncc\",\n",
    "    keep_n=10,\n",
    "    n_per_iteration=dynsim.axes_manager.navigation_size // 20,\n",
    ")"
   ]
  },
  {
   "cell_type": "markdown",
   "id": "24b2a058",
   "metadata": {},
   "source": [
    "Inspect the returned [CrystalMap](https://orix.readthedocs.io/en/latest/reference.html#crystalmap)"
   ]
  },
  {
   "cell_type": "code",
   "execution_count": null,
   "id": "dc2730f2",
   "metadata": {},
   "outputs": [],
   "source": [
    "xmap"
   ]
  },
  {
   "cell_type": "markdown",
   "id": "7b08cfd7",
   "metadata": {},
   "source": [
    "We can write the indexing results to file using one of orix' writers. orix' own HDF5 file format stores all results to in HDF5 file, while the .ang file writer only stores the best matching orientation"
   ]
  },
  {
   "cell_type": "code",
   "execution_count": null,
   "id": "d2958cca",
   "metadata": {},
   "outputs": [],
   "source": [
    "# io.save(\"di_results_ni1.h5\", xmap)\n",
    "# io.save(\"di_results_ni1.ang\", xmap)"
   ]
  },
  {
   "cell_type": "markdown",
   "id": "cd3bb947",
   "metadata": {},
   "source": [
    "## Inspect indexing results\n",
    "\n",
    "### Indexing maps\n",
    "\n",
    "So far, orix cannot produce any orientation color maps, pole figures etc. This has to be done in other software, like [MTEX](https://mtex-toolbox.github.io/).\n",
    "\n",
    "Here, we'll inspect the map of best matching scores and a so-called orientation similarity map, which compares the best matching orientations for each pattern to it's nearest neighbours.\n",
    "\n",
    "Get the NCC map in the correct shape from the CrystalMap's `scores` property"
   ]
  },
  {
   "cell_type": "code",
   "execution_count": null,
   "id": "a8335823",
   "metadata": {},
   "outputs": [],
   "source": [
    "ncc_map = xmap.scores[:, 0].reshape(*xmap.shape)"
   ]
  },
  {
   "cell_type": "markdown",
   "id": "7360a9a2",
   "metadata": {},
   "source": [
    "Get the `indexing.orientation_similarity_map()` using the full list of 10 best matches per pattern/point"
   ]
  },
  {
   "cell_type": "code",
   "execution_count": null,
   "id": "1acd8946",
   "metadata": {},
   "outputs": [],
   "source": [
    "os_map = kp.indexing.orientation_similarity_map(xmap)"
   ]
  },
  {
   "cell_type": "markdown",
   "id": "3bc54078",
   "metadata": {},
   "source": [
    "Plot the maps using `Matplotlib`"
   ]
  },
  {
   "cell_type": "code",
   "execution_count": null,
   "id": "cf7a1909",
   "metadata": {
    "tags": []
   },
   "outputs": [],
   "source": [
    "fig, ax = plt.subplots(ncols=2, figsize=(9, 3))\n",
    "\n",
    "im0 = ax[0].imshow(ncc_map)\n",
    "ax[0].axis(\"off\")\n",
    "fig.colorbar(im0, ax=ax[0], label=\"NCC\")\n",
    "\n",
    "im1 = ax[1].imshow(os_map)\n",
    "ax[1].axis(\"off\")\n",
    "fig.colorbar(im1, ax=ax[1], label=\"Orientation similarity\")\n",
    "\n",
    "fig.tight_layout();"
   ]
  },
  {
   "cell_type": "markdown",
   "id": "35b75a76",
   "metadata": {},
   "source": [
    "### Compare to dynamical simulations\n",
    "\n",
    "We can visually compare the experimental and best matching pattern side by side. First, we extract the best matching indices into the dictionary from the CrystalMap property `simulation_indices`"
   ]
  },
  {
   "cell_type": "code",
   "execution_count": null,
   "id": "5ba2f9f4",
   "metadata": {},
   "outputs": [],
   "source": [
    "best_sim_idx = xmap.simulation_indices[:, 0]"
   ]
  },
  {
   "cell_type": "markdown",
   "id": "3d97da95",
   "metadata": {},
   "source": [
    "Then we extract the simulated patterns corresponding to the indices, reshape the array to the same shape as the experimental data, and create an EBSD signal from it"
   ]
  },
  {
   "cell_type": "code",
   "execution_count": null,
   "id": "1322f22e",
   "metadata": {},
   "outputs": [],
   "source": [
    "best_patterns = dynsim.data[best_sim_idx].reshape(s.data.shape)\n",
    "s_best = kp.signals.EBSD(best_patterns)\n",
    "s_best"
   ]
  },
  {
   "cell_type": "markdown",
   "id": "e383e0d6",
   "metadata": {},
   "source": [
    "Plot the experimental and simulated patterns (this is not easily done via Binder...) side by side using HyperSpy's `plot_signals()`, navigating in the NCC map"
   ]
  },
  {
   "cell_type": "code",
   "execution_count": null,
   "id": "f9c863ef",
   "metadata": {},
   "outputs": [],
   "source": [
    "ncc_navigator = hs.signals.Signal2D(ncc_map)\n",
    "hs.plot.plot_signals([s, s_best], navigator=ncc_navigator)"
   ]
  },
  {
   "cell_type": "markdown",
   "id": "267ef391",
   "metadata": {},
   "source": [
    "### Compare to geometrical simulations\n",
    "\n",
    "We can can also add bands and zone axes from the best matching orientations as markers to the experimental EBSD data. The simulations are based on the work by Aimo Winkelmann in the supplementary material to the excellent tutorial paper by <cite data-cite=\"britton2016tutorial\">Britton et al. (2016)</cite>. See also the [geometrical EBSD simulations user guide](../user_guide/kikuchi_pattern_simulations.ipynb#geometrical-simulations) for more information than is given here.\n",
    "\n",
    "First, we set up the relevant reflectors (the zone axes follows from these), namely $(hkl)$ = (111), (200), (220), and (311), using [diffsims'](https://diffsims.readthedocs.io) `ReciprocalLatticeVector`"
   ]
  },
  {
   "cell_type": "code",
   "execution_count": null,
   "id": "de798990",
   "metadata": {},
   "outputs": [],
   "source": [
    "ref = ReciprocalLatticeVector(\n",
    "    phase=phase, hkl=[[1, 1, 1], [2, 0, 0], [2, 2, 0], [3, 1, 1]]\n",
    ")\n",
    "ref"
   ]
  },
  {
   "cell_type": "markdown",
   "id": "c72f158a",
   "metadata": {},
   "source": [
    "Get the symmetrically equivalent bands using `symmetrise()`"
   ]
  },
  {
   "cell_type": "code",
   "execution_count": null,
   "id": "fd8882c3",
   "metadata": {},
   "outputs": [],
   "source": [
    "ref2 = ref.symmetrise()"
   ]
  },
  {
   "cell_type": "markdown",
   "id": "82bc1380",
   "metadata": {},
   "source": [
    "Create a `KikuchiPatternSimulator` (remember to reshape the best matching rotations array to the experimental data shape!)"
   ]
  },
  {
   "cell_type": "code",
   "execution_count": null,
   "id": "c4fbfd41",
   "metadata": {},
   "outputs": [],
   "source": [
    "simulator = kp.simulations.KikuchiPatternSimulator(ref2)\n",
    "simulator.reflectors.size"
   ]
  },
  {
   "cell_type": "markdown",
   "id": "99e3bcc7",
   "metadata": {},
   "source": [
    "Generate bands and zone axes visible on the detector for the best matching orientations using `on_detector()`"
   ]
  },
  {
   "cell_type": "code",
   "execution_count": null,
   "id": "1f5dcbf3",
   "metadata": {},
   "outputs": [],
   "source": [
    "sim = simulator.on_detector(detector, xmap.rotations[:, 0].reshape(*xmap.shape))\n",
    "sim"
   ]
  },
  {
   "cell_type": "markdown",
   "id": "41b4af94",
   "metadata": {},
   "source": [
    "Use `as_markers()` to make HyperSpy markers from the geometrical simulations and add them to the experimental patterns with `add_marker()`"
   ]
  },
  {
   "cell_type": "code",
   "execution_count": null,
   "id": "d3d953dd",
   "metadata": {},
   "outputs": [],
   "source": [
    "markers = sim.as_markers(zone_axes_labels=True)\n",
    "# del s.metadata.Markers\n",
    "s.add_marker(markers, plot_marker=False, permanent=True)"
   ]
  },
  {
   "cell_type": "markdown",
   "id": "61de2dd0",
   "metadata": {},
   "source": [
    "Plot the experimental data, navigating in the NCC map"
   ]
  },
  {
   "cell_type": "code",
   "execution_count": null,
   "id": "36f730eb",
   "metadata": {
    "tags": []
   },
   "outputs": [],
   "source": [
    "s.plot(navigator=ncc_navigator)"
   ]
  }
 ],
 "metadata": {
  "kernelspec": {
   "display_name": "Python 3 (ipykernel)",
   "language": "python",
   "name": "python3"
  },
  "language_info": {
   "codemirror_mode": {
    "name": "ipython",
    "version": 3
   },
   "file_extension": ".py",
   "mimetype": "text/x-python",
   "name": "python",
   "nbconvert_exporter": "python",
   "pygments_lexer": "ipython3",
   "version": "3.9.13"
  }
 },
 "nbformat": 4,
 "nbformat_minor": 5
}
