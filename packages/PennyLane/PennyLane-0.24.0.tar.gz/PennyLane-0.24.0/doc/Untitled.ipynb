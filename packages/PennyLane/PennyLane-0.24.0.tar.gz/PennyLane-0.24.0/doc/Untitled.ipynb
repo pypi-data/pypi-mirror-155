{
 "cells": [
  {
   "cell_type": "code",
   "execution_count": 18,
   "metadata": {},
   "outputs": [],
   "source": [
    "import os\n",
    "\n",
    "path = os.path.join(\"..\", \"pennylane\", \"_version.py\")\n",
    "with open(path, 'r', encoding=\"utf8\") as f:\n",
    "    lines = f.readlines()\n",
    "    \n",
    "line_with_version = lines[-1]\n",
    "version = line_with_version.split('\"')[-2] # last but one is the version, assuming that the last is a newline character\n",
    "\n",
    "import pennylane\n",
    "\n",
    "assert version == pennylane.__version__"
   ]
  },
  {
   "cell_type": "code",
   "execution_count": 14,
   "metadata": {},
   "outputs": [
    {
     "name": "stdout",
     "output_type": "stream",
     "text": [
      "0.23.0-dev\n"
     ]
    }
   ],
   "source": [
    "import pennylane\n",
    "\n",
    "print(pennylane.__version__)"
   ]
  },
  {
   "cell_type": "code",
   "execution_count": null,
   "metadata": {},
   "outputs": [],
   "source": []
  }
 ],
 "metadata": {
  "kernelspec": {
   "display_name": "Python 3",
   "language": "python",
   "name": "python3"
  },
  "language_info": {
   "codemirror_mode": {
    "name": "ipython",
    "version": 3
   },
   "file_extension": ".py",
   "mimetype": "text/x-python",
   "name": "python",
   "nbconvert_exporter": "python",
   "pygments_lexer": "ipython3",
   "version": "3.8.5"
  }
 },
 "nbformat": 4,
 "nbformat_minor": 4
}
