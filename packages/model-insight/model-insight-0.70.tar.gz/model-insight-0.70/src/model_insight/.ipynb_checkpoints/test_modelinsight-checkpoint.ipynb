{
 "cells": [
  {
   "cell_type": "code",
   "execution_count": 1,
   "metadata": {
    "ExecuteTime": {
     "end_time": "2022-04-18T09:23:51.920860Z",
     "start_time": "2022-04-18T09:23:51.204087Z"
    }
   },
   "outputs": [],
   "source": [
    "import pandas as pd\n",
    "import numpy as np\n",
    "import matplotlib.pyplot as plt\n",
    "from scipy.optimize import curve_fit\n",
    "%matplotlib inline\n",
    "import warnings\n",
    "warnings.filterwarnings('ignore')"
   ]
  },
  {
   "cell_type": "markdown",
   "metadata": {},
   "source": [
    "# load_datasets"
   ]
  },
  {
   "cell_type": "markdown",
   "metadata": {},
   "source": [
    "## package"
   ]
  },
  {
   "cell_type": "code",
   "execution_count": 2,
   "metadata": {
    "ExecuteTime": {
     "end_time": "2022-04-18T09:22:31.938612Z",
     "start_time": "2022-04-18T09:22:31.554821Z"
    }
   },
   "outputs": [],
   "source": [
    "from model_insight.load_datasets import load_population"
   ]
  },
  {
   "cell_type": "code",
   "execution_count": 3,
   "metadata": {
    "ExecuteTime": {
     "end_time": "2022-04-18T09:22:32.553585Z",
     "start_time": "2022-04-18T09:22:32.509707Z"
    }
   },
   "outputs": [
    {
     "data": {
      "text/html": [
       "<div>\n",
       "<style scoped>\n",
       "    .dataframe tbody tr th:only-of-type {\n",
       "        vertical-align: middle;\n",
       "    }\n",
       "\n",
       "    .dataframe tbody tr th {\n",
       "        vertical-align: top;\n",
       "    }\n",
       "\n",
       "    .dataframe thead th {\n",
       "        text-align: right;\n",
       "    }\n",
       "</style>\n",
       "<table border=\"1\" class=\"dataframe\">\n",
       "  <thead>\n",
       "    <tr style=\"text-align: right;\">\n",
       "      <th></th>\n",
       "      <th>0</th>\n",
       "      <th>1</th>\n",
       "      <th>2</th>\n",
       "      <th>3</th>\n",
       "      <th>4</th>\n",
       "      <th>5</th>\n",
       "      <th>6</th>\n",
       "      <th>7</th>\n",
       "      <th>8</th>\n",
       "      <th>9</th>\n",
       "      <th>...</th>\n",
       "      <th>12</th>\n",
       "      <th>13</th>\n",
       "      <th>14</th>\n",
       "      <th>15</th>\n",
       "      <th>16</th>\n",
       "      <th>17</th>\n",
       "      <th>18</th>\n",
       "      <th>19</th>\n",
       "      <th>20</th>\n",
       "      <th>21</th>\n",
       "    </tr>\n",
       "  </thead>\n",
       "  <tbody>\n",
       "    <tr>\n",
       "      <th>年份</th>\n",
       "      <td>1790.0</td>\n",
       "      <td>1800.0</td>\n",
       "      <td>1810.0</td>\n",
       "      <td>1820.0</td>\n",
       "      <td>1830.0</td>\n",
       "      <td>1840.0</td>\n",
       "      <td>1850.0</td>\n",
       "      <td>1860.0</td>\n",
       "      <td>1870.0</td>\n",
       "      <td>1880.0</td>\n",
       "      <td>...</td>\n",
       "      <td>1910.0</td>\n",
       "      <td>1920.0</td>\n",
       "      <td>1930.0</td>\n",
       "      <td>1940.0</td>\n",
       "      <td>1950.0</td>\n",
       "      <td>1960.0</td>\n",
       "      <td>1970.0</td>\n",
       "      <td>1980.0</td>\n",
       "      <td>1990.0</td>\n",
       "      <td>2000.0</td>\n",
       "    </tr>\n",
       "    <tr>\n",
       "      <th>人口</th>\n",
       "      <td>3.9</td>\n",
       "      <td>5.3</td>\n",
       "      <td>7.2</td>\n",
       "      <td>9.6</td>\n",
       "      <td>12.9</td>\n",
       "      <td>17.1</td>\n",
       "      <td>23.2</td>\n",
       "      <td>31.4</td>\n",
       "      <td>38.6</td>\n",
       "      <td>50.2</td>\n",
       "      <td>...</td>\n",
       "      <td>92.0</td>\n",
       "      <td>106.5</td>\n",
       "      <td>123.2</td>\n",
       "      <td>131.7</td>\n",
       "      <td>150.7</td>\n",
       "      <td>179.3</td>\n",
       "      <td>204.0</td>\n",
       "      <td>226.5</td>\n",
       "      <td>251.4</td>\n",
       "      <td>281.4</td>\n",
       "    </tr>\n",
       "  </tbody>\n",
       "</table>\n",
       "<p>2 rows × 22 columns</p>\n",
       "</div>"
      ],
      "text/plain": [
       "        0       1       2       3       4       5       6       7       8   \\\n",
       "年份  1790.0  1800.0  1810.0  1820.0  1830.0  1840.0  1850.0  1860.0  1870.0   \n",
       "人口     3.9     5.3     7.2     9.6    12.9    17.1    23.2    31.4    38.6   \n",
       "\n",
       "        9   ...      12      13      14      15      16      17      18  \\\n",
       "年份  1880.0  ...  1910.0  1920.0  1930.0  1940.0  1950.0  1960.0  1970.0   \n",
       "人口    50.2  ...    92.0   106.5   123.2   131.7   150.7   179.3   204.0   \n",
       "\n",
       "        19      20      21  \n",
       "年份  1980.0  1990.0  2000.0  \n",
       "人口   226.5   251.4   281.4  \n",
       "\n",
       "[2 rows x 22 columns]"
      ]
     },
     "execution_count": 3,
     "metadata": {},
     "output_type": "execute_result"
    }
   ],
   "source": [
    "population = load_population()\n",
    "population.T"
   ]
  },
  {
   "cell_type": "code",
   "execution_count": 4,
   "metadata": {
    "ExecuteTime": {
     "end_time": "2022-04-18T09:22:33.229856Z",
     "start_time": "2022-04-18T09:22:33.217888Z"
    }
   },
   "outputs": [
    {
     "data": {
      "text/plain": [
       "'\\nfrom change_functions import pop_estimate_coef\\n\\npop_estimate_coef(pop,year)\\n'"
      ]
     },
     "execution_count": 4,
     "metadata": {},
     "output_type": "execute_result"
    }
   ],
   "source": [
    "pop1 = population['人口']\n",
    "year1 = population['年份']\n",
    "'''\n",
    "from change_functions import pop_estimate_coef\n",
    "\n",
    "pop_estimate_coef(pop,year)\n",
    "'''"
   ]
  },
  {
   "cell_type": "code",
   "execution_count": null,
   "metadata": {
    "ExecuteTime": {
     "start_time": "2022-04-18T09:22:34.033Z"
    }
   },
   "outputs": [],
   "source": [
    "from change_functions import pop_estimate_coef\n",
    "pop_estimate_coef(pop1,year1)"
   ]
  },
  {
   "cell_type": "code",
   "execution_count": null,
   "metadata": {
    "ExecuteTime": {
     "start_time": "2022-04-18T08:52:36.290Z"
    }
   },
   "outputs": [],
   "source": [
    "#from model_insight.change_functions import pop_estimate_coef\n",
    "pop_estimate_coef(pop,year,function_type='logistic')"
   ]
  },
  {
   "cell_type": "markdown",
   "metadata": {},
   "source": [
    "## test"
   ]
  },
  {
   "cell_type": "code",
   "execution_count": 3,
   "metadata": {
    "ExecuteTime": {
     "end_time": "2022-04-18T09:24:10.782561Z",
     "start_time": "2022-04-18T09:24:10.758081Z"
    }
   },
   "outputs": [
    {
     "name": "stdout",
     "output_type": "stream",
     "text": [
      "The nature growth rate is  1.0000000001079141\n",
      "The initial population is  -1.5646196592963485e-15\n"
     ]
    },
    {
     "data": {
      "text/plain": [
       "{'r': 1.0000000001079141,\n",
       " 'x_0': -1.5646196592963485e-15,\n",
       " 'x_m': nan,\n",
       " 'model_expression': '-1.5646196592963485e-15*e^1.0000000001079141x'}"
      ]
     },
     "execution_count": 3,
     "metadata": {},
     "output_type": "execute_result"
    }
   ],
   "source": [
    "year = [i for i in range(1790,2010,10)]\n",
    "population = [3.9,5.3,7.2,9.6,12.9,17.1,23.2,31.4,38.6,50.2,62.9,76,92,106.5,123.2,131.7,150.7,179.3,204,226.5,251.4,281.4]\n",
    "\n",
    "def pop_estimate_coef(population,year,function_type='exponential'):\n",
    "    \"\"\"Calculate the coeficient(s) of a given type of growth model\n",
    "\n",
    "    Parameters\n",
    "    ----------\n",
    "    population : a array or list type of data\n",
    "    year            : year list.The default year list is range(len(population_list))\n",
    "    function_type   : the type of grown mode\n",
    "        - 'exponential' : the exponential growth mode and its function is $x(t) = x_0 * e^{rt}$\n",
    "        - 'logistic'    : the logistic growth mode and its funciton si $x(t) = \\frac{x_m}{1+(\\frac{x_m}{x_0})*e^{-rt}}$\n",
    "        \n",
    "    Yields\n",
    "    ------\n",
    "    coefs : the dict of coeficients in the given function\n",
    "        - 'r'  : the nature growth rate\n",
    "        - 'x_0'  : the initial population\n",
    "        = 'x_m': the environmental carrying capacity\n",
    "\n",
    "    \"\"\"\n",
    "\n",
    "    # convert population_list and year list to array type    \n",
    "    population = np.array(population).flatten()\n",
    "    year = np.array(year)    \n",
    "    \n",
    "    def logis_func(t,r,x0,xm):\n",
    "        a1 = xm/x0 - 1\n",
    "        a2 = np.e**(-r*(t-year[0]))\n",
    "        return xm/(1+a1*a2)\n",
    "    \n",
    "    def exp_func(t,r,x0):\n",
    "        return x0*np.e**(r*(t-year[0]))\n",
    "    \n",
    "    coefs = {'r':np.nan,'x_0':np.nan,'x_m':np.nan,'model_expression':np.nan}\n",
    "    \n",
    "    if function_type.lower() == 'exponential':\n",
    "        pFit,pCov = curve_fit(exp_func,year,population)\n",
    "        r = pFit[0]\n",
    "        x0 = pFit[1]\n",
    "        coefs['r'] = r\n",
    "        coefs['x_0'] = x0\n",
    "        coefs['model_expression'] = f'{x0}*e^{r}x'\n",
    "        print('The nature growth rate is ',r)\n",
    "        print('The initial population is ',x0)\n",
    "        return coefs\n",
    "    else: \n",
    "        pFit,pCov = curve_fit(logis_func,year,population,p0=np.ones(3))\n",
    "        r = pFit[0]\n",
    "        x0 = pFit[1]\n",
    "        xm = pFit[2]\n",
    "        coefs['r'] = r\n",
    "        coefs['x_0'] = x0\n",
    "        coefs['x_m'] = xm\n",
    "        coefs['model_expression'] = f'{xm}/(1+{xm/x0}*e^{r}x'\n",
    "        print('The nature growth rate is ',r)\n",
    "        print('The initial population is ',x0)\n",
    "        print('The environmental carrying capacity is ',xm)\n",
    "        return coefs\n",
    "\n",
    "pop_estimate_coef(population,year,function_type='exponential')"
   ]
  },
  {
   "cell_type": "code",
   "execution_count": 11,
   "metadata": {
    "ExecuteTime": {
     "end_time": "2022-04-18T09:02:00.077625Z",
     "start_time": "2022-04-18T09:01:59.988791Z"
    }
   },
   "outputs": [
    {
     "data": {
      "text/plain": [
       "array([4.46573583e+02, 7.69813337e+00, 2.15472736e-02])"
      ]
     },
     "execution_count": 11,
     "metadata": {},
     "output_type": "execute_result"
    }
   ],
   "source": [
    "test(pop1,year1)"
   ]
  },
  {
   "cell_type": "markdown",
   "metadata": {},
   "source": [
    "# change_functions"
   ]
  },
  {
   "cell_type": "code",
   "execution_count": null,
   "metadata": {},
   "outputs": [],
   "source": []
  },
  {
   "cell_type": "code",
   "execution_count": 2,
   "metadata": {
    "ExecuteTime": {
     "end_time": "2022-04-18T09:00:21.002201Z",
     "start_time": "2022-04-18T09:00:20.995219Z"
    }
   },
   "outputs": [],
   "source": [
    "year = [i for i in range(1790,2010,10)]\n",
    "population = [3.9,5.3,7.2,9.6,12.9,17.1,23.2,31.4,38.6,50.2,62.9,76,92,106.5,123.2,131.7,150.7,179.3,204,226.5,251.4,281.4]\n",
    "\n",
    "def logistic(t,xm,x0,r):\n",
    "    return xm * (1 + (xm/x0 -1)*np.exp(- r * (t-1790) ))**(-1)\n",
    "from scipy.optimize import curve_fit \n",
    "#popt1, pcov1 = curve_fit(logistic, year, population,p0 = [1,0,0]) \n",
    "#popt1, pcov1 = curve_fit(logistic, year, population,p0 = [1,1,1]) "
   ]
  },
  {
   "cell_type": "code",
   "execution_count": 3,
   "metadata": {
    "ExecuteTime": {
     "end_time": "2022-04-18T09:00:23.010634Z",
     "start_time": "2022-04-18T09:00:22.994668Z"
    }
   },
   "outputs": [
    {
     "data": {
      "text/plain": [
       "(array([4.46573583e+02, 7.69813337e+00, 2.15472736e-02]),\n",
       " array([[ 1.29854718e+03,  2.46714931e+01, -3.31370521e-02],\n",
       "        [ 2.46714931e+01,  7.26874084e-01, -8.29010318e-04],\n",
       "        [-3.31370521e-02, -8.29010318e-04,  1.00760204e-06]]))"
      ]
     },
     "execution_count": 3,
     "metadata": {},
     "output_type": "execute_result"
    }
   ],
   "source": [
    "curve_fit(logistic, year, population,p0 = [1,1,1]) "
   ]
  },
  {
   "cell_type": "code",
   "execution_count": 5,
   "metadata": {
    "ExecuteTime": {
     "end_time": "2022-04-18T08:59:35.481815Z",
     "start_time": "2022-04-18T08:59:34.980892Z"
    }
   },
   "outputs": [
    {
     "ename": "NameError",
     "evalue": "name 'popt1' is not defined",
     "output_type": "error",
     "traceback": [
      "\u001b[1;31m---------------------------------------------------------------------------\u001b[0m",
      "\u001b[1;31mNameError\u001b[0m                                 Traceback (most recent call last)",
      "\u001b[1;32m<ipython-input-5-a894107f0453>\u001b[0m in \u001b[0;36m<module>\u001b[1;34m\u001b[0m\n\u001b[1;32m----> 1\u001b[1;33m \u001b[0mpopt1\u001b[0m\u001b[1;33m\u001b[0m\u001b[1;33m\u001b[0m\u001b[0m\n\u001b[0m",
      "\u001b[1;31mNameError\u001b[0m: name 'popt1' is not defined"
     ]
    }
   ],
   "source": [
    "popt1"
   ]
  },
  {
   "cell_type": "code",
   "execution_count": null,
   "metadata": {},
   "outputs": [],
   "source": []
  },
  {
   "cell_type": "code",
   "execution_count": null,
   "metadata": {
    "ExecuteTime": {
     "start_time": "2022-04-18T08:46:11.331Z"
    }
   },
   "outputs": [],
   "source": [
    "pop_estimate_coef(pop,year,function_type='logistic')"
   ]
  },
  {
   "cell_type": "markdown",
   "metadata": {},
   "source": [
    "# mcdm_functions"
   ]
  },
  {
   "cell_type": "code",
   "execution_count": null,
   "metadata": {},
   "outputs": [],
   "source": [
    "from model"
   ]
  },
  {
   "cell_type": "code",
   "execution_count": null,
   "metadata": {},
   "outputs": [],
   "source": []
  },
  {
   "cell_type": "code",
   "execution_count": null,
   "metadata": {},
   "outputs": [],
   "source": []
  },
  {
   "cell_type": "code",
   "execution_count": null,
   "metadata": {},
   "outputs": [],
   "source": []
  },
  {
   "cell_type": "markdown",
   "metadata": {},
   "source": [
    "# optimization_functions"
   ]
  },
  {
   "cell_type": "code",
   "execution_count": null,
   "metadata": {},
   "outputs": [],
   "source": []
  },
  {
   "cell_type": "code",
   "execution_count": null,
   "metadata": {},
   "outputs": [],
   "source": []
  },
  {
   "cell_type": "code",
   "execution_count": null,
   "metadata": {},
   "outputs": [],
   "source": []
  },
  {
   "cell_type": "code",
   "execution_count": null,
   "metadata": {},
   "outputs": [],
   "source": []
  },
  {
   "cell_type": "code",
   "execution_count": null,
   "metadata": {},
   "outputs": [],
   "source": []
  },
  {
   "cell_type": "markdown",
   "metadata": {},
   "source": [
    "# prediction_functions"
   ]
  },
  {
   "cell_type": "code",
   "execution_count": null,
   "metadata": {},
   "outputs": [],
   "source": []
  },
  {
   "cell_type": "code",
   "execution_count": null,
   "metadata": {},
   "outputs": [],
   "source": []
  },
  {
   "cell_type": "code",
   "execution_count": null,
   "metadata": {},
   "outputs": [],
   "source": []
  },
  {
   "cell_type": "code",
   "execution_count": null,
   "metadata": {},
   "outputs": [],
   "source": []
  },
  {
   "cell_type": "markdown",
   "metadata": {},
   "source": [
    "# explaination_functions"
   ]
  },
  {
   "cell_type": "code",
   "execution_count": null,
   "metadata": {},
   "outputs": [],
   "source": []
  },
  {
   "cell_type": "code",
   "execution_count": null,
   "metadata": {},
   "outputs": [],
   "source": []
  },
  {
   "cell_type": "code",
   "execution_count": null,
   "metadata": {},
   "outputs": [],
   "source": []
  },
  {
   "cell_type": "code",
   "execution_count": null,
   "metadata": {},
   "outputs": [],
   "source": []
  },
  {
   "cell_type": "markdown",
   "metadata": {},
   "source": [
    "# simulation_functions"
   ]
  },
  {
   "cell_type": "code",
   "execution_count": null,
   "metadata": {},
   "outputs": [],
   "source": []
  }
 ],
 "metadata": {
  "kernelspec": {
   "display_name": "Python 3",
   "language": "python",
   "name": "python3"
  },
  "language_info": {
   "codemirror_mode": {
    "name": "ipython",
    "version": 3
   },
   "file_extension": ".py",
   "mimetype": "text/x-python",
   "name": "python",
   "nbconvert_exporter": "python",
   "pygments_lexer": "ipython3",
   "version": "3.8.5"
  },
  "toc": {
   "base_numbering": 1,
   "nav_menu": {},
   "number_sections": true,
   "sideBar": true,
   "skip_h1_title": false,
   "title_cell": "Table of Contents",
   "title_sidebar": "Contents",
   "toc_cell": false,
   "toc_position": {
    "height": "calc(100% - 180px)",
    "left": "10px",
    "top": "150px",
    "width": "165px"
   },
   "toc_section_display": true,
   "toc_window_display": true
  },
  "varInspector": {
   "cols": {
    "lenName": 16,
    "lenType": 16,
    "lenVar": 40
   },
   "kernels_config": {
    "python": {
     "delete_cmd_postfix": "",
     "delete_cmd_prefix": "del ",
     "library": "var_list.py",
     "varRefreshCmd": "print(var_dic_list())"
    },
    "r": {
     "delete_cmd_postfix": ") ",
     "delete_cmd_prefix": "rm(",
     "library": "var_list.r",
     "varRefreshCmd": "cat(var_dic_list()) "
    }
   },
   "types_to_exclude": [
    "module",
    "function",
    "builtin_function_or_method",
    "instance",
    "_Feature"
   ],
   "window_display": false
  }
 },
 "nbformat": 4,
 "nbformat_minor": 4
}
