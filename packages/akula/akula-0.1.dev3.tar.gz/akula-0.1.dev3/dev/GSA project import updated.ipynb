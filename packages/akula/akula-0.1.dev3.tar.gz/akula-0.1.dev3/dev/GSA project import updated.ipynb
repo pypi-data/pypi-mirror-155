{
 "cells": [
  {
   "cell_type": "code",
   "execution_count": 9,
   "id": "b155e53b-688d-40f2-8bb2-4e58e55c0925",
   "metadata": {},
   "outputs": [],
   "source": [
    "import bw2data as bd\n",
    "import bw2io as bi\n",
    "from pathlib import Path"
   ]
  },
  {
   "cell_type": "code",
   "execution_count": 5,
   "id": "86670e96-1fe6-4d86-bf26-e2d5c9ef9c07",
   "metadata": {},
   "outputs": [],
   "source": [
    "DELETE_EXISTING = False"
   ]
  },
  {
   "cell_type": "code",
   "execution_count": 7,
   "id": "ecb6c9ff-b1ac-484c-b418-c468fe561927",
   "metadata": {},
   "outputs": [],
   "source": [
    "if DELETE_EXISTING:\n",
    "    bd.projects.delete_project(\"GSA\", True)"
   ]
  },
  {
   "cell_type": "code",
   "execution_count": 10,
   "id": "e14a9421-5797-4f32-aea1-ac4f7feb89e9",
   "metadata": {},
   "outputs": [],
   "source": [
    "ARCHIVE_DIRPATH = \"/Users/cmutel/Downloads/bw_projects\"\n",
    "ARCHIVE_FILENAME = \"brightway2-project-GSA for archetypes-backup.23-November-2021-04-47PM.tar.gz\""
   ]
  },
  {
   "cell_type": "code",
   "execution_count": 11,
   "id": "7474f473-033b-4b09-8c53-71316f38ddb2",
   "metadata": {},
   "outputs": [
    {
     "name": "stdout",
     "output_type": "stream",
     "text": [
      "Restoring project backup archive - this could take a few minutes...\n"
     ]
    },
    {
     "data": {
      "text/plain": [
       "'GSA for archetypes'"
      ]
     },
     "execution_count": 11,
     "metadata": {},
     "output_type": "execute_result"
    }
   ],
   "source": [
    "dp = Path(ARCHIVE_DIRPATH)\n",
    "assert dp.is_dir()\n",
    "fp = dp / ARCHIVE_FILENAME\n",
    "assert fp.is_file()\n",
    "\n",
    "bi.restore_project_directory(fp)"
   ]
  }
 ],
 "metadata": {
  "kernelspec": {
   "display_name": "Python 3 (ipykernel)",
   "language": "python",
   "name": "python3"
  },
  "language_info": {
   "codemirror_mode": {
    "name": "ipython",
    "version": 3
   },
   "file_extension": ".py",
   "mimetype": "text/x-python",
   "name": "python",
   "nbconvert_exporter": "python",
   "pygments_lexer": "ipython3",
   "version": "3.9.8"
  }
 },
 "nbformat": 4,
 "nbformat_minor": 5
}
