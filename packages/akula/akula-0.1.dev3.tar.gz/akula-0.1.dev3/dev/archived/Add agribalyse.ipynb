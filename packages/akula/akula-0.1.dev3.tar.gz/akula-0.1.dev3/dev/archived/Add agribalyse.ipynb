{
 "cells": [
  {
   "cell_type": "code",
   "execution_count": 1,
   "id": "b155e53b-688d-40f2-8bb2-4e58e55c0925",
   "metadata": {},
   "outputs": [],
   "source": [
    "import bw2data as bd\n",
    "import bw2io as bi"
   ]
  },
  {
   "cell_type": "code",
   "execution_count": 2,
   "id": "fa80a078-7b24-4bd7-ab4f-8a51ebe3a028",
   "metadata": {},
   "outputs": [],
   "source": [
    "bd.projects.set_current(\"GSA\")"
   ]
  },
  {
   "cell_type": "code",
   "execution_count": 3,
   "id": "8030ad3f-d26c-4700-bac7-e3d36b80ce47",
   "metadata": {},
   "outputs": [
    {
     "name": "stdout",
     "output_type": "stream",
     "text": [
      "Creating default biosphere\n",
      "\n"
     ]
    },
    {
     "name": "stderr",
     "output_type": "stream",
     "text": [
      "Writing activities to SQLite3 database:\n"
     ]
    },
    {
     "name": "stdout",
     "output_type": "stream",
     "text": [
      "Applying strategy: normalize_units\n",
      "Applying strategy: drop_unspecified_subcategories\n",
      "Applying strategy: ensure_categories_are_tuples\n",
      "Applied 3 strategies in 0.01 seconds\n"
     ]
    },
    {
     "name": "stderr",
     "output_type": "stream",
     "text": [
      "0% [##############################] 100% | ETA: 00:00:00\n",
      "Total time elapsed: 00:00:00\n"
     ]
    },
    {
     "name": "stdout",
     "output_type": "stream",
     "text": [
      "Title: Writing activities to SQLite3 database:\n",
      "  Started: 11/12/2021 10:14:40\n",
      "  Finished: 11/12/2021 10:14:40\n",
      "  Total time elapsed: 00:00:00\n",
      "  CPU %: 82.70\n",
      "  Memory %: 1.05\n",
      "Created database: biosphere3\n",
      "Creating default LCIA methods\n",
      "\n",
      "Applying strategy: normalize_units\n",
      "Applying strategy: set_biosphere_type\n",
      "Applying strategy: fix_ecoinvent_38_lcia_implementation\n",
      "Applying strategy: drop_unspecified_subcategories\n",
      "Applying strategy: link_iterable_by_fields\n",
      "Applied 5 strategies in 1.70 seconds\n",
      "Wrote 975 LCIA methods with 254388 characterization factors\n",
      "Creating core data migrations\n",
      "\n"
     ]
    }
   ],
   "source": [
    "if \"ecoinvent\" not in bd.databases:\n",
    "    bi.bw2setup()\n",
    "\n",
    "    fp = \"/Users/cmutel/Documents/lca/Ecoinvent/3.8/cutoff/datasets\"\n",
    "    ei = bi.SingleOutputEcospold2Importer(fp, \"ecoinvent\")\n",
    "    ei.apply_strategies()\n",
    "    assert ei.all_linked\n",
    "    ei.write_database()    "
   ]
  },
  {
   "cell_type": "code",
   "execution_count": 3,
   "id": "0b10ab5c-71d9-4aae-a2b8-803f5697a82b",
   "metadata": {},
   "outputs": [],
   "source": [
    "from bw2io.strategies.locations import update_ecoinvent_locations"
   ]
  },
  {
   "cell_type": "code",
   "execution_count": 5,
   "id": "b76ca696-a4ce-4a66-8e90-a1d20f03ed41",
   "metadata": {},
   "outputs": [],
   "source": [
    "agribalyse13_ecoinvent_names = {\n",
    "    \"fields\": [\"name\"],\n",
    "    \"data\": [\n",
    "        [\n",
    "            [\"extrusion production, plastic film\"],\n",
    "            {\n",
    "                \"name\": \"extrusion, plastic film\"\n",
    "            }\n",
    "        ],\n",
    "        [\n",
    "            [\"extrusion production, plastic pipes\"],\n",
    "            {\n",
    "                \"name\": \"extrusion, plastic pipes\"\n",
    "            }\n",
    "        ],\n",
    "        [\n",
    "            [\"blow moulding production\"],\n",
    "            {\n",
    "                \"name\": \"blow moulding\"\n",
    "            }\n",
    "        ],\n",
    "        [\n",
    "            [\"calendering production, rigid sheets\"],\n",
    "            {\n",
    "                \"name\": \"calendering, rigid sheets\"\n",
    "            }\n",
    "        ],\n",
    "        [\n",
    "            [\"steam production in chemical industry\"],\n",
    "            {\n",
    "                \"name\": \"steam production, in chemical industry\",\n",
    "                \"reference product\": \"steam, in chemical industry\",\n",
    "                \"unit\": \"kilogram\",\n",
    "                \"multiplier\": 0.36363636363\n",
    "            }\n",
    "        ],\n",
    "        [\n",
    "            [\"water production, completely softened, from decarbonised water, at user\"],\n",
    "            {\n",
    "                \"name\": \"water production, completely softened\",\n",
    "                \"reference product\": \"water, completely softened\"\n",
    "            }\n",
    "        ],\n",
    "        [\n",
    "            [\"market for water, decarbonised, at user\"],\n",
    "            {\n",
    "                \"name\": \"market for water, decarbonised\",\n",
    "                \"reference product\": \"water, decarbonised\"\n",
    "            }\n",
    "        ],\n",
    "        [\n",
    "            [\"textile production, jute\"],\n",
    "            {\n",
    "                \"name\": \"textile production, jute, weaving\"\n",
    "            }\n",
    "        ],\n",
    "        [\n",
    "            [\"market for transport, freight, sea, transoceanic ship\"],\n",
    "            {\n",
    "                \"name\": \"market for transport, freight, sea, container ship with reefer, cooling\",\n",
    "                \"reference product\": \"transport, freight, sea, container ship with reefer, cooling\"\n",
    "            }\n",
    "        ],\n",
    "        [\n",
    "            [\"transport, freight, sea, transoceanic ship\"],\n",
    "            {\n",
    "                \"name\": \"transport, freight, sea, container ship with reefer, cooling\",\n",
    "                \"reference product\": \"transport, freight, sea, container ship with reefer, cooling\"\n",
    "            }\n",
    "        ],\n",
    "        [\n",
    "            [\"oxidation of manganese dioxide\"],\n",
    "            {\n",
    "                \"reference product\": \"potassium permanganate\",\n",
    "                \"multiplier\": 0.09\n",
    "            }\n",
    "        ],\n",
    "        [\n",
    "            [\"irrigation\"],\n",
    "            {\n",
    "                \"name\": \"market for irrigation\"\n",
    "            }\n",
    "        ],\n",
    "        [\n",
    "            [\"market for electricity, low voltage\", \"BR\"],\n",
    "            {\n",
    "                \"name\": \"market group for electricity, low voltage\"\n",
    "            }\n",
    "        ],\n",
    "        [\n",
    "            [\"market for electricity, medium voltage\", \"BR\"],\n",
    "            {\n",
    "                \"name\": \"market group for electricity, medium voltage\"\n",
    "            }\n",
    "        ]\n",
    "    ]\n",
    "}\n",
    "\n",
    "bi.Migration(\"agribalyse13-ecoinvent-names\").write(\n",
    "    agribalyse13_ecoinvent_names,\n",
    "    description=\"Change names of some activities to match new ecoinvent nomenclature\"\n",
    ")"
   ]
  },
  {
   "cell_type": "code",
   "execution_count": 43,
   "id": "0f64819e-1718-42ad-a1d7-0e23e4d634bd",
   "metadata": {},
   "outputs": [],
   "source": [
    "ei = bd.Database('ecoinvent')\n",
    "bio = bd.Database('biosphere3')"
   ]
  },
  {
   "cell_type": "code",
   "execution_count": 38,
   "id": "5cb5db7e-e336-4c97-97ab-e9cf24ed8fff",
   "metadata": {},
   "outputs": [
    {
     "name": "stdout",
     "output_type": "stream",
     "text": [
      "Extracted 1189 unallocated datasets in 4.28 seconds\n",
      "Applying strategy: normalize_units\n",
      "Applying strategy: update_ecoinvent_locations\n",
      "Applying strategy: assign_only_product_as_production\n",
      "Applying strategy: drop_unspecified_subcategories\n",
      "Applying strategy: sp_allocate_products\n",
      "Applying strategy: fix_zero_allocation_products\n",
      "Applying strategy: split_simapro_name_geo\n",
      "Applying strategy: strip_biosphere_exc_locations\n",
      "Applying strategy: migrate_datasets\n",
      "Applying strategy: migrate_exchanges\n",
      "Applying strategy: set_code_by_activity_hash\n",
      "Applying strategy: link_technosphere_based_on_name_unit_location\n",
      "Applying strategy: change_electricity_unit_mj_to_kwh\n",
      "Applying strategy: set_lognormal_loc_value_uncertainty_safe\n",
      "Applying strategy: normalize_biosphere_categories\n",
      "Applying strategy: normalize_simapro_biosphere_categories\n",
      "Applying strategy: normalize_biosphere_names\n",
      "Applying strategy: normalize_simapro_biosphere_names\n",
      "Applying strategy: migrate_exchanges\n",
      "Applying strategy: fix_localized_water_flows\n",
      "Applying strategy: link_iterable_by_fields\n",
      "Applying strategy: convert_activity_parameters_to_list\n",
      "Applied 22 strategies in 6.26 seconds\n",
      "Applying strategy: migrate_datasets\n",
      "Applying strategy: migrate_exchanges\n",
      "Applying strategy: migrate_datasets\n",
      "Applying strategy: migrate_exchanges\n",
      "Applying strategy: update_ecoinvent_locations\n",
      "Applying strategy: link_iterable_by_fields\n",
      "Applying strategy: link_iterable_by_fields\n",
      "Couldn't apply strategy link_iterable_by_fields:\n",
      "\tObject in source database can't be uniquely linked to target database.\n",
      "Problematic dataset is:\n",
      "{'filename': '(missing)',\n",
      " 'location': 'RER',\n",
      " 'name': 'sawing and planing, azobe, air dried',\n",
      " 'unit': 'cubic meter'}\n",
      "Possible targets include (at least one not shown):\n",
      "[{'filename': 'f57aecff-cec1-49c2-a849-e0d8d6dea5cd_148b552a-c50b-465e-84f7-367bda16f04a.spold',\n",
      "  'location': 'RER',\n",
      "  'name': 'sawing and planing, azobe, air dried',\n",
      "  'unit': 'cubic meter'}]\n",
      "Applying strategy: link_iterable_by_fields\n",
      "1261 datasets\n",
      "115259 exchanges\n",
      "4114 unlinked exchanges\n",
      "  Type biosphere: 440 unique unlinked exchanges\n",
      "  Type technosphere: 156 unique unlinked exchanges\n"
     ]
    },
    {
     "data": {
      "text/plain": [
       "(1261, 115259, 4114)"
      ]
     },
     "execution_count": 38,
     "metadata": {},
     "output_type": "execute_result"
    }
   ],
   "source": [
    "fp = \"/Users/cmutel/Documents/lca/Agribalyse/1.3/Agribalyse CSV FINAL_no links_Nov2016v3.CSV\"\n",
    "\n",
    "ag = bi.SimaProCSVImporter(fp, \"agribalyse\")\n",
    "ag.apply_strategies()\n",
    "\n",
    "ag.migrate('simapro-ecoinvent-3.3')\n",
    "ag.migrate('agribalyse13-ecoinvent-names')\n",
    "ag.apply_strategy(update_ecoinvent_locations)\n",
    "\n",
    "ag.match_database('ecoinvent', fields=['reference product', 'name', 'location', 'unit'])\n",
    "ag.match_database('ecoinvent', fields=['name', 'location', 'unit'])\n",
    "ag.match_database('biosphere3')\n",
    "\n",
    "ag.statistics()"
   ]
  },
  {
   "cell_type": "code",
   "execution_count": 46,
   "id": "afb6165f-3a77-45cc-926a-c6d541e05bf7",
   "metadata": {},
   "outputs": [
    {
     "data": {
      "text/plain": [
       "[]"
      ]
     },
     "execution_count": 46,
     "metadata": {},
     "output_type": "execute_result"
    }
   ],
   "source": [
    "bio.search(\"copper sulfate\")"
   ]
  },
  {
   "cell_type": "code",
   "execution_count": 42,
   "id": "856a73e1-b516-41db-aec9-acf061ff3da0",
   "metadata": {},
   "outputs": [
    {
     "data": {
      "text/plain": [
       "['market for scrap copper' (kilogram, Europe without Switzerland, None),\n",
       " 'market for copper sulfate' (kilogram, GLO, None),\n",
       " 'market for copper, anode' (kilogram, GLO, None),\n",
       " 'market for copper oxide' (kilogram, GLO, None),\n",
       " 'market for copper slag' (kilogram, GLO, None),\n",
       " 'market for scrap copper' (kilogram, RoW, None),\n",
       " 'market for copper cake' (kilogram, GLO, None),\n",
       " 'market for copper, cathode' (kilogram, GLO, None),\n",
       " 'market for scrap copper' (kilogram, CH, None),\n",
       " 'copper, anode to generic market for copper-rich materials' (kilogram, GLO, None),\n",
       " 'market for electrolyte, copper-rich' (kilogram, GLO, None),\n",
       " 'market for copper carbonate' (kilogram, GLO, None),\n",
       " 'market for copper smelting facility' (unit, GLO, None),\n",
       " 'market for wire drawing, copper' (kilogram, GLO, None),\n",
       " 'market for sheet rolling, copper' (kilogram, GLO, None),\n",
       " 'electrolyte, copper-rich to generic market for copper-rich materials' (kilogram, GLO, None),\n",
       " 'market for copper in car shredder residue' (kilogram, CH, None),\n",
       " 'market for copper-rich materials' (kilogram, GLO, None),\n",
       " 'market for copper telluride cement' (kilogram, GLO, None),\n",
       " 'market for copper concentrate, sulfide ore' (kilogram, GLO, None),\n",
       " 'market for leach residue from copper production' (kilogram, GLO, None),\n",
       " 'market for sulfidic tailings, from copper mine operation' (kilogram, CN, None),\n",
       " 'market for sulfidic tailings, from copper mine operation' (kilogram, RoW, None),\n",
       " 'market for sulfidic tailings, from copper mine operation' (kilogram, CA, None),\n",
       " 'market for sulfidic tailings, from copper mine operation' (kilogram, ZM, None)]"
      ]
     },
     "execution_count": 42,
     "metadata": {},
     "output_type": "execute_result"
    }
   ],
   "source": [
    "ei.search('market for copper')\n"
   ]
  },
  {
   "cell_type": "code",
   "execution_count": 41,
   "id": "b0276df5-da6a-44d6-8636-6f1ffe85c91a",
   "metadata": {},
   "outputs": [
    {
     "name": "stdout",
     "output_type": "stream",
     "text": [
      "Wrote matching file to:\n",
      "/Users/cmutel/Library/Application Support/Brightway3/GSA.a351545b/output/db-matching-agribalyse.xlsx\n"
     ]
    }
   ],
   "source": [
    "ag.write_excel()"
   ]
  },
  {
   "cell_type": "code",
   "execution_count": 26,
   "id": "01263536-4bdf-4ff2-a85f-def521240c97",
   "metadata": {},
   "outputs": [],
   "source": [
    "from bw2io.data import get_simapro_ecoinvent_3_migration_data\n",
    "sp = {k[0]: v for k, v in get_simapro_ecoinvent_3_migration_data('3.3')['data']}"
   ]
  },
  {
   "cell_type": "code",
   "execution_count": 31,
   "id": "756d4a29-3e13-4e46-befe-f069d62379f5",
   "metadata": {},
   "outputs": [
    {
     "data": {
      "text/plain": [
       "{'location': 'GLO',\n",
       " 'name': 'market for aluminium, wrought alloy',\n",
       " 'reference product': 'aluminium, wrought alloy',\n",
       " 'system model': 'Allocation, cut-off by classification',\n",
       " 'simapro name': 'Aluminium, wrought alloy {GLO}| market for | Alloc Rec, S'}"
      ]
     },
     "execution_count": 31,
     "metadata": {},
     "output_type": "execute_result"
    }
   ],
   "source": [
    "sp['Aluminium, wrought alloy {GLO}| market for | Alloc Rec, S']"
   ]
  },
  {
   "cell_type": "code",
   "execution_count": 10,
   "id": "70223ef7-ca75-4964-bb16-620a701230ed",
   "metadata": {},
   "outputs": [
    {
     "name": "stdout",
     "output_type": "stream",
     "text": [
      "64037e162f6d6d1048470c3a1135f4fb\n"
     ]
    },
    {
     "ename": "StopIteration",
     "evalue": "",
     "output_type": "error",
     "traceback": [
      "\u001b[0;31m---------------------------------------------------------------------------\u001b[0m",
      "\u001b[0;31mStopIteration\u001b[0m                             Traceback (most recent call last)",
      "\u001b[0;32m/var/folders/rn/ht0vvs3s7mz2h9f_xjt9x4040000gn/T/ipykernel_54663/797379001.py\u001b[0m in \u001b[0;36m<module>\u001b[0;34m\u001b[0m\n\u001b[1;32m      9\u001b[0m \u001b[0;32mfor\u001b[0m \u001b[0mcode\u001b[0m \u001b[0;32min\u001b[0m \u001b[0mduplicates\u001b[0m\u001b[0;34m:\u001b[0m\u001b[0;34m\u001b[0m\u001b[0;34m\u001b[0m\u001b[0m\n\u001b[1;32m     10\u001b[0m     \u001b[0mprint\u001b[0m\u001b[0;34m(\u001b[0m\u001b[0mcode\u001b[0m\u001b[0;34m)\u001b[0m\u001b[0;34m\u001b[0m\u001b[0;34m\u001b[0m\u001b[0m\n\u001b[0;32m---> 11\u001b[0;31m     \u001b[0mact\u001b[0m \u001b[0;34m=\u001b[0m \u001b[0mnext\u001b[0m\u001b[0;34m(\u001b[0m\u001b[0mx\u001b[0m \u001b[0;32mfor\u001b[0m \u001b[0mx\u001b[0m \u001b[0;32min\u001b[0m \u001b[0mag\u001b[0m\u001b[0;34m.\u001b[0m\u001b[0mdata\u001b[0m \u001b[0;32mif\u001b[0m \u001b[0mx\u001b[0m\u001b[0;34m[\u001b[0m\u001b[0;34m'code'\u001b[0m\u001b[0;34m]\u001b[0m \u001b[0;34m==\u001b[0m \u001b[0mcode\u001b[0m\u001b[0;34m)\u001b[0m\u001b[0;34m\u001b[0m\u001b[0;34m\u001b[0m\u001b[0m\n\u001b[0m\u001b[1;32m     12\u001b[0m     \u001b[0;32massert\u001b[0m \u001b[0mlen\u001b[0m\u001b[0;34m(\u001b[0m\u001b[0mx\u001b[0m \u001b[0;32mfor\u001b[0m \u001b[0mx\u001b[0m \u001b[0;32min\u001b[0m \u001b[0mag\u001b[0m\u001b[0;34m.\u001b[0m\u001b[0mdata\u001b[0m \u001b[0;32mif\u001b[0m \u001b[0mall\u001b[0m\u001b[0;34m(\u001b[0m\u001b[0mx\u001b[0m\u001b[0;34m[\u001b[0m\u001b[0mfield\u001b[0m\u001b[0;34m]\u001b[0m \u001b[0;34m==\u001b[0m \u001b[0mact\u001b[0m\u001b[0;34m[\u001b[0m\u001b[0mfield\u001b[0m\u001b[0;34m]\u001b[0m \u001b[0;32mfor\u001b[0m \u001b[0mfield\u001b[0m \u001b[0;32min\u001b[0m \u001b[0mFIELDS\u001b[0m\u001b[0;34m)\u001b[0m\u001b[0;34m)\u001b[0m \u001b[0;34m==\u001b[0m \u001b[0;36m2\u001b[0m\u001b[0;34m\u001b[0m\u001b[0;34m\u001b[0m\u001b[0m\n",
      "\u001b[0;31mStopIteration\u001b[0m: "
     ]
    }
   ],
   "source": [
    "duplicates = [\n",
    "    'de221991cc69f37976042f05f448c94c', \n",
    "    '64037e162f6d6d1048470c3a1135f4fb', \n",
    "    '6d61eb45c1d285073770aa839426d97c'\n",
    "]\n",
    "\n",
    "FIELDS = ['name', 'location', 'unit']\n",
    "\n",
    "for code in duplicates:\n",
    "    print(code)\n",
    "    act = next(x for x in ag.data if x['code'] == code)\n",
    "    assert len(x for x in ag.data if all(x[field] == act[field] for field in FIELDS)) == 2"
   ]
  },
  {
   "cell_type": "code",
   "execution_count": null,
   "id": "5831a7a2-5e17-4088-ac57-8ef0df3ca587",
   "metadata": {},
   "outputs": [],
   "source": [
    "\n",
    "        # Biosphere flows\n",
    "        ag13_ei_new_biosphere_name = ag13_ei_name + \" - new biosphere\"\n",
    "        bd.Database(ag13_ei_new_biosphere_name).register()\n",
    "        ag13_ei.add_unlinked_flows_to_biosphere_database(ag13_ei_new_biosphere_name)\n",
    "\n",
    "        # Add unlinked waste flows as new activities\n",
    "        ag13_ei.add_unlinked_activities()\n",
    "        ag13_ei.match_database(ei_name, fields=('reference product','location', 'unit', 'name'))\n",
    "\n",
    "        ### 4. Allocate by production volume\n",
    "        #########\n",
    "        ei36 = bd.Database(ei_name)\n",
    "        # Create mapping between unlinked exchanges and ecoinvent activities that constitute each unlinked exchange.\n",
    "        # In this case we do not need to do it manually since all unlinked exchanges need to be allocated geographically.\n",
    "        # Example: (market for lime, GLO) is split by production volume into (market for lime, RoW) & (market for lime, RER).\n",
    "        # Mapping is a list of dictionaries where each dictionary corresponds to an unlinked exchange.\n",
    "        # The key is the name of the unlinked exchange and the values are ecoinvent activities codes.\n",
    "\n",
    "        def create_location_mapping(ag13_ei, ei_name):\n",
    "\n",
    "            ei = bd.Database(ei_name)\n",
    "\n",
    "            unlinked_list = list(ag13_ei.unlinked)\n",
    "            len_unlinked  = len(unlinked_list)\n",
    "\n",
    "            mapping = [0]*len_unlinked\n",
    "\n",
    "            for u in range(len_unlinked):\n",
    "                new_el = {}\n",
    "                name = unlinked_list[u]['name']\n",
    "                loc  = unlinked_list[u]['location']\n",
    "                acts_codes = [act['code'] for act in ei if name == act['name']]\n",
    "                new_el[ (name, loc) ] = acts_codes\n",
    "                mapping[u] = new_el\n",
    "\n",
    "            return mapping\n",
    "\n",
    "        mapping = create_location_mapping(ag13_ei, ei_name)\n",
    "        agg = modify_exchanges(ag13_ei, mapping, ei_name)\n",
    "\n",
    "        ### 5. Change uncertainty info\n",
    "        #########\n",
    "        import stats_arrays as sa\n",
    "        changed = []\n",
    "        for i,act in enumerate(agg.data):\n",
    "            excs = act.get('exchanges', [])\n",
    "            for j,exc in enumerate(excs):\n",
    "                if exc.get('uncertainty type', False) == sa.LognormalUncertainty.id and \\\n",
    "                np.allclose(exc.get('amount'), exc.get('loc')):\n",
    "                    # a. loc chosen such that amount is the mean of the specified distribution\n",
    "        #             exc.update(loc=np.log(exc['amount'])-(exc['scale']**2)/2)\n",
    "                    # b. loc chosen such that amount is the median of the specified distribution, same as majority in ecoinvent\n",
    "                    exc.update(loc=np.log(exc['amount']))\n",
    "                    changed.append([i,j])\n",
    "        print(len(changed))\n",
    "        if \"3.6\" in ei_name:\n",
    "            assert len(changed)==319\n",
    "        elif \"3.7\" in ei_name:\n",
    "            if \"3.7.1\" not in ei_name:\n",
    "                assert len(changed)==1168\n",
    "            else:\n",
    "                assert len(changed)==1013\n",
    "\n",
    "        ### 6. Make sure scale of lognormal is nonzero\n",
    "        #########\n",
    "        changed = []\n",
    "        for i,act in enumerate(agg.data):\n",
    "            excs = act.get('exchanges', [])\n",
    "            for j,exc in enumerate(excs):\n",
    "                if exc.get('uncertainty type', False) == sa.LognormalUncertainty.id and \\\n",
    "                exc.get('scale')==0:\n",
    "                    exc.update({\"uncertainty type\": 0, \"loc\": np.nan, \"scale\": np.nan})\n",
    "                    changed.append([i,j])\n",
    "        assert len(changed)==6\n",
    "\n",
    "        # # ### 7. Scale technosphere such that production exchanges are all 1\n",
    "        # # # Commented out because incorrect, need to scale uncertainties in the exchanges as well then!\n",
    "        # # acts_to_scale = []\n",
    "        # # for act in agg.data:\n",
    "        # #     excs = act.get('exchanges', [])\n",
    "        # #     for exc in excs:\n",
    "        # #         if exc.get('type') == 'production' and exc.get('amount')!=1:\n",
    "        # #             acts_to_scale.append((act,exc.get('amount')))\n",
    "        # #\n",
    "        # # for act,production_amt in acts_to_scale:\n",
    "        # #     excs = act.get('exchanges', [])\n",
    "        # #     for exc in excs:\n",
    "        # #         if exc.get('type') == 'production':\n",
    "        # #             exc.update(amount=1)\n",
    "        # #         else:\n",
    "        # #             current_amt = exc.get('amount')\n",
    "        # #             exc.update(amount=current_amt/production_amt)\n",
    "\n",
    "        ### 8. Remove repeating activities\n",
    "        #########\n",
    "        # Remove repetitive activities\n",
    "a\n",
    "        # ### 9. Write database\n",
    "        # #########\n",
    "        agg.statistics()\n",
    "        if len(list(agg.unlinked)) == 0:\n",
    "            agg.write_database()\n",
    "        else:\n",
    "            print(\"Some exchanges are still unlinked\")\n",
    "            print(list(agg.unlinked))"
   ]
  },
  {
   "cell_type": "code",
   "execution_count": 48,
   "id": "1355d361-e754-43f6-8bd0-b366c8f7dd13",
   "metadata": {},
   "outputs": [
    {
     "name": "stdout",
     "output_type": "stream",
     "text": [
      "Creating project backup archive - this could take a few minutes...\n"
     ]
    }
   ],
   "source": [
    "bi.backup_project_directory(\"GSA\")"
   ]
  },
  {
   "cell_type": "code",
   "execution_count": 49,
   "id": "c158dd15-9fba-48bd-b990-62031aefa78c",
   "metadata": {},
   "outputs": [
    {
     "data": {
      "text/plain": [
       "\u001b[0;31mSignature:\u001b[0m \u001b[0mbi\u001b[0m\u001b[0;34m.\u001b[0m\u001b[0mbackup_project_directory\u001b[0m\u001b[0;34m(\u001b[0m\u001b[0mproject\u001b[0m\u001b[0;34m)\u001b[0m\u001b[0;34m\u001b[0m\u001b[0;34m\u001b[0m\u001b[0m\n",
       "\u001b[0;31mDocstring:\u001b[0m\n",
       "Backup project data directory to a ``.tar.gz`` (compressed tar archive).\n",
       "\n",
       "``project`` is the name of a project.\n",
       "\n",
       "Backup archive is saved to the user's home directory.\n",
       "\n",
       "Restoration is done using ``restore_project_directory``.\n",
       "\n",
       "Returns the filepath of the backup archive.\n",
       "\u001b[0;31mFile:\u001b[0m      ~/venvs/bw25_gsa/lib/python3.9/site-packages/bw2io/backup.py\n",
       "\u001b[0;31mType:\u001b[0m      function\n"
      ]
     },
     "metadata": {},
     "output_type": "display_data"
    }
   ],
   "source": [
    "bi.backup_project_directory?\n"
   ]
  },
  {
   "cell_type": "code",
   "execution_count": null,
   "id": "eae6759e-1a56-4cb4-a035-077bac60a3de",
   "metadata": {},
   "outputs": [],
   "source": []
  }
 ],
 "metadata": {
  "kernelspec": {
   "display_name": "Python 3 (ipykernel)",
   "language": "python",
   "name": "python3"
  },
  "language_info": {
   "codemirror_mode": {
    "name": "ipython",
    "version": 3
   },
   "file_extension": ".py",
   "mimetype": "text/x-python",
   "name": "python",
   "nbconvert_exporter": "python",
   "pygments_lexer": "ipython3",
   "version": "3.9.8"
  }
 },
 "nbformat": 4,
 "nbformat_minor": 5
}
