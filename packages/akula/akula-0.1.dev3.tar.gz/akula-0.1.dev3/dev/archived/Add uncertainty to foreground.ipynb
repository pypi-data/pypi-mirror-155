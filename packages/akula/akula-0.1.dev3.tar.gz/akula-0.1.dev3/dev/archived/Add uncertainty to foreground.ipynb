{
 "cells": [
  {
   "cell_type": "code",
   "execution_count": null,
   "id": "69cda7ef",
   "metadata": {},
   "outputs": [],
   "source": [
    "import bw2data as bd\n",
    "import bw2calc as bc\n",
    "import bw_processing as bwp\n",
    "from pypardiso import spsolve\n",
    "from pathlib import Path\n",
    "from gsa_framework.utils import read_pickle, write_pickle\n",
    "from gsa_framework.visualization.plotting import plot_histogram_Y1_Y2\n",
    "from fs.zipfs import ZipFS\n",
    "from copy import deepcopy\n",
    "from consumption_model_ch.utils import get_habe_filepath\n",
    "import pandas as pd\n",
    "import sys\n",
    "sys.path.append('/Users/akim/PycharmProjects/akula')\n",
    "from collections import Counter\n",
    "\n",
    "from akula.sensitivity_analysis import get_mask\n",
    "\n",
    "project = 'GSA for archetypes'\n",
    "bd.projects.set_current(project)\n",
    "iterations = 2000\n",
    "seed = 11111000 \n",
    "\n",
    "fp_paper_2 = Path(\"write_files\") / project.lower().replace(\" \", \"_\") / \"paper_2\"\n",
    "fp_paper_2.mkdir(exist_ok=True, parents=True)"
   ]
  },
  {
   "cell_type": "code",
   "execution_count": null,
   "id": "4a42ccaf",
   "metadata": {},
   "outputs": [],
   "source": [
    "# Foreground uncertainty weighted by number of people per household\n",
    "def get_household_data_weighted(indices, co_name=\"swiss consumption 1.0\"):\n",
    "    # 1. Get some metadata from the consumption database\n",
    "    co = bd.Database(co_name)\n",
    "    year_habe = co.metadata['year_habe']\n",
    "    dir_habe = co.metadata['dir_habe']\n",
    "\n",
    "    # 2. Extract total demand from HABE\n",
    "    path_ausgaben = get_habe_filepath(dir_habe, year_habe, 'Ausgaben')\n",
    "    path_mengen = get_habe_filepath(dir_habe, year_habe, 'Mengen')\n",
    "    path_konsumgueter = get_habe_filepath(dir_habe, year_habe, 'Konsumgueter')\n",
    "    path_personen = get_habe_filepath(dir_habe, year_habe, 'Personen')\n",
    "\n",
    "    # change codes to be consistent with consumption database and Andi's codes\n",
    "    ausgaben = pd.read_csv(path_ausgaben, sep='\\t')\n",
    "    mengen = pd.read_csv(path_mengen, sep='\\t')\n",
    "    konsumgueter = pd.read_csv(path_konsumgueter, sep='\\t')\n",
    "    personen_raw = pd.read_csv(path_personen, sep='\\t')\n",
    "    ausgaben.columns = [col.lower() for col in ausgaben.columns]\n",
    "    mengen.columns = [col.lower() for col in mengen.columns]\n",
    "    konsumgueter.columns = [col.lower() for col in konsumgueter.columns]\n",
    "    personen_raw.columns = [col.lower() for col in personen_raw.columns]\n",
    "    num_personen = dict(Counter(personen_raw[\"haushaltid\"]))\n",
    "    num_personen = [{'haushaltid': k, \"n_personen\": v} for k,v in num_personen.items()]\n",
    "    personen = pd.DataFrame.from_dict(num_personen)\n",
    "\n",
    "    codes_co_db = sorted([act['code'] for act in co])\n",
    "    columns_a = ausgaben.columns.values\n",
    "    columns_m = [columns_a[0]]\n",
    "    columns_k = [columns_a[0]]\n",
    "    codes_m = []\n",
    "    for code_a in columns_a[1:]:\n",
    "        code_m = code_a.replace('a', 'm')\n",
    "        if code_m in codes_co_db:\n",
    "            columns_m.append(code_m)\n",
    "            codes_m.append(code_m)\n",
    "        else:\n",
    "            columns_m.append(code_a)\n",
    "    ausgaben.columns = columns_m\n",
    "    # Replace ausgaben data with mengen data\n",
    "    for code_m in codes_m:\n",
    "        ausgaben[code_m] = mengen[code_m].values\n",
    "    weighted_ausgaben = pd.concat(\n",
    "        [\n",
    "            personen.set_index('haushaltid'),\n",
    "            ausgaben.set_index('haushaltid'), \n",
    "        ],\n",
    "        join='inner',\n",
    "        axis=1\n",
    "    )\n",
    "    weighted_ausgaben = weighted_ausgaben.iloc[:,1:].div(weighted_ausgaben['n_personen'], axis=0)\n",
    "    weighted_ausgaben = weighted_ausgaben.reset_index()\n",
    "\n",
    "    data = np.zeros((0,len(weighted_ausgaben)))\n",
    "    for inds in indices:\n",
    "        input_code = bd.get_activity(inds[0])['code']\n",
    "        try:\n",
    "            data_current = weighted_ausgaben[input_code].values\n",
    "            data = np.vstack([data, data_current])\n",
    "        except:\n",
    "            print(input_code)\n",
    "\n",
    "    return data"
   ]
  },
  {
   "cell_type": "code",
   "execution_count": null,
   "id": "7bd1db73",
   "metadata": {},
   "outputs": [],
   "source": [
    "bd.projects.set_current(\"GSA for archetypes\")\n",
    "co_name = \"swiss consumption 1.0\"\n",
    "co = bd.Database(co_name)"
   ]
  },
  {
   "cell_type": "code",
   "execution_count": null,
   "id": "da7109cc",
   "metadata": {},
   "outputs": [],
   "source": [
    "a = co.random()\n",
    "list(a.exchanges())[1].as_dict()"
   ]
  },
  {
   "cell_type": "code",
   "execution_count": null,
   "id": "7778340b",
   "metadata": {},
   "outputs": [],
   "source": [
    "data = ausgaben['a30'].values"
   ]
  },
  {
   "cell_type": "code",
   "execution_count": null,
   "id": "27c7d2ba",
   "metadata": {},
   "outputs": [],
   "source": [
    "from scipy.stats import lognorm"
   ]
  },
  {
   "cell_type": "code",
   "execution_count": null,
   "id": "5cb298d7",
   "metadata": {},
   "outputs": [],
   "source": [
    "lognorm.fit??"
   ]
  },
  {
   "cell_type": "code",
   "execution_count": null,
   "id": "099998dd",
   "metadata": {},
   "outputs": [],
   "source": [
    "import plotly.graph_objects as go"
   ]
  },
  {
   "cell_type": "code",
   "execution_count": null,
   "id": "81aca02a",
   "metadata": {},
   "outputs": [],
   "source": [
    "x = np.linspace(min(data), max(data), 10000)\n",
    "pdf = (np.exp(-(np.log(x) - mu)**2 / (2 * sigma**2))\n",
    "       / (x * sigma * np.sqrt(2 * np.pi)))"
   ]
  },
  {
   "cell_type": "code",
   "execution_count": null,
   "id": "a3657d9d",
   "metadata": {},
   "outputs": [],
   "source": [
    "num_bins = 200\n",
    "bins_ = np.linspace(min(data), max(data), num_bins, endpoint=True)\n",
    "freq, bins = np.histogram(data, bins=bins_)\n",
    "\n",
    "fig = go.Figure()\n",
    "\n",
    "fig.add_trace(\n",
    "    go.Bar(\n",
    "        x=bins,\n",
    "        y=freq,\n",
    "        opacity=0.60,\n",
    "        showlegend=True,\n",
    "    ),\n",
    ")"
   ]
  },
  {
   "cell_type": "code",
   "execution_count": null,
   "id": "e2fcb7a2",
   "metadata": {},
   "outputs": [],
   "source": []
  },
  {
   "cell_type": "code",
   "execution_count": null,
   "id": "8d57fc82",
   "metadata": {},
   "outputs": [],
   "source": []
  },
  {
   "cell_type": "code",
   "execution_count": null,
   "id": "7261a052",
   "metadata": {},
   "outputs": [],
   "source": []
  },
  {
   "cell_type": "code",
   "execution_count": null,
   "id": "5b056b1e",
   "metadata": {},
   "outputs": [],
   "source": []
  },
  {
   "cell_type": "code",
   "execution_count": null,
   "id": "768c72e9",
   "metadata": {},
   "outputs": [],
   "source": []
  },
  {
   "cell_type": "code",
   "execution_count": null,
   "id": "07428a8c",
   "metadata": {},
   "outputs": [],
   "source": [
    "bd.projects.set_current(\"GSA for archetypes\")\n",
    "co_name = \"swiss consumption 1.0\"\n",
    "\n",
    "co = bd.Database(co_name)\n",
    "year_habe = co.metadata['year_habe']\n",
    "dir_habe = co.metadata['dir_habe']"
   ]
  },
  {
   "cell_type": "code",
   "execution_count": null,
   "id": "9342d5a1",
   "metadata": {},
   "outputs": [],
   "source": []
  },
  {
   "cell_type": "code",
   "execution_count": null,
   "id": "6f426bcd",
   "metadata": {},
   "outputs": [],
   "source": []
  }
 ],
 "metadata": {
  "kernelspec": {
   "display_name": "Python 3 (ipykernel)",
   "language": "python",
   "name": "python3"
  },
  "language_info": {
   "codemirror_mode": {
    "name": "ipython",
    "version": 3
   },
   "file_extension": ".py",
   "mimetype": "text/x-python",
   "name": "python",
   "nbconvert_exporter": "python",
   "pygments_lexer": "ipython3",
   "version": "3.9.10"
  },
  "varInspector": {
   "cols": {
    "lenName": 16,
    "lenType": 16,
    "lenVar": 40
   },
   "kernels_config": {
    "python": {
     "delete_cmd_postfix": "",
     "delete_cmd_prefix": "del ",
     "library": "var_list.py",
     "varRefreshCmd": "print(var_dic_list())"
    },
    "r": {
     "delete_cmd_postfix": ") ",
     "delete_cmd_prefix": "rm(",
     "library": "var_list.r",
     "varRefreshCmd": "cat(var_dic_list()) "
    }
   },
   "types_to_exclude": [
    "module",
    "function",
    "builtin_function_or_method",
    "instance",
    "_Feature"
   ],
   "window_display": false
  }
 },
 "nbformat": 4,
 "nbformat_minor": 5
}
