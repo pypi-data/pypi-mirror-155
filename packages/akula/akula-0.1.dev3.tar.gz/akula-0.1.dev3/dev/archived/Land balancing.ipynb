{
 "cells": [
  {
   "cell_type": "markdown",
   "metadata": {},
   "source": [
    "# Using `bw2landbalancer`\n",
    "\n",
    "Notebook showing typical usage of `bw2landbalancer`"
   ]
  },
  {
   "cell_type": "markdown",
   "metadata": {},
   "source": [
    "## Generating the samples"
   ]
  },
  {
   "cell_type": "markdown",
   "metadata": {},
   "source": [
    "`bw2landbalancer` works with Brightway2. You only need set as current a project in which the database for which you want to balance land transformation exchanges is imported."
   ]
  },
  {
   "cell_type": "code",
   "execution_count": 1,
   "metadata": {},
   "outputs": [
    {
     "data": {
      "text/plain": [
       "1108.8133423074094"
      ]
     },
     "execution_count": 1,
     "metadata": {},
     "output_type": "execute_result"
    }
   ],
   "source": [
    "import bw2data as bd\n",
    "import bw2calc as bc\n",
    "import numpy as np\n",
    "import plotly.graph_objects as go\n",
    "from scipy.stats import lognorm\n",
    "from gsa_framework.utils import read_pickle\n",
    "\n",
    "from bw2landbalancer import ActivityLandBalancer\n",
    "\n",
    "\n",
    "bd.projects.set_current('GSA for archetypes') # Project with ecoinvent 3.6 cut-off by classification already imported\n",
    "ei_name = \"ecoinvent 3.8 cutoff\"\n",
    "ei = bd.Database(ei_name)\n",
    "bio = bd.Database(\"biosphere3\")\n",
    "method = (\"IPCC 2013\", \"climate change\", \"GWP 100a\", \"uncertain\")\n",
    "\n",
    "co = bd.Database('swiss consumption 1.0')\n",
    "fu = [act for act in co if \"average consumption\" in act['name']][0]\n",
    "lca = bc.LCA({fu:1}, method=method)\n",
    "lca.lci()\n",
    "lca.lcia()\n",
    "lca.score"
   ]
  },
  {
   "cell_type": "markdown",
   "metadata": {},
   "source": [
    "The only Class you need is the `DatabaseLandBalancer`:"
   ]
  },
  {
   "cell_type": "code",
   "execution_count": 2,
   "metadata": {},
   "outputs": [],
   "source": [
    "from bw2landbalancer import DatabaseLandBalancer"
   ]
  },
  {
   "cell_type": "markdown",
   "metadata": {},
   "source": [
    "Instantiating the DatabaseLandBalancer will automatically identify land transformation biosphere activities (elementary flows). "
   ]
  },
  {
   "cell_type": "code",
   "execution_count": 3,
   "metadata": {},
   "outputs": [
    {
     "name": "stdout",
     "output_type": "stream",
     "text": [
      "Validating data\n",
      "Getting information on land transformation exchanges\n"
     ]
    }
   ],
   "source": [
    "dlb = DatabaseLandBalancer(\n",
    "    database_name=ei_name,  # name the LCI db in the brightway2 project\n",
    ")"
   ]
  },
  {
   "cell_type": "markdown",
   "metadata": {},
   "source": [
    "Generating presamples for the whole database is a lengthy process. Thankfully, it only ever needs to be done once per database:"
   ]
  },
  {
   "cell_type": "code",
   "execution_count": 4,
   "metadata": {},
   "outputs": [],
   "source": [
    "# %%time\n",
    "# dlb.add_samples_for_all_acts(iterations=2000)"
   ]
  },
  {
   "cell_type": "markdown",
   "metadata": {},
   "source": [
    "The samples and associated indices are stored as attributes: "
   ]
  },
  {
   "cell_type": "code",
   "execution_count": 5,
   "metadata": {},
   "outputs": [],
   "source": [
    "# from gsa_framework.utils import write_pickle\n",
    "# write_pickle(dlb.matrix_samples, \"land_samples_2000.pickle\")"
   ]
  },
  {
   "cell_type": "code",
   "execution_count": 6,
   "metadata": {},
   "outputs": [],
   "source": [
    "# write_pickle(dlb.matrix_indices, \"land_indices_2000.pickle\")"
   ]
  },
  {
   "cell_type": "code",
   "execution_count": 7,
   "metadata": {},
   "outputs": [
    {
     "ename": "FileNotFoundError",
     "evalue": "[Errno 2] No such file or directory: 'land_samples_2000.pickle'",
     "output_type": "error",
     "traceback": [
      "\u001b[0;31m---------------------------------------------------------------------------\u001b[0m",
      "\u001b[0;31mFileNotFoundError\u001b[0m                         Traceback (most recent call last)",
      "Input \u001b[0;32mIn [7]\u001b[0m, in \u001b[0;36m<module>\u001b[0;34m\u001b[0m\n\u001b[0;32m----> 1\u001b[0m matrix_samples \u001b[38;5;241m=\u001b[39m \u001b[43mread_pickle\u001b[49m\u001b[43m(\u001b[49m\u001b[38;5;124;43m\"\u001b[39;49m\u001b[38;5;124;43mland_samples_2000.pickle\u001b[39;49m\u001b[38;5;124;43m\"\u001b[39;49m\u001b[43m)\u001b[49m\n\u001b[1;32m      2\u001b[0m matrix_indices \u001b[38;5;241m=\u001b[39m read_pickle(\u001b[38;5;124m\"\u001b[39m\u001b[38;5;124mland_indices_2000.pickle\u001b[39m\u001b[38;5;124m\"\u001b[39m)\n",
      "File \u001b[0;32m~/PycharmProjects/gsa-framework-master/gsa_framework/utils.py:37\u001b[0m, in \u001b[0;36mread_pickle\u001b[0;34m(filepath)\u001b[0m\n\u001b[1;32m     35\u001b[0m \u001b[38;5;28;01mdef\u001b[39;00m \u001b[38;5;21mread_pickle\u001b[39m(filepath):\n\u001b[1;32m     36\u001b[0m     \u001b[38;5;124;03m\"\"\"Read ``data`` from a file with .pickle extension\"\"\"\u001b[39;00m\n\u001b[0;32m---> 37\u001b[0m     \u001b[38;5;28;01mwith\u001b[39;00m \u001b[38;5;28;43mopen\u001b[39;49m\u001b[43m(\u001b[49m\u001b[43mfilepath\u001b[49m\u001b[43m,\u001b[49m\u001b[43m \u001b[49m\u001b[38;5;124;43m\"\u001b[39;49m\u001b[38;5;124;43mrb\u001b[39;49m\u001b[38;5;124;43m\"\u001b[39;49m\u001b[43m)\u001b[49m \u001b[38;5;28;01mas\u001b[39;00m f:\n\u001b[1;32m     38\u001b[0m         data \u001b[38;5;241m=\u001b[39m pickle\u001b[38;5;241m.\u001b[39mload(f)\n\u001b[1;32m     39\u001b[0m     \u001b[38;5;28;01mreturn\u001b[39;00m data\n",
      "\u001b[0;31mFileNotFoundError\u001b[0m: [Errno 2] No such file or directory: 'land_samples_2000.pickle'"
     ]
    }
   ],
   "source": [
    "matrix_samples = read_pickle(\"land_samples_2000.pickle\")\n",
    "matrix_indices = read_pickle(\"land_indices_2000.pickle\")"
   ]
  },
  {
   "cell_type": "code",
   "execution_count": null,
   "metadata": {},
   "outputs": [],
   "source": [
    "# dlb.matrix_indices[0:10] # First ten indices"
   ]
  },
  {
   "cell_type": "code",
   "execution_count": null,
   "metadata": {},
   "outputs": [],
   "source": [
    "indices = lca.biosphere_mm.groups[1].package.get_resource(\"ecoinvent_3.8_cutoff_biosphere_matrix.indices\")[0]\n",
    "data = lca.biosphere_mm.groups[1].package.get_resource(\"ecoinvent_3.8_cutoff_biosphere_matrix.data\")[0]\n",
    "uncertainties = lca.biosphere_mm.groups[1].package.get_resource(\"ecoinvent_3.8_cutoff_biosphere_matrix.distributions\")[0]"
   ]
  },
  {
   "cell_type": "code",
   "execution_count": null,
   "metadata": {},
   "outputs": [],
   "source": [
    "id_row = bd.get_id(matrix_indices[0][0])\n",
    "id_col = bd.get_id(matrix_indices[0][1])\n",
    "row = lca.dicts.biosphere[id_row]\n",
    "col = lca.dicts.activity[id_col]\n",
    "row, col"
   ]
  },
  {
   "cell_type": "code",
   "execution_count": null,
   "metadata": {},
   "outputs": [],
   "source": [
    "from pypardiso import spsolve\n",
    "B = lca.biosphere_matrix\n",
    "B[548, 10650] *= 155\n",
    "imp = lca.characterization_matrix*B* spsolve(lca.technosphere_matrix, lca.demand_array)\n",
    "imp.sum()"
   ]
  },
  {
   "cell_type": "code",
   "execution_count": null,
   "metadata": {},
   "outputs": [],
   "source": [
    "m = bd.Method(method)"
   ]
  },
  {
   "cell_type": "code",
   "execution_count": null,
   "metadata": {},
   "outputs": [],
   "source": [
    "for exc in m.load():\n",
    "    print(bd.get_activity(exc[0])['name'])"
   ]
  },
  {
   "cell_type": "code",
   "execution_count": null,
   "metadata": {},
   "outputs": [],
   "source": []
  },
  {
   "cell_type": "code",
   "execution_count": null,
   "metadata": {},
   "outputs": [],
   "source": []
  },
  {
   "cell_type": "code",
   "execution_count": null,
   "metadata": {},
   "outputs": [],
   "source": [
    "aa = np.array((id_row, id_col), dtype=indices.dtype)\n",
    "np.where(indices==aa)"
   ]
  },
  {
   "cell_type": "code",
   "execution_count": null,
   "metadata": {},
   "outputs": [],
   "source": [
    "data[103454]"
   ]
  },
  {
   "cell_type": "code",
   "execution_count": null,
   "metadata": {},
   "outputs": [],
   "source": []
  },
  {
   "cell_type": "code",
   "execution_count": null,
   "metadata": {},
   "outputs": [],
   "source": []
  },
  {
   "cell_type": "code",
   "execution_count": null,
   "metadata": {},
   "outputs": [],
   "source": [
    "dist_arr\n",
    "np.where(dist_arr>100000)[0].shape"
   ]
  },
  {
   "cell_type": "code",
   "execution_count": null,
   "metadata": {
    "scrolled": true
   },
   "outputs": [],
   "source": [
    "num_bins=400\n",
    "dist = []\n",
    "len_ = len(matrix_indices)\n",
    "aa = 1532\n",
    "for i, ind in enumerate(matrix_indices[aa:aa+1]):\n",
    "    if i%100==0:\n",
    "        print(f\"{i}/{len_}\")\n",
    "    # Landbalancing samples\n",
    "    Y = matrix_samples[i,:]\n",
    "    bin_min = min(Y)\n",
    "    bin_max = max(Y)\n",
    "    bins_ = np.linspace(bin_min, bin_max, num_bins, endpoint=True)\n",
    "    Y_samples, _ = np.histogram(Y, bins=bins_, density=True)\n",
    "    # Given distribution\n",
    "    row = bd.get_id(ind[0])\n",
    "    col = bd.get_id(ind[1])\n",
    "    row_col = np.array((row,col), dtype=indices.dtype)\n",
    "    where = np.where(indices == row_col)[0][0]\n",
    "    unct = uncertainties[where:where+1]\n",
    "    if unct['uncertainty_type']==2:\n",
    "        num_bins = 60\n",
    "        loc = unct['loc']\n",
    "        scale = unct['scale']  \n",
    "        midbins = (bins_[1:]+bins_[:-1])/2\n",
    "        Y_distr = lognorm.pdf(midbins, s=scale, scale=np.exp(loc))\n",
    "    else:\n",
    "        print(i, unct['uncertainty_type'])\n",
    "    if len(Y_samples)==0:\n",
    "        print(f\"{i} here\")\n",
    "    dist.append(sum((Y_samples-Y_distr)**2)/len(Y_samples))"
   ]
  },
  {
   "cell_type": "code",
   "execution_count": 8,
   "metadata": {},
   "outputs": [
    {
     "ename": "NameError",
     "evalue": "name 'ind' is not defined",
     "output_type": "error",
     "traceback": [
      "\u001b[0;31m---------------------------------------------------------------------------\u001b[0m",
      "\u001b[0;31mNameError\u001b[0m                                 Traceback (most recent call last)",
      "Input \u001b[0;32mIn [8]\u001b[0m, in \u001b[0;36m<module>\u001b[0;34m\u001b[0m\n\u001b[0;32m----> 1\u001b[0m \u001b[43mind\u001b[49m\n",
      "\u001b[0;31mNameError\u001b[0m: name 'ind' is not defined"
     ]
    }
   ],
   "source": [
    "ind"
   ]
  },
  {
   "cell_type": "code",
   "execution_count": 9,
   "metadata": {},
   "outputs": [
    {
     "data": {
      "text/plain": [
       "'Transformation, to arable land, unspecified use' (square meter, None, ('natural resource', 'land'))"
      ]
     },
     "execution_count": 9,
     "metadata": {},
     "output_type": "execute_result"
    }
   ],
   "source": [
    "bd.get_activity(('biosphere3', '2f1e926a-ec96-432b-b2a6-bd5e3de2ff87'))"
   ]
  },
  {
   "cell_type": "code",
   "execution_count": 10,
   "metadata": {},
   "outputs": [],
   "source": [
    "t = bd.get_activity(('ecoinvent 3.8 cutoff', 'f7221f847f32280677ba1bd9a1c90dda'))"
   ]
  },
  {
   "cell_type": "code",
   "execution_count": 11,
   "metadata": {},
   "outputs": [
    {
     "data": {
      "text/plain": [
       "[Exchange: 1.82550304055e-05 kilogram 'market for organophosphorus-compound, unspecified' (kilogram, GLO, None) to 'onion production' (kilogram, NZ, None)>,\n",
       " Exchange: 0.00156219174204059 kilogram 'market for potassium sulfate' (kilogram, RoW, None) to 'onion production' (kilogram, NZ, None)>,\n",
       " Exchange: 1.20483200676e-06 kilogram 'market for pyrethroid-compound' (kilogram, GLO, None) to 'onion production' (kilogram, NZ, None)>,\n",
       " Exchange: 1.0 kilogram 'onion production' (kilogram, NZ, None) to 'onion production' (kilogram, NZ, None)>,\n",
       " Exchange: 0.00103666666666872 kilogram 'market for packaging, for pesticides' (kilogram, GLO, None) to 'onion production' (kilogram, NZ, None)>,\n",
       " Exchange: 4.62947571082e-05 kilogram 'market for dinitroaniline-compound' (kilogram, GLO, None) to 'onion production' (kilogram, NZ, None)>,\n",
       " Exchange: 1.37277828649e-05 kilogram 'market for cyclic N-compound' (kilogram, GLO, None) to 'onion production' (kilogram, NZ, None)>,\n",
       " Exchange: 25.1111111111 unit 'market for onion seedling, for planting' (unit, GLO, None) to 'onion production' (kilogram, NZ, None)>,\n",
       " Exchange: 0.009466666666666 kilogram 'market for packaging, for fertilisers' (kilogram, GLO, None) to 'onion production' (kilogram, NZ, None)>,\n",
       " Exchange: 0.00724437777778 cubic meter 'market for irrigation' (cubic meter, RoW, None) to 'onion production' (kilogram, NZ, None)>,\n",
       " Exchange: 0.382 megajoule 'market for diesel, burned in agricultural machinery' (megajoule, GLO, None) to 'onion production' (kilogram, NZ, None)>,\n",
       " Exchange: 0.003 kilogram 'market for inorganic nitrogen fertiliser, as N' (kilogram, NZ, None) to 'onion production' (kilogram, NZ, None)>,\n",
       " Exchange: 0.000438850930949 kilogram 'market for dithiocarbamate-compound' (kilogram, GLO, None) to 'onion production' (kilogram, NZ, None)>,\n",
       " Exchange: 9.22444444444e-06 hectare 'market for land use change, annual crop' (hectare, NZ, None) to 'onion production' (kilogram, NZ, None)>,\n",
       " Exchange: 0.000888888888889 kilogram 'market for inorganic phosphorus fertiliser, as P2O5' (kilogram, NZ, None) to 'onion production' (kilogram, NZ, None)>,\n",
       " Exchange: 0.222222222222 square meter-year 'Occupation, annual crop' (square meter-year, None, ('natural resource', 'land')) to 'onion production' (kilogram, NZ, None)>,\n",
       " Exchange: 0.00539311111111 cubic meter 'Water' (cubic meter, None, ('air', 'non-urban air or from high stacks')) to 'onion production' (kilogram, NZ, None)>,\n",
       " Exchange: 0.00148108888889 cubic meter 'Water' (cubic meter, None, ('water', 'surface water')) to 'onion production' (kilogram, NZ, None)>,\n",
       " Exchange: 0.222222222222 square meter 'Transformation, from arable land, unspecified use' (square meter, None, ('natural resource', 'land')) to 'onion production' (kilogram, NZ, None)>,\n",
       " Exchange: 1.43115555556e-05 kilogram 'Phosphate' (kilogram, None, ('water', 'surface water')) to 'onion production' (kilogram, NZ, None)>,\n",
       " Exchange: 0.000370266666667 cubic meter 'Water' (cubic meter, None, ('water', 'ground-')) to 'onion production' (kilogram, NZ, None)>,\n",
       " Exchange: 0.222222222222 square meter 'Transformation, to arable land, unspecified use' (square meter, None, ('natural resource', 'land')) to 'onion production' (kilogram, NZ, None)>,\n",
       " Exchange: 2.80311111111e-05 kilogram 'Phosphorus' (kilogram, None, ('water', 'surface water')) to 'onion production' (kilogram, NZ, None)>,\n",
       " Exchange: 1.0752444e-07 kilogram 'Cadmium' (kilogram, None, ('soil', 'agricultural')) to 'onion production' (kilogram, NZ, None)>,\n",
       " Exchange: 0.177388888889 kilogram 'Carbon dioxide, in air' (kilogram, None, ('natural resource', 'in air')) to 'onion production' (kilogram, NZ, None)>,\n",
       " Exchange: 0.00958315582169 kilogram 'Nitrate' (kilogram, None, ('water', 'ground-')) to 'onion production' (kilogram, NZ, None)>,\n",
       " Exchange: -3.41095511111e-07 kilogram 'Nickel' (kilogram, None, ('soil', 'agricultural')) to 'onion production' (kilogram, NZ, None)>,\n",
       " Exchange: 2.09531111111 megajoule 'Energy, gross calorific value, in biomass' (megajoule, None, ('natural resource', 'biotic')) to 'onion production' (kilogram, NZ, None)>,\n",
       " Exchange: 4.81844444444e-06 kilogram 'Phosphate' (kilogram, None, ('water', 'ground-')) to 'onion production' (kilogram, NZ, None)>,\n",
       " Exchange: -4.47422155556e-07 kilogram 'Copper' (kilogram, None, ('soil', 'agricultural')) to 'onion production' (kilogram, NZ, None)>,\n",
       " Exchange: 2.02514444444e-07 kilogram 'Chromium' (kilogram, None, ('soil', 'agricultural')) to 'onion production' (kilogram, NZ, None)>,\n",
       " Exchange: 7.70866666667e-09 kilogram 'Cadmium, ion' (kilogram, None, ('water', 'surface water')) to 'onion production' (kilogram, NZ, None)>,\n",
       " Exchange: -8.91655577778e-08 kilogram 'Lead' (kilogram, None, ('soil', 'agricultural')) to 'onion production' (kilogram, NZ, None)>,\n",
       " Exchange: 6.6668382222e-09 kilogram 'Mercury' (kilogram, None, ('soil', 'agricultural')) to 'onion production' (kilogram, NZ, None)>,\n",
       " Exchange: 8.24777777778e-07 kilogram 'Chromium, ion' (kilogram, None, ('water', 'surface water')) to 'onion production' (kilogram, NZ, None)>,\n",
       " Exchange: 4.4871133333e-07 kilogram 'Zinc' (kilogram, None, ('soil', 'agricultural')) to 'onion production' (kilogram, NZ, None)>,\n",
       " Exchange: 1.62334272889e-05 kilogram 'Diazinon' (kilogram, None, ('soil', 'agricultural')) to 'onion production' (kilogram, NZ, None)>,\n",
       " Exchange: 6.89933333333e-07 kilogram 'Copper, ion' (kilogram, None, ('water', 'surface water')) to 'onion production' (kilogram, NZ, None)>,\n",
       " Exchange: 4.11679716044e-05 kilogram 'Pendimethalin' (kilogram, None, ('soil', 'agricultural')) to 'onion production' (kilogram, NZ, None)>,\n",
       " Exchange: 2.44e-07 kilogram 'Lead' (kilogram, None, ('water', 'surface water')) to 'onion production' (kilogram, NZ, None)>,\n",
       " Exchange: 2.14281240213e-05 kilogram 'Ioxynil' (kilogram, None, ('soil', 'agricultural')) to 'onion production' (kilogram, NZ, None)>,\n",
       " Exchange: 2.43355555556e-09 kilogram 'Mercury' (kilogram, None, ('water', 'surface water')) to 'onion production' (kilogram, NZ, None)>,\n",
       " Exchange: 0.000390251592024 kilogram 'Mancozeb' (kilogram, None, ('soil', 'agricultural')) to 'onion production' (kilogram, NZ, None)>,\n",
       " Exchange: 6.428e-07 kilogram 'Nickel, ion' (kilogram, None, ('water', 'surface water')) to 'onion production' (kilogram, NZ, None)>,\n",
       " Exchange: 2.42852072242e-05 kilogram 'Pyrimethanil' (kilogram, None, ('soil', 'agricultural')) to 'onion production' (kilogram, NZ, None)>,\n",
       " Exchange: 1.33802222222e-06 kilogram 'Zinc, ion' (kilogram, None, ('water', 'surface water')) to 'onion production' (kilogram, NZ, None)>,\n",
       " Exchange: 1.22075373212e-05 kilogram 'Dimethomorph' (kilogram, None, ('soil', 'agricultural')) to 'onion production' (kilogram, NZ, None)>,\n",
       " Exchange: 9.90533333333e-10 kilogram 'Cadmium, ion' (kilogram, None, ('water', 'ground-')) to 'onion production' (kilogram, NZ, None)>,\n",
       " Exchange: 1.07140620106e-06 kilogram 'Lambda-cyhalothrin' (kilogram, None, ('soil', 'agricultural')) to 'onion production' (kilogram, NZ, None)>,\n",
       " Exchange: 4.47488888889e-07 kilogram 'Chromium, ion' (kilogram, None, ('water', 'ground-')) to 'onion production' (kilogram, NZ, None)>,\n",
       " Exchange: 1.1688067648e-05 kilogram 'Cymoxanil' (kilogram, None, ('soil', 'agricultural')) to 'onion production' (kilogram, NZ, None)>,\n",
       " Exchange: 7.62155555556e-08 kilogram 'Copper, ion' (kilogram, None, ('water', 'ground-')) to 'onion production' (kilogram, NZ, None)>,\n",
       " Exchange: 0.00478622222222 kilogram 'Ammonia' (kilogram, None, ('air', 'non-urban air or from high stacks')) to 'onion production' (kilogram, NZ, None)>,\n",
       " Exchange: 4.63066666667e-09 kilogram 'Lead' (kilogram, None, ('water', 'ground-')) to 'onion production' (kilogram, NZ, None)>,\n",
       " Exchange: 0.000150757777778 kilogram 'Nitrogen oxides' (kilogram, None, ('air', 'non-urban air or from high stacks')) to 'onion production' (kilogram, NZ, None)>,\n",
       " Exchange: 2.67288888889e-11 kilogram 'Mercury' (kilogram, None, ('water', 'ground-')) to 'onion production' (kilogram, NZ, None)>,\n",
       " Exchange: 9.756180705e-05 kilogram 'Dinitrogen monoxide' (kilogram, None, ('air', 'non-urban air or from high stacks')) to 'onion production' (kilogram, NZ, None)>,\n",
       " Exchange: 5.49066666667e-07 kilogram 'Zinc, ion' (kilogram, None, ('water', 'ground-')) to 'onion production' (kilogram, NZ, None)>]"
      ]
     },
     "execution_count": 11,
     "metadata": {},
     "output_type": "execute_result"
    }
   ],
   "source": [
    "list(t.exchanges())"
   ]
  },
  {
   "cell_type": "code",
   "execution_count": null,
   "metadata": {},
   "outputs": [],
   "source": []
  },
  {
   "cell_type": "code",
   "execution_count": null,
   "metadata": {},
   "outputs": [],
   "source": []
  },
  {
   "cell_type": "code",
   "execution_count": null,
   "metadata": {},
   "outputs": [],
   "source": []
  },
  {
   "cell_type": "code",
   "execution_count": null,
   "metadata": {},
   "outputs": [],
   "source": []
  },
  {
   "cell_type": "code",
   "execution_count": null,
   "metadata": {},
   "outputs": [],
   "source": []
  },
  {
   "cell_type": "code",
   "execution_count": null,
   "metadata": {},
   "outputs": [],
   "source": []
  },
  {
   "cell_type": "code",
   "execution_count": null,
   "metadata": {},
   "outputs": [],
   "source": []
  },
  {
   "cell_type": "code",
   "execution_count": 12,
   "metadata": {},
   "outputs": [
    {
     "ename": "NameError",
     "evalue": "name 'midbins' is not defined",
     "output_type": "error",
     "traceback": [
      "\u001b[0;31m---------------------------------------------------------------------------\u001b[0m",
      "\u001b[0;31mNameError\u001b[0m                                 Traceback (most recent call last)",
      "Input \u001b[0;32mIn [12]\u001b[0m, in \u001b[0;36m<module>\u001b[0;34m\u001b[0m\n\u001b[1;32m      1\u001b[0m fig \u001b[38;5;241m=\u001b[39m go\u001b[38;5;241m.\u001b[39mFigure()\n\u001b[1;32m      2\u001b[0m fig\u001b[38;5;241m.\u001b[39madd_trace(\n\u001b[1;32m      3\u001b[0m     go\u001b[38;5;241m.\u001b[39mScatter(\n\u001b[0;32m----> 4\u001b[0m         x \u001b[38;5;241m=\u001b[39m \u001b[43mmidbins\u001b[49m,\n\u001b[1;32m      5\u001b[0m         y \u001b[38;5;241m=\u001b[39m Y_samples,\n\u001b[1;32m      6\u001b[0m         line_color \u001b[38;5;241m=\u001b[39m \u001b[38;5;124m'\u001b[39m\u001b[38;5;124mblue\u001b[39m\u001b[38;5;124m'\u001b[39m,\n\u001b[1;32m      7\u001b[0m     )\n\u001b[1;32m      8\u001b[0m )\n\u001b[1;32m      9\u001b[0m fig\u001b[38;5;241m.\u001b[39madd_trace(\n\u001b[1;32m     10\u001b[0m     go\u001b[38;5;241m.\u001b[39mScatter(\n\u001b[1;32m     11\u001b[0m         x \u001b[38;5;241m=\u001b[39m midbins,\n\u001b[0;32m   (...)\u001b[0m\n\u001b[1;32m     14\u001b[0m     )\n\u001b[1;32m     15\u001b[0m )\n\u001b[1;32m     16\u001b[0m fig\u001b[38;5;241m.\u001b[39mshow()\n",
      "\u001b[0;31mNameError\u001b[0m: name 'midbins' is not defined"
     ]
    }
   ],
   "source": [
    "fig = go.Figure()\n",
    "fig.add_trace(\n",
    "    go.Scatter(\n",
    "        x = midbins,\n",
    "        y = Y_samples,\n",
    "        line_color = 'blue',\n",
    "    )\n",
    ")\n",
    "fig.add_trace(\n",
    "    go.Scatter(\n",
    "        x = midbins,\n",
    "        y = Y_distr,\n",
    "        line_color = 'red',\n",
    "    )\n",
    ")\n",
    "fig.show()"
   ]
  },
  {
   "cell_type": "code",
   "execution_count": null,
   "metadata": {},
   "outputs": [],
   "source": [
    "fig = go.Figure()\n",
    "fig.add_trace(\n",
    "    go.Scatter(\n",
    "        x = midbins,\n",
    "        y = Y_samples,\n",
    "        line_color = 'blue',\n",
    "    )\n",
    ")"
   ]
  },
  {
   "cell_type": "code",
   "execution_count": null,
   "metadata": {},
   "outputs": [],
   "source": []
  },
  {
   "cell_type": "code",
   "execution_count": null,
   "metadata": {},
   "outputs": [],
   "source": []
  },
  {
   "cell_type": "code",
   "execution_count": null,
   "metadata": {},
   "outputs": [],
   "source": [
    "# ind = 149\n",
    "# row = bd.get_id(matrix_indices[ind][0])\n",
    "# col = bd.get_id(matrix_indices[ind][1])\n",
    "# row_col = np.array((row,col), dtype=indices.dtype)\n",
    "# where = np.where(indices == row_col)[0][0]\n",
    "# unct = uncertainties[where:where+1]\n",
    "# assert unct['uncertainty_type']==2\n",
    "\n",
    "# Y = matrix_samples[ind,:]\n",
    "# bin_min = min(Y)\n",
    "# bin_max = max(Y)\n",
    "# num_bins = 60\n",
    "# loc = unct['loc']\n",
    "# scale = unct['scale']\n",
    "# x = np.linspace(bin_min, bin_max, 100) \n",
    "     \n",
    "# # Varying positional arguments \n",
    "# y_distr = lognorm.pdf(x, s=scale, scale=np.exp(loc))\n",
    "\n",
    "# fig = go.Figure()\n",
    "# bins_ = np.linspace(bin_min, bin_max, num_bins, endpoint=True)\n",
    "# freq, bins = np.histogram(Y, bins=bins_, density=True)\n",
    "\n",
    "# fig.add_trace(\n",
    "#     go.Scatter(\n",
    "#         x=bins,\n",
    "#         y=freq,\n",
    "#         opacity=0.65,\n",
    "#         line=dict(color=\"blue\", width=1, shape=\"hvh\"),\n",
    "#         fill=\"tozeroy\",\n",
    "#     ),\n",
    "# )\n",
    "\n",
    "# fig.add_trace(\n",
    "#     go.Scatter(\n",
    "#         x = x,\n",
    "#         y = y_distr,\n",
    "#         line_color = 'red',\n",
    "#     )\n",
    "# )\n",
    "# fig.show()"
   ]
  },
  {
   "cell_type": "code",
   "execution_count": null,
   "metadata": {},
   "outputs": [],
   "source": [
    "a = [act for act in ei if 'market for electricity, low' in act['name']]\n",
    "a"
   ]
  },
  {
   "cell_type": "code",
   "execution_count": null,
   "metadata": {},
   "outputs": [],
   "source": [
    "list(a[0].exchanges())"
   ]
  },
  {
   "cell_type": "code",
   "execution_count": null,
   "metadata": {},
   "outputs": [],
   "source": [
    "\"3b15ec72f45f4700fec86f75084fe558\", \"666aa058fa7418ec809f91cb610720ad\""
   ]
  },
  {
   "cell_type": "code",
   "execution_count": null,
   "metadata": {},
   "outputs": [],
   "source": [
    "a[0].as_dict()['reference product'], a[-4].as_dict()['reference product']"
   ]
  },
  {
   "cell_type": "code",
   "execution_count": null,
   "metadata": {},
   "outputs": [],
   "source": []
  },
  {
   "cell_type": "code",
   "execution_count": null,
   "metadata": {},
   "outputs": [],
   "source": []
  },
  {
   "cell_type": "code",
   "execution_count": null,
   "metadata": {},
   "outputs": [],
   "source": [
    "# bio_inds = lca.packages[1].get_resource(\"ecoinvent_3.8_cutoff_biosphere_matrix.indices\")[0]\n",
    "# tfrom = [act.id for act in bio if \"Transformation, from\" in act['name']]\n",
    "# tto = [act.id for act in bio if \"Transformation, to\" in act['name']]\n",
    "# land_acts = tfrom + tto"
   ]
  },
  {
   "cell_type": "code",
   "execution_count": null,
   "metadata": {},
   "outputs": [],
   "source": [
    "# ei_acts = np.array([], dtype=int)\n",
    "# for a in land_acts:\n",
    "#     mask = bio_inds['row'] == a\n",
    "#     ei_acts = np.hstack([ei_acts, bio_inds[mask]['col']])\n",
    "# ei_acts.sort()\n",
    "# ei_acts = np.unique(ei_acts)\n",
    "# ei_acts.shape"
   ]
  },
  {
   "cell_type": "code",
   "execution_count": null,
   "metadata": {},
   "outputs": [],
   "source": [
    "# for ei_act_id in ei_acts:\n",
    "#     ei_act = bd.get_activity(ei_act_id)\n",
    "#     act_balancer = ActivityLandBalancer(ei_act.key, dlb)\n",
    "#     act_balancer._identify_strategy()\n",
    "#     if act_balancer.strategy == 'static':\n",
    "#         break"
   ]
  },
  {
   "cell_type": "code",
   "execution_count": null,
   "metadata": {},
   "outputs": [],
   "source": [
    "# type(4435)"
   ]
  },
  {
   "cell_type": "code",
   "execution_count": null,
   "metadata": {},
   "outputs": [],
   "source": [
    "# bd.get_activity(4435)"
   ]
  },
  {
   "cell_type": "code",
   "execution_count": null,
   "metadata": {},
   "outputs": [],
   "source": [
    "# ei_act_id, type(ei_act_id)"
   ]
  },
  {
   "cell_type": "code",
   "execution_count": null,
   "metadata": {},
   "outputs": [],
   "source": [
    "# bd.get_activity(int(ei_act_id))"
   ]
  },
  {
   "cell_type": "code",
   "execution_count": null,
   "metadata": {},
   "outputs": [],
   "source": [
    "# bd.get_activity(ei_act_id)"
   ]
  },
  {
   "cell_type": "code",
   "execution_count": null,
   "metadata": {},
   "outputs": [],
   "source": []
  },
  {
   "cell_type": "code",
   "execution_count": null,
   "metadata": {},
   "outputs": [],
   "source": []
  },
  {
   "cell_type": "code",
   "execution_count": null,
   "metadata": {},
   "outputs": [],
   "source": []
  },
  {
   "cell_type": "code",
   "execution_count": null,
   "metadata": {},
   "outputs": [],
   "source": []
  },
  {
   "cell_type": "code",
   "execution_count": null,
   "metadata": {},
   "outputs": [],
   "source": []
  },
  {
   "cell_type": "code",
   "execution_count": null,
   "metadata": {},
   "outputs": [],
   "source": []
  },
  {
   "cell_type": "code",
   "execution_count": null,
   "metadata": {},
   "outputs": [],
   "source": []
  },
  {
   "cell_type": "code",
   "execution_count": null,
   "metadata": {},
   "outputs": [],
   "source": []
  },
  {
   "cell_type": "code",
   "execution_count": null,
   "metadata": {},
   "outputs": [],
   "source": []
  },
  {
   "cell_type": "code",
   "execution_count": null,
   "metadata": {},
   "outputs": [],
   "source": [
    "# for x in dlb.matrix_indices:\n",
    "#     a = bd.get_activity(x[1])\n",
    "#     from bw2landbalancer import ActivityLandBalancer\n",
    "#     aa = ActivityLandBalancer(a.key, dlb)\n",
    "#     if aa.activity_params:\n",
    "#         break"
   ]
  },
  {
   "cell_type": "code",
   "execution_count": null,
   "metadata": {},
   "outputs": [],
   "source": [
    "# list(aa.act.exchanges())"
   ]
  },
  {
   "cell_type": "markdown",
   "metadata": {},
   "source": [
    "These can directly be used to generate [`presamples`](https://presamples.readthedocs.io/):"
   ]
  },
  {
   "cell_type": "code",
   "execution_count": null,
   "metadata": {},
   "outputs": [],
   "source": [
    "presamples_id, presamples_fp = dlb.create_presamples(\n",
    "    name=None,  # Could have specified a string as name, not passing anything will use automatically generated random name\n",
    "    dirpath=None,  # Could have specified a directory path to save presamples somewhere specific \n",
    "    id_=None,  # Could have specified a string as id, not passing anything will use automatically generated random id\n",
    "    seed='sequential',  # or None, or int.\n",
    "    )"
   ]
  },
  {
   "cell_type": "markdown",
   "metadata": {},
   "source": [
    "## Using the samples\n",
    "\n",
    "The samples are formatted for use in brighway2 via the presamples package. \n",
    "\n",
    "The following function calculates:  \n",
    "  - Deterministic results, using `bc.LCA`  \n",
    "  - Stochastic results, using `bc.MonteCarloLCA`  \n",
    "  - Stochastic results using presamples, using `bc.MonteCarloLCA` and passing `presamples=[presamples_fp]`  \n",
    "  \n",
    "The ratio of stochastic results to deterministic results are then plotted for Monte Carlo results with and without presamples.  \n",
    "Ratios for Monte Carlo with presamples are on the order of 1.  \n",
    "Ratios for Monte Carlo without presamples can be multiple orders of magnitude, and can be negative or positive.    "
   ]
  },
  {
   "cell_type": "code",
   "execution_count": null,
   "metadata": {},
   "outputs": [],
   "source": [
    "def check_presamples_act(act_key, ps_fp, lcia_method, iterations=1000):\n",
    "    \"\"\"Plot histrograms of Monte Carlo samples/det result for case w/ and w/o presamples\"\"\"\n",
    "    lca = bc.LCA({act_key:1}, method=m)\n",
    "    lca.lci()\n",
    "    lca.lcia()\n",
    "    \n",
    "    mc_arr_wo = np.empty(shape=iterations)\n",
    "    mc = bc.MonteCarloLCA({act_key:1}, method=m)\n",
    "    for i in range(iterations):\n",
    "        mc_arr_wo[i] = next(mc)/lca.score\n",
    "    \n",
    "    mc_arr_w = np.empty(shape=iterations)\n",
    "    mc_w = bc.MonteCarloLCA({act_key:1}, method=m, presamples=[ps_fp])\n",
    "    for i in range(iterations):\n",
    "        mc_arr_w[i] = next(mc_w)/lca.score\n",
    "    \n",
    "    plt.hist(mc_arr_wo, histtype=\"step\", color='orange', label=\"without presamples\")\n",
    "    plt.hist(mc_arr_w, histtype=\"step\", color='green', label=\"with presamples\")\n",
    "    plt.legend()"
   ]
  },
  {
   "cell_type": "markdown",
   "metadata": {},
   "source": [
    "Let's run this on a couple of random ecoinvent products with the ImpactWorld+ Land transformation, biodiversity LCIA method:"
   ]
  },
  {
   "cell_type": "code",
   "execution_count": null,
   "metadata": {},
   "outputs": [],
   "source": [
    "m=('IMPACTWorld+ (Default_Recommended_Midpoint 1.23)', 'Midpoint', 'Land transformation, biodiversity')"
   ]
  },
  {
   "cell_type": "code",
   "execution_count": null,
   "metadata": {},
   "outputs": [],
   "source": [
    "import matplotlib.pyplot as plt\n",
    "%matplotlib inline"
   ]
  },
  {
   "cell_type": "code",
   "execution_count": null,
   "metadata": {},
   "outputs": [],
   "source": [
    "act = [act for act in bd.Database(ei_name) if act['name']=='polyester-complexed starch biopolymer production'][0]\n",
    "print(\"Working on activity known to have non-negligeable land transformation impacts: \", act)\n",
    "check_presamples_act(act.key, presamples_fp, m)"
   ]
  },
  {
   "cell_type": "code",
   "execution_count": null,
   "metadata": {},
   "outputs": [],
   "source": [
    "act = bd.Database(ei_name).random()\n",
    "print(\"Randomly working on \", act)\n",
    "check_presamples_act(act.key, presamples_fp, m)"
   ]
  },
  {
   "cell_type": "code",
   "execution_count": null,
   "metadata": {},
   "outputs": [],
   "source": [
    "act = bd.Database(ei_name).random()\n",
    "print(\"Randomly working on \", act)\n",
    "check_presamples_act(act.key, presamples_fp, m)"
   ]
  },
  {
   "cell_type": "code",
   "execution_count": null,
   "metadata": {},
   "outputs": [],
   "source": [
    "act = bd.Database(ei_name).random()\n",
    "print(\"Randomly working on \", act)\n",
    "check_presamples_act(act.key, presamples_fp, m)"
   ]
  },
  {
   "cell_type": "code",
   "execution_count": null,
   "metadata": {},
   "outputs": [],
   "source": [
    "act = bd.Database(ei_name).random()\n",
    "print(\"Randomly working on \", act)\n",
    "check_presamples_act(act.key, presamples_fp, m)"
   ]
  }
 ],
 "metadata": {
  "kernelspec": {
   "display_name": "Python 3 (ipykernel)",
   "language": "python",
   "name": "python3"
  },
  "language_info": {
   "codemirror_mode": {
    "name": "ipython",
    "version": 3
   },
   "file_extension": ".py",
   "mimetype": "text/x-python",
   "name": "python",
   "nbconvert_exporter": "python",
   "pygments_lexer": "ipython3",
   "version": "3.9.10"
  },
  "toc": {
   "base_numbering": 1,
   "nav_menu": {},
   "number_sections": false,
   "sideBar": true,
   "skip_h1_title": false,
   "title_cell": "Table of Contents",
   "title_sidebar": "Contents",
   "toc_cell": false,
   "toc_position": {},
   "toc_section_display": true,
   "toc_window_display": true
  },
  "varInspector": {
   "cols": {
    "lenName": 16,
    "lenType": 16,
    "lenVar": 40
   },
   "kernels_config": {
    "python": {
     "delete_cmd_postfix": "",
     "delete_cmd_prefix": "del ",
     "library": "var_list.py",
     "varRefreshCmd": "print(var_dic_list())"
    },
    "r": {
     "delete_cmd_postfix": ") ",
     "delete_cmd_prefix": "rm(",
     "library": "var_list.r",
     "varRefreshCmd": "cat(var_dic_list()) "
    }
   },
   "types_to_exclude": [
    "module",
    "function",
    "builtin_function_or_method",
    "instance",
    "_Feature"
   ],
   "window_display": false
  }
 },
 "nbformat": 4,
 "nbformat_minor": 2
}
