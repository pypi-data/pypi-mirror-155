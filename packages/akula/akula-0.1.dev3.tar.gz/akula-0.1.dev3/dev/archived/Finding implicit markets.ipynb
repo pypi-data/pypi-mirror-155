{
 "cells": [
  {
   "cell_type": "code",
   "execution_count": 1,
   "id": "79eb6aec",
   "metadata": {},
   "outputs": [],
   "source": [
    "import bw2data as bd\n",
    "from collections import defaultdict\n",
    "from tqdm import tqdm\n",
    "from thefuzz import fuzz"
   ]
  },
  {
   "cell_type": "code",
   "execution_count": 2,
   "id": "40d7a124-8aa8-49d9-a3fb-a309a3d7aecc",
   "metadata": {},
   "outputs": [],
   "source": [
    "bd.projects.set_current('GSA for archetypes')"
   ]
  },
  {
   "cell_type": "code",
   "execution_count": 3,
   "id": "64f41259",
   "metadata": {},
   "outputs": [
    {
     "data": {
      "text/plain": [
       "Databases dictionary with 3 object(s):\n",
       "\tbiosphere3\n",
       "\tecoinvent 3.8 cutoff\n",
       "\tswiss consumption 1.0"
      ]
     },
     "execution_count": 3,
     "metadata": {},
     "output_type": "execute_result"
    }
   ],
   "source": [
    "bd.databases"
   ]
  },
  {
   "cell_type": "markdown",
   "id": "b35a4b54-4e97-4121-b01a-422358dcec7c",
   "metadata": {},
   "source": [
    "The inspiration for these virtual markets was the input of 'soybean' to 'market for soybean, feed' which has a reference product 'soybean, feed'. We can't just test exact matching, need to be a bit [more flexible](https://github.com/seatgeek/thefuzz) on these virtual markets."
   ]
  },
  {
   "cell_type": "code",
   "execution_count": 4,
   "id": "09d9c617-b815-4f3e-94b3-53635e1a6948",
   "metadata": {},
   "outputs": [],
   "source": [
    "def similar(a, b):\n",
    "    return fuzz.partial_ratio(a, b) > 90 or fuzz.ratio(a, b) > 40"
   ]
  },
  {
   "cell_type": "code",
   "execution_count": 5,
   "id": "02c989ec",
   "metadata": {},
   "outputs": [],
   "source": [
    "def find_uncertain_virtual_markets(database):\n",
    "    db = bd.Database(database)\n",
    "\n",
    "    found = {}\n",
    "    \n",
    "    for act in tqdm(db):\n",
    "        rp = act.get(\"reference product\")\n",
    "        if not rp:\n",
    "            continue\n",
    "            \n",
    "        inpts = defaultdict(list)\n",
    "        for exc in act.technosphere():\n",
    "            if exc.input == exc.output:\n",
    "                continue\n",
    "            elif exc['uncertainty type'] < 2:\n",
    "                continue\n",
    "            inpts[exc.input['reference product']].append(exc)\n",
    "            \n",
    "        for key, lst in inpts.items():\n",
    "            if len(lst) > 1 and similar(rp, key) and 0.98 <= sum([exc['amount'] for exc in lst]) <= 1.02:\n",
    "                found[act] = lst\n",
    "            \n",
    "    return found"
   ]
  },
  {
   "cell_type": "code",
   "execution_count": null,
   "id": "2d512b87-e499-44c3-aa00-b517bdac2abd",
   "metadata": {},
   "outputs": [
    {
     "name": "stderr",
     "output_type": "stream",
     "text": [
      " 58%|███████████████████████████████████████████▊                               | 11424/19565 [03:50<02:53, 46.89it/s]"
     ]
    }
   ],
   "source": [
    "found = find_uncertain_virtual_markets(\"ecoinvent 3.8 cutoff\")"
   ]
  },
  {
   "cell_type": "code",
   "execution_count": 6,
   "id": "070d4f5a-d6f8-4958-b365-85463c67e6b1",
   "metadata": {},
   "outputs": [
    {
     "data": {
      "text/plain": [
       "61"
      ]
     },
     "execution_count": 6,
     "metadata": {},
     "output_type": "execute_result"
    }
   ],
   "source": [
    "len(found)"
   ]
  },
  {
   "cell_type": "code",
   "execution_count": 7,
   "id": "fbc4e0c4-88e1-4807-8546-0f265ecbbb44",
   "metadata": {},
   "outputs": [
    {
     "data": {
      "text/plain": [
       "('natural gas, high pressure, import from NL' (cubic meter, PL, None),\n",
       " [Exchange: 0.2840284 cubic meter 'petroleum and gas production, off-shore' (cubic meter, NL, None) to 'natural gas, high pressure, import from NL' (cubic meter, PL, None)>,\n",
       "  Exchange: 0.7160716 cubic meter 'petroleum and gas production, on-shore' (cubic meter, NL, None) to 'natural gas, high pressure, import from NL' (cubic meter, PL, None)>])"
      ]
     },
     "execution_count": 7,
     "metadata": {},
     "output_type": "execute_result"
    }
   ],
   "source": [
    "ng = list(found)[5]\n",
    "ng, found[ng]"
   ]
  },
  {
   "cell_type": "code",
   "execution_count": null,
   "id": "a930edab",
   "metadata": {},
   "outputs": [],
   "source": [
    "found"
   ]
  },
  {
   "cell_type": "markdown",
   "id": "6832e88b-06ba-4513-b7ff-d718756de44a",
   "metadata": {},
   "source": [
    "We can use the [dirichlet](https://docs.scipy.org/doc/scipy/reference/generated/scipy.stats.dirichlet.html) to model parameters with a fixed sum, but this distribution is sensitive to the concentration values."
   ]
  },
  {
   "cell_type": "code",
   "execution_count": 8,
   "id": "300552f4-0ef7-4425-960e-84d051cfdfda",
   "metadata": {},
   "outputs": [],
   "source": [
    "from scipy.stats import dirichlet\n",
    "import numpy as np\n",
    "import seaborn as sb"
   ]
  },
  {
   "cell_type": "code",
   "execution_count": 59,
   "id": "91ae6e9c-b2d2-40b6-b695-b16b8ae29f51",
   "metadata": {},
   "outputs": [
    {
     "data": {
      "text/plain": [
       "array([0.284, 0.716])"
      ]
     },
     "execution_count": 59,
     "metadata": {},
     "output_type": "execute_result"
    }
   ],
   "source": [
    "x = np.array([exc['amount'] for exc in found[ng]])\n",
    "alpha = x.copy()\n",
    "\n",
    "dirichlet.mean(alpha)"
   ]
  },
  {
   "cell_type": "code",
   "execution_count": 60,
   "id": "d2a3690d-6f80-4841-8061-69907eb7debe",
   "metadata": {},
   "outputs": [],
   "source": [
    "rvs = dirichlet.rvs(alpha, size=1000)"
   ]
  },
  {
   "cell_type": "code",
   "execution_count": 61,
   "id": "b28a39dd-98bf-4168-be98-6277be595d1b",
   "metadata": {},
   "outputs": [
    {
     "data": {
      "text/plain": [
       "<seaborn.axisgrid.FacetGrid at 0x12b2ca400>"
      ]
     },
     "execution_count": 61,
     "metadata": {},
     "output_type": "execute_result"
    },
    {
     "data": {
      "image/png": "[encoded data removed]",
      "text/plain": [
       "<Figure size 360x360 with 1 Axes>"
      ]
     },
     "metadata": {
      "needs_background": "light"
     },
     "output_type": "display_data"
    }
   ],
   "source": [
    "sb.displot(rvs[:, 0])"
   ]
  },
  {
   "cell_type": "code",
   "execution_count": 62,
   "id": "79845e80-f9c8-4539-92d5-ba5520b18604",
   "metadata": {},
   "outputs": [],
   "source": [
    "rvs = dirichlet.rvs(alpha * 10, size=1000)"
   ]
  },
  {
   "cell_type": "code",
   "execution_count": 63,
   "id": "1c6dc8de-fc80-4945-8af8-5bc357b52b51",
   "metadata": {},
   "outputs": [
    {
     "data": {
      "text/plain": [
       "<seaborn.axisgrid.FacetGrid at 0x12da4a4f0>"
      ]
     },
     "execution_count": 63,
     "metadata": {},
     "output_type": "execute_result"
    },
    {
     "data": {
      "image/png": "[encoded data removed]",
      "text/plain": [
       "<Figure size 360x360 with 1 Axes>"
      ]
     },
     "metadata": {
      "needs_background": "light"
     },
     "output_type": "display_data"
    }
   ],
   "source": [
    "sb.displot(rvs[:, 0])"
   ]
  },
  {
   "cell_type": "code",
   "execution_count": 64,
   "id": "95241375-bbb2-474b-8b31-2da49e959832",
   "metadata": {},
   "outputs": [],
   "source": [
    "rvs = dirichlet.rvs(alpha * 500, size=1000)"
   ]
  },
  {
   "cell_type": "code",
   "execution_count": 65,
   "id": "4fe26988-4ba6-4b82-ac11-565885f13c44",
   "metadata": {},
   "outputs": [
    {
     "data": {
      "text/plain": [
       "<seaborn.axisgrid.FacetGrid at 0x127c75c10>"
      ]
     },
     "execution_count": 65,
     "metadata": {},
     "output_type": "execute_result"
    },
    {
     "data": {
      "image/png": "[encoded data removed]",
      "text/plain": [
       "<Figure size 360x360 with 1 Axes>"
      ]
     },
     "metadata": {
      "needs_background": "light"
     },
     "output_type": "display_data"
    }
   ],
   "source": [
    "sb.displot(rvs[:, 0])"
   ]
  },
  {
   "cell_type": "code",
   "execution_count": 66,
   "id": "10188a32-ece2-420a-bf8b-ecd21a53f797",
   "metadata": {},
   "outputs": [
    {
     "data": {
      "text/plain": [
       "<seaborn.axisgrid.FacetGrid at 0x12b2ca310>"
      ]
     },
     "execution_count": 66,
     "metadata": {},
     "output_type": "execute_result"
    },
    {
     "data": {
      "image/png": "[encoded data removed]",
      "text/plain": [
       "<Figure size 360x360 with 1 Axes>"
      ]
     },
     "metadata": {
      "needs_background": "light"
     },
     "output_type": "display_data"
    }
   ],
   "source": [
    "sb.displot(rvs[:, 1])"
   ]
  },
  {
   "cell_type": "markdown",
   "id": "475df03b-0847-442d-8f01-a8cc14d55eaf",
   "metadata": {},
   "source": [
    "We can use these new values in Monte Carlo assessment (in place of the independent sampling which results in broken mass balances). The exact approach here will probably be different; for example, one could use trade statistics to create regional markets with much higher precision.\n",
    "\n",
    "The underlying concepts in the following are documented in [bw_processing](https://github.com/brightway-lca/bw_processing) and [matrix_utils](https://github.com/brightway-lca/matrix_utils). In this notebook we will use in-memory datapackages for our fixes."
   ]
  },
  {
   "cell_type": "code",
   "execution_count": 16,
   "id": "0410ddb7-b372-4236-a530-efb3bace4de2",
   "metadata": {},
   "outputs": [],
   "source": [
    "import bw_processing as bwp"
   ]
  },
  {
   "cell_type": "code",
   "execution_count": 17,
   "id": "71442143-aa41-4d12-b286-5933c8a34fc3",
   "metadata": {},
   "outputs": [],
   "source": [
    "indices_array = np.array([(exc.input.id, exc.output.id) for exc in found[ng]], dtype=bwp.INDICES_DTYPE)\n",
    "\n",
    "# Redefine alpha to make sure order is consistent\n",
    "# Transpose to get rows or exchange indices, columns of possible values\n",
    "data_array = dirichlet.rvs(np.array([exc['amount'] for exc in found[ng]]) * 500, size=1000).T\n",
    "\n",
    "# technosphere inputs must be flipped\n",
    "flip_array = np.ones(len(found[ng]), dtype=bool)"
   ]
  },
  {
   "cell_type": "code",
   "execution_count": 18,
   "id": "0feb09c7-d077-4635-ba42-048a86a97247",
   "metadata": {},
   "outputs": [],
   "source": [
    "dp = bwp.create_datapackage()"
   ]
  },
  {
   "cell_type": "code",
   "execution_count": 19,
   "id": "c0a3e862-f097-44db-8870-632635e7e956",
   "metadata": {},
   "outputs": [],
   "source": [
    "dp.add_persistent_array(\n",
    "    matrix=\"technosphere_matrix\",\n",
    "    data_array=data_array,\n",
    "    name=\"ng-fix-dz-es\",\n",
    "    indices_array=indices_array,\n",
    "    flip_array=flip_array,\n",
    ")"
   ]
  },
  {
   "cell_type": "markdown",
   "id": "089d254d-cb37-42a3-b231-2c2bab4f64fc",
   "metadata": {},
   "source": [
    "Compare Monte Carlo results with and without the fix"
   ]
  },
  {
   "cell_type": "code",
   "execution_count": 20,
   "id": "b7149a0d-40c5-47ac-b05f-11e4e05ec745",
   "metadata": {
    "tags": []
   },
   "outputs": [],
   "source": [
    "ipcc = ('IPCC 2013', 'climate change', 'GWP 100a')"
   ]
  },
  {
   "cell_type": "code",
   "execution_count": 21,
   "id": "8ea0d572-217a-4fe5-a427-a505fb62e29e",
   "metadata": {},
   "outputs": [],
   "source": [
    "_, data_objs, _ = bd.prepare_lca_inputs({ng: 1}, method=ipcc)"
   ]
  },
  {
   "cell_type": "markdown",
   "id": "fde83f2d-847f-480e-8386-cd4a94c19acd",
   "metadata": {},
   "source": [
    "Default is to use three datapackages: biosphere database, ecoinvent database, and LCIA method"
   ]
  },
  {
   "cell_type": "code",
   "execution_count": 22,
   "id": "8eaf7938-8f73-41db-841e-184b0976b041",
   "metadata": {},
   "outputs": [
    {
     "data": {
      "text/plain": [
       "[<bw_processing.datapackage.Datapackage at 0x12531e250>,\n",
       " <bw_processing.datapackage.Datapackage at 0x1278efdc0>,\n",
       " <bw_processing.datapackage.Datapackage at 0x1278ef790>]"
      ]
     },
     "execution_count": 22,
     "metadata": {},
     "output_type": "execute_result"
    }
   ],
   "source": [
    "data_objs"
   ]
  },
  {
   "cell_type": "code",
   "execution_count": 23,
   "id": "fde3901b-7445-4fbe-b566-2c891c8a1424",
   "metadata": {},
   "outputs": [],
   "source": [
    "import bw2calc as bc"
   ]
  },
  {
   "cell_type": "code",
   "execution_count": 47,
   "id": "abf0b657-6120-4926-8263-566c9f46b074",
   "metadata": {},
   "outputs": [],
   "source": [
    "lca = bc.LCA({ng.id: 1}, data_objs=data_objs, use_distributions=True)\n",
    "lca.lci()\n",
    "lca.lcia()"
   ]
  },
  {
   "cell_type": "code",
   "execution_count": 48,
   "id": "eaa17120-d9af-4eb4-8e18-990086015888",
   "metadata": {},
   "outputs": [],
   "source": [
    "unmodified = np.array([lca.score for _ in zip(lca, range(250))])"
   ]
  },
  {
   "cell_type": "code",
   "execution_count": 49,
   "id": "f7fb2fd1-0172-40d9-bb64-0cb8a28bd9bf",
   "metadata": {},
   "outputs": [],
   "source": [
    "fixed = bc.LCA({ng.id: 1}, data_objs=data_objs + [dp], use_arrays=True, use_distributions=True)\n",
    "fixed.lci()\n",
    "fixed.lcia()"
   ]
  },
  {
   "cell_type": "code",
   "execution_count": 50,
   "id": "2b422e3e-2722-461b-a6e6-b1961cb960cc",
   "metadata": {},
   "outputs": [],
   "source": [
    "modified = np.array([fixed.score for _ in zip(fixed, range(250))])"
   ]
  },
  {
   "cell_type": "markdown",
   "id": "1c2c1751-0dee-4035-94e4-2d156634ee8c",
   "metadata": {},
   "source": [
    "Uncertainty for this example is not huge, so difference is not obvious"
   ]
  },
  {
   "cell_type": "code",
   "execution_count": 51,
   "id": "e09a5ec5-67dc-4b55-9e6d-f94cd9af766c",
   "metadata": {},
   "outputs": [
    {
     "data": {
      "text/plain": [
       "(0.07180383251106659,\n",
       " 0.014339692216107132,\n",
       " 0.07214504176627519,\n",
       " 0.014339692216107132)"
      ]
     },
     "execution_count": 51,
     "metadata": {},
     "output_type": "execute_result"
    }
   ],
   "source": [
    "np.mean(modified), np.std(modified), np.mean(unmodified), np.std(modified)"
   ]
  },
  {
   "cell_type": "code",
   "execution_count": 52,
   "id": "3fbc0cf9-2210-483c-b055-0c17f11518d7",
   "metadata": {},
   "outputs": [
    {
     "name": "stdout",
     "output_type": "stream",
     "text": [
      "0.06735432695017118\n",
      "0.03625739048224403\n"
     ]
    }
   ],
   "source": [
    "for exc in found[ng]:\n",
    "    lca.redo_lcia({exc.input.id: 1})\n",
    "    print(lca.score)"
   ]
  },
  {
   "cell_type": "code",
   "execution_count": 53,
   "id": "eb83f6a0-1cff-41d9-8f7b-b53820b1976e",
   "metadata": {},
   "outputs": [
    {
     "name": "stdout",
     "output_type": "stream",
     "text": [
      "0.16155494421403513\n",
      "0.16155494421403513\n"
     ]
    }
   ],
   "source": [
    "for exc in found[ng]:\n",
    "    print(exc['scale'])"
   ]
  },
  {
   "cell_type": "code",
   "execution_count": 54,
   "id": "b2f60fc1-9cf2-4aca-8721-14fa3ca00f69",
   "metadata": {},
   "outputs": [
    {
     "data": {
      "text/plain": [
       "-0.8414860872087331"
      ]
     },
     "execution_count": 54,
     "metadata": {},
     "output_type": "execute_result"
    }
   ],
   "source": [
    "sum([\n",
    "    lca.technosphere_matrix[lca.dicts.product[row], lca.dicts.activity[col]]\n",
    "    for row, col in indices_array\n",
    "])"
   ]
  },
  {
   "cell_type": "code",
   "execution_count": 55,
   "id": "5a4d2ec3-8040-43a0-ab37-a1f0a030219d",
   "metadata": {},
   "outputs": [
    {
     "data": {
      "text/plain": [
       "-0.9999999999999998"
      ]
     },
     "execution_count": 55,
     "metadata": {},
     "output_type": "execute_result"
    }
   ],
   "source": [
    "sum([\n",
    "    fixed.technosphere_matrix[fixed.dicts.product[row], fixed.dicts.activity[col]]\n",
    "    for row, col in indices_array\n",
    "])"
   ]
  },
  {
   "cell_type": "code",
   "execution_count": 56,
   "id": "fd322599-70f1-487f-9348-35a0f6794819",
   "metadata": {},
   "outputs": [
    {
     "data": {
      "text/plain": [
       "<seaborn.axisgrid.FacetGrid at 0x12bd0fd60>"
      ]
     },
     "execution_count": 56,
     "metadata": {},
     "output_type": "execute_result"
    },
    {
     "data": {
      "image/png": "[encoded data removed]",
      "text/plain": [
       "<Figure size 360x360 with 1 Axes>"
      ]
     },
     "metadata": {
      "needs_background": "light"
     },
     "output_type": "display_data"
    }
   ],
   "source": [
    "sb.displot(unmodified, kde=True)"
   ]
  },
  {
   "cell_type": "code",
   "execution_count": 57,
   "id": "cf1237b0-7aa6-46a9-9c36-fc8b5651f9fc",
   "metadata": {},
   "outputs": [
    {
     "data": {
      "text/plain": [
       "<seaborn.axisgrid.FacetGrid at 0x1283a2b50>"
      ]
     },
     "execution_count": 57,
     "metadata": {},
     "output_type": "execute_result"
    },
    {
     "data": {
      "image/png": "[encoded data removed]",
      "text/plain": [
       "<Figure size 360x360 with 1 Axes>"
      ]
     },
     "metadata": {
      "needs_background": "light"
     },
     "output_type": "display_data"
    }
   ],
   "source": [
    "sb.displot(modified, kde=True)"
   ]
  },
  {
   "cell_type": "markdown",
   "id": "ca3a14be-d89f-4f74-bd98-0b7318ccfdb0",
   "metadata": {},
   "source": [
    "# "
   ]
  }
 ],
 "metadata": {
  "kernelspec": {
   "display_name": "Python 3 (ipykernel)",
   "language": "python",
   "name": "python3"
  },
  "language_info": {
   "codemirror_mode": {
    "name": "ipython",
    "version": 3
   },
   "file_extension": ".py",
   "mimetype": "text/x-python",
   "name": "python",
   "nbconvert_exporter": "python",
   "pygments_lexer": "ipython3",
   "version": "3.9.10"
  },
  "varInspector": {
   "cols": {
    "lenName": 16,
    "lenType": 16,
    "lenVar": 40
   },
   "kernels_config": {
    "python": {
     "delete_cmd_postfix": "",
     "delete_cmd_prefix": "del ",
     "library": "var_list.py",
     "varRefreshCmd": "print(var_dic_list())"
    },
    "r": {
     "delete_cmd_postfix": ") ",
     "delete_cmd_prefix": "rm(",
     "library": "var_list.r",
     "varRefreshCmd": "cat(var_dic_list()) "
    }
   },
   "types_to_exclude": [
    "module",
    "function",
    "builtin_function_or_method",
    "instance",
    "_Feature"
   ],
   "window_display": false
  }
 },
 "nbformat": 4,
 "nbformat_minor": 5
}
