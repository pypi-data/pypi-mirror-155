{
 "cells": [
  {
   "cell_type": "code",
   "execution_count": 8,
   "id": "24ffff9e-54f8-4bbb-845e-8a8c6dcf47ac",
   "metadata": {},
   "outputs": [],
   "source": [
    "import bw2data as bd\n",
    "from bw2data.backends.schema import ActivityDataset as AD"
   ]
  },
  {
   "cell_type": "code",
   "execution_count": 2,
   "id": "8044a774-57bd-4c0d-abfa-241b87c1a8b4",
   "metadata": {},
   "outputs": [],
   "source": [
    "bd.projects.set_current('GSA for archetypes')"
   ]
  },
  {
   "cell_type": "code",
   "execution_count": 3,
   "id": "e8cb9ec2-8921-40cf-ac3e-38d0056e939b",
   "metadata": {},
   "outputs": [],
   "source": [
    "if \"Swiss residual electricity mix\" in bd.databases:\n",
    "    del bd.databases[\"Swiss residual electricity mix\"]"
   ]
  },
  {
   "cell_type": "code",
   "execution_count": 13,
   "id": "47b37e45-eb98-439d-a7a3-02d46d43dec9",
   "metadata": {},
   "outputs": [],
   "source": [
    "sr = bd.Database(\"Swiss residual electricity mix\")\n",
    "sr.register()"
   ]
  },
  {
   "cell_type": "markdown",
   "id": "e428ad18-d49c-4bf9-b6e9-feff966e8b95",
   "metadata": {},
   "source": [
    "Create `ActivityDataset` as this is the only way to specify the `id`."
   ]
  },
  {
   "cell_type": "code",
   "execution_count": 10,
   "id": "a533ea66-76ac-41ba-bb11-ed47b6ad0971",
   "metadata": {},
   "outputs": [
    {
     "data": {
      "text/plain": [
       "<ActivityDataset: 100000>"
      ]
     },
     "execution_count": 10,
     "metadata": {},
     "output_type": "execute_result"
    }
   ],
   "source": [
    "AD.create(\n",
    "    id=100000,\n",
    "    code=\"CH-residual\",\n",
    "    database=\"Swiss residual electricity mix\",\n",
    "    location=\"CH\", \n",
    "    name=\"Swiss residual electricity mix\", \n",
    "    product=\"electricity, high voltage\",\n",
    "    type=\"process\",\n",
    "    data=dict(\n",
    "        unit=\"kilowatt_hour\",\n",
    "        comment=\"Difference between generation fractions for SwissGrid and ENTSO\",\n",
    "        location=\"CH\", \n",
    "        name=\"Swiss residual electricity mix\", \n",
    "        reference_product=\"electricity, high voltage\",\n",
    "    )\n",
    ")   "
   ]
  },
  {
   "cell_type": "code",
   "execution_count": 17,
   "id": "cfc72452-279f-4b24-8995-27d197646380",
   "metadata": {},
   "outputs": [
    {
     "data": {
      "text/plain": [
       "'Swiss residual electricity mix' (kilowatt_hour, CH, None)"
      ]
     },
     "execution_count": 17,
     "metadata": {},
     "output_type": "execute_result"
    }
   ],
   "source": [
    "act = bd.get_activity(id=100000)\n",
    "act"
   ]
  },
  {
   "cell_type": "code",
   "execution_count": 18,
   "id": "3c27bfbb-d12a-4693-989b-b436b3ea21b4",
   "metadata": {},
   "outputs": [],
   "source": [
    "act.new_exchange(input=act, type=\"production\", amount=1).save()"
   ]
  },
  {
   "cell_type": "code",
   "execution_count": 27,
   "id": "d28a326d-c0a1-415c-91e4-8fd08a0c65a3",
   "metadata": {},
   "outputs": [],
   "source": [
    "switzerland_residual = {\n",
    "    'electricity production, hydro, reservoir, alpine region': 0.2814150228066876,\n",
    "    'electricity production, hydro, run-of-river': 0.636056236216345,\n",
    "    'heat and power co-generation, wood chips, 6667 kW, state-of-the-art 2014': 0.012048389472504549,\n",
    "    'heat and power co-generation, biogas, gas engine': 0.059773867534434144,\n",
    "    'heat and power co-generation, natural gas, 500kW electrical, lean burn': 0.006612375072688834,\n",
    "    'electricity production, wind, >3MW turbine, onshore': 0.0010024269784498687,\n",
    "    'electricity production, wind, 1-3MW turbine, onshore': 0.0026554668750543753,\n",
    "    'electricity production, wind, <1MW turbine, onshore': 0.00043621504383564323\n",
    "}"
   ]
  },
  {
   "cell_type": "code",
   "execution_count": 28,
   "id": "700e4cf8-a588-4892-9d3c-0608efb36cf3",
   "metadata": {},
   "outputs": [
    {
     "data": {
      "text/plain": [
       "{'heat and power co-generation, wood chips, 6667 kW, state-of-the-art 2014' (kilowatt hour, CH, None): 0.012048389472504549,\n",
       " 'electricity production, hydro, reservoir, alpine region' (kilowatt hour, CH, None): 0.2814150228066876,\n",
       " 'electricity production, hydro, run-of-river' (kilowatt hour, CH, None): 0.636056236216345,\n",
       " 'electricity production, wind, <1MW turbine, onshore' (kilowatt hour, CH, None): 0.00043621504383564323,\n",
       " 'heat and power co-generation, natural gas, 500kW electrical, lean burn' (kilowatt hour, CH, None): 0.006612375072688834,\n",
       " 'electricity production, wind, 1-3MW turbine, onshore' (kilowatt hour, CH, None): 0.0026554668750543753,\n",
       " 'electricity production, wind, >3MW turbine, onshore' (kilowatt hour, CH, None): 0.0010024269784498687,\n",
       " 'heat and power co-generation, biogas, gas engine' (kilowatt hour, CH, None): 0.059773867534434144}"
      ]
     },
     "execution_count": 28,
     "metadata": {},
     "output_type": "execute_result"
    }
   ],
   "source": [
    "act_mapping = {\n",
    "    act: switzerland_residual[act['name']]\n",
    "    for act in bd.Database(\"ecoinvent 3.8 cutoff\") \n",
    "    if act['location'] == 'CH'\n",
    "    and act['unit'] == 'kilowatt hour'\n",
    "    and act['name'] in switzerland_residual\n",
    "}\n",
    "assert len(act_mapping) == len(switzerland_residual)\n",
    "act_mapping"
   ]
  },
  {
   "cell_type": "code",
   "execution_count": 29,
   "id": "fcd77147-77c4-47eb-b0a1-3f6ad1c43297",
   "metadata": {},
   "outputs": [],
   "source": [
    "for key, value in act_mapping.items():\n",
    "    act.new_exchange(input=key, type='technosphere', amount=value).save()"
   ]
  },
  {
   "cell_type": "code",
   "execution_count": 30,
   "id": "ee48733c-061f-4d2f-a2e0-1bd8e35c198f",
   "metadata": {},
   "outputs": [
    {
     "name": "stdout",
     "output_type": "stream",
     "text": [
      "Exchange: 1 kilowatt_hour 'Swiss residual electricity mix' (kilowatt_hour, CH, None) to 'Swiss residual electricity mix' (kilowatt_hour, CH, None)>\n",
      "Exchange: 0.012048389472504549 kilowatt hour 'heat and power co-generation, wood chips, 6667 kW, state-of-the-art 2014' (kilowatt hour, CH, None) to 'Swiss residual electricity mix' (kilowatt_hour, CH, None)>\n",
      "Exchange: 0.2814150228066876 kilowatt hour 'electricity production, hydro, reservoir, alpine region' (kilowatt hour, CH, None) to 'Swiss residual electricity mix' (kilowatt_hour, CH, None)>\n",
      "Exchange: 0.636056236216345 kilowatt hour 'electricity production, hydro, run-of-river' (kilowatt hour, CH, None) to 'Swiss residual electricity mix' (kilowatt_hour, CH, None)>\n",
      "Exchange: 0.00043621504383564323 kilowatt hour 'electricity production, wind, <1MW turbine, onshore' (kilowatt hour, CH, None) to 'Swiss residual electricity mix' (kilowatt_hour, CH, None)>\n",
      "Exchange: 0.006612375072688834 kilowatt hour 'heat and power co-generation, natural gas, 500kW electrical, lean burn' (kilowatt hour, CH, None) to 'Swiss residual electricity mix' (kilowatt_hour, CH, None)>\n",
      "Exchange: 0.0026554668750543753 kilowatt hour 'electricity production, wind, 1-3MW turbine, onshore' (kilowatt hour, CH, None) to 'Swiss residual electricity mix' (kilowatt_hour, CH, None)>\n",
      "Exchange: 0.0010024269784498687 kilowatt hour 'electricity production, wind, >3MW turbine, onshore' (kilowatt hour, CH, None) to 'Swiss residual electricity mix' (kilowatt_hour, CH, None)>\n",
      "Exchange: 0.059773867534434144 kilowatt hour 'heat and power co-generation, biogas, gas engine' (kilowatt hour, CH, None) to 'Swiss residual electricity mix' (kilowatt_hour, CH, None)>\n"
     ]
    }
   ],
   "source": [
    "for exc in act.exchanges():\n",
    "    print(exc)"
   ]
  },
  {
   "cell_type": "code",
   "execution_count": 31,
   "id": "f044bd39-7b64-4dee-b610-04aef162b816",
   "metadata": {},
   "outputs": [],
   "source": [
    "sr.process()"
   ]
  },
  {
   "cell_type": "code",
   "execution_count": null,
   "id": "1fbb9e80-100f-4aac-928e-c5481bfda10a",
   "metadata": {},
   "outputs": [],
   "source": []
  }
 ],
 "metadata": {
  "kernelspec": {
   "display_name": "Python 3 (ipykernel)",
   "language": "python",
   "name": "python3"
  },
  "language_info": {
   "codemirror_mode": {
    "name": "ipython",
    "version": 3
   },
   "file_extension": ".py",
   "mimetype": "text/x-python",
   "name": "python",
   "nbconvert_exporter": "python",
   "pygments_lexer": "ipython3",
   "version": "3.9.10"
  },
  "varInspector": {
   "cols": {
    "lenName": 16,
    "lenType": 16,
    "lenVar": 40
   },
   "kernels_config": {
    "python": {
     "delete_cmd_postfix": "",
     "delete_cmd_prefix": "del ",
     "library": "var_list.py",
     "varRefreshCmd": "print(var_dic_list())"
    },
    "r": {
     "delete_cmd_postfix": ") ",
     "delete_cmd_prefix": "rm(",
     "library": "var_list.r",
     "varRefreshCmd": "cat(var_dic_list()) "
    }
   },
   "types_to_exclude": [
    "module",
    "function",
    "builtin_function_or_method",
    "instance",
    "_Feature"
   ],
   "window_display": false
  }
 },
 "nbformat": 4,
 "nbformat_minor": 5
}
