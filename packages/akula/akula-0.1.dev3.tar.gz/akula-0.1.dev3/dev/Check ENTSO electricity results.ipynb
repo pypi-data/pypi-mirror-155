{
 "cells": [
  {
   "cell_type": "code",
   "execution_count": 1,
   "id": "bef5e838-da45-47bf-bc6e-3fb83b8505d7",
   "metadata": {},
   "outputs": [],
   "source": [
    "import bw2data as bd\n",
    "import bw2calc as bc\n",
    "import pandas as pd\n",
    "import numpy as np\n",
    "from pathlib import Path\n",
    "from bentso.constants import ENTSO_COUNTRIES\n",
    "import bw_processing as bwp\n",
    "from fs.zipfs import ZipFS\n",
    "import seaborn as sb\n",
    "from matplotlib import pyplot as plt\n",
    "import bw2analyzer as ba"
   ]
  },
  {
   "cell_type": "code",
   "execution_count": 2,
   "id": "359a41a2-f9ef-40db-8b2f-8c3209cd96fb",
   "metadata": {},
   "outputs": [
    {
     "data": {
      "text/plain": [
       "PosixPath('/Users/cmutel/Code/akula/akula/data')"
      ]
     },
     "execution_count": 2,
     "metadata": {},
     "output_type": "execute_result"
    }
   ],
   "source": [
    "dp_data_dir = (Path(\".\").resolve().parent / \"akula\" / \"data\").resolve()\n",
    "dp_data_dir"
   ]
  },
  {
   "cell_type": "code",
   "execution_count": 3,
   "id": "9b1a7ca2-b86e-499a-8155-d196a4cfcd4a",
   "metadata": {},
   "outputs": [],
   "source": [
    "bd.projects.set_current('GSA for archetypes')"
   ]
  },
  {
   "cell_type": "code",
   "execution_count": 4,
   "id": "69e9e42b-dbbd-432a-bf7a-ddc975a00608",
   "metadata": {},
   "outputs": [],
   "source": [
    "ipcc = ('IPCC 2013', 'climate change', 'GWP 100a')"
   ]
  },
  {
   "cell_type": "code",
   "execution_count": 5,
   "id": "d5e9d075-6e8f-4e92-9c2d-81bdf211ed1a",
   "metadata": {},
   "outputs": [],
   "source": [
    "def get_one(db_name, **kwargs):\n",
    "    possibles = [\n",
    "        act\n",
    "        for act in bd.Database(db_name)\n",
    "        if all(act.get(key) == value for key, value in kwargs.items())\n",
    "    ]\n",
    "    if len(possibles) == 1:\n",
    "        return possibles[0]\n",
    "    else:\n",
    "        raise ValueError(\n",
    "            f\"Couldn't get exactly one activity in database `{db_name}` for arguments {kwargs}\"\n",
    "        )"
   ]
  },
  {
   "cell_type": "code",
   "execution_count": 6,
   "id": "c551a4d5-bd3f-4893-a130-4ab76a3e4c44",
   "metadata": {},
   "outputs": [],
   "source": [
    "ch_high = get_one(\"ecoinvent 3.8 cutoff\", name=\"market for electricity, high voltage\", location=\"CH\")\n",
    "ch_low = get_one(\"ecoinvent 3.8 cutoff\", name=\"market for electricity, low voltage\", location=\"CH\")\n",
    "entso = get_one(\"ecoinvent 3.8 cutoff\", name=\"market group for electricity, high voltage\", location=\"ENTSO-E\")"
   ]
  },
  {
   "cell_type": "code",
   "execution_count": 7,
   "id": "0c6b0ef5-8b1f-4d48-b9bb-49ffd82e5260",
   "metadata": {},
   "outputs": [],
   "source": [
    "results = {}"
   ]
  },
  {
   "cell_type": "code",
   "execution_count": 8,
   "id": "2e954a4e-e421-422c-8162-59f0d141ff43",
   "metadata": {},
   "outputs": [],
   "source": [
    "ACTIVITIES = [\n",
    "    (\"CH HV\", ch_high),\n",
    "    (\"CH LV\", ch_low),\n",
    "    (\"ENTSO-E\", entso),\n",
    "]"
   ]
  },
  {
   "cell_type": "code",
   "execution_count": 9,
   "id": "05f59051-9984-44bc-9a91-6f280a465dab",
   "metadata": {},
   "outputs": [],
   "source": [
    "for label, act in ACTIVITIES:\n",
    "    fu, data_objs, _ = bd.prepare_lca_inputs({act: 1}, method=ipcc, remapping=False)\n",
    "    lca = bc.LCA(demand=fu, data_objs=data_objs)\n",
    "    lca.lci()\n",
    "    lca.lcia()\n",
    "\n",
    "    results[label + \" (ecoinvent)\"] = lca.score\n",
    "    \n",
    "    lca = bc.LCA(\n",
    "        demand=fu, \n",
    "        data_objs=(\n",
    "            data_objs \n",
    "            + [bwp.load_datapackage(ZipFS(\"../akula/data/entso-average.zip\"))]\n",
    "        )\n",
    "    )\n",
    "    lca.lci()\n",
    "    lca.lcia()\n",
    "    results[label + \" (ENTSO-E)\"] = lca.score"
   ]
  },
  {
   "cell_type": "code",
   "execution_count": 10,
   "id": "57dfc1c4-6c5e-407c-be9a-2c94412ef706",
   "metadata": {},
   "outputs": [
    {
     "data": {
      "text/plain": [
       "{'CH HV (ecoinvent)': 0.03691469259764032,\n",
       " 'CH HV (ENTSO-E)': 0.13022870404278344,\n",
       " 'CH LV (ecoinvent)': 0.044991177419069675,\n",
       " 'CH LV (ENTSO-E)': 0.140795472432253,\n",
       " 'ENTSO-E (ecoinvent)': 0.3726821019709331,\n",
       " 'ENTSO-E (ENTSO-E)': 0.32566850674490405}"
      ]
     },
     "execution_count": 10,
     "metadata": {},
     "output_type": "execute_result"
    }
   ],
   "source": [
    "results"
   ]
  },
  {
   "cell_type": "code",
   "execution_count": 11,
   "id": "b41ca475-ebec-41f4-a5cd-4f021921a21b",
   "metadata": {},
   "outputs": [],
   "source": [
    "fu, data_objs, _ = bd.prepare_lca_inputs({ch_low: 1}, method=ipcc, remapping=False)\n",
    "lca = bc.LCA(\n",
    "    demand=fu, \n",
    "    data_objs=(\n",
    "        data_objs \n",
    "        + [bwp.load_datapackage(ZipFS(\"../akula/data/entso-timeseries.zip\"))]\n",
    "    ),\n",
    "    use_arrays=True,\n",
    "    use_distributions=True\n",
    ")\n",
    "lca.lci()\n",
    "lca.lcia()"
   ]
  },
  {
   "cell_type": "code",
   "execution_count": 16,
   "id": "da4dcf1a-e088-4ef4-94f4-cb14fc09e466",
   "metadata": {},
   "outputs": [],
   "source": [
    "results = [lca.score for _ in zip(range(500), lca)]"
   ]
  },
  {
   "cell_type": "code",
   "execution_count": 17,
   "id": "36142947-b20a-4db2-828a-3cfdb1e01aa6",
   "metadata": {},
   "outputs": [
    {
     "data": {
      "text/plain": [
       "Text(16.300000000000004, 0.5, 'Probability')"
      ]
     },
     "execution_count": 17,
     "metadata": {},
     "output_type": "execute_result"
    },
    {
     "data": {
      "image/png": "[encoded data removed]",
      "text/plain": [
       "<Figure size 576x576 with 1 Axes>"
      ]
     },
     "metadata": {
      "needs_background": "light"
     },
     "output_type": "display_data"
    }
   ],
   "source": [
    "sb.displot(results, kind='kde', rug=True, height=8)\n",
    "plt.xlabel(\"GWP of Swiss low voltage elec.\")\n",
    "plt.ylabel(\"Probability\")"
   ]
  }
 ],
 "metadata": {
  "kernelspec": {
   "display_name": "Python 3 (ipykernel)",
   "language": "python",
   "name": "python3"
  },
  "language_info": {
   "codemirror_mode": {
    "name": "ipython",
    "version": 3
   },
   "file_extension": ".py",
   "mimetype": "text/x-python",
   "name": "python",
   "nbconvert_exporter": "python",
   "pygments_lexer": "ipython3",
   "version": "3.9.10"
  },
  "varInspector": {
   "cols": {
    "lenName": 16,
    "lenType": 16,
    "lenVar": 40
   },
   "kernels_config": {
    "python": {
     "delete_cmd_postfix": "",
     "delete_cmd_prefix": "del ",
     "library": "var_list.py",
     "varRefreshCmd": "print(var_dic_list())"
    },
    "r": {
     "delete_cmd_postfix": ") ",
     "delete_cmd_prefix": "rm(",
     "library": "var_list.r",
     "varRefreshCmd": "cat(var_dic_list()) "
    }
   },
   "types_to_exclude": [
    "module",
    "function",
    "builtin_function_or_method",
    "instance",
    "_Feature"
   ],
   "window_display": false
  }
 },
 "nbformat": 4,
 "nbformat_minor": 5
}
