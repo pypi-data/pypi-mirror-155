{
 "cells": [
  {
   "cell_type": "markdown",
   "id": "a24c68aa-1dfe-4577-8c84-7a561d6a58b2",
   "metadata": {},
   "source": [
    "# Mapping electricity generation and trade to ecoinvent\n",
    "\n",
    "To run this notebook, you must have the following environment variables set:\n",
    "\n",
    "* BENTSO_DATA_DIR: Directory to cache data from ENTSO-E API\n",
    "\n",
    "In addition, you need to have finished the notebook `ENTSO-E electricity data`."
   ]
  },
  {
   "cell_type": "code",
   "execution_count": 163,
   "id": "b155e53b-688d-40f2-8bb2-4e58e55c0925",
   "metadata": {},
   "outputs": [],
   "source": [
    "import bw2data as bd\n",
    "import bw2io as bi\n",
    "import pandas as pd\n",
    "import numpy as np\n",
    "from collections import defaultdict\n",
    "import bw_processing as bwp\n",
    "import bentso\n",
    "from entsoe.exceptions import NoMatchingDataError"
   ]
  },
  {
   "cell_type": "code",
   "execution_count": 2,
   "id": "3243bef9-e579-4521-8f47-28845dd86f79",
   "metadata": {},
   "outputs": [],
   "source": [
    "assert bd.__version__ >= (4, 0, 'DEV11')\n",
    "assert bentso.__version__ >= (0, 4)"
   ]
  },
  {
   "cell_type": "code",
   "execution_count": 3,
   "id": "fa80a078-7b24-4bd7-ab4f-8a51ebe3a028",
   "metadata": {},
   "outputs": [],
   "source": [
    "bd.projects.set_current('GSA for archetypes')"
   ]
  },
  {
   "cell_type": "markdown",
   "id": "2f2ad950-3713-42d6-9ee9-ec413a3c0643",
   "metadata": {},
   "source": [
    "## Find electricity generators in Europe"
   ]
  },
  {
   "cell_type": "code",
   "execution_count": 4,
   "id": "e2aa9b8d-227a-44cb-b101-5b9267df443b",
   "metadata": {},
   "outputs": [],
   "source": [
    "ei = bd.Database(\"ecoinvent 3.8 cutoff\")\n",
    "assert len(ei)"
   ]
  },
  {
   "cell_type": "code",
   "execution_count": 5,
   "id": "a1ea5b5f-eba0-4375-9fee-1501d8eba233",
   "metadata": {},
   "outputs": [],
   "source": [
    "from bentso.constants import ENTSO_COUNTRIES, TRADE_PAIRS"
   ]
  },
  {
   "cell_type": "code",
   "execution_count": 6,
   "id": "1d2ae96c-bc28-4a6a-aefa-efa4c8916dc4",
   "metadata": {},
   "outputs": [],
   "source": [
    "def get_one(db_name, **kwargs):\n",
    "    possibles = [act for act in bd.Database(db_name) if all(act.get(key) == value for key, value in kwargs.items())]\n",
    "    if len(possibles) == 1:\n",
    "        return possibles[0]\n",
    "    else:\n",
    "        raise ValueError(f\"Couldn't get exactly one activity in database `{db_name}` for arguments {kwargs}\")"
   ]
  },
  {
   "cell_type": "code",
   "execution_count": 7,
   "id": "ea1b5d7a-0bdf-4782-a26d-fcbf3d9deeb5",
   "metadata": {},
   "outputs": [],
   "source": [
    "def is_generation_exchange(exc):\n",
    "    return (exc.input['unit'] == 'kilowatt hour' \n",
    "        and \"import from\" not in exc.input['name'] \n",
    "        and not exc.input['name'].startswith('market')\n",
    "        and 'voltage transformation' not in exc.input['name']\n",
    "    )"
   ]
  },
  {
   "cell_type": "code",
   "execution_count": 8,
   "id": "5214ec28-3898-43f8-b6c9-459baa74a209",
   "metadata": {},
   "outputs": [],
   "source": [
    "def is_trade_exchange(exc):\n",
    "    return (exc.input['unit'] == 'kilowatt hour' \n",
    "        and \"import from\" in exc.input['name'] \n",
    "    )"
   ]
  },
  {
   "cell_type": "code",
   "execution_count": 9,
   "id": "154ee09a-7bd1-4f45-b400-23ae168b4a3e",
   "metadata": {},
   "outputs": [],
   "source": [
    "NAMES = {\n",
    "    'market for electricity, low voltage',\n",
    "    'market for electricity, medium voltage',\n",
    "    'market for electricity, high voltage',\n",
    "}\n",
    "\n",
    "TRANSFORMATION = {\n",
    "    'electricity voltage transformation from medium to low voltage',\n",
    "    'electricity voltage transformation from high to medium voltage',\n",
    "}"
   ]
  },
  {
   "cell_type": "code",
   "execution_count": 10,
   "id": "e1f4af7c-0d6c-424c-be5f-26b3faae3843",
   "metadata": {},
   "outputs": [],
   "source": [
    "markets = {\n",
    "    (act['name'], act['location']): act\n",
    "    for act in ei\n",
    "    if act['name'] in NAMES.union(TRANSFORMATION)\n",
    "    and act['location'] in ENTSO_COUNTRIES\n",
    "}"
   ]
  },
  {
   "cell_type": "code",
   "execution_count": 11,
   "id": "564f8753-5b0c-4e3b-828d-61e445fe587b",
   "metadata": {},
   "outputs": [],
   "source": [
    "found = defaultdict(set)\n",
    "\n",
    "for country in ENTSO_COUNTRIES:\n",
    "    market = markets[('market for electricity, high voltage', country)]\n",
    "    for exc in market.technosphere():\n",
    "        if is_trade_exchange(exc) and exc.input['name'].startswith('electricity, high voltage, import from'):\n",
    "            found[country].add(exc.input['name'][-2:])"
   ]
  },
  {
   "cell_type": "code",
   "execution_count": 12,
   "id": "f5df1c77-5a2b-4b85-b5cb-55a7d5854f35",
   "metadata": {},
   "outputs": [],
   "source": [
    "for country, lst in found.items():\n",
    "    if lst.difference(TRADE_PAIRS.get(country, set())):\n",
    "        print(country, lst.difference(TRADE_PAIRS.get(country, set())))"
   ]
  },
  {
   "cell_type": "code",
   "execution_count": 13,
   "id": "b97b324f-a299-4e49-b42f-04956870e23c",
   "metadata": {},
   "outputs": [],
   "source": [
    "def get_generators(market):\n",
    "    found = set()\n",
    "    \n",
    "    for act in ei:\n",
    "        if act['name'] == market and act['location'] in ENTSO_COUNTRIES:\n",
    "            for exc in act.technosphere():\n",
    "                if is_generation_exchange(exc):\n",
    "                    found.add(exc.input['name'])\n",
    "                    \n",
    "    return found"
   ]
  },
  {
   "cell_type": "code",
   "execution_count": 14,
   "id": "dfc5e2cc-3a12-4fa8-952e-e546bd10d00d",
   "metadata": {},
   "outputs": [],
   "source": [
    "def get_scaling(country, act_name='electricity voltage transformation from high to medium voltage'):\n",
    "    trans = markets[(act_name, country)]\n",
    "    amount = sum(exc['amount'] for exc in trans.technosphere())\n",
    "    assert 1 < amount < 1.25\n",
    "    return amount"
   ]
  },
  {
   "cell_type": "code",
   "execution_count": 15,
   "id": "bc7c0f7d-51e1-4e3e-8e14-3033ec92d589",
   "metadata": {},
   "outputs": [
    {
     "name": "stdout",
     "output_type": "stream",
     "text": [
      "CH 1.0062 1.0276\n",
      "NL 1.00377404701174 1.01747560791302\n",
      "MK 1.00910857670359 1.04185326219664\n",
      "AT 1.00396869240528 1.01808622303526\n",
      "MT 1.00503071204738 1.02391624781522\n",
      "PT 1.00812196540363 1.03761463678944\n",
      "SK 1.00343356121558 1.01574784947215\n",
      "GR 1.00818035656772 1.03899586799491\n",
      "BE 1.00370139222692 1.01673171811526\n",
      "SI 1.00491340196632 1.02253575107447\n",
      "IT 1.00501905180405 1.02340471648591\n",
      "PL 1.00430743835793 1.01957900530224\n",
      "EE 1.00694992560631 1.03127395498758\n",
      "FI 1.00269857339598 1.01207896511049\n",
      "NO 1.00572337921071 1.02600130953742\n",
      "IE 1.00639279244748 1.02848269915284\n",
      "DE 1.00441453794017 1.02055562344301\n",
      "DK 1.00542069965637 1.02485855859503\n",
      "HU 1.00615371244631 1.02807179358003\n",
      "RS 1.01058139679409 1.04872102986472\n",
      "RO 1.01045166498605 1.04901285503394\n",
      "ME 1.00759987180707 1.03476080059219\n",
      "BG 1.00731866170315 1.03404940677966\n",
      "LU 1.00348553893375 1.01567080244515\n",
      "HR 1.00829697146417 1.03808897071116\n",
      "FR 1.00670440632908 1.03093659171436\n",
      "GB 1.00680829804927 1.03157377466283\n",
      "LV 1.00501217963228 1.02279979632251\n",
      "BA 1.00832579354634 1.03817287478769\n",
      "CZ 1.00542715754736 1.02522120354908\n",
      "SE 1.00634459617383 1.02826489718584\n",
      "ES 1.00801174609954 1.03732136613262\n"
     ]
    }
   ],
   "source": [
    "for country in ENTSO_COUNTRIES:\n",
    "    print(country, get_scaling(country), get_scaling(country, 'electricity voltage transformation from medium to low voltage'))"
   ]
  },
  {
   "cell_type": "code",
   "execution_count": 16,
   "id": "fab1d281-54d1-4a58-87fc-c558bcde456b",
   "metadata": {},
   "outputs": [
    {
     "data": {
      "text/plain": [
       "{'electricity production, deep geothermal',\n",
       " 'electricity production, hard coal',\n",
       " 'electricity production, hydro, pumped storage',\n",
       " 'electricity production, hydro, reservoir, alpine region',\n",
       " 'electricity production, hydro, reservoir, non-alpine region',\n",
       " 'electricity production, hydro, run-of-river',\n",
       " 'electricity production, lignite',\n",
       " 'electricity production, natural gas, combined cycle power plant',\n",
       " 'electricity production, natural gas, conventional power plant',\n",
       " 'electricity production, nuclear, boiling water reactor',\n",
       " 'electricity production, nuclear, pressure water reactor',\n",
       " 'electricity production, nuclear, pressure water reactor, heavy water moderated',\n",
       " 'electricity production, oil',\n",
       " 'electricity production, peat',\n",
       " 'electricity production, solar thermal parabolic trough, 50 MW',\n",
       " 'electricity production, solar tower power plant, 20 MW',\n",
       " 'electricity production, wind, 1-3MW turbine, offshore',\n",
       " 'electricity production, wind, 1-3MW turbine, onshore',\n",
       " 'electricity production, wind, <1MW turbine, onshore',\n",
       " 'electricity production, wind, >3MW turbine, onshore',\n",
       " 'heat and power co-generation, biogas, gas engine',\n",
       " 'heat and power co-generation, hard coal',\n",
       " 'heat and power co-generation, lignite',\n",
       " 'heat and power co-generation, natural gas, 500kW electrical, lean burn',\n",
       " 'heat and power co-generation, natural gas, combined cycle power plant, 400MW electrical',\n",
       " 'heat and power co-generation, natural gas, conventional power plant, 100MW electrical',\n",
       " 'heat and power co-generation, oil',\n",
       " 'heat and power co-generation, wood chips, 6667 kW',\n",
       " 'heat and power co-generation, wood chips, 6667 kW, state-of-the-art 2014',\n",
       " 'treatment of blast furnace gas, in power plant',\n",
       " 'treatment of coal gas, in power plant'}"
      ]
     },
     "execution_count": 16,
     "metadata": {},
     "output_type": "execute_result"
    }
   ],
   "source": [
    "hv = get_generators(\"market for electricity, high voltage\")\n",
    "hv"
   ]
  },
  {
   "cell_type": "code",
   "execution_count": 17,
   "id": "f2624f64-c07b-4f35-a0ac-2baee948467a",
   "metadata": {},
   "outputs": [
    {
     "data": {
      "text/plain": [
       "{'electricity, from municipal waste incineration to generic market for electricity, medium voltage'}"
      ]
     },
     "execution_count": 17,
     "metadata": {},
     "output_type": "execute_result"
    }
   ],
   "source": [
    "mv = get_generators(\"market for electricity, medium voltage\")\n",
    "mv"
   ]
  },
  {
   "cell_type": "code",
   "execution_count": 18,
   "id": "28c063d9-de7a-4b4e-9ebb-a68f2073f11b",
   "metadata": {},
   "outputs": [
    {
     "data": {
      "text/plain": [
       "{'electricity production, photovoltaic, 3kWp facade installation, multi-Si, laminated, integrated',\n",
       " 'electricity production, photovoltaic, 3kWp facade installation, multi-Si, panel, mounted',\n",
       " 'electricity production, photovoltaic, 3kWp facade installation, single-Si, laminated, integrated',\n",
       " 'electricity production, photovoltaic, 3kWp facade installation, single-Si, panel, mounted',\n",
       " 'electricity production, photovoltaic, 3kWp flat-roof installation, multi-Si',\n",
       " 'electricity production, photovoltaic, 3kWp flat-roof installation, single-Si',\n",
       " 'electricity production, photovoltaic, 3kWp slanted-roof installation, CIS, panel, mounted',\n",
       " 'electricity production, photovoltaic, 3kWp slanted-roof installation, CdTe, laminated, integrated',\n",
       " 'electricity production, photovoltaic, 3kWp slanted-roof installation, a-Si, laminated, integrated',\n",
       " 'electricity production, photovoltaic, 3kWp slanted-roof installation, a-Si, panel, mounted',\n",
       " 'electricity production, photovoltaic, 3kWp slanted-roof installation, multi-Si, laminated, integrated',\n",
       " 'electricity production, photovoltaic, 3kWp slanted-roof installation, multi-Si, panel, mounted',\n",
       " 'electricity production, photovoltaic, 3kWp slanted-roof installation, ribbon-Si, laminated, integrated',\n",
       " 'electricity production, photovoltaic, 3kWp slanted-roof installation, ribbon-Si, panel, mounted',\n",
       " 'electricity production, photovoltaic, 3kWp slanted-roof installation, single-Si, laminated, integrated',\n",
       " 'electricity production, photovoltaic, 3kWp slanted-roof installation, single-Si, panel, mounted',\n",
       " 'electricity production, photovoltaic, 570kWp open ground installation, multi-Si'}"
      ]
     },
     "execution_count": 18,
     "metadata": {},
     "output_type": "execute_result"
    }
   ],
   "source": [
    "lv = get_generators(\"market for electricity, low voltage\")\n",
    "lv"
   ]
  },
  {
   "cell_type": "code",
   "execution_count": 19,
   "id": "6f31ca72-533c-4bf5-8878-a8aec409fba6",
   "metadata": {},
   "outputs": [],
   "source": [
    "all_generation = set.union(hv, mv, lv)"
   ]
  },
  {
   "cell_type": "markdown",
   "id": "7c9f1939-bdfc-461b-9fd0-47703e7bf380",
   "metadata": {},
   "source": [
    "# Swiss specific fixes"
   ]
  },
  {
   "cell_type": "code",
   "execution_count": 106,
   "id": "65b90cde-222f-48aa-bc62-ece0e8d656f5",
   "metadata": {},
   "outputs": [],
   "source": [
    "def get_swissgrid_df(fp):\n",
    "    df = pd.read_excel(fp, sheet_name=\"Zeitreihen0h15\", usecols=[2], header=1)\n",
    "    df = df.groupby(df.index // 4).sum()\n",
    "    return df"
   ]
  },
  {
   "cell_type": "code",
   "execution_count": 140,
   "id": "6f7d0ece-e188-46c6-b6d7-1112b8f02f90",
   "metadata": {},
   "outputs": [],
   "source": [
    "swissgrid_total = pd.concat([\n",
    "    get_swissgrid_df(fp)\n",
    "    for fp in (\n",
    "        \"data/EnergieUebersichtCH-2019.xls\",\n",
    "        \"data/EnergieUebersichtCH-2020.xlsx\",\n",
    "        \"data/EnergieUebersichtCH-2021.xlsx\",\n",
    "    )\n",
    "])['kWh.1'] / 1000 # Convert to MWh"
   ]
  },
  {
   "cell_type": "markdown",
   "id": "12ea2078-a316-4314-892c-134c04cbbf6f",
   "metadata": {},
   "source": [
    "See notebook `Swiss electricity residual mix`"
   ]
  },
  {
   "cell_type": "markdown",
   "id": "5929a8fa-efbe-4e12-826a-612dbfc79ef6",
   "metadata": {},
   "source": [
    "## Mapping ENTSO to ecoinvent"
   ]
  },
  {
   "cell_type": "code",
   "execution_count": 20,
   "id": "3d456a63-663e-4059-81cf-5852890bfaf0",
   "metadata": {},
   "outputs": [],
   "source": [
    "ENTSO_MAPPING = {\n",
    "    'Biomass': [\n",
    "        'heat and power co-generation, wood chips, 6667 kW',\n",
    "        'heat and power co-generation, wood chips, 6667 kW, state-of-the-art 2014',\n",
    "        'heat and power co-generation, biogas, gas engine',\n",
    "    ],\n",
    "    'Fossil Brown coal/Lignite': [\n",
    "        'electricity production, lignite',\n",
    "        'heat and power co-generation, lignite',\n",
    "    ],\n",
    "    'Fossil Coal-derived gas': [\n",
    "        'treatment of coal gas, in power plant',\n",
    "    ],\n",
    "    'Fossil Gas': [\n",
    "        'electricity production, natural gas, combined cycle power plant',\n",
    "        'electricity production, natural gas, conventional power plant',\n",
    "        'heat and power co-generation, natural gas, 500kW electrical, lean burn',\n",
    "        'heat and power co-generation, natural gas, combined cycle power plant, 400MW electrical',\n",
    "        'heat and power co-generation, natural gas, conventional power plant, 100MW electrical',\n",
    "    ],\n",
    "    'Fossil Hard coal': [\n",
    "        'electricity production, hard coal',\n",
    "        'heat and power co-generation, hard coal',\n",
    "    ],\n",
    "    'Fossil Oil': [\n",
    "        'electricity production, oil',\n",
    "        'heat and power co-generation, oil',\n",
    "    ],\n",
    "    'Fossil Oil shale': [\n",
    "    ],\n",
    "    'Fossil Peat': [\n",
    "        'electricity production, peat',\n",
    "    ],\n",
    "    'Geothermal': [\n",
    "        'electricity production, deep geothermal',\n",
    "    ],\n",
    "    # This will be a bit funky; could consider charging with average of last 48 hours?\n",
    "    'Hydro Pumped Storage': [\n",
    "        'electricity production, hydro, pumped storage',\n",
    "    ],\n",
    "    'Hydro Run-of-river and poundage': [\n",
    "        'electricity production, hydro, run-of-river',\n",
    "    ],\n",
    "    'Hydro Water Reservoir': [\n",
    "        'electricity production, hydro, reservoir, alpine region',\n",
    "        'electricity production, hydro, reservoir, non-alpine region',\n",
    "    ],\n",
    "    'Nuclear': [\n",
    "        'electricity production, nuclear, boiling water reactor',\n",
    "        'electricity production, nuclear, pressure water reactor',\n",
    "        'electricity production, nuclear, pressure water reactor, heavy water moderated',\n",
    "    ],\n",
    "    'Other': [\n",
    "        'treatment of blast furnace gas, in power plant',\n",
    "    ],\n",
    "    'Other renewable': [\n",
    "    ],\n",
    "    'Solar': [\n",
    "        'electricity production, photovoltaic, 3kWp facade installation, multi-Si, laminated, integrated',\n",
    "        'electricity production, photovoltaic, 3kWp facade installation, multi-Si, panel, mounted',\n",
    "        'electricity production, photovoltaic, 3kWp facade installation, single-Si, laminated, integrated',\n",
    "        'electricity production, photovoltaic, 3kWp facade installation, single-Si, panel, mounted',\n",
    "        'electricity production, photovoltaic, 3kWp flat-roof installation, multi-Si',\n",
    "        'electricity production, photovoltaic, 3kWp flat-roof installation, single-Si',\n",
    "        'electricity production, photovoltaic, 3kWp slanted-roof installation, CIS, panel, mounted',\n",
    "        'electricity production, photovoltaic, 3kWp slanted-roof installation, CdTe, laminated, integrated',\n",
    "        'electricity production, photovoltaic, 3kWp slanted-roof installation, a-Si, laminated, integrated',\n",
    "        'electricity production, photovoltaic, 3kWp slanted-roof installation, a-Si, panel, mounted',\n",
    "        'electricity production, photovoltaic, 3kWp slanted-roof installation, multi-Si, laminated, integrated',\n",
    "        'electricity production, photovoltaic, 3kWp slanted-roof installation, multi-Si, panel, mounted',\n",
    "        'electricity production, photovoltaic, 3kWp slanted-roof installation, ribbon-Si, laminated, integrated',\n",
    "        'electricity production, photovoltaic, 3kWp slanted-roof installation, ribbon-Si, panel, mounted',\n",
    "        'electricity production, photovoltaic, 3kWp slanted-roof installation, single-Si, laminated, integrated',\n",
    "        'electricity production, photovoltaic, 3kWp slanted-roof installation, single-Si, panel, mounted',\n",
    "        'electricity production, photovoltaic, 570kWp open ground installation, multi-Si',\n",
    "        'electricity production, solar thermal parabolic trough, 50 MW',\n",
    "        'electricity production, solar tower power plant, 20 MW',        \n",
    "    ],\n",
    "    'Waste': [\n",
    "        'electricity, from municipal waste incineration to generic market for electricity, medium voltage',\n",
    "    ],\n",
    "    'Wind Offshore': [\n",
    "        'electricity production, wind, 1-3MW turbine, offshore',\n",
    "    ],\n",
    "    'Wind Onshore': [\n",
    "        'electricity production, wind, 1-3MW turbine, onshore',\n",
    "        'electricity production, wind, <1MW turbine, onshore',\n",
    "        'electricity production, wind, >3MW turbine, onshore',\n",
    "    ],\n",
    "}"
   ]
  },
  {
   "cell_type": "code",
   "execution_count": 21,
   "id": "e9f17662-7789-4dfd-a4d2-a64c1566957c",
   "metadata": {},
   "outputs": [
    {
     "data": {
      "text/plain": [
       "set()"
      ]
     },
     "execution_count": 21,
     "metadata": {},
     "output_type": "execute_result"
    }
   ],
   "source": [
    "set.union(*[set(v) for v in ENTSO_MAPPING.values()]).difference(all_generation)"
   ]
  },
  {
   "cell_type": "code",
   "execution_count": 22,
   "id": "98af6fea-ec80-4063-8c86-935d03455466",
   "metadata": {},
   "outputs": [
    {
     "data": {
      "text/plain": [
       "set()"
      ]
     },
     "execution_count": 22,
     "metadata": {},
     "output_type": "execute_result"
    }
   ],
   "source": [
    "all_generation.difference(set.union(*[set(v) for v in ENTSO_MAPPING.values()]))"
   ]
  },
  {
   "cell_type": "code",
   "execution_count": 38,
   "id": "b88b758d-968d-4e89-befe-8b1cf6c47426",
   "metadata": {},
   "outputs": [],
   "source": [
    "mixes = {\n",
    "    act['location']: act \n",
    "    for act in bd.Database(\"ecoinvent 3.8 cutoff\") \n",
    "    if act['name'] == 'market for electricity, high voltage'\n",
    "}"
   ]
  },
  {
   "cell_type": "markdown",
   "id": "0dc0f828-5d16-4cd8-81b3-d1a0c5bd510a",
   "metadata": {},
   "source": [
    "## Comparing aggregate values"
   ]
  },
  {
   "cell_type": "code",
   "execution_count": 23,
   "id": "1c67a533-5255-4e0a-81b0-97b1162ed994",
   "metadata": {},
   "outputs": [],
   "source": [
    "from bentso import CachingDataClient as CDC"
   ]
  },
  {
   "cell_type": "code",
   "execution_count": 24,
   "id": "b694f3bb-4fc4-4019-a92a-a12efb6b46d6",
   "metadata": {},
   "outputs": [
    {
     "name": "stdout",
     "output_type": "stream",
     "text": [
      "Using data directory /Users/cmutel/Code/akula/entso-data-cache\n"
     ]
    }
   ],
   "source": [
    "cdc = CDC()"
   ]
  },
  {
   "cell_type": "code",
   "execution_count": 25,
   "id": "e11e70a0-6905-4be3-a032-42927d279f46",
   "metadata": {},
   "outputs": [],
   "source": [
    "def apply_country_specific_fixes(df, country):\n",
    "    if country in ('GR', 'BG', 'ME'):\n",
    "        df.rename(columns={'Hydro Water Reservoir': 'Hydro Run-of-river and poundage'}, inplace=True)\n",
    "    elif country == 'NL':\n",
    "        df.drop('Waste', axis=1, inplace=True)\n",
    "    elif country == 'EE':\n",
    "        df.rename(columns={'Fossil Oil shale': 'Fossil Oil'}, inplace=True)\n",
    "    elif country == 'NO':\n",
    "        df['Hydro Water Reservoir'] += df['Hydro Run-of-river and poundage']\n",
    "        df.drop('Hydro Run-of-river and poundage', axis=1, inplace=True)\n",
    "    elif country == 'RO':\n",
    "        df['Hydro Run-of-river and poundage'] += df['Hydro Water Reservoir']\n",
    "        df.drop('Hydro Water Reservoir', axis=1, inplace=True)\n",
    "    elif country == 'BA':\n",
    "        # Very wrong\n",
    "        df['Fossil Brown coal/Lignite'] += df['Fossil Hard coal']\n",
    "        df.drop('Fossil Hard coal', axis=1, inplace=True)        \n",
    "    return df"
   ]
  },
  {
   "cell_type": "code",
   "execution_count": 26,
   "id": "e7a9b526-b8c4-4441-b26b-9a82ad053c97",
   "metadata": {},
   "outputs": [],
   "source": [
    "def get_df(country, year):\n",
    "    df = cdc.get_generation(country=country, year=year, clean=True, full_year=True, fix_lv=True)\n",
    "    df = apply_country_specific_fixes(df, country)\n",
    "    return df"
   ]
  },
  {
   "cell_type": "markdown",
   "id": "7ac3f599-6bfa-416e-94a3-ad8d54e27bcb",
   "metadata": {},
   "source": [
    "Everything here is fine, we special case Switzerland and don't touch Malta or Luxembourg anyway."
   ]
  },
  {
   "cell_type": "code",
   "execution_count": null,
   "id": "9f00467d-639e-4d54-b233-a11025d02a50",
   "metadata": {},
   "outputs": [],
   "source": [
    "def check_missing_generators_small(country, year=2019):\n",
    "    \"\"\"Make sure that generators found in ecoinvent but missing in ENTSO are a small proportion of total generation\"\"\"\n",
    "    found_missing = False\n",
    "\n",
    "    markets = [get_one(\"ecoinvent 3.8 cutoff\", name=name, location=country) for name in NAMES]\n",
    "    generators = set.union(*[{\n",
    "        exc.input['name'] \n",
    "        for act in markets for exc in act.technosphere() \n",
    "        if is_generation_exchange(exc)}\n",
    "    ])\n",
    "    df = get_df(country, year).sum(axis=0)\n",
    "    fractions = df / df.sum()\n",
    "    for label, amount in zip(fractions.index, fractions):\n",
    "        if amount >= 0.01 and not any(generator in generators for generator in ENTSO_MAPPING[label]):\n",
    "            if not found_missing:\n",
    "                print(\"\\n\", \"-\" * 20, country, \"-\" * 20)\n",
    "                print(\"Fractions:\")\n",
    "                for x, y in zip(fractions.index, fractions):\n",
    "                    print(x, y)                \n",
    "                print(\"\\nGenerators:\")\n",
    "                for g in sorted(generators):\n",
    "                    print(g)\n",
    "                print()\n",
    "                found_missing = True\n",
    "            print(\"Missing:\", label)  "
   ]
  },
  {
   "cell_type": "code",
   "execution_count": 28,
   "id": "ca22eda3-0bdd-48c8-8a41-b3a3a2320667",
   "metadata": {
    "collapsed": true,
    "jupyter": {
     "outputs_hidden": true
    },
    "tags": []
   },
   "outputs": [
    {
     "ename": "KeyboardInterrupt",
     "evalue": "",
     "output_type": "error",
     "traceback": [
      "\u001b[0;31m---------------------------------------------------------------------------\u001b[0m",
      "\u001b[0;31mKeyboardInterrupt\u001b[0m                         Traceback (most recent call last)",
      "\u001b[0;32m/var/folders/rn/ht0vvs3s7mz2h9f_xjt9x4040000gn/T/ipykernel_24421/1830671177.py\u001b[0m in \u001b[0;36m<module>\u001b[0;34m\u001b[0m\n\u001b[1;32m      3\u001b[0m         \u001b[0;32mcontinue\u001b[0m\u001b[0;34m\u001b[0m\u001b[0;34m\u001b[0m\u001b[0m\n\u001b[1;32m      4\u001b[0m     \u001b[0;32mtry\u001b[0m\u001b[0;34m:\u001b[0m\u001b[0;34m\u001b[0m\u001b[0;34m\u001b[0m\u001b[0m\n\u001b[0;32m----> 5\u001b[0;31m         \u001b[0mcheck_missing_generators_small\u001b[0m\u001b[0;34m(\u001b[0m\u001b[0mcountry\u001b[0m\u001b[0;34m)\u001b[0m\u001b[0;34m\u001b[0m\u001b[0;34m\u001b[0m\u001b[0m\n\u001b[0m\u001b[1;32m      6\u001b[0m     \u001b[0;32mexcept\u001b[0m \u001b[0mNoMatchingDataError\u001b[0m\u001b[0;34m:\u001b[0m\u001b[0;34m\u001b[0m\u001b[0;34m\u001b[0m\u001b[0m\n\u001b[1;32m      7\u001b[0m         \u001b[0mprint\u001b[0m\u001b[0;34m(\u001b[0m\u001b[0;34mf\"No data for {country}\"\u001b[0m\u001b[0;34m)\u001b[0m\u001b[0;34m\u001b[0m\u001b[0;34m\u001b[0m\u001b[0m\n",
      "\u001b[0;32m/var/folders/rn/ht0vvs3s7mz2h9f_xjt9x4040000gn/T/ipykernel_24421/2391287444.py\u001b[0m in \u001b[0;36mcheck_missing_generators_small\u001b[0;34m(country, year)\u001b[0m\n\u001b[1;32m      2\u001b[0m     \u001b[0mfound_missing\u001b[0m \u001b[0;34m=\u001b[0m \u001b[0;32mFalse\u001b[0m\u001b[0;34m\u001b[0m\u001b[0;34m\u001b[0m\u001b[0m\n\u001b[1;32m      3\u001b[0m \u001b[0;34m\u001b[0m\u001b[0m\n\u001b[0;32m----> 4\u001b[0;31m     \u001b[0mmarkets\u001b[0m \u001b[0;34m=\u001b[0m \u001b[0;34m[\u001b[0m\u001b[0mget_one\u001b[0m\u001b[0;34m(\u001b[0m\u001b[0;34m\"ecoinvent 3.8 cutoff\"\u001b[0m\u001b[0;34m,\u001b[0m \u001b[0mname\u001b[0m\u001b[0;34m=\u001b[0m\u001b[0mname\u001b[0m\u001b[0;34m,\u001b[0m \u001b[0mlocation\u001b[0m\u001b[0;34m=\u001b[0m\u001b[0mcountry\u001b[0m\u001b[0;34m)\u001b[0m \u001b[0;32mfor\u001b[0m \u001b[0mname\u001b[0m \u001b[0;32min\u001b[0m \u001b[0mNAMES\u001b[0m\u001b[0;34m]\u001b[0m\u001b[0;34m\u001b[0m\u001b[0;34m\u001b[0m\u001b[0m\n\u001b[0m\u001b[1;32m      5\u001b[0m     generators = set.union(*[{\n\u001b[1;32m      6\u001b[0m         \u001b[0mexc\u001b[0m\u001b[0;34m.\u001b[0m\u001b[0minput\u001b[0m\u001b[0;34m[\u001b[0m\u001b[0;34m'name'\u001b[0m\u001b[0;34m]\u001b[0m\u001b[0;34m\u001b[0m\u001b[0;34m\u001b[0m\u001b[0m\n",
      "\u001b[0;32m/var/folders/rn/ht0vvs3s7mz2h9f_xjt9x4040000gn/T/ipykernel_24421/2391287444.py\u001b[0m in \u001b[0;36m<listcomp>\u001b[0;34m(.0)\u001b[0m\n\u001b[1;32m      2\u001b[0m     \u001b[0mfound_missing\u001b[0m \u001b[0;34m=\u001b[0m \u001b[0;32mFalse\u001b[0m\u001b[0;34m\u001b[0m\u001b[0;34m\u001b[0m\u001b[0m\n\u001b[1;32m      3\u001b[0m \u001b[0;34m\u001b[0m\u001b[0m\n\u001b[0;32m----> 4\u001b[0;31m     \u001b[0mmarkets\u001b[0m \u001b[0;34m=\u001b[0m \u001b[0;34m[\u001b[0m\u001b[0mget_one\u001b[0m\u001b[0;34m(\u001b[0m\u001b[0;34m\"ecoinvent 3.8 cutoff\"\u001b[0m\u001b[0;34m,\u001b[0m \u001b[0mname\u001b[0m\u001b[0;34m=\u001b[0m\u001b[0mname\u001b[0m\u001b[0;34m,\u001b[0m \u001b[0mlocation\u001b[0m\u001b[0;34m=\u001b[0m\u001b[0mcountry\u001b[0m\u001b[0;34m)\u001b[0m \u001b[0;32mfor\u001b[0m \u001b[0mname\u001b[0m \u001b[0;32min\u001b[0m \u001b[0mNAMES\u001b[0m\u001b[0;34m]\u001b[0m\u001b[0;34m\u001b[0m\u001b[0;34m\u001b[0m\u001b[0m\n\u001b[0m\u001b[1;32m      5\u001b[0m     generators = set.union(*[{\n\u001b[1;32m      6\u001b[0m         \u001b[0mexc\u001b[0m\u001b[0;34m.\u001b[0m\u001b[0minput\u001b[0m\u001b[0;34m[\u001b[0m\u001b[0;34m'name'\u001b[0m\u001b[0;34m]\u001b[0m\u001b[0;34m\u001b[0m\u001b[0;34m\u001b[0m\u001b[0m\n",
      "\u001b[0;32m/var/folders/rn/ht0vvs3s7mz2h9f_xjt9x4040000gn/T/ipykernel_24421/2819477449.py\u001b[0m in \u001b[0;36mget_one\u001b[0;34m(db_name, **kwargs)\u001b[0m\n\u001b[1;32m      1\u001b[0m \u001b[0;32mdef\u001b[0m \u001b[0mget_one\u001b[0m\u001b[0;34m(\u001b[0m\u001b[0mdb_name\u001b[0m\u001b[0;34m,\u001b[0m \u001b[0;34m**\u001b[0m\u001b[0mkwargs\u001b[0m\u001b[0;34m)\u001b[0m\u001b[0;34m:\u001b[0m\u001b[0;34m\u001b[0m\u001b[0;34m\u001b[0m\u001b[0m\n\u001b[0;32m----> 2\u001b[0;31m     \u001b[0mpossibles\u001b[0m \u001b[0;34m=\u001b[0m \u001b[0;34m[\u001b[0m\u001b[0mact\u001b[0m \u001b[0;32mfor\u001b[0m \u001b[0mact\u001b[0m \u001b[0;32min\u001b[0m \u001b[0mbd\u001b[0m\u001b[0;34m.\u001b[0m\u001b[0mDatabase\u001b[0m\u001b[0;34m(\u001b[0m\u001b[0mdb_name\u001b[0m\u001b[0;34m)\u001b[0m \u001b[0;32mif\u001b[0m \u001b[0mall\u001b[0m\u001b[0;34m(\u001b[0m\u001b[0mact\u001b[0m\u001b[0;34m.\u001b[0m\u001b[0mget\u001b[0m\u001b[0;34m(\u001b[0m\u001b[0mkey\u001b[0m\u001b[0;34m)\u001b[0m \u001b[0;34m==\u001b[0m \u001b[0mvalue\u001b[0m \u001b[0;32mfor\u001b[0m \u001b[0mkey\u001b[0m\u001b[0;34m,\u001b[0m \u001b[0mvalue\u001b[0m \u001b[0;32min\u001b[0m \u001b[0mkwargs\u001b[0m\u001b[0;34m.\u001b[0m\u001b[0mitems\u001b[0m\u001b[0;34m(\u001b[0m\u001b[0;34m)\u001b[0m\u001b[0;34m)\u001b[0m\u001b[0;34m]\u001b[0m\u001b[0;34m\u001b[0m\u001b[0;34m\u001b[0m\u001b[0m\n\u001b[0m\u001b[1;32m      3\u001b[0m     \u001b[0;32mif\u001b[0m \u001b[0mlen\u001b[0m\u001b[0;34m(\u001b[0m\u001b[0mpossibles\u001b[0m\u001b[0;34m)\u001b[0m \u001b[0;34m==\u001b[0m \u001b[0;36m1\u001b[0m\u001b[0;34m:\u001b[0m\u001b[0;34m\u001b[0m\u001b[0;34m\u001b[0m\u001b[0m\n\u001b[1;32m      4\u001b[0m         \u001b[0;32mreturn\u001b[0m \u001b[0mpossibles\u001b[0m\u001b[0;34m[\u001b[0m\u001b[0;36m0\u001b[0m\u001b[0;34m]\u001b[0m\u001b[0;34m\u001b[0m\u001b[0;34m\u001b[0m\u001b[0m\n\u001b[1;32m      5\u001b[0m     \u001b[0;32melse\u001b[0m\u001b[0;34m:\u001b[0m\u001b[0;34m\u001b[0m\u001b[0;34m\u001b[0m\u001b[0m\n",
      "\u001b[0;32m/var/folders/rn/ht0vvs3s7mz2h9f_xjt9x4040000gn/T/ipykernel_24421/2819477449.py\u001b[0m in \u001b[0;36m<listcomp>\u001b[0;34m(.0)\u001b[0m\n\u001b[1;32m      1\u001b[0m \u001b[0;32mdef\u001b[0m \u001b[0mget_one\u001b[0m\u001b[0;34m(\u001b[0m\u001b[0mdb_name\u001b[0m\u001b[0;34m,\u001b[0m \u001b[0;34m**\u001b[0m\u001b[0mkwargs\u001b[0m\u001b[0;34m)\u001b[0m\u001b[0;34m:\u001b[0m\u001b[0;34m\u001b[0m\u001b[0;34m\u001b[0m\u001b[0m\n\u001b[0;32m----> 2\u001b[0;31m     \u001b[0mpossibles\u001b[0m \u001b[0;34m=\u001b[0m \u001b[0;34m[\u001b[0m\u001b[0mact\u001b[0m \u001b[0;32mfor\u001b[0m \u001b[0mact\u001b[0m \u001b[0;32min\u001b[0m \u001b[0mbd\u001b[0m\u001b[0;34m.\u001b[0m\u001b[0mDatabase\u001b[0m\u001b[0;34m(\u001b[0m\u001b[0mdb_name\u001b[0m\u001b[0;34m)\u001b[0m \u001b[0;32mif\u001b[0m \u001b[0mall\u001b[0m\u001b[0;34m(\u001b[0m\u001b[0mact\u001b[0m\u001b[0;34m.\u001b[0m\u001b[0mget\u001b[0m\u001b[0;34m(\u001b[0m\u001b[0mkey\u001b[0m\u001b[0;34m)\u001b[0m \u001b[0;34m==\u001b[0m \u001b[0mvalue\u001b[0m \u001b[0;32mfor\u001b[0m \u001b[0mkey\u001b[0m\u001b[0;34m,\u001b[0m \u001b[0mvalue\u001b[0m \u001b[0;32min\u001b[0m \u001b[0mkwargs\u001b[0m\u001b[0;34m.\u001b[0m\u001b[0mitems\u001b[0m\u001b[0;34m(\u001b[0m\u001b[0;34m)\u001b[0m\u001b[0;34m)\u001b[0m\u001b[0;34m]\u001b[0m\u001b[0;34m\u001b[0m\u001b[0;34m\u001b[0m\u001b[0m\n\u001b[0m\u001b[1;32m      3\u001b[0m     \u001b[0;32mif\u001b[0m \u001b[0mlen\u001b[0m\u001b[0;34m(\u001b[0m\u001b[0mpossibles\u001b[0m\u001b[0;34m)\u001b[0m \u001b[0;34m==\u001b[0m \u001b[0;36m1\u001b[0m\u001b[0;34m:\u001b[0m\u001b[0;34m\u001b[0m\u001b[0;34m\u001b[0m\u001b[0m\n\u001b[1;32m      4\u001b[0m         \u001b[0;32mreturn\u001b[0m \u001b[0mpossibles\u001b[0m\u001b[0;34m[\u001b[0m\u001b[0;36m0\u001b[0m\u001b[0;34m]\u001b[0m\u001b[0;34m\u001b[0m\u001b[0;34m\u001b[0m\u001b[0m\n\u001b[1;32m      5\u001b[0m     \u001b[0;32melse\u001b[0m\u001b[0;34m:\u001b[0m\u001b[0;34m\u001b[0m\u001b[0;34m\u001b[0m\u001b[0m\n",
      "\u001b[0;32m~/venvs/bw25_gsa/lib/python3.9/site-packages/bw2data/backends/base.py\u001b[0m in \u001b[0;36m__iter__\u001b[0;34m(self)\u001b[0m\n\u001b[1;32m    293\u001b[0m \u001b[0;34m\u001b[0m\u001b[0m\n\u001b[1;32m    294\u001b[0m     \u001b[0;32mdef\u001b[0m \u001b[0m__iter__\u001b[0m\u001b[0;34m(\u001b[0m\u001b[0mself\u001b[0m\u001b[0;34m)\u001b[0m\u001b[0;34m:\u001b[0m\u001b[0;34m\u001b[0m\u001b[0;34m\u001b[0m\u001b[0m\n\u001b[0;32m--> 295\u001b[0;31m         \u001b[0;32mfor\u001b[0m \u001b[0mds\u001b[0m \u001b[0;32min\u001b[0m \u001b[0mself\u001b[0m\u001b[0;34m.\u001b[0m\u001b[0m_get_queryset\u001b[0m\u001b[0;34m(\u001b[0m\u001b[0;34m)\u001b[0m\u001b[0;34m:\u001b[0m\u001b[0;34m\u001b[0m\u001b[0;34m\u001b[0m\u001b[0m\n\u001b[0m\u001b[1;32m    296\u001b[0m             \u001b[0;32myield\u001b[0m \u001b[0mActivity\u001b[0m\u001b[0;34m(\u001b[0m\u001b[0mds\u001b[0m\u001b[0;34m)\u001b[0m\u001b[0;34m\u001b[0m\u001b[0;34m\u001b[0m\u001b[0m\n\u001b[1;32m    297\u001b[0m \u001b[0;34m\u001b[0m\u001b[0m\n",
      "\u001b[0;32m~/venvs/bw25_gsa/lib/python3.9/site-packages/peewee.py\u001b[0m in \u001b[0;36m__iter__\u001b[0;34m(self)\u001b[0m\n\u001b[1;32m   6921\u001b[0m     \u001b[0;32mdef\u001b[0m \u001b[0m__iter__\u001b[0m\u001b[0;34m(\u001b[0m\u001b[0mself\u001b[0m\u001b[0;34m)\u001b[0m\u001b[0;34m:\u001b[0m\u001b[0;34m\u001b[0m\u001b[0;34m\u001b[0m\u001b[0m\n\u001b[1;32m   6922\u001b[0m         \u001b[0;32mif\u001b[0m \u001b[0;32mnot\u001b[0m \u001b[0mself\u001b[0m\u001b[0;34m.\u001b[0m\u001b[0m_cursor_wrapper\u001b[0m\u001b[0;34m:\u001b[0m\u001b[0;34m\u001b[0m\u001b[0;34m\u001b[0m\u001b[0m\n\u001b[0;32m-> 6923\u001b[0;31m             \u001b[0mself\u001b[0m\u001b[0;34m.\u001b[0m\u001b[0mexecute\u001b[0m\u001b[0;34m(\u001b[0m\u001b[0;34m)\u001b[0m\u001b[0;34m\u001b[0m\u001b[0;34m\u001b[0m\u001b[0m\n\u001b[0m\u001b[1;32m   6924\u001b[0m         \u001b[0;32mreturn\u001b[0m \u001b[0miter\u001b[0m\u001b[0;34m(\u001b[0m\u001b[0mself\u001b[0m\u001b[0;34m.\u001b[0m\u001b[0m_cursor_wrapper\u001b[0m\u001b[0;34m)\u001b[0m\u001b[0;34m\u001b[0m\u001b[0;34m\u001b[0m\u001b[0m\n\u001b[1;32m   6925\u001b[0m \u001b[0;34m\u001b[0m\u001b[0m\n",
      "\u001b[0;32m~/venvs/bw25_gsa/lib/python3.9/site-packages/peewee.py\u001b[0m in \u001b[0;36minner\u001b[0;34m(self, database, *args, **kwargs)\u001b[0m\n\u001b[1;32m   1909\u001b[0m             raise InterfaceError('Query must be bound to a database in order '\n\u001b[1;32m   1910\u001b[0m                                  'to call \"%s\".' % method.__name__)\n\u001b[0;32m-> 1911\u001b[0;31m         \u001b[0;32mreturn\u001b[0m \u001b[0mmethod\u001b[0m\u001b[0;34m(\u001b[0m\u001b[0mself\u001b[0m\u001b[0;34m,\u001b[0m \u001b[0mdatabase\u001b[0m\u001b[0;34m,\u001b[0m \u001b[0;34m*\u001b[0m\u001b[0margs\u001b[0m\u001b[0;34m,\u001b[0m \u001b[0;34m**\u001b[0m\u001b[0mkwargs\u001b[0m\u001b[0;34m)\u001b[0m\u001b[0;34m\u001b[0m\u001b[0;34m\u001b[0m\u001b[0m\n\u001b[0m\u001b[1;32m   1912\u001b[0m     \u001b[0;32mreturn\u001b[0m \u001b[0minner\u001b[0m\u001b[0;34m\u001b[0m\u001b[0;34m\u001b[0m\u001b[0m\n\u001b[1;32m   1913\u001b[0m \u001b[0;34m\u001b[0m\u001b[0m\n",
      "\u001b[0;32m~/venvs/bw25_gsa/lib/python3.9/site-packages/peewee.py\u001b[0m in \u001b[0;36mexecute\u001b[0;34m(self, database)\u001b[0m\n\u001b[1;32m   1980\u001b[0m     \u001b[0;34m@\u001b[0m\u001b[0mdatabase_required\u001b[0m\u001b[0;34m\u001b[0m\u001b[0;34m\u001b[0m\u001b[0m\n\u001b[1;32m   1981\u001b[0m     \u001b[0;32mdef\u001b[0m \u001b[0mexecute\u001b[0m\u001b[0;34m(\u001b[0m\u001b[0mself\u001b[0m\u001b[0;34m,\u001b[0m \u001b[0mdatabase\u001b[0m\u001b[0;34m)\u001b[0m\u001b[0;34m:\u001b[0m\u001b[0;34m\u001b[0m\u001b[0;34m\u001b[0m\u001b[0m\n\u001b[0;32m-> 1982\u001b[0;31m         \u001b[0;32mreturn\u001b[0m \u001b[0mself\u001b[0m\u001b[0;34m.\u001b[0m\u001b[0m_execute\u001b[0m\u001b[0;34m(\u001b[0m\u001b[0mdatabase\u001b[0m\u001b[0;34m)\u001b[0m\u001b[0;34m\u001b[0m\u001b[0;34m\u001b[0m\u001b[0m\n\u001b[0m\u001b[1;32m   1983\u001b[0m \u001b[0;34m\u001b[0m\u001b[0m\n\u001b[1;32m   1984\u001b[0m     \u001b[0;32mdef\u001b[0m \u001b[0m_execute\u001b[0m\u001b[0;34m(\u001b[0m\u001b[0mself\u001b[0m\u001b[0;34m,\u001b[0m \u001b[0mdatabase\u001b[0m\u001b[0;34m)\u001b[0m\u001b[0;34m:\u001b[0m\u001b[0;34m\u001b[0m\u001b[0;34m\u001b[0m\u001b[0m\n",
      "\u001b[0;32m~/venvs/bw25_gsa/lib/python3.9/site-packages/peewee.py\u001b[0m in \u001b[0;36m_execute\u001b[0;34m(self, database)\u001b[0m\n\u001b[1;32m   2153\u001b[0m     \u001b[0;32mdef\u001b[0m \u001b[0m_execute\u001b[0m\u001b[0;34m(\u001b[0m\u001b[0mself\u001b[0m\u001b[0;34m,\u001b[0m \u001b[0mdatabase\u001b[0m\u001b[0;34m)\u001b[0m\u001b[0;34m:\u001b[0m\u001b[0;34m\u001b[0m\u001b[0;34m\u001b[0m\u001b[0m\n\u001b[1;32m   2154\u001b[0m         \u001b[0;32mif\u001b[0m \u001b[0mself\u001b[0m\u001b[0;34m.\u001b[0m\u001b[0m_cursor_wrapper\u001b[0m \u001b[0;32mis\u001b[0m \u001b[0;32mNone\u001b[0m\u001b[0;34m:\u001b[0m\u001b[0;34m\u001b[0m\u001b[0;34m\u001b[0m\u001b[0m\n\u001b[0;32m-> 2155\u001b[0;31m             \u001b[0mcursor\u001b[0m \u001b[0;34m=\u001b[0m \u001b[0mdatabase\u001b[0m\u001b[0;34m.\u001b[0m\u001b[0mexecute\u001b[0m\u001b[0;34m(\u001b[0m\u001b[0mself\u001b[0m\u001b[0;34m)\u001b[0m\u001b[0;34m\u001b[0m\u001b[0;34m\u001b[0m\u001b[0m\n\u001b[0m\u001b[1;32m   2156\u001b[0m             \u001b[0mself\u001b[0m\u001b[0;34m.\u001b[0m\u001b[0m_cursor_wrapper\u001b[0m \u001b[0;34m=\u001b[0m \u001b[0mself\u001b[0m\u001b[0;34m.\u001b[0m\u001b[0m_get_cursor_wrapper\u001b[0m\u001b[0;34m(\u001b[0m\u001b[0mcursor\u001b[0m\u001b[0;34m)\u001b[0m\u001b[0;34m\u001b[0m\u001b[0;34m\u001b[0m\u001b[0m\n\u001b[1;32m   2157\u001b[0m         \u001b[0;32mreturn\u001b[0m \u001b[0mself\u001b[0m\u001b[0;34m.\u001b[0m\u001b[0m_cursor_wrapper\u001b[0m\u001b[0;34m\u001b[0m\u001b[0;34m\u001b[0m\u001b[0m\n",
      "\u001b[0;32m~/venvs/bw25_gsa/lib/python3.9/site-packages/peewee.py\u001b[0m in \u001b[0;36mexecute\u001b[0;34m(self, query, commit, **context_options)\u001b[0m\n\u001b[1;32m   3171\u001b[0m         \u001b[0mctx\u001b[0m \u001b[0;34m=\u001b[0m \u001b[0mself\u001b[0m\u001b[0;34m.\u001b[0m\u001b[0mget_sql_context\u001b[0m\u001b[0;34m(\u001b[0m\u001b[0;34m**\u001b[0m\u001b[0mcontext_options\u001b[0m\u001b[0;34m)\u001b[0m\u001b[0;34m\u001b[0m\u001b[0;34m\u001b[0m\u001b[0m\n\u001b[1;32m   3172\u001b[0m         \u001b[0msql\u001b[0m\u001b[0;34m,\u001b[0m \u001b[0mparams\u001b[0m \u001b[0;34m=\u001b[0m \u001b[0mctx\u001b[0m\u001b[0;34m.\u001b[0m\u001b[0msql\u001b[0m\u001b[0;34m(\u001b[0m\u001b[0mquery\u001b[0m\u001b[0;34m)\u001b[0m\u001b[0;34m.\u001b[0m\u001b[0mquery\u001b[0m\u001b[0;34m(\u001b[0m\u001b[0;34m)\u001b[0m\u001b[0;34m\u001b[0m\u001b[0;34m\u001b[0m\u001b[0m\n\u001b[0;32m-> 3173\u001b[0;31m         \u001b[0;32mreturn\u001b[0m \u001b[0mself\u001b[0m\u001b[0;34m.\u001b[0m\u001b[0mexecute_sql\u001b[0m\u001b[0;34m(\u001b[0m\u001b[0msql\u001b[0m\u001b[0;34m,\u001b[0m \u001b[0mparams\u001b[0m\u001b[0;34m,\u001b[0m \u001b[0mcommit\u001b[0m\u001b[0;34m=\u001b[0m\u001b[0mcommit\u001b[0m\u001b[0;34m)\u001b[0m\u001b[0;34m\u001b[0m\u001b[0;34m\u001b[0m\u001b[0m\n\u001b[0m\u001b[1;32m   3174\u001b[0m \u001b[0;34m\u001b[0m\u001b[0m\n\u001b[1;32m   3175\u001b[0m     \u001b[0;32mdef\u001b[0m \u001b[0mget_context_options\u001b[0m\u001b[0;34m(\u001b[0m\u001b[0mself\u001b[0m\u001b[0;34m)\u001b[0m\u001b[0;34m:\u001b[0m\u001b[0;34m\u001b[0m\u001b[0;34m\u001b[0m\u001b[0m\n",
      "\u001b[0;32m~/venvs/bw25_gsa/lib/python3.9/site-packages/peewee.py\u001b[0m in \u001b[0;36mexecute_sql\u001b[0;34m(self, sql, params, commit)\u001b[0m\n\u001b[1;32m   3158\u001b[0m             \u001b[0mcursor\u001b[0m \u001b[0;34m=\u001b[0m \u001b[0mself\u001b[0m\u001b[0;34m.\u001b[0m\u001b[0mcursor\u001b[0m\u001b[0;34m(\u001b[0m\u001b[0mcommit\u001b[0m\u001b[0;34m)\u001b[0m\u001b[0;34m\u001b[0m\u001b[0;34m\u001b[0m\u001b[0m\n\u001b[1;32m   3159\u001b[0m             \u001b[0;32mtry\u001b[0m\u001b[0;34m:\u001b[0m\u001b[0;34m\u001b[0m\u001b[0;34m\u001b[0m\u001b[0m\n\u001b[0;32m-> 3160\u001b[0;31m                 \u001b[0mcursor\u001b[0m\u001b[0;34m.\u001b[0m\u001b[0mexecute\u001b[0m\u001b[0;34m(\u001b[0m\u001b[0msql\u001b[0m\u001b[0;34m,\u001b[0m \u001b[0mparams\u001b[0m \u001b[0;32mor\u001b[0m \u001b[0;34m(\u001b[0m\u001b[0;34m)\u001b[0m\u001b[0;34m)\u001b[0m\u001b[0;34m\u001b[0m\u001b[0;34m\u001b[0m\u001b[0m\n\u001b[0m\u001b[1;32m   3161\u001b[0m             \u001b[0;32mexcept\u001b[0m \u001b[0mException\u001b[0m\u001b[0;34m:\u001b[0m\u001b[0;34m\u001b[0m\u001b[0;34m\u001b[0m\u001b[0m\n\u001b[1;32m   3162\u001b[0m                 \u001b[0;32mif\u001b[0m \u001b[0mself\u001b[0m\u001b[0;34m.\u001b[0m\u001b[0mautorollback\u001b[0m \u001b[0;32mand\u001b[0m \u001b[0;32mnot\u001b[0m \u001b[0mself\u001b[0m\u001b[0;34m.\u001b[0m\u001b[0min_transaction\u001b[0m\u001b[0;34m(\u001b[0m\u001b[0;34m)\u001b[0m\u001b[0;34m:\u001b[0m\u001b[0;34m\u001b[0m\u001b[0;34m\u001b[0m\u001b[0m\n",
      "\u001b[0;31mKeyboardInterrupt\u001b[0m: "
     ]
    }
   ],
   "source": [
    "for country in ENTSO_COUNTRIES:\n",
    "    if country == 'CH':\n",
    "        continue\n",
    "    try:\n",
    "        check_missing_generators_small(country)\n",
    "    except NoMatchingDataError:\n",
    "        print(f\"No data for {country}\")"
   ]
  },
  {
   "cell_type": "markdown",
   "id": "fb2f2405-8e00-4bcd-ae5a-ce8a110fd437",
   "metadata": {},
   "source": [
    "# Generating modified data for `ecoinvent` markets\n",
    "\n",
    "For high voltage markets, we need to do the following:\n",
    "\n",
    "* Zero out the `electricity, high voltage, import from XXX` activities\n",
    "* Calculate the total generation plus imports\n",
    "* Add exchanges with normalized trade from the high voltage market mixes of other countries\n",
    "* Convert generation in ENTSO-E categories to normalized generation in ecoinvent activities\n",
    "\n",
    "For medium and low voltage, we need to do the following:\n",
    "\n",
    "* Calculate the ration of transformed versus voltage-specific generation\n",
    "* Convert generation in ENTSO-E categories to normalized generation in ecoinvent activities\n",
    "* Add an exchange with the normalized value from voltage transformation"
   ]
  },
  {
   "cell_type": "code",
   "execution_count": 153,
   "id": "c82d5f54-4bde-4d12-8ed8-c459f50cd3ad",
   "metadata": {},
   "outputs": [],
   "source": [
    "class ENTSODataConverter:\n",
    "    def __init__(self, ecoinvent_database):\n",
    "        self.ei = bd.Database(ecoinvent_database)\n",
    "        self.cdc = CDC()\n",
    "        self.reverse_entso_mapping = {elem: k for k, v in ENTSO_MAPPING.items() for elem in v}\n",
    "        \n",
    "        # Prepare cache of activities\n",
    "        self.hv_mixes = {\n",
    "            act['location']: act \n",
    "            for act in self.ei\n",
    "            if act['name'] == 'market for electricity, high voltage'\n",
    "            and act['location'] in ENTSO_COUNTRIES\n",
    "        }\n",
    "        self.mv_mixes = {\n",
    "            act['location']: act \n",
    "            for act in self.ei\n",
    "            if act['name'] == 'market for electricity, medium voltage'\n",
    "            and act['location'] in ENTSO_COUNTRIES\n",
    "        }\n",
    "        self.lv_mixes = {\n",
    "            act['location']: act \n",
    "            for act in self.ei\n",
    "            if act['name'] == 'market for electricity, low voltage'\n",
    "            and act['location'] in ENTSO_COUNTRIES\n",
    "        }\n",
    "        self.mv_loss_coefficients = {\n",
    "            act['location']: next(iter(act.technosphere()))['amount']\n",
    "            for act in self.ei\n",
    "            if act['name'] == 'electricity voltage transformation from high to medium voltage'\n",
    "            and act['location'] in ENTSO_COUNTRIES\n",
    "        }\n",
    "        self.lv_loss_coefficients = {\n",
    "            act['location']: next(iter(act.technosphere()))['amount']\n",
    "            for act in self.ei\n",
    "            if act['name'] == 'electricity voltage transformation from medium to low voltage'\n",
    "            and act['location'] in ENTSO_COUNTRIES\n",
    "        }  \n",
    "    \n",
    "    def get_ratio_hv_lv_solar_ecoinvent(self, country):\n",
    "        \"\"\"Get the fraction of high voltage solar generation in total solar generation as defined in ecoinvent markets\"\"\"\n",
    "        hv_solar_in_low_voltage = (\n",
    "            sum(\n",
    "                exc['amount'] \n",
    "                for exc in self.hv_mixes[country].technosphere()\n",
    "                if exc.input['name'] in ENTSO_MAPPING['Solar']\n",
    "            ) \n",
    "            / self.mv_loss_coefficients[country] \n",
    "            / self.lv_loss_coefficients[country]\n",
    "            * next(\n",
    "                exc['amount'] \n",
    "                for exc in self.lv_mixes[country].technosphere()\n",
    "                if exc.input['name'] == 'electricity voltage transformation from medium to low voltage'\n",
    "            )\n",
    "        )\n",
    "        lv_solar_in_low_voltage = sum(\n",
    "            exc['amount'] \n",
    "            for exc in self.lv_mixes[country].technosphere() \n",
    "            if exc.input['name'] in ENTSO_MAPPING['Solar']\n",
    "        ) \n",
    "        denominator = (hv_solar_in_low_voltage + lv_solar_in_low_voltage) or 1\n",
    "        return hv_solar_in_low_voltage / denominator\n",
    "\n",
    "    def adjust_entso_df_for_low_voltage(self, df, country):\n",
    "        \"\"\"Adjust ENTSO dataframe for use in ecoinvent high voltage markets.\n",
    "\n",
    "        1. Remove medium voltage waste treatment category.\n",
    "        2. Adjust solar generation to only include high voltage generation.\n",
    "        3. Convert all ENTSO categories to ecoinvent generators (i.e. disaggregate), using ecoinvent ratios.\n",
    "\n",
    "        \"\"\"\n",
    "        market = self.lv_mixes[country]\n",
    "\n",
    "        if 'Solar' not in df.columns:\n",
    "            return (\n",
    "                None,\n",
    "                pd.Series(np.ones(df.shape[0]), index=df.index)\n",
    "            )\n",
    "\n",
    "        solar_lv = df['Solar'] * (1 - self.get_ratio_hv_lv_solar_ecoinvent(country))\n",
    "        \n",
    "        # This is now only high voltage\n",
    "        df['Solar'] *= self.get_ratio_hv_lv_solar_ecoinvent(country)\n",
    "\n",
    "        mv_generation_with_losses = (\n",
    "            ((df.sum(axis=1) - df['Waste']) / self.mv_loss_coefficients[country] / self.lv_loss_coefficients[country])\n",
    "            + (df['Waste'] / self.lv_loss_coefficients[country])\n",
    "        )\n",
    "        \n",
    "        amounts = {\n",
    "            exc.input['name']: exc['amount'] \n",
    "            for exc in market.technosphere() \n",
    "            if is_generation_exchange(exc) \n",
    "            and exc['amount']\n",
    "        }    \n",
    "        if not amounts:\n",
    "            print(\"Warning with {}, average low voltage generation of {} but no ecoinvent exchanges\".format(country, solar_lv.mean(axis=0)))\n",
    "            return (\n",
    "                None,\n",
    "                pd.Series(np.ones(df.shape[0]), index=df.index)\n",
    "            )\n",
    "            \n",
    "        subtotal = sum(amounts.values())\n",
    "        disaggregated = pd.DataFrame(\n",
    "            {name: amount / subtotal * solar_lv for name, amount in amounts.items()},\n",
    "            index=df.index\n",
    "        ).fillna(0)\n",
    "        return disaggregated, mv_generation_with_losses\n",
    "    \n",
    "    def data_dict_for_low_voltage_market(self, country, years=(2019, 2020, 2021), average=False):\n",
    "        data = {}\n",
    "\n",
    "        market = self.lv_mixes[country]\n",
    "        df, series = self.adjust_entso_df_for_low_voltage(pd.concat([get_df(country, year) for year in years]), country)\n",
    "\n",
    "        imprt = next(\n",
    "            exc.input \n",
    "            for exc in market.technosphere() \n",
    "            if exc.input['name'] == 'electricity voltage transformation from medium to low voltage'\n",
    "        )\n",
    "        \n",
    "        if df is None:\n",
    "            data[(imprt, market, True)] = series\n",
    "        else:\n",
    "            total = df.sum(axis=1) + series\n",
    "            \n",
    "            data[(imprt, market, True)] = series / total\n",
    "            for exc in market.technosphere():\n",
    "                if exc.input['name'] in df:\n",
    "                    data[(exc.input, market, True)] = df[exc.input['name']] / total\n",
    "\n",
    "        return data\n",
    "    \n",
    "    def adjust_entso_df_for_medium_voltage(self, df, country):\n",
    "        \"\"\"Adjust ENTSO dataframe for use in ecoinvent medium voltage markets.\n",
    "\n",
    "        1. Get ratio of total hv generation (including T&D losses) to mv production\n",
    "        2. Convert all ENTSO categories to ecoinvent generators (i.e. disaggregate), using ecoinvent ratios.\n",
    "        \n",
    "        \"\"\"\n",
    "        market = self.mv_mixes[country]\n",
    "        \n",
    "        if 'Waste' not in df.columns:\n",
    "            return (\n",
    "                pd.Series(np.zeros(df.shape[0]), index=df.index),\n",
    "                pd.Series(np.ones(df.shape[0]), index=df.index)\n",
    "            )\n",
    "        if 'Solar' in df.columns:\n",
    "            df['Solar'] *= self.get_ratio_hv_lv_solar_ecoinvent(country)\n",
    "\n",
    "        hv_generation_with_losses = (df.sum(axis=1) - df['Waste']) / self.mv_loss_coefficients[country]\n",
    "            \n",
    "        if not any(\n",
    "            exc['amount'] \n",
    "            for exc in market.technosphere() \n",
    "            if is_generation_exchange(exc) and exc.input['name'] in ENTSO_MAPPING['Waste']\n",
    "        ):    \n",
    "            print(\"Warning with {}, average waste generation of {} but no ecoinvent exchange\".format(country, df['Waste'].mean(axis=0)))\n",
    "            return (\n",
    "                pd.Series(np.zeros(df.shape[0]), index=df.index),\n",
    "                pd.Series(np.ones(df.shape[0]), index=df.index)\n",
    "            )\n",
    "        return df['Waste'].fillna(0), hv_generation_with_losses\n",
    "\n",
    "    def data_dict_for_medium_voltage_market(self, country, years=(2019, 2020, 2021), average=False):\n",
    "        data = {}\n",
    "\n",
    "        market = self.mv_mixes[country]\n",
    "        waste_series, remaining_series = self.adjust_entso_df_for_medium_voltage(\n",
    "            pd.concat([get_df(country, year) for year in years]),\n",
    "            country\n",
    "        )\n",
    "        \n",
    "        imprt = next(\n",
    "            exc.input \n",
    "            for exc in market.technosphere() \n",
    "            if exc.input['name'] == 'electricity voltage transformation from high to medium voltage'\n",
    "        )\n",
    "        try:\n",
    "            waste_input = next(\n",
    "                exc.input \n",
    "                for exc in market.technosphere() \n",
    "                if exc.input['name'] in ENTSO_MAPPING['Waste']\n",
    "            )\n",
    "        except StopIteration:\n",
    "            waste_input = None\n",
    "        \n",
    "        total = waste_series + remaining_series\n",
    "    \n",
    "        data[(imprt, market, True)] = remaining_series / total\n",
    "        if waste_input is not None:\n",
    "            data[(waste_input, market, True)] = waste_series / total\n",
    "        return data\n",
    "    \n",
    "    def adjust_entso_df_for_high_voltage(self, df, country):\n",
    "        \"\"\"Adjust ENTSO dataframe for use in ecoinvent high voltage markets.\n",
    "\n",
    "        1. Remove medium voltage waste treatment category.\n",
    "        2. Adjust solar generation to only include high voltage generation.\n",
    "        3. Convert all ENTSO categories to ecoinvent generators (i.e. disaggregate), using ecoinvent ratios.\n",
    "\n",
    "        \"\"\"\n",
    "        market = self.hv_mixes[country]\n",
    "        \n",
    "        if 'Waste' in df.columns:\n",
    "            df.drop('Waste', axis=1, inplace=True)\n",
    "        if 'Solar' in df.columns:\n",
    "            df['Solar'] *= self.get_ratio_hv_lv_solar_ecoinvent(country)\n",
    "\n",
    "        amounts = {exc.input['name']: exc['amount'] for exc in market.technosphere() if is_generation_exchange(exc)}    \n",
    "        disaggregated = []\n",
    "\n",
    "        for label, names in ENTSO_MAPPING.items():\n",
    "            if label not in df.columns:\n",
    "                continue\n",
    "            inputs = {name: amounts[name] for name in names if amounts.get(name, 0)}\n",
    "            if not inputs:\n",
    "                continue\n",
    "            subtotal = sum(inputs.values())\n",
    "            disaggregated.append(pd.DataFrame(\n",
    "                {name: amount / subtotal * df[label] for name, amount in inputs.items()},\n",
    "                index=df.index\n",
    "            ))\n",
    "        return pd.concat(disaggregated, axis=1).fillna(0)\n",
    "    \n",
    "    def data_dict_for_high_voltage_market(self, country, years=(2019, 2020, 2021), average=False):\n",
    "        data = {}\n",
    "        \n",
    "        market = self.hv_mixes[country]\n",
    "        df = self.adjust_entso_df_for_high_voltage(pd.concat([get_df(country, year) for year in years]), country)\n",
    "        empty = np.zeros((df.shape[0],))\n",
    "\n",
    "        if country == 'CH':\n",
    "            swissgrid_total_cut = swissgrid_total[:df.shape[0]]\n",
    "            swissgrid_total_cut.index = df.index\n",
    "            \n",
    "        trade = defaultdict(list)\n",
    "        for src in TRADE_PAIRS[country]:\n",
    "            for year in years:\n",
    "                try:\n",
    "                    trade[src].append(cdc.get_trade(from_country=src, to_country=country, year=year, full_year=True))\n",
    "                except:\n",
    "                    pass\n",
    "            if trade[src]:\n",
    "                trade[src] = pd.concat(trade[src])\n",
    "                assert trade[src].shape[0] == df.shape[0]\n",
    "\n",
    "        if country == 'CH':\n",
    "            total = swissgrid_total_cut + sum(trade.values())\n",
    "        else:\n",
    "            total = df.sum(axis=1) + sum(trade.values())\n",
    "        \n",
    "        for exc in market.technosphere():\n",
    "            if exc.input['name'] in df:\n",
    "                data[(exc.input, market.id, True)] = df[exc.input['name']] / total\n",
    "            elif is_trade_exchange(exc) or is_generation_exchange(exc):\n",
    "                data[(exc.input, market.id, False)] = total * 0\n",
    "        for src, vector in trade.items():\n",
    "            data[(mixes[src], market.id, True)] = vector / total\n",
    "\n",
    "        if country == 'CH':\n",
    "            data[(100000, market.id, True)] = (swissgrid_total_cut - df.sum(axis=1)) / total\n",
    "\n",
    "        return data"
   ]
  },
  {
   "cell_type": "code",
   "execution_count": 154,
   "id": "72926a1d-1e90-4d2a-a2f7-79d091bff381",
   "metadata": {},
   "outputs": [
    {
     "name": "stdout",
     "output_type": "stream",
     "text": [
      "Using data directory /Users/cmutel/Code/akula/entso-data-cache\n"
     ]
    }
   ],
   "source": [
    "edp = ENTSODataConverter(\"ecoinvent 3.8 cutoff\")"
   ]
  },
  {
   "cell_type": "code",
   "execution_count": 161,
   "id": "07216879-61f4-4061-9cc5-372ae4048d1b",
   "metadata": {},
   "outputs": [],
   "source": [
    "data = edp.data_dict_for_high_voltage_market('CH')"
   ]
  },
  {
   "cell_type": "code",
   "execution_count": 162,
   "id": "8f4ceab3-d27d-4cc6-b402-805521319063",
   "metadata": {},
   "outputs": [
    {
     "name": "stdout",
     "output_type": "stream",
     "text": [
      "'electricity, high voltage, biofuels, import from Germany' (kilowatt hour, CH, None) 0.0\n",
      "'electricity production, wind, >3MW turbine, onshore' (kilowatt hour, CH, None) 0.000287365729530342\n",
      "'heat and power co-generation, wood chips, 6667 kW, state-of-the-art 2014' (kilowatt hour, CH, None) 0.0\n",
      "'electricity production, hydro, reservoir, alpine region' (kilowatt hour, CH, None) 0.1165436537503357\n",
      "'electricity production, hydro, run-of-river' (kilowatt hour, CH, None) 0.021831878328883263\n",
      "'electricity production, nuclear, boiling water reactor' (kilowatt hour, CH, None) 0.11310028539919396\n",
      "'electricity production, nuclear, pressure water reactor' (kilowatt hour, CH, None) 0.12706562933340737\n",
      "'electricity production, wind, 1-3MW turbine, onshore' (kilowatt hour, CH, None) 0.0007612426562717657\n",
      "'electricity production, wind, <1MW turbine, onshore' (kilowatt hour, CH, None) 0.0001250497612282775\n",
      "'electricity, high voltage, hydro, reservoir, import from France' (kilowatt hour, CH, None) 0.0\n",
      "'electricity, high voltage, hydro, run-of-river, import from France' (kilowatt hour, CH, None) 0.0\n",
      "'electricity, high voltage, natural gas, import from Germany' (kilowatt hour, CH, None) 0.0\n",
      "'electricity, high voltage, nuclear, import from France' (kilowatt hour, CH, None) 0.0\n",
      "'electricity, high voltage, wind power, import from Germany' (kilowatt hour, CH, None) 0.0\n",
      "'heat and power co-generation, biogas, gas engine' (kilowatt hour, CH, None) 0.0\n",
      "'heat and power co-generation, natural gas, 500kW electrical, lean burn' (kilowatt hour, CH, None) 0.0\n",
      "'market for electricity, high voltage' (kilowatt hour, IT, None) 0.00551598189056146\n",
      "'market for electricity, high voltage' (kilowatt hour, AT, None) 0.03852204613993969\n",
      "'market for electricity, high voltage' (kilowatt hour, DE, None) 0.18080391837496423\n",
      "'market for electricity, high voltage' (kilowatt hour, FR, None) 0.08332738655041147\n",
      "100000 0.31211556208527247\n",
      "1.0\n"
     ]
    }
   ],
   "source": [
    "for key, value in data.items():\n",
    "    print(key[0], value.mean())\n",
    "    \n",
    "print(sum(value.mean() for value in data.values()))"
   ]
  },
  {
   "cell_type": "code",
   "execution_count": 158,
   "id": "3ad60db3-3f7b-4fff-b931-d27f8e9b2c5a",
   "metadata": {},
   "outputs": [],
   "source": [
    "data = edp.data_dict_for_high_voltage_market('DE')"
   ]
  },
  {
   "cell_type": "code",
   "execution_count": 160,
   "id": "ffac0793-877b-4763-b2f4-cbbe4f834316",
   "metadata": {},
   "outputs": [
    {
     "name": "stdout",
     "output_type": "stream",
     "text": [
      "'electricity production, deep geothermal' (kilowatt hour, DE, None) 0.0004288200602826468\n",
      "'electricity production, hard coal' (kilowatt hour, DE, None) 0.0799432871850347\n",
      "'electricity production, hydro, pumped storage' (kilowatt hour, DE, None) 0.020125173662038014\n",
      "'electricity production, hydro, reservoir, non-alpine region' (kilowatt hour, DE, None) 0.002836875829660274\n",
      "'electricity production, hydro, run-of-river' (kilowatt hour, DE, None) 0.032302656637288235\n",
      "'electricity production, lignite' (kilowatt hour, DE, None) 0.20056857422614252\n",
      "'electricity production, natural gas, combined cycle power plant' (kilowatt hour, DE, None) 0.02369018835280738\n",
      "'electricity production, natural gas, conventional power plant' (kilowatt hour, DE, None) 0.014632175170358261\n",
      "'electricity production, nuclear, boiling water reactor' (kilowatt hour, DE, None) 0.031020245367810926\n",
      "'electricity production, nuclear, pressure water reactor' (kilowatt hour, DE, None) 0.11452733917727524\n",
      "'electricity production, oil' (kilowatt hour, DE, None) 0.006229022326361891\n",
      "'electricity production, wind, 1-3MW turbine, offshore' (kilowatt hour, DE, None) 0.052555377435986685\n",
      "'electricity production, wind, 1-3MW turbine, onshore' (kilowatt hour, DE, None) 0.15496443576337007\n",
      "'electricity production, wind, <1MW turbine, onshore' (kilowatt hour, DE, None) 0.02824562534398793\n",
      "'electricity production, wind, >3MW turbine, onshore' (kilowatt hour, DE, None) 0.01696987585422226\n",
      "'electricity, high voltage, import from AT' (kilowatt hour, DE, None) 0.0\n",
      "'electricity, high voltage, import from CH' (kilowatt hour, DE, None) 0.0\n",
      "'electricity, high voltage, import from CZ' (kilowatt hour, DE, None) 0.0\n",
      "'electricity, high voltage, import from DK' (kilowatt hour, DE, None) 0.0\n",
      "'electricity, high voltage, import from FR' (kilowatt hour, DE, None) 0.0\n",
      "'electricity, high voltage, import from LU' (kilowatt hour, DE, None) 0.0\n",
      "'electricity, high voltage, import from NL' (kilowatt hour, DE, None) 0.0\n",
      "'electricity, high voltage, import from PL' (kilowatt hour, DE, None) 0.0\n",
      "'electricity, high voltage, import from SE' (kilowatt hour, DE, None) 0.0\n",
      "'heat and power co-generation, biogas, gas engine' (kilowatt hour, DE, None) 0.07538699851630444\n",
      "'heat and power co-generation, hard coal' (kilowatt hour, DE, None) 0.01301794637683768\n",
      "'heat and power co-generation, lignite' (kilowatt hour, DE, None) 0.005362517237835426\n",
      "'heat and power co-generation, natural gas, combined cycle power plant, 400MW electrical' (kilowatt hour, DE, None) 0.0013341462229825712\n",
      "'heat and power co-generation, natural gas, conventional power plant, 100MW electrical' (kilowatt hour, DE, None) 0.0804270683742079\n",
      "'heat and power co-generation, oil' (kilowatt hour, DE, None) 0.0019907184754349924\n",
      "'heat and power co-generation, wood chips, 6667 kW, state-of-the-art 2014' (kilowatt hour, DE, None) 0.01503755622294401\n",
      "'treatment of blast furnace gas, in power plant' (kilowatt hour, DE, None) 0.0\n",
      "'treatment of coal gas, in power plant' (kilowatt hour, DE, None) 0.001397716329956556\n",
      "'market for electricity, high voltage' (kilowatt hour, CH, None) 0.0033078594723393705\n",
      "'market for electricity, high voltage' (kilowatt hour, SE, None) 0.0011127510419733466\n",
      "'market for electricity, high voltage' (kilowatt hour, LU, None) 1.7889325472959828e-08\n",
      "'market for electricity, high voltage' (kilowatt hour, NL, None) 0.004433740460583076\n",
      "'market for electricity, high voltage' (kilowatt hour, FR, None) 0.0073570529405490356\n",
      "'market for electricity, high voltage' (kilowatt hour, PL, None) 7.688605357911759e-05\n",
      "'market for electricity, high voltage' (kilowatt hour, AT, None) 0.003383054159001352\n",
      "'market for electricity, high voltage' (kilowatt hour, DK, None) 0.005029296217293505\n",
      "'market for electricity, high voltage' (kilowatt hour, CZ, None) 0.0023050016162250923\n",
      "1.0\n"
     ]
    }
   ],
   "source": [
    "for key, value in data.items():\n",
    "    print(key[0], value.mean())\n",
    "\n",
    "print(sum(value.mean() for value in data.values()))"
   ]
  },
  {
   "cell_type": "code",
   "execution_count": null,
   "id": "fbc26be5-ea52-4f2b-832b-370d1173977f",
   "metadata": {},
   "outputs": [],
   "source": []
  },
  {
   "cell_type": "code",
   "execution_count": null,
   "id": "d4800e33-6f1d-4203-9a90-d9e1e09135b8",
   "metadata": {},
   "outputs": [],
   "source": []
  },
  {
   "cell_type": "code",
   "execution_count": null,
   "id": "01ecefa7-d64f-40d9-abf8-89bc924a6699",
   "metadata": {},
   "outputs": [],
   "source": []
  },
  {
   "cell_type": "code",
   "execution_count": null,
   "id": "0191a347-804e-4894-ba8e-121a5dd2df2e",
   "metadata": {},
   "outputs": [],
   "source": []
  },
  {
   "cell_type": "code",
   "execution_count": null,
   "id": "8402aa0e-6b27-40e8-b939-81104ee98150",
   "metadata": {},
   "outputs": [],
   "source": []
  },
  {
   "cell_type": "code",
   "execution_count": 21,
   "id": "b4c9e705-2272-423a-bc94-8438a6ca4275",
   "metadata": {},
   "outputs": [],
   "source": [
    "def compare_fractional_generation(country, year=2020):\n",
    "    hv = ei.get(name='market for electricity, high voltage', location=country)\n",
    "    mv = ei.get(name='market for electricity, medium voltage', location=country)\n",
    "    lv = ei.get(name='market for electricity, low voltage', location=country)\n",
    "    \n",
    "    entso_df = get_df(country=country, year=2020).sum(axis=0)\n",
    "    entso_df = (entso_df / entso_df.sum()).to_dict()\n",
    "    \n",
    "    sum_hv = sum(exc['amount'] for exc in hv.technosphere() if included_exchange(exc))\n",
    "    # sum_mv = sum(exc['amount'] for exc in mv.technosphere() if included_exchange(exc))\n",
    "    # sum_lv = sum(exc['amount'] for exc in lv.technosphere() if included_exchange(exc))\n",
    "    conv_mv_to_lv = sum(exc['amount'] for exc in lv.technosphere() \n",
    "                        if exc.input['name'] == 'electricity voltage transformation from medium to low voltage')\n",
    "    conv_hv_to_lv = (conv_mv_to_lv *\n",
    "                     sum(exc['amount'] for exc in mv.technosphere() \n",
    "                         if exc.input['name'] == 'electricity voltage transformation from high to medium voltage')\n",
    "                    )\n",
    "    \n",
    "    ei_data = {\n",
    "        'Solar': sum(exc['amount'] for exc in lv.technosphere() if included_exchange(exc)),\n",
    "        'Waste': sum(exc['amount'] for exc in mv.technosphere() if included_exchange(exc)) * conv_mv_to_lv,\n",
    "    }\n",
    "    \n",
    "    for key, lst in ENTSO_MAPPING.items():\n",
    "        if key in ei_data:\n",
    "            continue\n",
    "        exchanges = [exc for exc in hv.technosphere() if exc.input['name'] in lst]\n",
    "        if not exchanges:\n",
    "            continue\n",
    "        \n",
    "        ei_data[key] = (\n",
    "            sum(exc['amount'] for exc in exchanges) \n",
    "            / sum_hv  # production doesn't add up to 1 - there are also imports\n",
    "            * conv_hv_to_lv\n",
    "        )\n",
    "    \n",
    "    all_keys = set(ei_data).union(set(entso_df))\n",
    "    for key in all_keys:\n",
    "        if key not in entso_df:\n",
    "            entso_df[key] = 0\n",
    "        if key not in ei_data:\n",
    "            ei_data[key] = 0\n",
    "    \n",
    "    return pd.DataFrame({'ENTSO': entso_df, 'ecoinvent': ei_data})"
   ]
  },
  {
   "cell_type": "code",
   "execution_count": 29,
   "id": "85c59997-d079-46ec-8f49-7503429bec95",
   "metadata": {},
   "outputs": [
    {
     "data": {
      "text/plain": [
       "238652.11"
      ]
     },
     "execution_count": 29,
     "metadata": {},
     "output_type": "execute_result"
    }
   ],
   "source": [
    "(get_df('ES', 2019).sum(axis=0)).sum() / 1000"
   ]
  },
  {
   "cell_type": "code",
   "execution_count": 31,
   "id": "0437cb68-e9d5-4809-9d23-d0e9497fef0c",
   "metadata": {},
   "outputs": [
    {
     "data": {
      "text/html": [
       "<div>\n",
       "<style scoped>\n",
       "    .dataframe tbody tr th:only-of-type {\n",
       "        vertical-align: middle;\n",
       "    }\n",
       "\n",
       "    .dataframe tbody tr th {\n",
       "        vertical-align: top;\n",
       "    }\n",
       "\n",
       "    .dataframe thead th {\n",
       "        text-align: right;\n",
       "    }\n",
       "</style>\n",
       "<table border=\"1\" class=\"dataframe\">\n",
       "  <thead>\n",
       "    <tr style=\"text-align: right;\">\n",
       "      <th></th>\n",
       "      <th>ENTSO</th>\n",
       "      <th>ecoinvent</th>\n",
       "    </tr>\n",
       "  </thead>\n",
       "  <tbody>\n",
       "    <tr>\n",
       "      <th>Biomass</th>\n",
       "      <td>0.016056</td>\n",
       "      <td>0.012940</td>\n",
       "    </tr>\n",
       "    <tr>\n",
       "      <th>Fossil Brown coal/Lignite</th>\n",
       "      <td>0.000000</td>\n",
       "      <td>0.007119</td>\n",
       "    </tr>\n",
       "    <tr>\n",
       "      <th>Fossil Coal-derived gas</th>\n",
       "      <td>0.000000</td>\n",
       "      <td>0.000467</td>\n",
       "    </tr>\n",
       "    <tr>\n",
       "      <th>Fossil Gas</th>\n",
       "      <td>0.257964</td>\n",
       "      <td>0.120847</td>\n",
       "    </tr>\n",
       "    <tr>\n",
       "      <th>Fossil Hard coal</th>\n",
       "      <td>0.021526</td>\n",
       "      <td>0.147656</td>\n",
       "    </tr>\n",
       "    <tr>\n",
       "      <th>Fossil Oil</th>\n",
       "      <td>0.007724</td>\n",
       "      <td>0.040121</td>\n",
       "    </tr>\n",
       "    <tr>\n",
       "      <th>Fossil Oil shale</th>\n",
       "      <td>0.000000</td>\n",
       "      <td>0.000000</td>\n",
       "    </tr>\n",
       "    <tr>\n",
       "      <th>Fossil Peat</th>\n",
       "      <td>0.000000</td>\n",
       "      <td>0.000000</td>\n",
       "    </tr>\n",
       "    <tr>\n",
       "      <th>Geothermal</th>\n",
       "      <td>0.000000</td>\n",
       "      <td>0.000000</td>\n",
       "    </tr>\n",
       "    <tr>\n",
       "      <th>Hydro Run-of-river and poundage</th>\n",
       "      <td>0.042326</td>\n",
       "      <td>0.093979</td>\n",
       "    </tr>\n",
       "    <tr>\n",
       "      <th>Hydro Water Reservoir</th>\n",
       "      <td>0.098836</td>\n",
       "      <td>0.048413</td>\n",
       "    </tr>\n",
       "    <tr>\n",
       "      <th>Marine</th>\n",
       "      <td>0.000000</td>\n",
       "      <td>0.000000</td>\n",
       "    </tr>\n",
       "    <tr>\n",
       "      <th>Nuclear</th>\n",
       "      <td>0.233844</td>\n",
       "      <td>0.225567</td>\n",
       "    </tr>\n",
       "    <tr>\n",
       "      <th>Other</th>\n",
       "      <td>0.001808</td>\n",
       "      <td>0.005165</td>\n",
       "    </tr>\n",
       "    <tr>\n",
       "      <th>Other renewable</th>\n",
       "      <td>0.003702</td>\n",
       "      <td>0.000000</td>\n",
       "    </tr>\n",
       "    <tr>\n",
       "      <th>Solar</th>\n",
       "      <td>0.083934</td>\n",
       "      <td>0.051824</td>\n",
       "    </tr>\n",
       "    <tr>\n",
       "      <th>Waste</th>\n",
       "      <td>0.009602</td>\n",
       "      <td>0.000602</td>\n",
       "    </tr>\n",
       "    <tr>\n",
       "      <th>Wind Offshore</th>\n",
       "      <td>0.000000</td>\n",
       "      <td>0.000042</td>\n",
       "    </tr>\n",
       "    <tr>\n",
       "      <th>Wind Onshore</th>\n",
       "      <td>0.222679</td>\n",
       "      <td>0.216100</td>\n",
       "    </tr>\n",
       "    <tr>\n",
       "      <th>Hydro Pumped Storage</th>\n",
       "      <td>0.000000</td>\n",
       "      <td>0.010518</td>\n",
       "    </tr>\n",
       "  </tbody>\n",
       "</table>\n",
       "</div>"
      ],
      "text/plain": [
       "                                    ENTSO  ecoinvent\n",
       "Biomass                          0.016056   0.012940\n",
       "Fossil Brown coal/Lignite        0.000000   0.007119\n",
       "Fossil Coal-derived gas          0.000000   0.000467\n",
       "Fossil Gas                       0.257964   0.120847\n",
       "Fossil Hard coal                 0.021526   0.147656\n",
       "Fossil Oil                       0.007724   0.040121\n",
       "Fossil Oil shale                 0.000000   0.000000\n",
       "Fossil Peat                      0.000000   0.000000\n",
       "Geothermal                       0.000000   0.000000\n",
       "Hydro Run-of-river and poundage  0.042326   0.093979\n",
       "Hydro Water Reservoir            0.098836   0.048413\n",
       "Marine                           0.000000   0.000000\n",
       "Nuclear                          0.233844   0.225567\n",
       "Other                            0.001808   0.005165\n",
       "Other renewable                  0.003702   0.000000\n",
       "Solar                            0.083934   0.051824\n",
       "Waste                            0.009602   0.000602\n",
       "Wind Offshore                    0.000000   0.000042\n",
       "Wind Onshore                     0.222679   0.216100\n",
       "Hydro Pumped Storage             0.000000   0.010518"
      ]
     },
     "execution_count": 31,
     "metadata": {},
     "output_type": "execute_result"
    }
   ],
   "source": [
    "df = compare_fractional_generation('ES', 2019)\n",
    "df"
   ]
  },
  {
   "cell_type": "markdown",
   "id": "26d6f4fb-efd2-4dc7-a9c7-0067c44278c5",
   "metadata": {},
   "source": [
    "Data read manually from https://www.iea.org/countries/spain"
   ]
  },
  {
   "cell_type": "code",
   "execution_count": 34,
   "id": "e373de21-c431-4f4e-952c-ec4428fc90f1",
   "metadata": {},
   "outputs": [],
   "source": [
    "df['IEA'] = pd.Series({\n",
    "    'Biomass': 4802,\n",
    "    'Fossil Brown coal/Lignite': 0,\n",
    "    'Fossil Coal-derived gas': 0,\n",
    "    'Fossil Gas': 83703,\n",
    "    'Fossil Hard coal': 13982,\n",
    "    'Fossil Oil': 12883,\n",
    "    'Fossil Oil shale': 0,\n",
    "    'Fossil Peat': 0,\n",
    "    'Geothermal': 0,\n",
    "    'Hydro Run-of-river and poundage': 26874,\n",
    "    'Hydro Water Reservoir': 0,\n",
    "    'Marine': 0,\n",
    "    'Nuclear': 58349,\n",
    "    'Other': 139,\n",
    "    'Other renewable': 0,\n",
    "    'Solar': 9420,\n",
    "    'Waste': 1755,\n",
    "    'Wind Offshore': 0,\n",
    "    'Wind Onshore': 55647,\n",
    "    'Hydro Pumped Storage': 0,\n",
    "})"
   ]
  },
  {
   "cell_type": "code",
   "execution_count": 35,
   "id": "cc72651e-a40d-4b43-8858-49293c3e2298",
   "metadata": {},
   "outputs": [],
   "source": [
    "df['IEA'] = df['IEA'] / df['IEA'].sum()"
   ]
  },
  {
   "cell_type": "code",
   "execution_count": 45,
   "id": "b2de8a80-cb8b-4934-879d-6dd17aac51a7",
   "metadata": {},
   "outputs": [],
   "source": [
    "import requests"
   ]
  },
  {
   "cell_type": "code",
   "execution_count": 52,
   "id": "230acfac-1acd-4e67-9800-b990ee9734d7",
   "metadata": {},
   "outputs": [],
   "source": [
    "URL = \"https://apidatos.ree.es/en/datos/generacion/estructura-generacion?start_date=2019-01-01T00:00&end_date=2019-12-31T23:59&time_trunc=year\""
   ]
  },
  {
   "cell_type": "code",
   "execution_count": 53,
   "id": "76b88e3e-c86e-4559-8957-a6ff74bdf984",
   "metadata": {},
   "outputs": [
    {
     "data": {
      "text/plain": [
       "{'Hydro': 0.09477104131458193,\n",
       " 'Pumped storage': 0.00630875586852493,\n",
       " 'Nuclear': 0.21402632991933143,\n",
       " 'Coal': 0.04857837137561619,\n",
       " 'Fuel + Gas': 3.8339327256957146e-12,\n",
       " 'Diesel engines': 0.01087323696059382,\n",
       " 'Gas turbine': 0.002570774873639019,\n",
       " 'Steam turbine': 0.008392519636942236,\n",
       " 'Combined cycle': 0.2117939974506982,\n",
       " 'Hydroeolian': 8.913402077067102e-05,\n",
       " 'Wind': 0.20797189501836943,\n",
       " 'Solar photovoltaic': 0.03547161796662054,\n",
       " 'Thermal solar': 0.01980774944186908,\n",
       " 'Other renewables': 0.013870071713414273,\n",
       " 'Cogeneration': 0.11354224357492992,\n",
       " 'Non-renewable waste': 0.008520774804365222,\n",
       " 'Renewable waste': 0.003411486055899025,\n",
       " 'Total generation': 1}"
      ]
     },
     "execution_count": 53,
     "metadata": {},
     "output_type": "execute_result"
    }
   ],
   "source": [
    "res = {o['attributes']['title']: o['attributes']['values'][0]['percentage'] for o in requests.get(URL).json()['included']}\n",
    "res"
   ]
  },
  {
   "cell_type": "code",
   "execution_count": 58,
   "id": "daf8d375-66e0-4661-8c88-4bbfc3dca037",
   "metadata": {},
   "outputs": [],
   "source": [
    "res_mapping = {\n",
    "    \"Hydro\": \"Hydro Run-of-river and poundage\",\n",
    "    \"Pumped storage\": \"Hydro Run-of-river and poundage\",\n",
    "    \"Nuclear\": \"Nuclear\",\n",
    "    \"Coal\": \"Fossil Hard coal\",\n",
    "    \"Fuel + Gas\": \"Fossil Oil\",\n",
    "    \"Diesel engines\": \"Fossil Oil\",\n",
    "    \"Gas turbine\": \"Fossil Gas\",\n",
    "    \"Steam turbine\": \"Fossil Gas\",\n",
    "    \"Combined cycle\": \"Fossil Gas\",\n",
    "    \"Hydroeolian\": \"Wind Onshore\",\n",
    "    \"Wind\": \"Wind Onshore\",\n",
    "    \"Solar photovoltaic\": \"Solar\",\n",
    "    \"Thermal solar\": \"Solar\",\n",
    "    \"Other renewables\": \"Other renewable\",\n",
    "    \"Cogeneration\": \"Other\",\n",
    "    \"Non-renewable waste\": \"Waste\",\n",
    "    \"Renewable waste\": \"Waste\",\n",
    "}"
   ]
  },
  {
   "cell_type": "code",
   "execution_count": 62,
   "id": "fdafcb62-c1e8-4025-8f86-2c5a82ee6540",
   "metadata": {},
   "outputs": [
    {
     "name": "stdout",
     "output_type": "stream",
     "text": [
      "Total generation\n"
     ]
    }
   ],
   "source": [
    "res_series = {label: 0 for label in df.index}\n",
    "\n",
    "for key, value in res.items():\n",
    "    try:\n",
    "        res_series[res_mapping[key]] += value\n",
    "    except KeyError:\n",
    "        print(key)\n",
    "    \n",
    "df[\"RES\"] = pd.Series(res_series)"
   ]
  },
  {
   "cell_type": "code",
   "execution_count": 63,
   "id": "5f5d457e-ca40-422f-b31b-4eae197e9704",
   "metadata": {},
   "outputs": [
    {
     "data": {
      "text/html": [
       "<div>\n",
       "<style scoped>\n",
       "    .dataframe tbody tr th:only-of-type {\n",
       "        vertical-align: middle;\n",
       "    }\n",
       "\n",
       "    .dataframe tbody tr th {\n",
       "        vertical-align: top;\n",
       "    }\n",
       "\n",
       "    .dataframe thead th {\n",
       "        text-align: right;\n",
       "    }\n",
       "</style>\n",
       "<table border=\"1\" class=\"dataframe\">\n",
       "  <thead>\n",
       "    <tr style=\"text-align: right;\">\n",
       "      <th></th>\n",
       "      <th>ENTSO</th>\n",
       "      <th>ecoinvent</th>\n",
       "      <th>IEA</th>\n",
       "      <th>RES</th>\n",
       "    </tr>\n",
       "  </thead>\n",
       "  <tbody>\n",
       "    <tr>\n",
       "      <th>Biomass</th>\n",
       "      <td>0.016056</td>\n",
       "      <td>0.012940</td>\n",
       "      <td>0.017948</td>\n",
       "      <td>0.000000</td>\n",
       "    </tr>\n",
       "    <tr>\n",
       "      <th>Fossil Brown coal/Lignite</th>\n",
       "      <td>0.000000</td>\n",
       "      <td>0.007119</td>\n",
       "      <td>0.000000</td>\n",
       "      <td>0.000000</td>\n",
       "    </tr>\n",
       "    <tr>\n",
       "      <th>Fossil Coal-derived gas</th>\n",
       "      <td>0.000000</td>\n",
       "      <td>0.000467</td>\n",
       "      <td>0.000000</td>\n",
       "      <td>0.000000</td>\n",
       "    </tr>\n",
       "    <tr>\n",
       "      <th>Fossil Gas</th>\n",
       "      <td>0.257964</td>\n",
       "      <td>0.120847</td>\n",
       "      <td>0.312845</td>\n",
       "      <td>0.222757</td>\n",
       "    </tr>\n",
       "    <tr>\n",
       "      <th>Fossil Hard coal</th>\n",
       "      <td>0.021526</td>\n",
       "      <td>0.147656</td>\n",
       "      <td>0.052259</td>\n",
       "      <td>0.048578</td>\n",
       "    </tr>\n",
       "    <tr>\n",
       "      <th>Fossil Oil</th>\n",
       "      <td>0.007724</td>\n",
       "      <td>0.040121</td>\n",
       "      <td>0.048151</td>\n",
       "      <td>0.010873</td>\n",
       "    </tr>\n",
       "    <tr>\n",
       "      <th>Fossil Oil shale</th>\n",
       "      <td>0.000000</td>\n",
       "      <td>0.000000</td>\n",
       "      <td>0.000000</td>\n",
       "      <td>0.000000</td>\n",
       "    </tr>\n",
       "    <tr>\n",
       "      <th>Fossil Peat</th>\n",
       "      <td>0.000000</td>\n",
       "      <td>0.000000</td>\n",
       "      <td>0.000000</td>\n",
       "      <td>0.000000</td>\n",
       "    </tr>\n",
       "    <tr>\n",
       "      <th>Geothermal</th>\n",
       "      <td>0.000000</td>\n",
       "      <td>0.000000</td>\n",
       "      <td>0.000000</td>\n",
       "      <td>0.000000</td>\n",
       "    </tr>\n",
       "    <tr>\n",
       "      <th>Hydro Run-of-river and poundage</th>\n",
       "      <td>0.042326</td>\n",
       "      <td>0.093979</td>\n",
       "      <td>0.100443</td>\n",
       "      <td>0.101080</td>\n",
       "    </tr>\n",
       "    <tr>\n",
       "      <th>Hydro Water Reservoir</th>\n",
       "      <td>0.098836</td>\n",
       "      <td>0.048413</td>\n",
       "      <td>0.000000</td>\n",
       "      <td>0.000000</td>\n",
       "    </tr>\n",
       "    <tr>\n",
       "      <th>Marine</th>\n",
       "      <td>0.000000</td>\n",
       "      <td>0.000000</td>\n",
       "      <td>0.000000</td>\n",
       "      <td>0.000000</td>\n",
       "    </tr>\n",
       "    <tr>\n",
       "      <th>Nuclear</th>\n",
       "      <td>0.233844</td>\n",
       "      <td>0.225567</td>\n",
       "      <td>0.218083</td>\n",
       "      <td>0.214026</td>\n",
       "    </tr>\n",
       "    <tr>\n",
       "      <th>Other</th>\n",
       "      <td>0.001808</td>\n",
       "      <td>0.005165</td>\n",
       "      <td>0.000520</td>\n",
       "      <td>0.113542</td>\n",
       "    </tr>\n",
       "    <tr>\n",
       "      <th>Other renewable</th>\n",
       "      <td>0.003702</td>\n",
       "      <td>0.000000</td>\n",
       "      <td>0.000000</td>\n",
       "      <td>0.013870</td>\n",
       "    </tr>\n",
       "    <tr>\n",
       "      <th>Solar</th>\n",
       "      <td>0.083934</td>\n",
       "      <td>0.051824</td>\n",
       "      <td>0.035208</td>\n",
       "      <td>0.055279</td>\n",
       "    </tr>\n",
       "    <tr>\n",
       "      <th>Waste</th>\n",
       "      <td>0.009602</td>\n",
       "      <td>0.000602</td>\n",
       "      <td>0.006559</td>\n",
       "      <td>0.011932</td>\n",
       "    </tr>\n",
       "    <tr>\n",
       "      <th>Wind Offshore</th>\n",
       "      <td>0.000000</td>\n",
       "      <td>0.000042</td>\n",
       "      <td>0.000000</td>\n",
       "      <td>0.000000</td>\n",
       "    </tr>\n",
       "    <tr>\n",
       "      <th>Wind Onshore</th>\n",
       "      <td>0.222679</td>\n",
       "      <td>0.216100</td>\n",
       "      <td>0.207984</td>\n",
       "      <td>0.208061</td>\n",
       "    </tr>\n",
       "    <tr>\n",
       "      <th>Hydro Pumped Storage</th>\n",
       "      <td>0.000000</td>\n",
       "      <td>0.010518</td>\n",
       "      <td>0.000000</td>\n",
       "      <td>0.000000</td>\n",
       "    </tr>\n",
       "  </tbody>\n",
       "</table>\n",
       "</div>"
      ],
      "text/plain": [
       "                                    ENTSO  ecoinvent       IEA       RES\n",
       "Biomass                          0.016056   0.012940  0.017948  0.000000\n",
       "Fossil Brown coal/Lignite        0.000000   0.007119  0.000000  0.000000\n",
       "Fossil Coal-derived gas          0.000000   0.000467  0.000000  0.000000\n",
       "Fossil Gas                       0.257964   0.120847  0.312845  0.222757\n",
       "Fossil Hard coal                 0.021526   0.147656  0.052259  0.048578\n",
       "Fossil Oil                       0.007724   0.040121  0.048151  0.010873\n",
       "Fossil Oil shale                 0.000000   0.000000  0.000000  0.000000\n",
       "Fossil Peat                      0.000000   0.000000  0.000000  0.000000\n",
       "Geothermal                       0.000000   0.000000  0.000000  0.000000\n",
       "Hydro Run-of-river and poundage  0.042326   0.093979  0.100443  0.101080\n",
       "Hydro Water Reservoir            0.098836   0.048413  0.000000  0.000000\n",
       "Marine                           0.000000   0.000000  0.000000  0.000000\n",
       "Nuclear                          0.233844   0.225567  0.218083  0.214026\n",
       "Other                            0.001808   0.005165  0.000520  0.113542\n",
       "Other renewable                  0.003702   0.000000  0.000000  0.013870\n",
       "Solar                            0.083934   0.051824  0.035208  0.055279\n",
       "Waste                            0.009602   0.000602  0.006559  0.011932\n",
       "Wind Offshore                    0.000000   0.000042  0.000000  0.000000\n",
       "Wind Onshore                     0.222679   0.216100  0.207984  0.208061\n",
       "Hydro Pumped Storage             0.000000   0.010518  0.000000  0.000000"
      ]
     },
     "execution_count": 63,
     "metadata": {},
     "output_type": "execute_result"
    }
   ],
   "source": [
    "df"
   ]
  },
  {
   "cell_type": "code",
   "execution_count": 65,
   "id": "a038525a-af6c-48f0-803c-34b815bcee64",
   "metadata": {},
   "outputs": [],
   "source": [
    "df.to_excel(\"Spain.xlsx\")"
   ]
  },
  {
   "cell_type": "code",
   "execution_count": 93,
   "id": "cf69620e-4519-41b7-bebd-c0a7ce7b73c1",
   "metadata": {},
   "outputs": [],
   "source": [
    "from pandas import ExcelWriter"
   ]
  },
  {
   "cell_type": "code",
   "execution_count": 98,
   "id": "db8f833f-9447-46f0-9426-49c128ed4ca9",
   "metadata": {},
   "outputs": [],
   "source": [
    "with pd.ExcelWriter(\"generation.xlsx\") as writer:\n",
    "    for country in ENTSO_COUNTRIES:\n",
    "        df = compare_fractional_generation(country, 2019) \n",
    "        df['difference'] = df['ENTSO'] - df['ecoinvent']\n",
    "        df.to_excel(writer, sheet_name=country)"
   ]
  }
 ],
 "metadata": {
  "kernelspec": {
   "display_name": "Python 3 (ipykernel)",
   "language": "python",
   "name": "python3"
  },
  "language_info": {
   "codemirror_mode": {
    "name": "ipython",
    "version": 3
   },
   "file_extension": ".py",
   "mimetype": "text/x-python",
   "name": "python",
   "nbconvert_exporter": "python",
   "pygments_lexer": "ipython3",
   "version": "3.9.10"
  },
  "varInspector": {
   "cols": {
    "lenName": 16,
    "lenType": 16,
    "lenVar": 40
   },
   "kernels_config": {
    "python": {
     "delete_cmd_postfix": "",
     "delete_cmd_prefix": "del ",
     "library": "var_list.py",
     "varRefreshCmd": "print(var_dic_list())"
    },
    "r": {
     "delete_cmd_postfix": ") ",
     "delete_cmd_prefix": "rm(",
     "library": "var_list.r",
     "varRefreshCmd": "cat(var_dic_list()) "
    }
   },
   "types_to_exclude": [
    "module",
    "function",
    "builtin_function_or_method",
    "instance",
    "_Feature"
   ],
   "window_display": false
  }
 },
 "nbformat": 4,
 "nbformat_minor": 5
}
