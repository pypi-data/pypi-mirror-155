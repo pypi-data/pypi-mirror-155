{
 "cells": [
  {
   "cell_type": "code",
   "execution_count": 1,
   "id": "713f32e8-206f-4c39-ba2f-dbec1fa42c3d",
   "metadata": {},
   "outputs": [],
   "source": [
    "import bw2data as bd\n",
    "import bw2io as bi\n",
    "from pprint import pprint\n",
    "from tqdm import tqdm\n",
    "import bw2parameters as bwp\n",
    "import numpy as np\n",
    "import traceback\n",
    "import sys\n",
    "import re"
   ]
  },
  {
   "cell_type": "code",
   "execution_count": 2,
   "id": "c9e5f8f5-6b4f-4dcd-be42-4b52090d4abe",
   "metadata": {},
   "outputs": [
    {
     "ename": "AssertionError",
     "evalue": "",
     "output_type": "error",
     "traceback": [
      "\u001b[0;31m---------------------------------------------------------------------------\u001b[0m",
      "\u001b[0;31mAssertionError\u001b[0m                            Traceback (most recent call last)",
      "\u001b[0;32m/var/folders/mf/xg26zj4n7sg00qbjlfk7p9qr0000gn/T/ipykernel_39094/3466232458.py\u001b[0m in \u001b[0;36m<module>\u001b[0;34m\u001b[0m\n\u001b[0;32m----> 1\u001b[0;31m \u001b[0;32massert\u001b[0m \u001b[0mbi\u001b[0m\u001b[0;34m.\u001b[0m\u001b[0m__version__\u001b[0m \u001b[0;34m>=\u001b[0m \u001b[0;34m(\u001b[0m\u001b[0;36m0\u001b[0m\u001b[0;34m,\u001b[0m \u001b[0;36m9\u001b[0m\u001b[0;34m,\u001b[0m \u001b[0;34m\"DEV7\"\u001b[0m\u001b[0;34m)\u001b[0m\u001b[0;34m\u001b[0m\u001b[0;34m\u001b[0m\u001b[0m\n\u001b[0m",
      "\u001b[0;31mAssertionError\u001b[0m: "
     ]
    }
   ],
   "source": [
    "assert bi.__version__ >= (0, 9, \"DEV7\")"
   ]
  },
  {
   "cell_type": "code",
   "execution_count": 3,
   "id": "255c6a01-3425-4744-bb00-b2f814871de5",
   "metadata": {},
   "outputs": [],
   "source": [
    "from asteval import Interpreter\n",
    "from numbers import Number\n",
    "from bw2parameters.errors import BroadcastingError\n",
    "from stats_arrays import uncertainty_choices\n",
    "\n",
    "\n",
    "MC_ERROR_TEXT = \"\"\"Formula returned array of wrong shape:\n",
    "Name: {}\n",
    "Formula: {}\n",
    "Expected shape: {}\n",
    "Returned shape: {}\"\"\"\n",
    "\n",
    "\n",
    "class PatchedParameterSet(bwp.ParameterSet):\n",
    "    def evaluate_monte_carlo(self, iterations=1000):\n",
    "        \"\"\"Evaluate each formula using Monte Carlo and variable uncertainty data, if present.\n",
    "\n",
    "        Formulas **must** return a one-dimensional array, or ``BroadcastingError`` is raised.\n",
    "\n",
    "        Returns dictionary of ``{parameter name: numpy array}``.\"\"\"\n",
    "        interpreter = Interpreter()\n",
    "        result = {}\n",
    "\n",
    "        def get_rng_sample(obj):\n",
    "            if isinstance(obj, np.ndarray):\n",
    "                # Already a Monte Carlo sample\n",
    "                return obj\n",
    "            if 'uncertainty_type' not in obj:\n",
    "                if 'uncertainty type' not in obj:\n",
    "                    obj = obj.copy()\n",
    "                    obj['uncertainty_type'] = 0\n",
    "                    obj['loc'] = obj['amount']\n",
    "                else:\n",
    "                    obj['uncertainty_type'] = obj['uncertainty type']\n",
    "            kls = uncertainty_choices[obj['uncertainty_type']]\n",
    "            return kls.bounded_random_variables(kls.from_dicts(obj), iterations).ravel()\n",
    "\n",
    "        def fix_shape(array):\n",
    "            # This is new\n",
    "            if array is None:\n",
    "                return np.zeros((iterations,))\n",
    "            elif isinstance(array, Number):\n",
    "                return np.ones((iterations,)) * array\n",
    "            elif not isinstance(array, np.ndarray):\n",
    "                return np.zeros((iterations,))\n",
    "            # End new section\n",
    "            elif array.shape in {(1, iterations), (iterations, 1)}:\n",
    "                return array.reshape((iterations,))\n",
    "            else:\n",
    "                return array\n",
    "\n",
    "        for key in self.order:\n",
    "            if key in self.global_params:\n",
    "                interpreter.symtable[key] = result[key] = get_rng_sample(self.global_params[key])\n",
    "            elif self.params[key].get('formula'):\n",
    "                sample = fix_shape(interpreter(self.params[key]['formula']))\n",
    "                if sample.shape != (iterations,):\n",
    "                    raise BroadcastingError(MC_ERROR_TEXT.format(\n",
    "                        key, self.params[key]['formula'], (iterations,), sample.shape)\n",
    "                    )\n",
    "                interpreter.symtable[key] = result[key] = sample\n",
    "            else:\n",
    "                interpreter.symtable[key] = result[key] = get_rng_sample(self.params[key])\n",
    "        return result"
   ]
  },
  {
   "cell_type": "code",
   "execution_count": 4,
   "id": "f8c1ecd0-1736-4847-90d1-e43f1ef26d42",
   "metadata": {},
   "outputs": [],
   "source": [
    "bd.projects.set_current('GSA for archetypes')"
   ]
  },
  {
   "cell_type": "code",
   "execution_count": 11,
   "id": "d609f842",
   "metadata": {},
   "outputs": [
    {
     "data": {
      "text/plain": [
       "Databases dictionary with 3 object(s):\n",
       "\tbiosphere3\n",
       "\tecoinvent 3.8 cutoff\n",
       "\tswiss consumption 1.0"
      ]
     },
     "execution_count": 11,
     "metadata": {},
     "output_type": "execute_result"
    }
   ],
   "source": [
    "del bd.databases[]"
   ]
  },
  {
   "cell_type": "code",
   "execution_count": 5,
   "id": "026d0337-ea4f-46cd-a5b7-b501922d25c5",
   "metadata": {},
   "outputs": [],
   "source": [
    "ei = bd.Database(\"ecoinvent 3.8 cutoff\")\n",
    "\n",
    "# Takes forever and not necessary, skip it...\n",
    "if not ei.metadata.get('fixed chemical formula name') and False:\n",
    "    from bw2data.backends.schema import ExchangeDataset as ED\n",
    "    \n",
    "    qs = ED.select().where(ED.output_database == \"ecoinvent 3.8 cutoff\")\n",
    "    print(\"this will take a while, maybe 30 minutes\")\n",
    "    \n",
    "    for exc in tqdm(qs, total=629959):\n",
    "        if 'formula' in exc.data:\n",
    "            exc.data['chemical formula'] = exc.data.pop('formula')\n",
    "            exc.save()\n",
    "\n",
    "    ei.metadata['fixed chemical formula name'] = True\n",
    "    bd.databases.flush()"
   ]
  },
  {
   "cell_type": "code",
   "execution_count": 10,
   "id": "889c18d0-da3e-4c09-8913-a617528f0fa9",
   "metadata": {},
   "outputs": [
    {
     "name": "stdout",
     "output_type": "stream",
     "text": [
      "Extracting XML data from 19565 datasets\n"
     ]
    },
    {
     "name": "stderr",
     "output_type": "stream",
     "text": [
      "Process SpawnPoolWorker-8:\n"
     ]
    },
    {
     "ename": "KeyboardInterrupt",
     "evalue": "",
     "output_type": "error",
     "traceback": [
      "\u001b[0;31m---------------------------------------------------------------------------\u001b[0m",
      "\u001b[0;31mKeyboardInterrupt\u001b[0m                         Traceback (most recent call last)",
      "\u001b[0;32m/var/folders/mf/xg26zj4n7sg00qbjlfk7p9qr0000gn/T/ipykernel_39094/166801642.py\u001b[0m in \u001b[0;36m<module>\u001b[0;34m\u001b[0m\n\u001b[1;32m      2\u001b[0m \u001b[0mfp_ecoinvent_38\u001b[0m \u001b[0;34m=\u001b[0m \u001b[0;34m\"/Users/akim/Documents/LCA_files/ecoinvent_38_cutoff/datasets\"\u001b[0m\u001b[0;34m\u001b[0m\u001b[0;34m\u001b[0m\u001b[0m\n\u001b[1;32m      3\u001b[0m \u001b[0;34m\u001b[0m\u001b[0m\n\u001b[0;32m----> 4\u001b[0;31m \u001b[0meii\u001b[0m \u001b[0;34m=\u001b[0m \u001b[0mbi\u001b[0m\u001b[0;34m.\u001b[0m\u001b[0mSingleOutputEcospold2Importer\u001b[0m\u001b[0;34m(\u001b[0m\u001b[0mfp_ecoinvent_38\u001b[0m\u001b[0;34m,\u001b[0m \u001b[0;34m\"ecoinvent 3.8 cutoff\"\u001b[0m\u001b[0;34m)\u001b[0m\u001b[0;34m\u001b[0m\u001b[0;34m\u001b[0m\u001b[0m\n\u001b[0m\u001b[1;32m      5\u001b[0m \u001b[0meii\u001b[0m\u001b[0;34m.\u001b[0m\u001b[0mapply_strategies\u001b[0m\u001b[0;34m(\u001b[0m\u001b[0;34m)\u001b[0m\u001b[0;34m\u001b[0m\u001b[0;34m\u001b[0m\u001b[0m\n",
      "\u001b[0;32m~/PycharmProjects/brightway2-io/bw2io/importers/ecospold2.py\u001b[0m in \u001b[0;36m__init__\u001b[0;34m(self, dirpath, db_name, extractor, use_mp, signal)\u001b[0m\n\u001b[1;32m     74\u001b[0m         \u001b[0mstart\u001b[0m \u001b[0;34m=\u001b[0m \u001b[0mtime\u001b[0m\u001b[0;34m(\u001b[0m\u001b[0;34m)\u001b[0m\u001b[0;34m\u001b[0m\u001b[0;34m\u001b[0m\u001b[0m\n\u001b[1;32m     75\u001b[0m         \u001b[0;32mtry\u001b[0m\u001b[0;34m:\u001b[0m\u001b[0;34m\u001b[0m\u001b[0;34m\u001b[0m\u001b[0m\n\u001b[0;32m---> 76\u001b[0;31m             \u001b[0mself\u001b[0m\u001b[0;34m.\u001b[0m\u001b[0mdata\u001b[0m \u001b[0;34m=\u001b[0m \u001b[0mextractor\u001b[0m\u001b[0;34m.\u001b[0m\u001b[0mextract\u001b[0m\u001b[0;34m(\u001b[0m\u001b[0mdirpath\u001b[0m\u001b[0;34m,\u001b[0m \u001b[0mdb_name\u001b[0m\u001b[0;34m,\u001b[0m \u001b[0muse_mp\u001b[0m\u001b[0;34m=\u001b[0m\u001b[0muse_mp\u001b[0m\u001b[0;34m)\u001b[0m\u001b[0;34m\u001b[0m\u001b[0;34m\u001b[0m\u001b[0m\n\u001b[0m\u001b[1;32m     77\u001b[0m         \u001b[0;32mexcept\u001b[0m \u001b[0mRuntimeError\u001b[0m \u001b[0;32mas\u001b[0m \u001b[0me\u001b[0m\u001b[0;34m:\u001b[0m\u001b[0;34m\u001b[0m\u001b[0;34m\u001b[0m\u001b[0m\n\u001b[1;32m     78\u001b[0m             raise MultiprocessingError(\n",
      "\u001b[0;32m~/PycharmProjects/brightway2-io/bw2io/extractors/ecospold2.py\u001b[0m in \u001b[0;36mextract\u001b[0;34m(cls, dirpath, db_name, use_mp)\u001b[0m\n\u001b[1;32m     84\u001b[0m                     \u001b[0;32mfor\u001b[0m \u001b[0mx\u001b[0m \u001b[0;32min\u001b[0m \u001b[0mfilelist\u001b[0m\u001b[0;34m\u001b[0m\u001b[0;34m\u001b[0m\u001b[0m\n\u001b[1;32m     85\u001b[0m                 ]\n\u001b[0;32m---> 86\u001b[0;31m                 \u001b[0mdata\u001b[0m \u001b[0;34m=\u001b[0m \u001b[0;34m[\u001b[0m\u001b[0mp\u001b[0m\u001b[0;34m.\u001b[0m\u001b[0mget\u001b[0m\u001b[0;34m(\u001b[0m\u001b[0;34m)\u001b[0m \u001b[0;32mfor\u001b[0m \u001b[0mp\u001b[0m \u001b[0;32min\u001b[0m \u001b[0mresults\u001b[0m\u001b[0;34m]\u001b[0m\u001b[0;34m\u001b[0m\u001b[0;34m\u001b[0m\u001b[0m\n\u001b[0m\u001b[1;32m     87\u001b[0m         \u001b[0;32melse\u001b[0m\u001b[0;34m:\u001b[0m\u001b[0;34m\u001b[0m\u001b[0;34m\u001b[0m\u001b[0m\n\u001b[1;32m     88\u001b[0m             pbar = pyprind.ProgBar(\n",
      "\u001b[0;32m~/PycharmProjects/brightway2-io/bw2io/extractors/ecospold2.py\u001b[0m in \u001b[0;36m<listcomp>\u001b[0;34m(.0)\u001b[0m\n\u001b[1;32m     84\u001b[0m                     \u001b[0;32mfor\u001b[0m \u001b[0mx\u001b[0m \u001b[0;32min\u001b[0m \u001b[0mfilelist\u001b[0m\u001b[0;34m\u001b[0m\u001b[0;34m\u001b[0m\u001b[0m\n\u001b[1;32m     85\u001b[0m                 ]\n\u001b[0;32m---> 86\u001b[0;31m                 \u001b[0mdata\u001b[0m \u001b[0;34m=\u001b[0m \u001b[0;34m[\u001b[0m\u001b[0mp\u001b[0m\u001b[0;34m.\u001b[0m\u001b[0mget\u001b[0m\u001b[0;34m(\u001b[0m\u001b[0;34m)\u001b[0m \u001b[0;32mfor\u001b[0m \u001b[0mp\u001b[0m \u001b[0;32min\u001b[0m \u001b[0mresults\u001b[0m\u001b[0;34m]\u001b[0m\u001b[0;34m\u001b[0m\u001b[0;34m\u001b[0m\u001b[0m\n\u001b[0m\u001b[1;32m     87\u001b[0m         \u001b[0;32melse\u001b[0m\u001b[0;34m:\u001b[0m\u001b[0;34m\u001b[0m\u001b[0;34m\u001b[0m\u001b[0m\n\u001b[1;32m     88\u001b[0m             pbar = pyprind.ProgBar(\n",
      "\u001b[0;32m~/opt/miniconda3/envs/rmod-dev-py39/lib/python3.9/multiprocessing/pool.py\u001b[0m in \u001b[0;36mget\u001b[0;34m(self, timeout)\u001b[0m\n\u001b[1;32m    763\u001b[0m \u001b[0;34m\u001b[0m\u001b[0m\n\u001b[1;32m    764\u001b[0m     \u001b[0;32mdef\u001b[0m \u001b[0mget\u001b[0m\u001b[0;34m(\u001b[0m\u001b[0mself\u001b[0m\u001b[0;34m,\u001b[0m \u001b[0mtimeout\u001b[0m\u001b[0;34m=\u001b[0m\u001b[0;32mNone\u001b[0m\u001b[0;34m)\u001b[0m\u001b[0;34m:\u001b[0m\u001b[0;34m\u001b[0m\u001b[0;34m\u001b[0m\u001b[0m\n\u001b[0;32m--> 765\u001b[0;31m         \u001b[0mself\u001b[0m\u001b[0;34m.\u001b[0m\u001b[0mwait\u001b[0m\u001b[0;34m(\u001b[0m\u001b[0mtimeout\u001b[0m\u001b[0;34m)\u001b[0m\u001b[0;34m\u001b[0m\u001b[0;34m\u001b[0m\u001b[0m\n\u001b[0m\u001b[1;32m    766\u001b[0m         \u001b[0;32mif\u001b[0m \u001b[0;32mnot\u001b[0m \u001b[0mself\u001b[0m\u001b[0;34m.\u001b[0m\u001b[0mready\u001b[0m\u001b[0;34m(\u001b[0m\u001b[0;34m)\u001b[0m\u001b[0;34m:\u001b[0m\u001b[0;34m\u001b[0m\u001b[0;34m\u001b[0m\u001b[0m\n\u001b[1;32m    767\u001b[0m             \u001b[0;32mraise\u001b[0m \u001b[0mTimeoutError\u001b[0m\u001b[0;34m\u001b[0m\u001b[0;34m\u001b[0m\u001b[0m\n",
      "\u001b[0;32m~/opt/miniconda3/envs/rmod-dev-py39/lib/python3.9/multiprocessing/pool.py\u001b[0m in \u001b[0;36mwait\u001b[0;34m(self, timeout)\u001b[0m\n\u001b[1;32m    760\u001b[0m \u001b[0;34m\u001b[0m\u001b[0m\n\u001b[1;32m    761\u001b[0m     \u001b[0;32mdef\u001b[0m \u001b[0mwait\u001b[0m\u001b[0;34m(\u001b[0m\u001b[0mself\u001b[0m\u001b[0;34m,\u001b[0m \u001b[0mtimeout\u001b[0m\u001b[0;34m=\u001b[0m\u001b[0;32mNone\u001b[0m\u001b[0;34m)\u001b[0m\u001b[0;34m:\u001b[0m\u001b[0;34m\u001b[0m\u001b[0;34m\u001b[0m\u001b[0m\n\u001b[0;32m--> 762\u001b[0;31m         \u001b[0mself\u001b[0m\u001b[0;34m.\u001b[0m\u001b[0m_event\u001b[0m\u001b[0;34m.\u001b[0m\u001b[0mwait\u001b[0m\u001b[0;34m(\u001b[0m\u001b[0mtimeout\u001b[0m\u001b[0;34m)\u001b[0m\u001b[0;34m\u001b[0m\u001b[0;34m\u001b[0m\u001b[0m\n\u001b[0m\u001b[1;32m    763\u001b[0m \u001b[0;34m\u001b[0m\u001b[0m\n\u001b[1;32m    764\u001b[0m     \u001b[0;32mdef\u001b[0m \u001b[0mget\u001b[0m\u001b[0;34m(\u001b[0m\u001b[0mself\u001b[0m\u001b[0;34m,\u001b[0m \u001b[0mtimeout\u001b[0m\u001b[0;34m=\u001b[0m\u001b[0;32mNone\u001b[0m\u001b[0;34m)\u001b[0m\u001b[0;34m:\u001b[0m\u001b[0;34m\u001b[0m\u001b[0;34m\u001b[0m\u001b[0m\n",
      "\u001b[0;32m~/opt/miniconda3/envs/rmod-dev-py39/lib/python3.9/threading.py\u001b[0m in \u001b[0;36mwait\u001b[0;34m(self, timeout)\u001b[0m\n\u001b[1;32m    572\u001b[0m             \u001b[0msignaled\u001b[0m \u001b[0;34m=\u001b[0m \u001b[0mself\u001b[0m\u001b[0;34m.\u001b[0m\u001b[0m_flag\u001b[0m\u001b[0;34m\u001b[0m\u001b[0;34m\u001b[0m\u001b[0m\n\u001b[1;32m    573\u001b[0m             \u001b[0;32mif\u001b[0m \u001b[0;32mnot\u001b[0m \u001b[0msignaled\u001b[0m\u001b[0;34m:\u001b[0m\u001b[0;34m\u001b[0m\u001b[0;34m\u001b[0m\u001b[0m\n\u001b[0;32m--> 574\u001b[0;31m                 \u001b[0msignaled\u001b[0m \u001b[0;34m=\u001b[0m \u001b[0mself\u001b[0m\u001b[0;34m.\u001b[0m\u001b[0m_cond\u001b[0m\u001b[0;34m.\u001b[0m\u001b[0mwait\u001b[0m\u001b[0;34m(\u001b[0m\u001b[0mtimeout\u001b[0m\u001b[0;34m)\u001b[0m\u001b[0;34m\u001b[0m\u001b[0;34m\u001b[0m\u001b[0m\n\u001b[0m\u001b[1;32m    575\u001b[0m             \u001b[0;32mreturn\u001b[0m \u001b[0msignaled\u001b[0m\u001b[0;34m\u001b[0m\u001b[0;34m\u001b[0m\u001b[0m\n\u001b[1;32m    576\u001b[0m \u001b[0;34m\u001b[0m\u001b[0m\n",
      "\u001b[0;32m~/opt/miniconda3/envs/rmod-dev-py39/lib/python3.9/threading.py\u001b[0m in \u001b[0;36mwait\u001b[0;34m(self, timeout)\u001b[0m\n\u001b[1;32m    310\u001b[0m         \u001b[0;32mtry\u001b[0m\u001b[0;34m:\u001b[0m    \u001b[0;31m# restore state no matter what (e.g., KeyboardInterrupt)\u001b[0m\u001b[0;34m\u001b[0m\u001b[0;34m\u001b[0m\u001b[0m\n\u001b[1;32m    311\u001b[0m             \u001b[0;32mif\u001b[0m \u001b[0mtimeout\u001b[0m \u001b[0;32mis\u001b[0m \u001b[0;32mNone\u001b[0m\u001b[0;34m:\u001b[0m\u001b[0;34m\u001b[0m\u001b[0;34m\u001b[0m\u001b[0m\n\u001b[0;32m--> 312\u001b[0;31m                 \u001b[0mwaiter\u001b[0m\u001b[0;34m.\u001b[0m\u001b[0macquire\u001b[0m\u001b[0;34m(\u001b[0m\u001b[0;34m)\u001b[0m\u001b[0;34m\u001b[0m\u001b[0;34m\u001b[0m\u001b[0m\n\u001b[0m\u001b[1;32m    313\u001b[0m                 \u001b[0mgotit\u001b[0m \u001b[0;34m=\u001b[0m \u001b[0;32mTrue\u001b[0m\u001b[0;34m\u001b[0m\u001b[0;34m\u001b[0m\u001b[0m\n\u001b[1;32m    314\u001b[0m             \u001b[0;32melse\u001b[0m\u001b[0;34m:\u001b[0m\u001b[0;34m\u001b[0m\u001b[0;34m\u001b[0m\u001b[0m\n",
      "\u001b[0;31mKeyboardInterrupt\u001b[0m: "
     ]
    }
   ],
   "source": [
    "# fp_ecoinvent_38 = \"/Users/cmutel/Documents/lca/Ecoinvent/3.8/cutoff/datasets\"\n",
    "fp_ecoinvent_38 = \"/Users/akim/Documents/LCA_files/ecoinvent_38_cutoff/datasets\"\n",
    "\n",
    "eii = bi.SingleOutputEcospold2Importer(fp_ecoinvent_38, \"ecoinvent 3.8 cutoff\")\n",
    "eii.apply_strategies()"
   ]
  },
  {
   "cell_type": "code",
   "execution_count": 37,
   "id": "0b0f451d-81cc-4052-8e86-5410f4f00e9c",
   "metadata": {},
   "outputs": [
    {
     "data": {
      "text/plain": [
       "8449"
      ]
     },
     "execution_count": 37,
     "metadata": {},
     "output_type": "execute_result"
    }
   ],
   "source": [
    "found = set()\n",
    "\n",
    "for act in eii.data:\n",
    "    if any(exc.get('formula') for exc in act['exchanges']):\n",
    "        found.add(\n",
    "            (sum(1 for exc in act['exchanges'] if exc.get('formula')), \n",
    "             act['name'], \n",
    "             act['reference product'], \n",
    "             act['location'], \n",
    "             act['unit'])\n",
    "        )\n",
    "        \n",
    "len(found)"
   ]
  },
  {
   "cell_type": "code",
   "execution_count": 38,
   "id": "40ea9a44-4cc3-460f-b044-bb50767280f6",
   "metadata": {},
   "outputs": [
    {
     "data": {
      "text/plain": [
       "[(122, 'cobalt production', 'zinc sulfide', 'GLO', 'kilogram'),\n",
       " (122, 'cobalt production', 'sulfuric acid', 'GLO', 'kilogram'),\n",
       " (122, 'cobalt production', 'sulfur', 'GLO', 'kilogram'),\n",
       " (122, 'cobalt production', 'nickel, class 1', 'GLO', 'kilogram'),\n",
       " (122, 'cobalt production', 'nickel sulfate', 'GLO', 'kilogram'),\n",
       " (122, 'cobalt production', 'nickel concentrate, 16% Ni', 'GLO', 'kilogram'),\n",
       " (122, 'cobalt production', 'ferronickel', 'GLO', 'kilogram'),\n",
       " (122, 'cobalt production', 'electrolyte, nickel-rich', 'GLO', 'cubic meter'),\n",
       " (122, 'cobalt production', 'electrolyte, copper-rich', 'GLO', 'kilogram'),\n",
       " (122,\n",
       "  'cobalt production',\n",
       "  'electricity, high voltage',\n",
       "  'GLO',\n",
       "  'kilowatt hour'),\n",
       " (122, 'cobalt production', 'copper, cathode', 'GLO', 'kilogram'),\n",
       " (122, 'cobalt production', 'copper, anode', 'GLO', 'kilogram'),\n",
       " (122,\n",
       "  'cobalt production',\n",
       "  'copper concentrate, sulfide ore',\n",
       "  'GLO',\n",
       "  'kilogram'),\n",
       " (122, 'cobalt production', 'copper cake', 'GLO', 'kilogram'),\n",
       " (122,\n",
       "  'cobalt production',\n",
       "  'calcium carbonate, precipitated',\n",
       "  'GLO',\n",
       "  'kilogram'),\n",
       " (122, 'cobalt production', 'ammonium sulfate', 'GLO', 'kilogram'),\n",
       " (122, 'cobalt production', 'ammonia, anhydrous, liquid', 'GLO', 'kilogram'),\n",
       " (121, 'cobalt production', 'cobalt oxide', 'GLO', 'kilogram'),\n",
       " (121, 'cobalt production', 'cobalt hydroxide', 'GLO', 'kilogram'),\n",
       " (121, 'cobalt production', 'cobalt carbonate', 'GLO', 'kilogram'),\n",
       " (121, 'cobalt production', 'cobalt acetate', 'GLO', 'kilogram'),\n",
       " (121, 'cobalt production', 'cobalt', 'GLO', 'kilogram'),\n",
       " (121, 'clinker production', 'clinker', 'RoW', 'kilogram'),\n",
       " (105, 'petroleum refinery operation', 'sulfur', 'CH', 'kilogram'),\n",
       " (105, 'petroleum refinery operation', 'refinery gas', 'CH', 'kilogram')]"
      ]
     },
     "execution_count": 38,
     "metadata": {},
     "output_type": "execute_result"
    }
   ],
   "source": [
    "list(sorted(found, reverse=True))[:25]"
   ]
  },
  {
   "cell_type": "markdown",
   "id": "73dd73c2-7598-42ec-a1a4-e626274281fb",
   "metadata": {},
   "source": [
    "Don't trust pedigree uncertainty increases for variables"
   ]
  },
  {
   "cell_type": "code",
   "execution_count": 101,
   "id": "37eea7bc-98fb-42b6-b2dd-e68d19e61ef7",
   "metadata": {},
   "outputs": [],
   "source": [
    "def drop_pedigre_uncertainty(dct):\n",
    "    if 'scale' in dct and 'scale with pedigree' in dct:\n",
    "        dct['scale with pedigree'] = dct.pop('scale')\n",
    "        dct['scale'] = dct.pop('scale without pedigree')\n",
    "    return dct"
   ]
  },
  {
   "cell_type": "markdown",
   "id": "28528a96-2856-4d63-b689-1635d023b537",
   "metadata": {},
   "source": [
    "Change `10,43` to `10.42`."
   ]
  },
  {
   "cell_type": "code",
   "execution_count": 164,
   "id": "f3cfb1a1-4aee-4642-bf5d-e2c03a04b33b",
   "metadata": {},
   "outputs": [],
   "source": [
    "test = \"0,034 * 10,42\"\n",
    "result = re.sub(r'(\\d)\\,(\\d)', r'\\1.\\2', test)\n",
    "assert result == '0.034 * 10.42'"
   ]
  },
  {
   "cell_type": "markdown",
   "id": "678537bf-8686-42ac-a0d0-b3d61a27b9a2",
   "metadata": {},
   "source": [
    "Fix Python reserved words used as variable names"
   ]
  },
  {
   "cell_type": "code",
   "execution_count": 180,
   "id": "bf4ab93f-acfb-4be5-9f00-f1b623a33745",
   "metadata": {},
   "outputs": [],
   "source": [
    "substitutions = {\n",
    "    'yield': 'yield_',\n",
    "    'import': 'import_',\n",
    "    'load': 'load_',\n",
    "}"
   ]
  },
  {
   "cell_type": "markdown",
   "id": "74950bac-248d-47b4-acd4-841e5b7308b6",
   "metadata": {},
   "source": [
    "Apply above fixes and a few others"
   ]
  },
  {
   "cell_type": "code",
   "execution_count": 195,
   "id": "d7761c5d-6f29-4cb2-9e8f-9e7c620ed648",
   "metadata": {},
   "outputs": [],
   "source": [
    "def clean_formula(string):\n",
    "    string = string.strip().replace(\"%\", \" / 100\").replace(\"^\", \" ** \").replace(\"\\r\\n\", \" \").replace(\"\\n\", \"\")\n",
    "\n",
    "    for k, v in substitutions.items():\n",
    "        string = string.replace(k, v)\n",
    "    \n",
    "    string = re.sub(r'(\\d)\\,(\\d)', r'\\1.\\2', string)\n",
    "    return string"
   ]
  },
  {
   "cell_type": "code",
   "execution_count": 196,
   "id": "0fe1eb0f-a572-4166-9882-11cb4594812a",
   "metadata": {},
   "outputs": [],
   "source": [
    "def clean_dct(dct):\n",
    "    if dct.get('formula'):\n",
    "        dct['formula'] = clean_formula(dct['formula'])\n",
    "    if dct.get('name') in substitutions:\n",
    "        dct['name'] = substitutions[dct['name']]\n",
    "    return dct"
   ]
  },
  {
   "cell_type": "code",
   "execution_count": 197,
   "id": "42657800-db57-460e-82b4-e17dfaf5eed0",
   "metadata": {},
   "outputs": [],
   "source": [
    "def reformat_parameters(act):\n",
    "    parameters = {substitutions.get(dct['name'], dct['name']): clean_dct(drop_pedigre_uncertainty(dct)) for dct in act['parameters'] if 'name' in dct}\n",
    "    \n",
    "    for index, exc in enumerate(act['exchanges']):\n",
    "        if exc.get('formula'):\n",
    "            pn = f'__exchange_{index}'\n",
    "            exc['parameter_name'] = pn\n",
    "            parameters[pn] = {'formula': clean_formula(exc['formula'])}\n",
    "    \n",
    "    return parameters"
   ]
  },
  {
   "cell_type": "code",
   "execution_count": 198,
   "id": "603bbb24-eafe-4b47-9cdd-40479e98bbd6",
   "metadata": {},
   "outputs": [],
   "source": [
    "def stochastic_parameter_set_for_activity(act, iterations=250):\n",
    "    ps = PatchedParameterSet(reformat_parameters(act))\n",
    "    return ps.evaluate_monte_carlo(iterations=iterations)"
   ]
  },
  {
   "cell_type": "code",
   "execution_count": 199,
   "id": "e558ff07-189c-43e3-b5a3-dab157503215",
   "metadata": {},
   "outputs": [],
   "source": [
    "def check_that_parameters_are_reasonable(act, results, rtol=0.1):\n",
    "    for exc in act['exchanges']:\n",
    "        if exc.get('formula'):\n",
    "            arr = results[exc['parameter_name']]\n",
    "            if not np.isclose(exc['amount'], np.median(arr), rtol=rtol):\n",
    "                # print(\n",
    "                #     act['name'], \n",
    "                #     exc['name'],\n",
    "                #     act['location'], \n",
    "                #     act['unit'],\n",
    "                # )\n",
    "                # print(\"\\t\", exc['amount'], np.median(arr), exc['formula'])\n",
    "                return False\n",
    "    return True"
   ]
  },
  {
   "cell_type": "code",
   "execution_count": 202,
   "id": "44c5004a-4f32-4106-93ab-02e39ee85193",
   "metadata": {},
   "outputs": [],
   "source": [
    "from bw2data.backends.schema import ActivityDataset as AD\n",
    "\n",
    "lookup_cache = {(x, y): z \n",
    "                for x, y, z in AD.select(AD.database, AD.code, AD.id)\n",
    "                .where(AD.database << (\"biosphere3\", \"ecoinvent 3.8 cutoff\"))\n",
    "                .tuples()\n",
    "               }                                                            "
   ]
  },
  {
   "cell_type": "code",
   "execution_count": 212,
   "id": "6d4a7255-5bd4-4266-aa3f-979a99b9963c",
   "metadata": {},
   "outputs": [],
   "source": [
    "tech_data, bio_data = [], []"
   ]
  },
  {
   "cell_type": "code",
   "execution_count": 213,
   "id": "aaa227e8-fa1d-4a00-8033-5e29af30bad3",
   "metadata": {},
   "outputs": [
    {
     "name": "stderr",
     "output_type": "stream",
     "text": [
      "100%|████████████████████████████████████| 19565/19565 [02:05<00:00, 156.11it/s]\n"
     ]
    }
   ],
   "source": [
    "found, errors, unreasonable, missing = 0, 0, 0, 0\n",
    "\n",
    "error_log = open(\"error.log\", \"w\")\n",
    "missing_reference_log = open(\"undefined_reference.log\", \"w\")\n",
    "\n",
    "for act in tqdm(eii.data):\n",
    "    if any(exc.get('formula') for exc in act['exchanges']):\n",
    "        try:\n",
    "            params = stochastic_parameter_set_for_activity(act, iterations=25000)\n",
    "            if check_that_parameters_are_reasonable(act, params):\n",
    "                found += 1\n",
    "                \n",
    "                for exc in act['exchanges']:\n",
    "                    if not exc.get('formula'):\n",
    "                        continue\n",
    "                    if exc['input'][0] ==  \"ecoinvent 3.8 cutoff\":   \n",
    "                        tech_data.append((\n",
    "                            (lookup_cache[exc['input']], lookup_cache[(act['database'], act['code'])]),\n",
    "                            params[exc['parameter_name']],\n",
    "                            exc['type'] == 'production'  # TODO Chris please check, changed this from == to !=\n",
    "                        ))\n",
    "                    else:\n",
    "                        bio_data.append((\n",
    "                            (lookup_cache[exc['input']], lookup_cache[(act['database'], act['code'])]),\n",
    "                            params[exc['parameter_name']],\n",
    "                            False\n",
    "                        ))\n",
    "            else:\n",
    "                unreasonable += 1\n",
    "        except (ValueError, SyntaxError, bwp.errors.DuplicateName):\n",
    "            error_log.write(act['filename'] + \"\\n\")\n",
    "            traceback.print_exc(file=error_log)\n",
    "            errors += 1\n",
    "        except bwp.errors.ParameterError:\n",
    "            missing_reference_log.write(act['filename'] + \"\\n\")\n",
    "            traceback.print_exc(file=missing_reference_log)\n",
    "            missing += 1\n",
    "            \n",
    "error_log.close()\n",
    "missing_reference_log.close()"
   ]
  },
  {
   "cell_type": "code",
   "execution_count": 209,
   "id": "1e720e86-7a2e-494b-9378-3769803fe86f",
   "metadata": {},
   "outputs": [
    {
     "data": {
      "text/plain": [
       "(1437, 47, 232, 6733)"
      ]
     },
     "execution_count": 209,
     "metadata": {},
     "output_type": "execute_result"
    }
   ],
   "source": [
    "found, errors, unreasonable, missing"
   ]
  },
  {
   "cell_type": "code",
   "execution_count": 210,
   "id": "0a978a58-1f06-4811-9c5d-635505849fec",
   "metadata": {},
   "outputs": [
    {
     "data": {
      "text/plain": [
       "(2344, 10553)"
      ]
     },
     "execution_count": 210,
     "metadata": {},
     "output_type": "execute_result"
    }
   ],
   "source": [
    "len(tech_data), len(bio_data)"
   ]
  },
  {
   "cell_type": "markdown",
   "id": "20e77753-4c3e-4669-9ab8-e3c35802ac0a",
   "metadata": {},
   "source": [
    "Uncertain production exchanges. Could be bad data."
   ]
  },
  {
   "cell_type": "code",
   "execution_count": 229,
   "id": "668f6e42-a82d-4d69-9a9f-35f8c8881e33",
   "metadata": {},
   "outputs": [
    {
     "data": {
      "text/plain": [
       "109"
      ]
     },
     "execution_count": 229,
     "metadata": {},
     "output_type": "execute_result"
    }
   ],
   "source": [
    "np.hstack([z for x, y, z in tech_data]).sum()"
   ]
  },
  {
   "cell_type": "code",
   "execution_count": 246,
   "id": "06102bff-fd52-4e75-bdb4-e7af5dbceb53",
   "metadata": {},
   "outputs": [],
   "source": [
    "import bw_processing as bp\n",
    "from fs.zipfs import ZipFS"
   ]
  },
  {
   "cell_type": "code",
   "execution_count": 247,
   "id": "6b7de6e3-9b12-46b1-97c0-086b3c8b35f3",
   "metadata": {},
   "outputs": [],
   "source": [
    "dp = bp.create_datapackage(\n",
    "    fs=ZipFS(\"ecoinvent-parameterization.zip\", write=True),\n",
    "    name=\"ecoinvent-parameterization\",\n",
    "    seed=42,\n",
    ")\n",
    "\n",
    "indices = np.empty(len(tech_data), dtype=bp.INDICES_DTYPE)\n",
    "indices[:] = [x for x, y, z in tech_data]\n",
    "\n",
    "dp.add_persistent_array(\n",
    "    matrix=\"technosphere_matrix\",\n",
    "    data_array=np.vstack([y for x, y, z in tech_data]),\n",
    "    name=\"ecoinvent-parameterization-tech\",\n",
    "    indices_array=indices,\n",
    "    flip_array=np.hstack([z for x, y, z in tech_data]),\n",
    ")\n",
    "\n",
    "indices = np.empty(len(bio_data), dtype=bp.INDICES_DTYPE)\n",
    "indices[:] = [x for x, y, z in bio_data]\n",
    "\n",
    "dp.add_persistent_array(\n",
    "    matrix=\"biosphere_matrix\",\n",
    "    data_array=np.vstack([y for x, y, z in bio_data]),\n",
    "    name=\"ecoinvent-parameterization-bio\",\n",
    "    indices_array=indices,\n",
    "    flip_array=np.hstack([z for x, y, z in bio_data]),\n",
    ")\n",
    "\n",
    "dp.finalize_serialization()"
   ]
  }
 ],
 "metadata": {
  "kernelspec": {
   "display_name": "Python 3 (ipykernel)",
   "language": "python",
   "name": "python3"
  },
  "language_info": {
   "codemirror_mode": {
    "name": "ipython",
    "version": 3
   },
   "file_extension": ".py",
   "mimetype": "text/x-python",
   "name": "python",
   "nbconvert_exporter": "python",
   "pygments_lexer": "ipython3",
   "version": "3.9.10"
  },
  "varInspector": {
   "cols": {
    "lenName": 16,
    "lenType": 16,
    "lenVar": 40
   },
   "kernels_config": {
    "python": {
     "delete_cmd_postfix": "",
     "delete_cmd_prefix": "del ",
     "library": "var_list.py",
     "varRefreshCmd": "print(var_dic_list())"
    },
    "r": {
     "delete_cmd_postfix": ") ",
     "delete_cmd_prefix": "rm(",
     "library": "var_list.r",
     "varRefreshCmd": "cat(var_dic_list()) "
    }
   },
   "types_to_exclude": [
    "module",
    "function",
    "builtin_function_or_method",
    "instance",
    "_Feature"
   ],
   "window_display": false
  }
 },
 "nbformat": 4,
 "nbformat_minor": 5
}
