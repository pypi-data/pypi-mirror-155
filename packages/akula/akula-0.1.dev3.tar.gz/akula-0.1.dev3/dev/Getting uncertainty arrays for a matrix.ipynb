{
 "cells": [
  {
   "cell_type": "code",
   "execution_count": 1,
   "id": "79eb6aec",
   "metadata": {},
   "outputs": [],
   "source": [
    "import bw2data as bd\n",
    "import bw2calc as bc"
   ]
  },
  {
   "cell_type": "code",
   "execution_count": 3,
   "id": "b5796fd3-79bb-4b0a-b2b9-ee55264ac0db",
   "metadata": {},
   "outputs": [],
   "source": [
    "import matrix_utils\n",
    "\n",
    "assert matrix_utils.__version__ >= (0, 2, 3)"
   ]
  },
  {
   "cell_type": "code",
   "execution_count": 4,
   "id": "40d7a124-8aa8-49d9-a3fb-a309a3d7aecc",
   "metadata": {},
   "outputs": [],
   "source": [
    "bd.projects.set_current('GSA for archetypes')"
   ]
  },
  {
   "cell_type": "code",
   "execution_count": 5,
   "id": "64f41259",
   "metadata": {},
   "outputs": [
    {
     "data": {
      "text/plain": [
       "Databases dictionary with 3 object(s):\n",
       "\tbiosphere3\n",
       "\tecoinvent 3.8 cutoff\n",
       "\tswiss consumption 1.0"
      ]
     },
     "execution_count": 5,
     "metadata": {},
     "output_type": "execute_result"
    }
   ],
   "source": [
    "bd.databases"
   ]
  },
  {
   "cell_type": "markdown",
   "id": "1cf068c2-20de-41f0-9374-b52082c70617",
   "metadata": {},
   "source": [
    "# Getting the uncertainty arrays\n",
    "\n",
    "This notebook shows how to get the uncertainty arrays from a matrix with multiple datapackages.\n",
    "\n",
    "We need to build an LCA to do this:"
   ]
  },
  {
   "cell_type": "code",
   "execution_count": 6,
   "id": "75f8e5ef-e75c-4ab9-9773-db0bf02220d9",
   "metadata": {},
   "outputs": [],
   "source": [
    "fu = {bd.Database('ecoinvent 3.8 cutoff').random(): 1}"
   ]
  },
  {
   "cell_type": "code",
   "execution_count": 7,
   "id": "fbdae5bc-cad1-4379-a4f7-fa9593b462a7",
   "metadata": {},
   "outputs": [],
   "source": [
    "fu_mapped, packages, _ = bd.prepare_lca_inputs(demand=fu, remapping=False)  # Could also add LCIA method"
   ]
  },
  {
   "cell_type": "code",
   "execution_count": 8,
   "id": "b478a07f-cf54-43d1-82a6-cf9692f26f37",
   "metadata": {},
   "outputs": [],
   "source": [
    "lca = bc.LCA(demand=fu_mapped, data_objs=packages)"
   ]
  },
  {
   "cell_type": "code",
   "execution_count": 9,
   "id": "4fe475de-db1e-48c6-affa-87d37c6f4f2a",
   "metadata": {},
   "outputs": [],
   "source": [
    "lca.lci()"
   ]
  },
  {
   "cell_type": "code",
   "execution_count": 10,
   "id": "2ec6cb3d-e42a-44b2-8f2f-232d1ec79b43",
   "metadata": {},
   "outputs": [
    {
     "data": {
      "text/plain": [
       "array([(0,  1.        , nan, nan, nan, nan, False),\n",
       "       (0, -0.07408187, nan, nan, nan, nan, False),\n",
       "       (0, -0.0727171 , nan, nan, nan, nan, False), ...,\n",
       "       (0,  1.        , nan, nan, nan, nan, False),\n",
       "       (0,  1.        , nan, nan, nan, nan, False),\n",
       "       (0,  1.        , nan, nan, nan, nan, False)],\n",
       "      dtype=[('uncertainty_type', 'u1'), ('loc', '<f4'), ('scale', '<f4'), ('shape', '<f4'), ('minimum', '<f4'), ('maximum', '<f4'), ('negative', '?')])"
      ]
     },
     "execution_count": 10,
     "metadata": {},
     "output_type": "execute_result"
    }
   ],
   "source": [
    "lca.technosphere_mm.input_uncertainties()"
   ]
  },
  {
   "cell_type": "markdown",
   "id": "7ff743bf-8b67-4327-bde6-3587a63ec0a3",
   "metadata": {},
   "source": [
    "That's kind it?"
   ]
  }
 ],
 "metadata": {
  "kernelspec": {
   "display_name": "Python 3 (ipykernel)",
   "language": "python",
   "name": "python3"
  },
  "language_info": {
   "codemirror_mode": {
    "name": "ipython",
    "version": 3
   },
   "file_extension": ".py",
   "mimetype": "text/x-python",
   "name": "python",
   "nbconvert_exporter": "python",
   "pygments_lexer": "ipython3",
   "version": "3.9.10"
  },
  "varInspector": {
   "cols": {
    "lenName": 16,
    "lenType": 16,
    "lenVar": 40
   },
   "kernels_config": {
    "python": {
     "delete_cmd_postfix": "",
     "delete_cmd_prefix": "del ",
     "library": "var_list.py",
     "varRefreshCmd": "print(var_dic_list())"
    },
    "r": {
     "delete_cmd_postfix": ") ",
     "delete_cmd_prefix": "rm(",
     "library": "var_list.r",
     "varRefreshCmd": "cat(var_dic_list()) "
    }
   },
   "types_to_exclude": [
    "module",
    "function",
    "builtin_function_or_method",
    "instance",
    "_Feature"
   ],
   "window_display": false
  }
 },
 "nbformat": 4,
 "nbformat_minor": 5
}
