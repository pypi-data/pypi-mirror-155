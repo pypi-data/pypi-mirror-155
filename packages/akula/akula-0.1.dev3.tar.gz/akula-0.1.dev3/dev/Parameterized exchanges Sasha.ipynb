{
 "cells": [
  {
   "cell_type": "markdown",
   "id": "ddfc2018",
   "metadata": {},
   "source": [
    "# Generate parameterized datapackage"
   ]
  },
  {
   "cell_type": "code",
   "execution_count": 27,
   "id": "713f32e8-206f-4c39-ba2f-dbec1fa42c3d",
   "metadata": {},
   "outputs": [],
   "source": [
    "import bw2data as bd\n",
    "import bw2io as bi\n",
    "import bw2calc as bc\n",
    "from pprint import pprint\n",
    "from tqdm import tqdm\n",
    "import bw2parameters as bwp\n",
    "import numpy as np\n",
    "import traceback\n",
    "import sys\n",
    "import re\n",
    "from gsa_framework.utils import write_pickle, read_pickle\n",
    "sys.path.append('/Users/akim/PycharmProjects/akula')\n",
    "from akula.markets import DATA_DIR"
   ]
  },
  {
   "cell_type": "code",
   "execution_count": null,
   "id": "c9e5f8f5-6b4f-4dcd-be42-4b52090d4abe",
   "metadata": {},
   "outputs": [],
   "source": [
    "assert bi.__version__ >= (0, 9, \"DEV7\")"
   ]
  },
  {
   "cell_type": "code",
   "execution_count": null,
   "id": "255c6a01-3425-4744-bb00-b2f814871de5",
   "metadata": {},
   "outputs": [],
   "source": [
    "from asteval import Interpreter\n",
    "from numbers import Number\n",
    "from bw2parameters.errors import BroadcastingError\n",
    "from stats_arrays import uncertainty_choices\n",
    "\n",
    "\n",
    "MC_ERROR_TEXT = \"\"\"Formula returned array of wrong shape:\n",
    "Name: {}\n",
    "Formula: {}\n",
    "Expected shape: {}\n",
    "Returned shape: {}\"\"\"\n",
    "\n",
    "\n",
    "class PatchedParameterSet(bwp.ParameterSet):\n",
    "    def evaluate_monte_carlo(self, iterations=1000):\n",
    "        \"\"\"Evaluate each formula using Monte Carlo and variable uncertainty data, if present.\n",
    "\n",
    "        Formulas **must** return a one-dimensional array, or ``BroadcastingError`` is raised.\n",
    "\n",
    "        Returns dictionary of ``{parameter name: numpy array}``.\"\"\"\n",
    "        interpreter = Interpreter()\n",
    "        result = {}\n",
    "\n",
    "        def get_rng_sample(obj):\n",
    "            if isinstance(obj, np.ndarray):\n",
    "                # Already a Monte Carlo sample\n",
    "                return obj\n",
    "            if 'uncertainty_type' not in obj:\n",
    "                if 'uncertainty type' not in obj:\n",
    "                    obj = obj.copy()\n",
    "                    obj['uncertainty_type'] = 0\n",
    "                    obj['loc'] = obj['amount']\n",
    "                else:\n",
    "                    obj['uncertainty_type'] = obj['uncertainty type']\n",
    "            kls = uncertainty_choices[obj['uncertainty_type']]\n",
    "            return kls.bounded_random_variables(kls.from_dicts(obj), iterations).ravel()\n",
    "\n",
    "        def fix_shape(array):\n",
    "            # This is new\n",
    "            if array is None:\n",
    "                return np.zeros((iterations,))\n",
    "            elif isinstance(array, Number):\n",
    "                return np.ones((iterations,)) * array\n",
    "            elif not isinstance(array, np.ndarray):\n",
    "                return np.zeros((iterations,))\n",
    "            # End new section\n",
    "            elif array.shape in {(1, iterations), (iterations, 1)}:\n",
    "                return array.reshape((iterations,))\n",
    "            else:\n",
    "                return array\n",
    "\n",
    "        for key in self.order:\n",
    "            if key in self.global_params:\n",
    "                interpreter.symtable[key] = result[key] = get_rng_sample(self.global_params[key])\n",
    "            elif self.params[key].get('formula'):\n",
    "                sample = fix_shape(interpreter(self.params[key]['formula']))\n",
    "                if sample.shape != (iterations,):\n",
    "                    raise BroadcastingError(MC_ERROR_TEXT.format(\n",
    "                        key, self.params[key]['formula'], (iterations,), sample.shape)\n",
    "                    )\n",
    "                interpreter.symtable[key] = result[key] = sample\n",
    "            else:\n",
    "                interpreter.symtable[key] = result[key] = get_rng_sample(self.params[key])\n",
    "        return result"
   ]
  },
  {
   "cell_type": "code",
   "execution_count": null,
   "id": "f8c1ecd0-1736-4847-90d1-e43f1ef26d42",
   "metadata": {},
   "outputs": [],
   "source": [
    "bd.projects.set_current('GSA for archetypes')\n",
    "bd.databases"
   ]
  },
  {
   "cell_type": "code",
   "execution_count": null,
   "id": "026d0337-ea4f-46cd-a5b7-b501922d25c5",
   "metadata": {},
   "outputs": [],
   "source": [
    "ei = bd.Database(\"ecoinvent 3.8 cutoff\")\n",
    "\n",
    "# Takes forever and not necessary, skip it...\n",
    "if not ei.metadata.get('fixed chemical formula name') and False:\n",
    "    from bw2data.backends.schema import ExchangeDataset as ED\n",
    "    \n",
    "    qs = ED.select().where(ED.output_database == \"ecoinvent 3.8 cutoff\")\n",
    "    print(\"this will take a while, maybe 30 minutes\")\n",
    "    \n",
    "    for exc in tqdm(qs, total=629959):\n",
    "        if 'formula' in exc.data:\n",
    "            exc.data['chemical formula'] = exc.data.pop('formula')\n",
    "            exc.save()\n",
    "\n",
    "    ei.metadata['fixed chemical formula name'] = True\n",
    "    bd.databases.flush()"
   ]
  },
  {
   "cell_type": "code",
   "execution_count": null,
   "id": "889c18d0-da3e-4c09-8913-a617528f0fa9",
   "metadata": {},
   "outputs": [],
   "source": [
    "# fp_ecoinvent_38 = \"/Users/cmutel/Documents/lca/Ecoinvent/3.8/cutoff/datasets\"\n",
    "fp_ecoinvent_38 = \"/Users/akim/Documents/LCA_files/ecoinvent_38_cutoff/datasets\"\n",
    "fp_ei = DATA_DIR / \"ecoinvent.pickle\"\n",
    "if fp_ei.exists():\n",
    "    eii = read_pickle(fp_ei)\n",
    "else:\n",
    "    eii = bi.SingleOutputEcospold2Importer(fp_ecoinvent_38, \"ecoinvent 3.8 cutoff\")\n",
    "    eii.apply_strategies()\n",
    "    write_pickle(eii, fp_ei)"
   ]
  },
  {
   "cell_type": "code",
   "execution_count": null,
   "id": "0b0f451d-81cc-4052-8e86-5410f4f00e9c",
   "metadata": {
    "scrolled": true
   },
   "outputs": [],
   "source": [
    "found = set()\n",
    "\n",
    "for act in eii.data:\n",
    "    if any(exc.get('formula') for exc in act['exchanges']):\n",
    "        found.add(\n",
    "            (sum(1 for exc in act['exchanges'] if exc.get('formula')), \n",
    "             act['name'], \n",
    "             act['reference product'], \n",
    "             act['location'], \n",
    "             act['unit'])\n",
    "        )\n",
    "        \n",
    "len(found)"
   ]
  },
  {
   "cell_type": "code",
   "execution_count": null,
   "id": "40ea9a44-4cc3-460f-b044-bb50767280f6",
   "metadata": {},
   "outputs": [],
   "source": [
    "# list(sorted(found, reverse=True))[:25]"
   ]
  },
  {
   "cell_type": "markdown",
   "id": "73dd73c2-7598-42ec-a1a4-e626274281fb",
   "metadata": {},
   "source": [
    "Don't trust pedigree uncertainty increases for variables"
   ]
  },
  {
   "cell_type": "code",
   "execution_count": null,
   "id": "37eea7bc-98fb-42b6-b2dd-e68d19e61ef7",
   "metadata": {},
   "outputs": [],
   "source": [
    "def drop_pedigree_uncertainty(dct):\n",
    "    if 'scale' in dct and 'scale with pedigree' in dct:\n",
    "        dct['scale with pedigree'] = dct.pop('scale')\n",
    "        dct['scale'] = dct.pop('scale without pedigree')\n",
    "    return dct"
   ]
  },
  {
   "cell_type": "markdown",
   "id": "28528a96-2856-4d63-b689-1635d023b537",
   "metadata": {},
   "source": [
    "Change `10,43` to `10.42`."
   ]
  },
  {
   "cell_type": "code",
   "execution_count": null,
   "id": "f3cfb1a1-4aee-4642-bf5d-e2c03a04b33b",
   "metadata": {},
   "outputs": [],
   "source": [
    "test = \"0,034 * 10,42\"\n",
    "result = re.sub(r'(\\d)\\,(\\d)', r'\\1.\\2', test)\n",
    "assert result == '0.034 * 10.42'"
   ]
  },
  {
   "cell_type": "markdown",
   "id": "678537bf-8686-42ac-a0d0-b3d61a27b9a2",
   "metadata": {},
   "source": [
    "Fix Python reserved words used as variable names"
   ]
  },
  {
   "cell_type": "code",
   "execution_count": null,
   "id": "bf4ab93f-acfb-4be5-9f00-f1b623a33745",
   "metadata": {},
   "outputs": [],
   "source": [
    "substitutions = {\n",
    "    'yield': 'yield_',\n",
    "    'import': 'import_',\n",
    "    'load': 'load_',\n",
    "}"
   ]
  },
  {
   "cell_type": "markdown",
   "id": "74950bac-248d-47b4-acd4-841e5b7308b6",
   "metadata": {},
   "source": [
    "Apply above fixes and a few others"
   ]
  },
  {
   "cell_type": "code",
   "execution_count": null,
   "id": "d7761c5d-6f29-4cb2-9e8f-9e7c620ed648",
   "metadata": {},
   "outputs": [],
   "source": [
    "def clean_formula(string):\n",
    "    string = string.strip().replace(\"%\", \" / 100\").replace(\"^\", \" ** \").replace(\"\\r\\n\", \" \").replace(\"\\n\", \"\")\n",
    "\n",
    "    for k, v in substitutions.items():\n",
    "        string = string.replace(k, v)\n",
    "    \n",
    "    string = re.sub(r'(\\d)\\,(\\d)', r'\\1.\\2', string)\n",
    "    return string"
   ]
  },
  {
   "cell_type": "code",
   "execution_count": null,
   "id": "0fe1eb0f-a572-4166-9882-11cb4594812a",
   "metadata": {},
   "outputs": [],
   "source": [
    "def clean_dct(dct):\n",
    "    if dct.get('formula'):\n",
    "        dct['formula'] = clean_formula(dct['formula'])\n",
    "    if dct.get('name') in substitutions:\n",
    "        dct['name'] = substitutions[dct['name']]\n",
    "    return dct"
   ]
  },
  {
   "cell_type": "code",
   "execution_count": null,
   "id": "42657800-db57-460e-82b4-e17dfaf5eed0",
   "metadata": {},
   "outputs": [],
   "source": [
    "def reformat_parameters(act):\n",
    "    parameters = {\n",
    "        substitutions.get(dct['name'], dct['name']): clean_dct(drop_pedigree_uncertainty(dct)) \n",
    "        for dct in act['parameters'] if 'name' in dct\n",
    "    }\n",
    "    \n",
    "    for index, exc in enumerate(act['exchanges']):\n",
    "        if exc.get('formula'):\n",
    "            pn = f'__exchange_{index}'\n",
    "            exc['parameter_name'] = pn\n",
    "            parameters[pn] = {'formula': clean_formula(exc['formula'])}\n",
    "    \n",
    "    return parameters"
   ]
  },
  {
   "cell_type": "code",
   "execution_count": null,
   "id": "603bbb24-eafe-4b47-9cdd-40479e98bbd6",
   "metadata": {},
   "outputs": [],
   "source": [
    "def stochastic_parameter_set_for_activity(act, iterations=250):\n",
    "    ps = PatchedParameterSet(reformat_parameters(act))\n",
    "    return ps.evaluate_monte_carlo(iterations=iterations)"
   ]
  },
  {
   "cell_type": "code",
   "execution_count": null,
   "id": "e558ff07-189c-43e3-b5a3-dab157503215",
   "metadata": {},
   "outputs": [],
   "source": [
    "def check_that_parameters_are_reasonable(act, results, rtol=0.1):\n",
    "    for exc in act['exchanges']:\n",
    "        if exc.get('formula'):\n",
    "            arr = results[exc['parameter_name']]\n",
    "            if not np.isclose(exc['amount'], np.median(arr), rtol=rtol):\n",
    "                print(\n",
    "                    act['name'], \n",
    "                    exc['name'],\n",
    "                    act['location'], \n",
    "                    act['unit'],\n",
    "                )\n",
    "                print(\"\\t\", exc['amount'], np.median(arr), exc['formula'])\n",
    "                return False\n",
    "    return True"
   ]
  },
  {
   "cell_type": "code",
   "execution_count": null,
   "id": "44c5004a-4f32-4106-93ab-02e39ee85193",
   "metadata": {},
   "outputs": [],
   "source": [
    "from bw2data.backends.schema import ActivityDataset as AD\n",
    "\n",
    "lookup_cache = {(x, y): z \n",
    "                for x, y, z in AD.select(AD.database, AD.code, AD.id)\n",
    "                .where(AD.database << (\"biosphere3\", \"ecoinvent 3.8 cutoff\"))\n",
    "                .tuples()\n",
    "               }                                                            "
   ]
  },
  {
   "cell_type": "code",
   "execution_count": null,
   "id": "6d4a7255-5bd4-4266-aa3f-979a99b9963c",
   "metadata": {},
   "outputs": [],
   "source": [
    "tech_data, bio_data = [], []"
   ]
  },
  {
   "cell_type": "code",
   "execution_count": null,
   "id": "aaa227e8-fa1d-4a00-8033-5e29af30bad3",
   "metadata": {},
   "outputs": [],
   "source": [
    "found, errors, unreasonable, missing = 0, 0, 0, 0\n",
    "\n",
    "error_log = open(\"error.log\", \"w\")\n",
    "missing_reference_log = open(\"undefined_reference.log\", \"w\")\n",
    "\n",
    "for act in tqdm(eii.data):\n",
    "    if any(exc.get('formula') for exc in act['exchanges']):\n",
    "        try:\n",
    "            params = stochastic_parameter_set_for_activity(act, iterations=25000)\n",
    "            break\n",
    "            if check_that_parameters_are_reasonable(act, params):\n",
    "                found += 1\n",
    "                \n",
    "                for exc in act['exchanges']:\n",
    "                    if not exc.get('formula'):\n",
    "                        continue\n",
    "                    if exc['input'][0] ==  \"ecoinvent 3.8 cutoff\":   \n",
    "                        tech_data.append((\n",
    "                            (lookup_cache[exc['input']], lookup_cache[(act['database'], act['code'])]),\n",
    "                            params[exc['parameter_name']],\n",
    "                            exc['type'] != 'production'  # TODO Chris please check, changed this from == to !=\n",
    "                        ))\n",
    "                    else:\n",
    "                        bio_data.append((\n",
    "                            (lookup_cache[exc['input']], lookup_cache[(act['database'], act['code'])]),\n",
    "                            params[exc['parameter_name']],\n",
    "                            False\n",
    "                        ))\n",
    "            else:\n",
    "                unreasonable += 1\n",
    "        except (ValueError, SyntaxError, bwp.errors.DuplicateName):\n",
    "            error_log.write(act['filename'] + \"\\n\")\n",
    "            traceback.print_exc(file=error_log)\n",
    "            errors += 1\n",
    "        except bwp.errors.ParameterError:\n",
    "            missing_reference_log.write(act['filename'] + \"\\n\")\n",
    "            traceback.print_exc(file=missing_reference_log)\n",
    "            missing += 1\n",
    "            \n",
    "error_log.close()\n",
    "missing_reference_log.close()"
   ]
  },
  {
   "cell_type": "code",
   "execution_count": null,
   "id": "1e720e86-7a2e-494b-9378-3769803fe86f",
   "metadata": {},
   "outputs": [],
   "source": [
    "found, errors, unreasonable, missing"
   ]
  },
  {
   "cell_type": "code",
   "execution_count": null,
   "id": "0a978a58-1f06-4811-9c5d-635505849fec",
   "metadata": {},
   "outputs": [],
   "source": [
    "len(tech_data), len(bio_data)"
   ]
  },
  {
   "cell_type": "markdown",
   "id": "20e77753-4c3e-4669-9ab8-e3c35802ac0a",
   "metadata": {},
   "source": [
    "Uncertain production exchanges. Could be bad data."
   ]
  },
  {
   "cell_type": "code",
   "execution_count": null,
   "id": "668f6e42-a82d-4d69-9a9f-35f8c8881e33",
   "metadata": {},
   "outputs": [],
   "source": [
    "np.hstack([z for x, y, z in tech_data]).sum()"
   ]
  },
  {
   "cell_type": "code",
   "execution_count": null,
   "id": "06102bff-fd52-4e75-bdb4-e7af5dbceb53",
   "metadata": {},
   "outputs": [],
   "source": [
    "import bw_processing as bp\n",
    "from fs.zipfs import ZipFS"
   ]
  },
  {
   "cell_type": "code",
   "execution_count": null,
   "id": "6b7de6e3-9b12-46b1-97c0-086b3c8b35f3",
   "metadata": {},
   "outputs": [],
   "source": [
    "dp = bp.create_datapackage(\n",
    "    fs=ZipFS(\"ecoinvent-parameterization.zip\", write=True),\n",
    "    name=\"ecoinvent-parameterization\",\n",
    "    seed=42,\n",
    ")\n",
    "\n",
    "indices = np.empty(len(tech_data), dtype=bp.INDICES_DTYPE)\n",
    "indices[:] = [x for x, y, z in tech_data]\n",
    "\n",
    "dp.add_persistent_array(\n",
    "    matrix=\"technosphere_matrix\",\n",
    "    data_array=np.vstack([y for x, y, z in tech_data]),\n",
    "    name=\"ecoinvent-parameterization-tech\",\n",
    "    indices_array=indices,\n",
    "    flip_array=np.hstack([z for x, y, z in tech_data]),\n",
    ")\n",
    "\n",
    "indices = np.empty(len(bio_data), dtype=bp.INDICES_DTYPE)\n",
    "indices[:] = [x for x, y, z in bio_data]\n",
    "\n",
    "dp.add_persistent_array(\n",
    "    matrix=\"biosphere_matrix\",\n",
    "    data_array=np.vstack([y for x, y, z in bio_data]),\n",
    "    name=\"ecoinvent-parameterization-bio\",\n",
    "    indices_array=indices,\n",
    "    flip_array=np.hstack([z for x, y, z in bio_data]),\n",
    ")\n",
    "\n",
    "dp.finalize_serialization()"
   ]
  },
  {
   "cell_type": "code",
   "execution_count": null,
   "id": "d154720b",
   "metadata": {},
   "outputs": [],
   "source": []
  },
  {
   "cell_type": "markdown",
   "id": "964fdb2a",
   "metadata": {},
   "source": [
    "# [archived] Check values in the parameterized datapackage"
   ]
  },
  {
   "cell_type": "code",
   "execution_count": null,
   "id": "940aa332",
   "metadata": {},
   "outputs": [],
   "source": [
    "from pathlib import Path\n",
    "import numpy as np\n",
    "from fs.zipfs import ZipFS\n",
    "import bw2calc as bc\n",
    "import bw2data as bd\n",
    "import bw_processing as bwp\n",
    "import sys\n",
    "sys.path.append('/Users/akim/PycharmProjects/akula')\n",
    "\n",
    "from akula.virtual_markets import DATA_DIR\n",
    "\n",
    "fp_ei_parameterization = DATA_DIR / \"ecoinvent-parameterization.zip\"\n",
    "dp_params = bwp.load_datapackage(ZipFS(fp_ei_parameterization))"
   ]
  },
  {
   "cell_type": "code",
   "execution_count": null,
   "id": "5da0fd1e",
   "metadata": {},
   "outputs": [],
   "source": [
    "project = \"GSA for archetypes\"\n",
    "bd.projects.set_current(project)\n",
    "method = (\"IPCC 2013\", \"climate change\", \"GWP 100a\", \"uncertain\")\n",
    "me = bd.Method(method)\n",
    "bs = bd.Database(\"biosphere3\")\n",
    "ei = bd.Database(\"ecoinvent 3.8 cutoff\")\n",
    "co_name = \"swiss consumption 1.0\"\n",
    "co = bd.Database(co_name)\n",
    "\n",
    "list_ = [me, bs, ei, co]\n",
    "dps = [\n",
    "    bwp.load_datapackage(ZipFS(db.filepath_processed()))\n",
    "    for db in list_\n",
    "]\n",
    "    \n",
    "hh_average = [act for act in co if \"ch hh average consumption aggregated\" == act['name']]\n",
    "assert len(hh_average) == 1\n",
    "demand_act = hh_average[0]\n",
    "demand = {demand_act: 1}\n",
    "demand_id = {demand_act.id: 1}\n",
    "\n",
    "iterations = 5"
   ]
  },
  {
   "cell_type": "code",
   "execution_count": null,
   "id": "c7cdca5c",
   "metadata": {},
   "outputs": [],
   "source": [
    "lca = bc.LCA(\n",
    "    demand_id,\n",
    "    data_objs=dps,\n",
    "    use_distributions=True,\n",
    "    use_arrays=True,\n",
    "    seed_override=11111000\n",
    ")\n",
    "lca.lci()\n",
    "lca.lcia()\n",
    "\n",
    "scores = [lca.score for _, _ in zip(lca, range(iterations))]\n",
    "scores"
   ]
  },
  {
   "cell_type": "code",
   "execution_count": null,
   "id": "6fc68412",
   "metadata": {},
   "outputs": [],
   "source": [
    "lca_params = bc.LCA(\n",
    "    demand_id,\n",
    "    data_objs=dps + [dp_params],\n",
    "    use_distributions=True,\n",
    "    use_arrays=True,\n",
    "    seed_override=11111000,\n",
    ")\n",
    "lca_params.lci()\n",
    "lca_params.lcia()\n",
    "\n",
    "scores_params = [lca_params.score for _, _ in zip(lca_params, range(iterations))]\n",
    "scores_params"
   ]
  },
  {
   "cell_type": "code",
   "execution_count": null,
   "id": "6ed754db",
   "metadata": {},
   "outputs": [],
   "source": [
    "dp_params_bio = dp_params.filter_by_attribute(\"group\", \"ecoinvent-parameterization-bio\")\n",
    "\n",
    "lca_params_bio = bc.LCA(\n",
    "    demand_id,\n",
    "    data_objs=dps + [dp_params_bio],\n",
    "    use_distributions=True,\n",
    "    use_arrays=True,\n",
    "    seed_override=11111000,\n",
    ")\n",
    "lca_params_bio.lci()\n",
    "lca_params_bio.lcia()\n",
    "\n",
    "scores_params_bio = [lca_params_bio.score for _, _ in zip(lca_params_bio, range(iterations))]\n",
    "scores_params_bio"
   ]
  },
  {
   "cell_type": "code",
   "execution_count": null,
   "id": "00bbed50",
   "metadata": {
    "scrolled": true
   },
   "outputs": [],
   "source": [
    "dp_params_tech = dp_params.filter_by_attribute(\"group\", \"ecoinvent-parameterization-tech\")\n",
    "\n",
    "lca_params_tech = bc.LCA(\n",
    "    demand_id,\n",
    "    data_objs=dps + [dp_params_tech],\n",
    "    use_distributions=True,\n",
    "    use_arrays=True,\n",
    "    seed_override=11111000,\n",
    ")\n",
    "lca_params_tech.lci()\n",
    "lca_params_tech.lcia()\n",
    "\n",
    "scores_params_tech = [lca_params_tech.score for _, _ in zip(lca_params_tech, range(iterations))]\n",
    "scores_params_tech"
   ]
  },
  {
   "cell_type": "code",
   "execution_count": null,
   "id": "e6ff83e6",
   "metadata": {},
   "outputs": [],
   "source": [
    "dp_ei = bd.Database(\"ecoinvent 3.8 cutoff\").datapackage()\n",
    "ei_indices = dp_ei.get_resource(\"ecoinvent_3.8_cutoff_technosphere_matrix.indices\")[0]\n",
    "ei_data = dp_ei.get_resource(\"ecoinvent_3.8_cutoff_technosphere_matrix.data\")[0]\n",
    "ei_flip_raw = dp_ei.get_resource(\"ecoinvent_3.8_cutoff_technosphere_matrix.flip\")[0]\n",
    "ei_selected = []\n",
    "ei_flip = []\n",
    "for i, inds in enumerate(dp_params_tech.data[0]):\n",
    "    ei_where = np.where(ei_indices==inds)[0][0]\n",
    "    ei_selected.append(ei_data[ei_where])\n",
    "    ei_flip.append(ei_flip_raw[ei_where])\n",
    "params_selected = dp_params_tech.data[1][:,0]\n",
    "ei_selected = np.array(ei_selected)\n",
    "ei_flip = np.array(ei_flip)\n",
    "indices_selected = dp_params_tech.data[0]"
   ]
  },
  {
   "cell_type": "code",
   "execution_count": null,
   "id": "b18d337d",
   "metadata": {},
   "outputs": [],
   "source": [
    "wdiff = abs(params_selected - ei_selected)\n",
    "# np.where(wdiff==min(wdiff))"
   ]
  },
  {
   "cell_type": "code",
   "execution_count": null,
   "id": "d34809ab",
   "metadata": {},
   "outputs": [],
   "source": [
    "%%time\n",
    "res = bc.GraphTraversal().calculate(\n",
    "    lca, cutoff=1e-3, max_calc=1e3\n",
    ")"
   ]
  },
  {
   "cell_type": "code",
   "execution_count": null,
   "id": "2c54c8f8",
   "metadata": {},
   "outputs": [],
   "source": [
    "%%time\n",
    "res_params_tech = bc.GraphTraversal().calculate(\n",
    "    lca_params_tech, cutoff=1e-3, max_calc=1e3\n",
    ")"
   ]
  },
  {
   "cell_type": "code",
   "execution_count": null,
   "id": "c3255547",
   "metadata": {},
   "outputs": [],
   "source": [
    "import pandas as pd\n",
    "df = pd.DataFrame.from_dict(res['edges'])\n",
    "df_params = pd.DataFrame.from_dict(res_params_tech['edges'])\n",
    "df_both = df.merge(df_params, on=['to', 'from'], how='outer')\n",
    "df_both.to_excel(\"sct.xlsx\")"
   ]
  },
  {
   "cell_type": "code",
   "execution_count": null,
   "id": "a1ca6b18",
   "metadata": {},
   "outputs": [],
   "source": [
    "lca_params_tech1 = bc.LCA(\n",
    "    {4916: 1212.188043},\n",
    "    data_objs=dps + [dp_params_tech],\n",
    "    use_distributions=False,\n",
    "    use_arrays=True,\n",
    "    seed_override=11111000,\n",
    ")\n",
    "lca_params_tech1.lci()\n",
    "lca_params_tech1.lcia()\n",
    "lca_params_tech1.score"
   ]
  },
  {
   "cell_type": "code",
   "execution_count": null,
   "id": "a98217ea",
   "metadata": {},
   "outputs": [],
   "source": [
    "lca_params_tech1 = bc.LCA(\n",
    "    {4916: 1212.188043},\n",
    "    data_objs=dps,\n",
    "    use_distributions=False,\n",
    "    use_arrays=True,\n",
    "    seed_override=11111000,\n",
    ")\n",
    "lca_params_tech1.lci()\n",
    "lca_params_tech1.lcia()\n",
    "lca_params_tech1.score"
   ]
  },
  {
   "cell_type": "code",
   "execution_count": null,
   "id": "43c7553d",
   "metadata": {},
   "outputs": [],
   "source": [
    "params_flip = dp_params_tech.get_resource('ecoinvent-parameterization-tech.flip')[0]"
   ]
  },
  {
   "cell_type": "code",
   "execution_count": null,
   "id": "af8c662e",
   "metadata": {},
   "outputs": [],
   "source": [
    "sum(ei_flip), sum(params_flip)"
   ]
  }
 ],
 "metadata": {
  "kernelspec": {
   "display_name": "Python 3 (ipykernel)",
   "language": "python",
   "name": "python3"
  },
  "language_info": {
   "codemirror_mode": {
    "name": "ipython",
    "version": 3
   },
   "file_extension": ".py",
   "mimetype": "text/x-python",
   "name": "python",
   "nbconvert_exporter": "python",
   "pygments_lexer": "ipython3",
   "version": "3.9.10"
  },
  "varInspector": {
   "cols": {
    "lenName": 16,
    "lenType": 16,
    "lenVar": 40
   },
   "kernels_config": {
    "python": {
     "delete_cmd_postfix": "",
     "delete_cmd_prefix": "del ",
     "library": "var_list.py",
     "varRefreshCmd": "print(var_dic_list())"
    },
    "r": {
     "delete_cmd_postfix": ") ",
     "delete_cmd_prefix": "rm(",
     "library": "var_list.r",
     "varRefreshCmd": "cat(var_dic_list()) "
    }
   },
   "types_to_exclude": [
    "module",
    "function",
    "builtin_function_or_method",
    "instance",
    "_Feature"
   ],
   "window_display": false
  }
 },
 "nbformat": 4,
 "nbformat_minor": 5
}
