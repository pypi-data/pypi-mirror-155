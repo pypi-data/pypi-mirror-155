{
 "cells": [
  {
   "cell_type": "code",
   "execution_count": 140,
   "metadata": {},
   "outputs": [
    {
     "name": "stdout",
     "output_type": "stream",
     "text": [
      "Loading style definitions from '/home/moritz/pkg/km3pipe/km3pipe/kp-data/stylelib/moritz.mplstyle'\n"
     ]
    }
   ],
   "source": [
    "import pandas as pd\n",
    "import numpy as np\n",
    "import os.path\n",
    "import km3pipe.style.moritz"
   ]
  },
  {
   "cell_type": "markdown",
   "metadata": {},
   "source": [
    "`z: nu mass / wimp mass`\n",
    "\n",
    "`theta: angle towards center of sun`\n",
    "\n",
    "`z=E_nu/m_WIMP`\n",
    "\n",
    "2d layout: `d^2N/dz dtheta`\n",
    "\n",
    "1d: `dN/dz`\n",
    "\n",
    "Neutrinos at detector (icecube), the units are `cm^-2 annihilation^-1`.\n",
    "\n",
    "All energies in GeV"
   ]
  },
  {
   "cell_type": "code",
   "execution_count": 2,
   "metadata": {},
   "outputs": [],
   "source": [
    "# Sun fast analysis:\n",
    "#   Sun, 1d, diff, neutrino @ detector\n",
    "infile_1d = './data/we-m10000-ch11-su-1D-diff-f1.dat'\n",
    "infile_2d = './data/we-m10000-ch11-su-2D-diff-f1.dat'"
   ]
  },
  {
   "cell_type": "code",
   "execution_count": 3,
   "metadata": {},
   "outputs": [],
   "source": [
    "FLAVORS = ['nu_e', 'anu_e', 'nu_mu', 'anu_mu', 'nu_tau', 'anu_tau']\n",
    "CHANNELS = {\n",
    "    1: 'd d-bar',\n",
    "    2: 'u u-bar',\n",
    "    3: 's s-bar',\n",
    "    4: 'c c-bar',\n",
    "    5: 'b b-bar',\n",
    "    6: 't t-bar',\n",
    "    7: 'g g',\n",
    "    8: 'W+ W-',\n",
    "    9: 'Z0 Z0',\n",
    "    10: 'mu- mu+',\n",
    "    11: 'tau- tau+',\n",
    "    12: 'nu_e anu_e',\n",
    "    13: 'nu_mu anu_mu',\n",
    "    14: 'nu_tau anu_tau',\n",
    "}\n",
    "INTERESTING_CHANNELS = {8, 11, 5}\n",
    "INTERESTING_CHANNELS.update({CHANNELS[c] for c in INTERESTING_CHANNELS})"
   ]
  },
  {
   "cell_type": "code",
   "execution_count": 4,
   "metadata": {},
   "outputs": [
    {
     "data": {
      "text/plain": [
       "array([ 0.1 ,  0.3 ,  0.5 ,  0.7 ,  0.9 ,  1.1 ,  1.3 ,  1.5 ,  1.7 ,\n",
       "        1.9 ,  2.1 ,  2.3 ,  2.5 ,  2.7 ,  2.9 ,  3.1 ,  3.3 ,  3.5 ,\n",
       "        3.7 ,  3.9 ,  4.1 ,  4.3 ,  4.5 ,  4.7 ,  4.9 ,  5.1 ,  5.3 ,\n",
       "        5.5 ,  5.7 ,  5.9 ,  6.1 ,  6.3 ,  6.5 ,  6.7 ,  6.9 ,  7.1 ,\n",
       "        7.3 ,  7.5 ,  7.7 ,  7.9 ,  8.1 ,  8.3 ,  8.5 ,  8.7 ,  8.9 ,\n",
       "        9.1 ,  9.3 ,  9.5 ,  9.7 ,  9.9 , 10.25, 10.75, 11.25, 11.75,\n",
       "       12.25, 12.75, 13.25, 13.75, 14.25, 14.75, 15.25, 15.75, 16.25,\n",
       "       16.75, 17.25, 17.75, 18.25, 18.75, 19.25, 19.75, 20.25, 20.75,\n",
       "       21.25, 21.75, 22.25, 22.75, 23.25, 23.75, 24.25, 24.75, 25.25,\n",
       "       25.75, 26.25, 26.75, 27.25, 27.75, 28.25, 28.75, 29.25, 29.75,\n",
       "       30.  ])"
      ]
     },
     "execution_count": 4,
     "metadata": {},
     "output_type": "execute_result"
    }
   ],
   "source": [
    "n_lines_2d_per_flavor = 50\n",
    "n_z_bins_1d = 100\n",
    "z_bins_1d = np.linspace(0.005, 0.995, n_z_bins_1d)\n",
    "n_z_bins_2d = n_lines_2d_per_flavor\n",
    "z_bins_2d = np.linspace(0.01, 0.99, n_z_bins_2d)\n",
    "\n",
    "n_theta_bins = 91\n",
    "theta_first = np.linspace(0.1, 9.9, 50)\n",
    "theta_second = np.linspace(10.25, 29.75, 40)\n",
    "# last bin is >30\n",
    "theta_last = [30., ]\n",
    "theta_bins = np.concatenate([theta_first, theta_second, theta_last])\n",
    "theta_bins\n",
    "\n",
    "def parse_fname(fname):\n",
    "    \"\"\"Parse wimpsim filename.\n",
    "    \n",
    "    Returns\n",
    "    -------\n",
    "    parent_mass, channel, n_dimensions\n",
    "    \"\"\"\n",
    "    # example: './data/we-m10000-ch11-su-1D-diff-f1.dat'\n",
    "    _, mass, chan, _, dim, _, _ = os.path.basename(fname).split('-')\n",
    "    # 'm10000'\n",
    "    mass = float(mass[1:])\n",
    "    # 'ch11'\n",
    "    chan = int(chan[2:])\n",
    "    # '1D' / '2D'\n",
    "    ndim = int(dim[0])\n",
    "    return mass, chan, ndim\n",
    "\n",
    "def read_file(fname):\n",
    "    mass, chan, ndim = parse_fname(fname)\n",
    "    if ndim == 1:\n",
    "        df = read_1d(fname)\n",
    "    elif ndim == 2:\n",
    "        df = read_2d(fname)\n",
    "    else:\n",
    "        raise ValueError(\n",
    "            'Only 1d and 2d tables supported, got ndim={}'.format(ndim)\n",
    "                        )\n",
    "    df['mass'] = mass\n",
    "    df['energy'] = df['mass'] * df['z']\n",
    "    df['chan_num'] = chan\n",
    "    #df['channel'] = CHANNELS[chan]\n",
    "    return df\n",
    "\n",
    "def read_2d(fname):\n",
    "    raise NotImplementedError\n",
    "    df = pd.read_csv(infile_2d, delim_whitespace=True, \n",
    "                     comment='#', header=None,\n",
    "                    )\n",
    "    df_fl = df[:n_lines_2d_per_flavor]\n",
    "    #df['df_fl.index = z_bins_2d\n",
    "    df_fl.index.rename('z_bin', inplace=True)\n",
    "    df_fl.columns = theta_bins\n",
    "    df_fl\n",
    "\n",
    "def read_1d(fname):\n",
    "    df = pd.read_csv(fname, delim_whitespace=True, \n",
    "                     comment='#', header=None,\n",
    "                    )\n",
    "    df = df.T\n",
    "    df.columns = FLAVORS\n",
    "    df['z'] = z_bins_1d\n",
    "    return df"
   ]
  },
  {
   "cell_type": "code",
   "execution_count": 5,
   "metadata": {
    "scrolled": false
   },
   "outputs": [
    {
     "data": {
      "text/html": [
       "<div>\n",
       "<style scoped>\n",
       "    .dataframe tbody tr th:only-of-type {\n",
       "        vertical-align: middle;\n",
       "    }\n",
       "\n",
       "    .dataframe tbody tr th {\n",
       "        vertical-align: top;\n",
       "    }\n",
       "\n",
       "    .dataframe thead th {\n",
       "        text-align: right;\n",
       "    }\n",
       "</style>\n",
       "<table border=\"1\" class=\"dataframe\">\n",
       "  <thead>\n",
       "    <tr style=\"text-align: right;\">\n",
       "      <th></th>\n",
       "      <th>nu_e</th>\n",
       "      <th>anu_e</th>\n",
       "      <th>nu_mu</th>\n",
       "      <th>anu_mu</th>\n",
       "      <th>nu_tau</th>\n",
       "      <th>anu_tau</th>\n",
       "      <th>z</th>\n",
       "      <th>mass</th>\n",
       "      <th>energy</th>\n",
       "      <th>chan_num</th>\n",
       "    </tr>\n",
       "  </thead>\n",
       "  <tbody>\n",
       "    <tr>\n",
       "      <th>0</th>\n",
       "      <td>7.970510e-27</td>\n",
       "      <td>5.657570e-27</td>\n",
       "      <td>9.944470e-27</td>\n",
       "      <td>9.227040e-27</td>\n",
       "      <td>1.109740e-26</td>\n",
       "      <td>1.016980e-26</td>\n",
       "      <td>0.005</td>\n",
       "      <td>10000.0</td>\n",
       "      <td>50.0</td>\n",
       "      <td>11</td>\n",
       "    </tr>\n",
       "    <tr>\n",
       "      <th>1</th>\n",
       "      <td>2.108500e-27</td>\n",
       "      <td>2.194450e-27</td>\n",
       "      <td>2.592500e-27</td>\n",
       "      <td>3.142240e-27</td>\n",
       "      <td>2.784310e-27</td>\n",
       "      <td>3.589240e-27</td>\n",
       "      <td>0.015</td>\n",
       "      <td>10000.0</td>\n",
       "      <td>150.0</td>\n",
       "      <td>11</td>\n",
       "    </tr>\n",
       "    <tr>\n",
       "      <th>2</th>\n",
       "      <td>7.624060e-28</td>\n",
       "      <td>1.024850e-27</td>\n",
       "      <td>1.014020e-27</td>\n",
       "      <td>1.595840e-27</td>\n",
       "      <td>1.109800e-27</td>\n",
       "      <td>1.800760e-27</td>\n",
       "      <td>0.025</td>\n",
       "      <td>10000.0</td>\n",
       "      <td>250.0</td>\n",
       "      <td>11</td>\n",
       "    </tr>\n",
       "    <tr>\n",
       "      <th>3</th>\n",
       "      <td>3.248370e-28</td>\n",
       "      <td>5.289580e-28</td>\n",
       "      <td>4.348750e-28</td>\n",
       "      <td>8.775260e-28</td>\n",
       "      <td>4.728010e-28</td>\n",
       "      <td>9.775600e-28</td>\n",
       "      <td>0.035</td>\n",
       "      <td>10000.0</td>\n",
       "      <td>350.0</td>\n",
       "      <td>11</td>\n",
       "    </tr>\n",
       "    <tr>\n",
       "      <th>4</th>\n",
       "      <td>1.328610e-28</td>\n",
       "      <td>2.881800e-28</td>\n",
       "      <td>1.999270e-28</td>\n",
       "      <td>4.969510e-28</td>\n",
       "      <td>2.201530e-28</td>\n",
       "      <td>5.516180e-28</td>\n",
       "      <td>0.045</td>\n",
       "      <td>10000.0</td>\n",
       "      <td>450.0</td>\n",
       "      <td>11</td>\n",
       "    </tr>\n",
       "  </tbody>\n",
       "</table>\n",
       "</div>"
      ],
      "text/plain": [
       "           nu_e         anu_e         nu_mu        anu_mu        nu_tau  \\\n",
       "0  7.970510e-27  5.657570e-27  9.944470e-27  9.227040e-27  1.109740e-26   \n",
       "1  2.108500e-27  2.194450e-27  2.592500e-27  3.142240e-27  2.784310e-27   \n",
       "2  7.624060e-28  1.024850e-27  1.014020e-27  1.595840e-27  1.109800e-27   \n",
       "3  3.248370e-28  5.289580e-28  4.348750e-28  8.775260e-28  4.728010e-28   \n",
       "4  1.328610e-28  2.881800e-28  1.999270e-28  4.969510e-28  2.201530e-28   \n",
       "\n",
       "        anu_tau      z     mass  energy  chan_num  \n",
       "0  1.016980e-26  0.005  10000.0    50.0        11  \n",
       "1  3.589240e-27  0.015  10000.0   150.0        11  \n",
       "2  1.800760e-27  0.025  10000.0   250.0        11  \n",
       "3  9.775600e-28  0.035  10000.0   350.0        11  \n",
       "4  5.516180e-28  0.045  10000.0   450.0        11  "
      ]
     },
     "execution_count": 5,
     "metadata": {},
     "output_type": "execute_result"
    }
   ],
   "source": [
    "read_file(infile_1d).head()"
   ]
  },
  {
   "cell_type": "code",
   "execution_count": 6,
   "metadata": {},
   "outputs": [],
   "source": [
    "from glob import glob\n",
    "fnames = glob('./data/*.dat')"
   ]
  },
  {
   "cell_type": "code",
   "execution_count": 7,
   "metadata": {
    "scrolled": true
   },
   "outputs": [],
   "source": [
    "dfs = []\n",
    "from km3pipe.io.pandas import df_to_h5\n",
    "filt = tb.Filters(complevel=5, shuffle=True, fletcher32=True)\n",
    "#with tb.File('wimpsim_1d.h5', 'w') as h5:\n",
    "for fname in fnames:\n",
    "    mass, chan, ndim = parse_fname(fname)\n",
    "    if ndim == 2:\n",
    "        continue\n",
    "    if chan not in INTERESTING_CHANNELS:\n",
    "        continue\n",
    "    df = read_file(fname)\n",
    "    chan_name = CHANNELS[chan]\n",
    "    #tabname = '/{}/{}'.format(chan_name, str(mass))\n",
    "    #df_to_h5(df, h5, where=tabname, \n",
    "    #         filters=filt, createparents=True)\n",
    "    dfs.append(df)\n",
    "dfs = pd.concat(dfs, axis=0)"
   ]
  },
  {
   "cell_type": "code",
   "execution_count": 9,
   "metadata": {},
   "outputs": [],
   "source": [
    "with tb.File('../wimpsim_1d.h5', 'a') as h5:\n",
    "    df_to_h5(dfs, h5, where='/flat', filters=filt, createparents=True)"
   ]
  },
  {
   "cell_type": "code",
   "execution_count": 118,
   "metadata": {},
   "outputs": [],
   "source": [
    "dfs = dfs[(dfs.energy <= 100) & (dfs.energy > 1)]\n",
    "\n",
    "mass = 1000.0\n",
    "channel = 11\n",
    "tab = dfs[\n",
    "    (dfs.chan_num == channel) & \n",
    "    (np.isclose(dfs.mass, mass))\n",
    "]"
   ]
  },
  {
   "cell_type": "code",
   "execution_count": 119,
   "metadata": {},
   "outputs": [],
   "source": [
    "from km3pipe.math import loguniform\n",
    "\n",
    "#ene = np.sort(loguniform().rvs(size=10))\n",
    "flavor = 'nu_mu'\n",
    "ene = np.geomspace(1, 100, 1000)"
   ]
  },
  {
   "cell_type": "code",
   "execution_count": 120,
   "metadata": {
    "scrolled": false
   },
   "outputs": [],
   "source": [
    "from scipy.interpolate import splrep, splev"
   ]
  },
  {
   "cell_type": "code",
   "execution_count": 121,
   "metadata": {},
   "outputs": [],
   "source": [
    "spl = splrep(tab.energy, tab[flavor])"
   ]
  },
  {
   "cell_type": "code",
   "execution_count": 122,
   "metadata": {},
   "outputs": [],
   "source": [
    "wimp_dndz = splev(ene, spl)"
   ]
  },
  {
   "cell_type": "code",
   "execution_count": 123,
   "metadata": {},
   "outputs": [],
   "source": [
    "from km3flux.flux import Honda2015"
   ]
  },
  {
   "cell_type": "code",
   "execution_count": 124,
   "metadata": {},
   "outputs": [],
   "source": [
    "honda = Honda2015()"
   ]
  },
  {
   "cell_type": "code",
   "execution_count": 170,
   "metadata": {},
   "outputs": [],
   "source": [
    "Honda2015?"
   ]
  },
  {
   "cell_type": "code",
   "execution_count": 168,
   "metadata": {},
   "outputs": [],
   "source": [
    "def dnde2flux(dnde, mass):\n",
    "    \"\"\"Expects Neutrinos at detector, \n",
    "    \n",
    "    Input units are `cm^-2 annihilation^-1`.\n",
    "    \n",
    "    Output is / (m^2 sec sr GeV)\n",
    "    \"\"\"\n",
    "    # dN/dz comes out of WS\n",
    "    # y = dN/dz = MDM * (dN/dE)\n",
    "    # gamm = (1e14/sec) * (100GeV/m_dm)^2 * (4*pi*r_suntoearth)     -> [GeV m^2 sr s/yr]\n",
    "    # geom fact in wimpsim = 1/(4pi * r_sun_to_earth)\n",
    "    # -> geom fact already included (if using \"yields at detector\" table)\n",
    "    # -> gamma = 1e14 * (100/m)^2\n",
    "    # i don't get the 1e9 ???\n",
    "    # bah whatever\n",
    "    flux = (dnde / mass) * 1e14 * 1e9 * np.square(100/mass)\n",
    "    flux *= 1e4     # cm2 -> m2\n",
    "    #gseagen:\n",
    "    #pointsource, so the I_0 = 1 (no 1/sr)\n",
    "    return flux\n",
    "\n",
    "wsfl = dnde2flux(splev(ene, spl), mass)\n",
    "hfl = honda(energy=ene)"
   ]
  },
  {
   "cell_type": "code",
   "execution_count": 167,
   "metadata": {},
   "outputs": [
    {
     "data": {
      "text/plain": [
       "[<matplotlib.lines.Line2D at 0x7fcb0a2a2eb8>]"
      ]
     },
     "execution_count": 167,
     "metadata": {},
     "output_type": "execute_result"
    },
    {
     "data": {
      "text/plain": [
       "[<matplotlib.lines.Line2D at 0x7fcb0a2436a0>]"
      ]
     },
     "execution_count": 167,
     "metadata": {},
     "output_type": "execute_result"
    },
    {
     "data": {
      "image/png": "[encoded data removed]",
      "text/plain": [
       "<matplotlib.figure.Figure at 0x7fcb0a2dd588>"
      ]
     },
     "metadata": {
      "image/png": {
       "height": 423,
       "width": 628
      }
     },
     "output_type": "display_data"
    }
   ],
   "source": [
    "plt.loglog(ene, wsfl)\n",
    "plt.loglog(ene, hfl)"
   ]
  },
  {
   "cell_type": "code",
   "execution_count": 169,
   "metadata": {},
   "outputs": [
    {
     "ename": "AssertionError",
     "evalue": "",
     "output_type": "error",
     "traceback": [
      "\u001b[0;31m---------------------------------------------------------------------------\u001b[0m",
      "\u001b[0;31mAssertionError\u001b[0m                            Traceback (most recent call last)",
      "\u001b[0;32m<ipython-input-169-f04229a326a0>\u001b[0m in \u001b[0;36m<module>\u001b[0;34m()\u001b[0m\n\u001b[0;32m----> 1\u001b[0;31m \u001b[0;32massert\u001b[0m \u001b[0;32mFalse\u001b[0m\u001b[0;34m\u001b[0m\u001b[0m\n\u001b[0m\u001b[1;32m      2\u001b[0m \u001b[0;34m\u001b[0m\u001b[0m\n\u001b[1;32m      3\u001b[0m \u001b[0;32mfrom\u001b[0m \u001b[0mscipy\u001b[0m\u001b[0;34m.\u001b[0m\u001b[0mintegrate\u001b[0m \u001b[0;32mimport\u001b[0m \u001b[0mromberg\u001b[0m\u001b[0;34m,\u001b[0m \u001b[0mquad\u001b[0m\u001b[0;34m\u001b[0m\u001b[0m\n\u001b[1;32m      4\u001b[0m \u001b[0;34m\u001b[0m\u001b[0m\n\u001b[1;32m      5\u001b[0m \u001b[0mhon_fun\u001b[0m \u001b[0;34m=\u001b[0m \u001b[0mhonda\u001b[0m\u001b[0;34m\u001b[0m\u001b[0m\n",
      "\u001b[0;31mAssertionError\u001b[0m: "
     ]
    }
   ],
   "source": [
    "assert False\n",
    "\n",
    "from scipy.integrate import romberg, quad\n",
    "\n",
    "hon_fun = honda\n",
    "emin = 1\n",
    "emax = 100\n",
    "\n",
    "def ws_fun(ene):\n",
    "    return splev(ene, spl)\n",
    "\n",
    "hon_int = romberg(hon_fun, emin, emax)\n",
    "ws_int = romberg(ws_fun, emin, emax)\n",
    "\n",
    "plt.plot(ene, ws_fun(ene)/ws_int, \n",
    "         label='{m} GeV {c}'.format(c=CHANNELS[channel], m=mass))\n",
    "plt.plot(ene, hon_fun(ene)/hon_int, label='Honda 2015 Atm.')\n",
    "plt.yscale('log')\n",
    "plt.xscale('log')\n",
    "plt.xlabel(r'$\\nu_\\mu$ Energy / GeV')\n",
    "plt.ylabel(r'$\\nu_\\mu$ Flux (normalized)')\n",
    "plt.legend(loc=0)\n",
    "plt.savefig('spectra_norm.svg');"
   ]
  },
  {
   "cell_type": "code",
   "execution_count": null,
   "metadata": {},
   "outputs": [],
   "source": []
  }
 ],
 "metadata": {
  "kernelspec": {
   "display_name": "km3",
   "language": "python",
   "name": "km3"
  },
  "language_info": {
   "codemirror_mode": {
    "name": "ipython",
    "version": 3
   },
   "file_extension": ".py",
   "mimetype": "text/x-python",
   "name": "python",
   "nbconvert_exporter": "python",
   "pygments_lexer": "ipython3",
   "version": "3.6.4"
  }
 },
 "nbformat": 4,
 "nbformat_minor": 2
}
