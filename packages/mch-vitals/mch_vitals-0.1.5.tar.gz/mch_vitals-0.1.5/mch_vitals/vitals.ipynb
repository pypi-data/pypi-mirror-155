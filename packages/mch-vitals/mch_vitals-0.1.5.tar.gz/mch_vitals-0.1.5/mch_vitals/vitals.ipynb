{
 "cells": [
  {
   "cell_type": "code",
   "execution_count": 1,
   "metadata": {},
   "outputs": [],
   "source": [
    "import nemcova_2020\n",
    "\n",
    "nemcova = nemcova_2020.Nemcova2020()"
   ]
  },
  {
   "cell_type": "code",
   "execution_count": null,
   "metadata": {},
   "outputs": [],
   "source": [
    "\n",
    "video_file_path = '/Users/amash/Desktop/Projects/Medixtry/mch/vitals_web_app/static/video1.avi'\n",
    "# video_file_path = '/Users/amash/Desktop/Projects/Medixtry/mch/vitals_web_app/vitals/IMG_8827.MOV'\n",
    "\n",
    "o2, hr = nemcova.spo2_estimation(video_file_path, optimize=True)\n"
   ]
  },
  {
   "cell_type": "code",
   "execution_count": 3,
   "metadata": {},
   "outputs": [
    {
     "name": "stdout",
     "output_type": "stream",
     "text": [
      "Done: 87.67509048114827  and hr  29.04347826086958\n"
     ]
    }
   ],
   "source": [
    "print(\"Done:\", o2, \" and hr \", hr)"
   ]
  },
  {
   "cell_type": "code",
   "execution_count": null,
   "metadata": {},
   "outputs": [],
   "source": []
  },
  {
   "cell_type": "code",
   "execution_count": 1,
   "metadata": {},
   "outputs": [],
   "source": [
    "from MTTS_CAN.code.predict_vitals import predict_vitals"
   ]
  },
  {
   "cell_type": "code",
   "execution_count": 2,
   "metadata": {},
   "outputs": [],
   "source": [
    "video_file_path = '/Users/amash/Desktop/Projects/Medixtry/mch/vitals_web_app/vitals/video.mp4'\n",
    "video_file_path = '/Users/amash/Desktop/Projects/Medixtry/mch/vitals_web_app/vitals/IMG_8827.MOV'\n",
    "video_file_path = '/Users/amash/Desktop/Projects/Medixtry/mch/vitals_web_app/static/video.avi'"
   ]
  },
  {
   "cell_type": "code",
   "execution_count": 3,
   "metadata": {},
   "outputs": [
    {
     "name": "stdout",
     "output_type": "stream",
     "text": [
      "here:  /Users/amash/Desktop/Projects/Medixtry/mch/vitals_web_app/vitals/MTTS_CAN/code/predict_vitals.py\n",
      "path:  /Users/amash/Desktop/Projects/Medixtry/mch/vitals_web_app/vitals/MTTS_CAN/code/predict_vitals.py\n"
     ]
    }
   ],
   "source": [
    "HR, RR = predict_vitals(video_file_path)"
   ]
  },
  {
   "cell_type": "code",
   "execution_count": 4,
   "metadata": {},
   "outputs": [
    {
     "data": {
      "text/plain": [
       "(71.5, 28.5)"
      ]
     },
     "execution_count": 4,
     "metadata": {},
     "output_type": "execute_result"
    }
   ],
   "source": [
    "HR, RR"
   ]
  },
  {
   "cell_type": "code",
   "execution_count": null,
   "metadata": {},
   "outputs": [],
   "source": []
  }
 ],
 "metadata": {
  "kernelspec": {
   "display_name": "Python 3.10.5 ('vitals-cpu')",
   "language": "python",
   "name": "python3"
  },
  "language_info": {
   "codemirror_mode": {
    "name": "ipython",
    "version": 3
   },
   "file_extension": ".py",
   "mimetype": "text/x-python",
   "name": "python",
   "nbconvert_exporter": "python",
   "pygments_lexer": "ipython3",
   "version": "3.9.13"
  },
  "orig_nbformat": 4,
  "vscode": {
   "interpreter": {
    "hash": "cd5fa72441f2293e59356f77eba6dda32745c7da903f2b52cb2b9911f9ba8cff"
   }
  }
 },
 "nbformat": 4,
 "nbformat_minor": 2
}
