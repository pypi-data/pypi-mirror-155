{
 "cells": [
  {
   "cell_type": "markdown",
   "id": "43545872",
   "metadata": {},
   "source": [
    "## Folding proteins with Cradle\n",
    "This tutorial will walk you through the the simple steps you need to peform to be able to fold proteins using Cradle Bio. The setup is easy and it should take just a couple of minutes.\n",
    "\n",
    "### Install the client library\n",
    "Using pip:\n",
    "```bash\n",
    "pip install cradlebio\n",
    "```\n",
    "\n",
    "<details>\n",
    "    <summary>+Other installation methods</summary>\n",
    "    \n",
    "  1. Using conda\n",
    "```\n",
    "conda install cradlebio\n",
    "```\n",
    "\n",
    "  2. Directly form source. If you would like to install the latest Cradle version:\n",
    "```\n",
    "pip install git+https://gitlab.com/cradlebio/studio/client.git\n",
    "```\n",
    "</details>\n",
    "    \n",
    "### Get an authentication token\n",
    "Navigate to [https://auth.internal.cradle.bio/](https://auth.internal.cradle.bio/), sign in, and\n",
    "download the credentials to a location of your choice, let's call it `CREDENTIALS_FILE`.\n",
    "\n",
    "### Colab users\n",
    "If you are running inside a Google Colab notebook, please upgrade your python version using:\n",
    "```\n",
    "!pip install ipython ipykernel --upgrade\n",
    "```\n",
    "\n",
    "That's it! You are now ready to fold proteins.\n",
    "\n",
    "### Folding\n",
    "Place the proteins that you would like to fold in a FASTA file, e.g.\n",
    "```\n",
    ">protein1\n",
    "MTDDKDVLRD...\n",
    "```"
   ]
  },
  {
   "cell_type": "code",
   "execution_count": 1,
   "id": "e48f7a3b",
   "metadata": {
    "ExecuteTime": {
     "start_time": "2022-06-09T06:00:11.102Z"
    }
   },
   "outputs": [
    {
     "name": "stderr",
     "output_type": "stream",
     "text": [
      "100%|████████████████████████████████████| 100/100 [01:57<00:00,  1.17s/%, DONE                              ]\n"
     ]
    }
   ],
   "source": [
    "from cradlebio import alphafold, auth\n",
    "\n",
    "# enter path to the credentials you generated at https://auth.internal.cradle.bio/ here\n",
    "CREDS_FILE = '/Users/dd/cradle/client/tests/cradlebio/data/test_creds.json'\n",
    "FASTA = '/tmp/harmen.fasta'  # enter path to your FASTA file here\n",
    "\n",
    "creds=auth.IdentityPlatformTokenCredentials.from_file(CREDS_FILE)\n",
    "folder = alphafold.Alphafold(creds)\n",
    "sequences = folder.predict(FASTA)"
   ]
  },
  {
   "cell_type": "markdown",
   "id": "a6bc969d",
   "metadata": {},
   "source": [
    "Your proteins are now folding.\n",
    "\n",
    "The return value, `sequences`, is a list of [cradlebio.alphafold.Sequence](https://gitlab.com/cradlebio/studio/client/-/blob/main/cradlebio/alphafold.py#L39)\n",
    "objects. You can get the PDB (Protein Data Bank) file that contains the actual folding for each sequence by calling the `pdb()`\n",
    "method. Since folding can take about 20 minutes, `pdb()` can block for a long time:\n",
    "```python\n",
    "pds = seq.pdb()\n",
    "```\n",
    "\n",
    "The code snippet below iterates through all the sequences and prints the location of the alignment (a3m) and PDB files:"
   ]
  },
  {
   "cell_type": "code",
   "execution_count": null,
   "id": "f62fe162",
   "metadata": {},
   "outputs": [],
   "source": [
    "print(alphafold.get_jobs(creds))"
   ]
  },
  {
   "cell_type": "markdown",
   "id": "6fb2e0a1",
   "metadata": {},
   "source": [
    "This code snippet visualizes the folded protein. Make sure you install py3Dmol beforehand using:\n",
    "```shell\n",
    "conda install -c conda-forge py3dmol\n",
    "```"
   ]
  },
  {
   "cell_type": "code",
   "execution_count": null,
   "id": "2ff69f39",
   "metadata": {},
   "outputs": [],
   "source": [
    "import py3Dmol\n",
    "from google.cloud import storage\n",
    "\n",
    "view=py3Dmol.view()\n",
    "\n",
    "pdb_str = sequences[0].pdb()[0]\n",
    "view.addModel(pdb_str,'pdb')\n",
    "view.setStyle( {\"cartoon\": {'color': 'spectrum'}})\n",
    "view.zoomTo()\n",
    "view.show()"
   ]
  }
 ],
 "metadata": {
  "kernelspec": {
   "display_name": "PyCharm (cradle)",
   "language": "python",
   "name": "pycharm-ea29653a"
  },
  "language_info": {
   "codemirror_mode": {
    "name": "ipython",
    "version": 3
   },
   "file_extension": ".py",
   "mimetype": "text/x-python",
   "name": "python",
   "nbconvert_exporter": "python",
   "pygments_lexer": "ipython3",
   "version": "3.8.13"
  }
 },
 "nbformat": 4,
 "nbformat_minor": 5
}
